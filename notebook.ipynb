{
 "cells": [
  {
   "cell_type": "markdown",
   "metadata": {
    "editable": true,
    "id": "H9wADwK78DCz",
    "slideshow": {
     "slide_type": ""
    },
    "tags": []
   },
   "source": [
    "# Proyek Analisis Data: E-Commerce Public Dataset\n",
    "- **Nama:** Firdaus Arif Ramadhani\n",
    "- **Email:** firdausarief65@gmail.com\n",
    "- **ID Dicoding:** FIRDAUS ARIF RAMADHANI"
   ]
  },
  {
   "cell_type": "markdown",
   "metadata": {
    "id": "eE0raob58DC0"
   },
   "source": [
    "## Menentukan Pertanyaan Bisnis"
   ]
  },
  {
   "cell_type": "markdown",
   "metadata": {
    "id": "GmQeQ5YF8DC0"
   },
   "source": [
    "- "
   ]
  },
  {
   "cell_type": "markdown",
   "metadata": {
    "id": "H-z4QGlO8DC1"
   },
   "source": [
    "## Import Semua Packages/Library yang Digunakan"
   ]
  },
  {
   "cell_type": "code",
   "execution_count": 2773,
   "metadata": {
    "id": "FVYwaObI8DC1"
   },
   "outputs": [],
   "source": [
    "import matplotlib.pyplot as plt\n",
    "import numpy as np\n",
    "import pandas as pd\n",
    "import seaborn as sns"
   ]
  },
  {
   "cell_type": "code",
   "execution_count": 2774,
   "metadata": {},
   "outputs": [
    {
     "name": "stdout",
     "output_type": "stream",
     "text": [
      "Hello, how are you?\n"
     ]
    }
   ],
   "source": [
    "from deep_translator import GoogleTranslator\n",
    "\n",
    "text_portuguese = \"Olá, como você está?\"\n",
    "translated_text = GoogleTranslator(source=\"portuguese\", target=\"english\").translate(\n",
    "    text_portuguese\n",
    ")\n",
    "\n",
    "print(translated_text)"
   ]
  },
  {
   "cell_type": "markdown",
   "metadata": {
    "id": "h_Sh51Xy8DC1"
   },
   "source": [
    "## Data Wrangling"
   ]
  },
  {
   "cell_type": "markdown",
   "metadata": {
    "id": "sXU2GBYu8DC1"
   },
   "source": [
    "### Gathering Data"
   ]
  },
  {
   "cell_type": "markdown",
   "metadata": {},
   "source": [
    "#### Data Tabel `products_df`"
   ]
  },
  {
   "cell_type": "code",
   "execution_count": 2775,
   "metadata": {
    "id": "zjCBk1BI8DC1"
   },
   "outputs": [
    {
     "data": {
      "text/html": [
       "<div>\n",
       "<style scoped>\n",
       "    .dataframe tbody tr th:only-of-type {\n",
       "        vertical-align: middle;\n",
       "    }\n",
       "\n",
       "    .dataframe tbody tr th {\n",
       "        vertical-align: top;\n",
       "    }\n",
       "\n",
       "    .dataframe thead th {\n",
       "        text-align: right;\n",
       "    }\n",
       "</style>\n",
       "<table border=\"1\" class=\"dataframe\">\n",
       "  <thead>\n",
       "    <tr style=\"text-align: right;\">\n",
       "      <th></th>\n",
       "      <th>product_id</th>\n",
       "      <th>product_category_name</th>\n",
       "      <th>product_name_lenght</th>\n",
       "      <th>product_description_lenght</th>\n",
       "      <th>product_photos_qty</th>\n",
       "      <th>product_weight_g</th>\n",
       "      <th>product_length_cm</th>\n",
       "      <th>product_height_cm</th>\n",
       "      <th>product_width_cm</th>\n",
       "    </tr>\n",
       "  </thead>\n",
       "  <tbody>\n",
       "    <tr>\n",
       "      <th>0</th>\n",
       "      <td>1e9e8ef04dbcff4541ed26657ea517e5</td>\n",
       "      <td>perfumaria</td>\n",
       "      <td>40.0</td>\n",
       "      <td>287.0</td>\n",
       "      <td>1.0</td>\n",
       "      <td>225.0</td>\n",
       "      <td>16.0</td>\n",
       "      <td>10.0</td>\n",
       "      <td>14.0</td>\n",
       "    </tr>\n",
       "    <tr>\n",
       "      <th>1</th>\n",
       "      <td>3aa071139cb16b67ca9e5dea641aaa2f</td>\n",
       "      <td>artes</td>\n",
       "      <td>44.0</td>\n",
       "      <td>276.0</td>\n",
       "      <td>1.0</td>\n",
       "      <td>1000.0</td>\n",
       "      <td>30.0</td>\n",
       "      <td>18.0</td>\n",
       "      <td>20.0</td>\n",
       "    </tr>\n",
       "    <tr>\n",
       "      <th>2</th>\n",
       "      <td>96bd76ec8810374ed1b65e291975717f</td>\n",
       "      <td>esporte_lazer</td>\n",
       "      <td>46.0</td>\n",
       "      <td>250.0</td>\n",
       "      <td>1.0</td>\n",
       "      <td>154.0</td>\n",
       "      <td>18.0</td>\n",
       "      <td>9.0</td>\n",
       "      <td>15.0</td>\n",
       "    </tr>\n",
       "    <tr>\n",
       "      <th>3</th>\n",
       "      <td>cef67bcfe19066a932b7673e239eb23d</td>\n",
       "      <td>bebes</td>\n",
       "      <td>27.0</td>\n",
       "      <td>261.0</td>\n",
       "      <td>1.0</td>\n",
       "      <td>371.0</td>\n",
       "      <td>26.0</td>\n",
       "      <td>4.0</td>\n",
       "      <td>26.0</td>\n",
       "    </tr>\n",
       "    <tr>\n",
       "      <th>4</th>\n",
       "      <td>9dc1a7de274444849c219cff195d0b71</td>\n",
       "      <td>utilidades_domesticas</td>\n",
       "      <td>37.0</td>\n",
       "      <td>402.0</td>\n",
       "      <td>4.0</td>\n",
       "      <td>625.0</td>\n",
       "      <td>20.0</td>\n",
       "      <td>17.0</td>\n",
       "      <td>13.0</td>\n",
       "    </tr>\n",
       "  </tbody>\n",
       "</table>\n",
       "</div>"
      ],
      "text/plain": [
       "                         product_id  product_category_name  \\\n",
       "0  1e9e8ef04dbcff4541ed26657ea517e5             perfumaria   \n",
       "1  3aa071139cb16b67ca9e5dea641aaa2f                  artes   \n",
       "2  96bd76ec8810374ed1b65e291975717f          esporte_lazer   \n",
       "3  cef67bcfe19066a932b7673e239eb23d                  bebes   \n",
       "4  9dc1a7de274444849c219cff195d0b71  utilidades_domesticas   \n",
       "\n",
       "   product_name_lenght  product_description_lenght  product_photos_qty  \\\n",
       "0                 40.0                       287.0                 1.0   \n",
       "1                 44.0                       276.0                 1.0   \n",
       "2                 46.0                       250.0                 1.0   \n",
       "3                 27.0                       261.0                 1.0   \n",
       "4                 37.0                       402.0                 4.0   \n",
       "\n",
       "   product_weight_g  product_length_cm  product_height_cm  product_width_cm  \n",
       "0             225.0               16.0               10.0              14.0  \n",
       "1            1000.0               30.0               18.0              20.0  \n",
       "2             154.0               18.0                9.0              15.0  \n",
       "3             371.0               26.0                4.0              26.0  \n",
       "4             625.0               20.0               17.0              13.0  "
      ]
     },
     "execution_count": 2775,
     "metadata": {},
     "output_type": "execute_result"
    }
   ],
   "source": [
    "products_df = pd.read_csv(\"e-commerce_public_dataset/products_dataset.csv\")\n",
    "products_df.head()"
   ]
  },
  {
   "cell_type": "markdown",
   "metadata": {},
   "source": [
    "**Insight:**\\\n",
    "Dataset products_df berisi informasi terkait produk.\\\n",
    "Informasi yang tersedia diantaranya:\n",
    "1. `product_id`: ID unik untuk setiap produk.\n",
    "2. `product_category_name`: Panjang nama produk dalam karakter.\n",
    "3. `product_name_lenght`: Panjang deskripsi produk.\n",
    "4. `product_photos_qty`: Jumlah foto yang tersedia untuk produk.\n",
    "5. `product_weight_g`: Berat produk.\n",
    "6. `product_length_cm`, `product_height_cm`, dan `product_width_cm`: DImensi produk."
   ]
  },
  {
   "cell_type": "markdown",
   "metadata": {},
   "source": [
    "#### Data Tabel `product_category_translation_df`"
   ]
  },
  {
   "cell_type": "code",
   "execution_count": 2776,
   "metadata": {},
   "outputs": [
    {
     "data": {
      "text/html": [
       "<div>\n",
       "<style scoped>\n",
       "    .dataframe tbody tr th:only-of-type {\n",
       "        vertical-align: middle;\n",
       "    }\n",
       "\n",
       "    .dataframe tbody tr th {\n",
       "        vertical-align: top;\n",
       "    }\n",
       "\n",
       "    .dataframe thead th {\n",
       "        text-align: right;\n",
       "    }\n",
       "</style>\n",
       "<table border=\"1\" class=\"dataframe\">\n",
       "  <thead>\n",
       "    <tr style=\"text-align: right;\">\n",
       "      <th></th>\n",
       "      <th>product_category_name</th>\n",
       "      <th>product_category_name_english</th>\n",
       "    </tr>\n",
       "  </thead>\n",
       "  <tbody>\n",
       "    <tr>\n",
       "      <th>0</th>\n",
       "      <td>beleza_saude</td>\n",
       "      <td>health_beauty</td>\n",
       "    </tr>\n",
       "    <tr>\n",
       "      <th>1</th>\n",
       "      <td>informatica_acessorios</td>\n",
       "      <td>computers_accessories</td>\n",
       "    </tr>\n",
       "    <tr>\n",
       "      <th>2</th>\n",
       "      <td>automotivo</td>\n",
       "      <td>auto</td>\n",
       "    </tr>\n",
       "    <tr>\n",
       "      <th>3</th>\n",
       "      <td>cama_mesa_banho</td>\n",
       "      <td>bed_bath_table</td>\n",
       "    </tr>\n",
       "    <tr>\n",
       "      <th>4</th>\n",
       "      <td>moveis_decoracao</td>\n",
       "      <td>furniture_decor</td>\n",
       "    </tr>\n",
       "  </tbody>\n",
       "</table>\n",
       "</div>"
      ],
      "text/plain": [
       "    product_category_name product_category_name_english\n",
       "0            beleza_saude                 health_beauty\n",
       "1  informatica_acessorios         computers_accessories\n",
       "2              automotivo                          auto\n",
       "3         cama_mesa_banho                bed_bath_table\n",
       "4        moveis_decoracao               furniture_decor"
      ]
     },
     "execution_count": 2776,
     "metadata": {},
     "output_type": "execute_result"
    }
   ],
   "source": [
    "product_category_translation_df = pd.read_csv(\n",
    "    \"e-commerce_public_dataset/product_category_name_translation.csv\"\n",
    ")\n",
    "product_category_translation_df.head()"
   ]
  },
  {
   "cell_type": "markdown",
   "metadata": {},
   "source": [
    "**Insight:**\\\n",
    "Dataset `product_category_translation_df` memuat terjemahan nama kategori produk dari bahasa Portugis ke bahasa Inggris.\\\n",
    "Informasi yang tertera diantaranya:\n",
    "1. `product_category_name`: Nama kategori dalam bahasa Portugis.\n",
    "2. `product_category_name_english`: Nama kategori dalam bahasa Inggris."
   ]
  },
  {
   "cell_type": "markdown",
   "metadata": {},
   "source": [
    "#### Data Tabel `order_reviews_df`"
   ]
  },
  {
   "cell_type": "code",
   "execution_count": 2777,
   "metadata": {},
   "outputs": [
    {
     "data": {
      "text/html": [
       "<div>\n",
       "<style scoped>\n",
       "    .dataframe tbody tr th:only-of-type {\n",
       "        vertical-align: middle;\n",
       "    }\n",
       "\n",
       "    .dataframe tbody tr th {\n",
       "        vertical-align: top;\n",
       "    }\n",
       "\n",
       "    .dataframe thead th {\n",
       "        text-align: right;\n",
       "    }\n",
       "</style>\n",
       "<table border=\"1\" class=\"dataframe\">\n",
       "  <thead>\n",
       "    <tr style=\"text-align: right;\">\n",
       "      <th></th>\n",
       "      <th>review_id</th>\n",
       "      <th>order_id</th>\n",
       "      <th>review_score</th>\n",
       "      <th>review_comment_title</th>\n",
       "      <th>review_comment_message</th>\n",
       "      <th>review_creation_date</th>\n",
       "      <th>review_answer_timestamp</th>\n",
       "    </tr>\n",
       "  </thead>\n",
       "  <tbody>\n",
       "    <tr>\n",
       "      <th>0</th>\n",
       "      <td>7bc2406110b926393aa56f80a40eba40</td>\n",
       "      <td>73fc7af87114b39712e6da79b0a377eb</td>\n",
       "      <td>4</td>\n",
       "      <td>NaN</td>\n",
       "      <td>NaN</td>\n",
       "      <td>2018-01-18 00:00:00</td>\n",
       "      <td>2018-01-18 21:46:59</td>\n",
       "    </tr>\n",
       "    <tr>\n",
       "      <th>1</th>\n",
       "      <td>80e641a11e56f04c1ad469d5645fdfde</td>\n",
       "      <td>a548910a1c6147796b98fdf73dbeba33</td>\n",
       "      <td>5</td>\n",
       "      <td>NaN</td>\n",
       "      <td>NaN</td>\n",
       "      <td>2018-03-10 00:00:00</td>\n",
       "      <td>2018-03-11 03:05:13</td>\n",
       "    </tr>\n",
       "    <tr>\n",
       "      <th>2</th>\n",
       "      <td>228ce5500dc1d8e020d8d1322874b6f0</td>\n",
       "      <td>f9e4b658b201a9f2ecdecbb34bed034b</td>\n",
       "      <td>5</td>\n",
       "      <td>NaN</td>\n",
       "      <td>NaN</td>\n",
       "      <td>2018-02-17 00:00:00</td>\n",
       "      <td>2018-02-18 14:36:24</td>\n",
       "    </tr>\n",
       "    <tr>\n",
       "      <th>3</th>\n",
       "      <td>e64fb393e7b32834bb789ff8bb30750e</td>\n",
       "      <td>658677c97b385a9be170737859d3511b</td>\n",
       "      <td>5</td>\n",
       "      <td>NaN</td>\n",
       "      <td>Recebi bem antes do prazo estipulado.</td>\n",
       "      <td>2017-04-21 00:00:00</td>\n",
       "      <td>2017-04-21 22:02:06</td>\n",
       "    </tr>\n",
       "    <tr>\n",
       "      <th>4</th>\n",
       "      <td>f7c4243c7fe1938f181bec41a392bdeb</td>\n",
       "      <td>8e6bfb81e283fa7e4f11123a3fb894f1</td>\n",
       "      <td>5</td>\n",
       "      <td>NaN</td>\n",
       "      <td>Parabéns lojas lannister adorei comprar pela Internet seguro e prático Parabéns a todos feliz Páscoa</td>\n",
       "      <td>2018-03-01 00:00:00</td>\n",
       "      <td>2018-03-02 10:26:53</td>\n",
       "    </tr>\n",
       "  </tbody>\n",
       "</table>\n",
       "</div>"
      ],
      "text/plain": [
       "                          review_id                          order_id  \\\n",
       "0  7bc2406110b926393aa56f80a40eba40  73fc7af87114b39712e6da79b0a377eb   \n",
       "1  80e641a11e56f04c1ad469d5645fdfde  a548910a1c6147796b98fdf73dbeba33   \n",
       "2  228ce5500dc1d8e020d8d1322874b6f0  f9e4b658b201a9f2ecdecbb34bed034b   \n",
       "3  e64fb393e7b32834bb789ff8bb30750e  658677c97b385a9be170737859d3511b   \n",
       "4  f7c4243c7fe1938f181bec41a392bdeb  8e6bfb81e283fa7e4f11123a3fb894f1   \n",
       "\n",
       "   review_score review_comment_title  \\\n",
       "0             4                  NaN   \n",
       "1             5                  NaN   \n",
       "2             5                  NaN   \n",
       "3             5                  NaN   \n",
       "4             5                  NaN   \n",
       "\n",
       "                                                                                 review_comment_message  \\\n",
       "0                                                                                                   NaN   \n",
       "1                                                                                                   NaN   \n",
       "2                                                                                                   NaN   \n",
       "3                                                                 Recebi bem antes do prazo estipulado.   \n",
       "4  Parabéns lojas lannister adorei comprar pela Internet seguro e prático Parabéns a todos feliz Páscoa   \n",
       "\n",
       "  review_creation_date review_answer_timestamp  \n",
       "0  2018-01-18 00:00:00     2018-01-18 21:46:59  \n",
       "1  2018-03-10 00:00:00     2018-03-11 03:05:13  \n",
       "2  2018-02-17 00:00:00     2018-02-18 14:36:24  \n",
       "3  2017-04-21 00:00:00     2017-04-21 22:02:06  \n",
       "4  2018-03-01 00:00:00     2018-03-02 10:26:53  "
      ]
     },
     "execution_count": 2777,
     "metadata": {},
     "output_type": "execute_result"
    }
   ],
   "source": [
    "order_reviews_df = pd.read_csv(\"e-commerce_public_dataset/order_reviews_dataset.csv\")\n",
    "order_reviews_df.head()"
   ]
  },
  {
   "cell_type": "markdown",
   "metadata": {},
   "source": [
    "**Insight:**\\\n",
    "Dataset `order_reviews_df` berisi informasi mengenai ulasan pelanggan terhadap pesanan yang telah mereka terima.\\\n",
    "Informasi yang tertera diantaranya:\n",
    "1. `review_id`: ID unik untuk setiap ulasan.\n",
    "2. `order_id`: ID unik dari pesanan.\n",
    "3. `review_score`: Skor ulasan yang diberikan oleh pelanggan, pada skala 1-5.\n",
    "4. `review_comment_title` & `review_comment_message`: Komentar pelanggan.\n",
    "5. `review_creation_date` $ `review_answer_timestamp`: Waktu ketika ulasan dibuat dan dijawab."
   ]
  },
  {
   "cell_type": "markdown",
   "metadata": {},
   "source": [
    "#### Data Tabel `order_payments`"
   ]
  },
  {
   "cell_type": "code",
   "execution_count": 2778,
   "metadata": {},
   "outputs": [
    {
     "data": {
      "text/html": [
       "<div>\n",
       "<style scoped>\n",
       "    .dataframe tbody tr th:only-of-type {\n",
       "        vertical-align: middle;\n",
       "    }\n",
       "\n",
       "    .dataframe tbody tr th {\n",
       "        vertical-align: top;\n",
       "    }\n",
       "\n",
       "    .dataframe thead th {\n",
       "        text-align: right;\n",
       "    }\n",
       "</style>\n",
       "<table border=\"1\" class=\"dataframe\">\n",
       "  <thead>\n",
       "    <tr style=\"text-align: right;\">\n",
       "      <th></th>\n",
       "      <th>order_id</th>\n",
       "      <th>payment_sequential</th>\n",
       "      <th>payment_type</th>\n",
       "      <th>payment_installments</th>\n",
       "      <th>payment_value</th>\n",
       "    </tr>\n",
       "  </thead>\n",
       "  <tbody>\n",
       "    <tr>\n",
       "      <th>0</th>\n",
       "      <td>b81ef226f3fe1789b1e8b2acac839d17</td>\n",
       "      <td>1</td>\n",
       "      <td>credit_card</td>\n",
       "      <td>8</td>\n",
       "      <td>99.33</td>\n",
       "    </tr>\n",
       "    <tr>\n",
       "      <th>1</th>\n",
       "      <td>a9810da82917af2d9aefd1278f1dcfa0</td>\n",
       "      <td>1</td>\n",
       "      <td>credit_card</td>\n",
       "      <td>1</td>\n",
       "      <td>24.39</td>\n",
       "    </tr>\n",
       "    <tr>\n",
       "      <th>2</th>\n",
       "      <td>25e8ea4e93396b6fa0d3dd708e76c1bd</td>\n",
       "      <td>1</td>\n",
       "      <td>credit_card</td>\n",
       "      <td>1</td>\n",
       "      <td>65.71</td>\n",
       "    </tr>\n",
       "    <tr>\n",
       "      <th>3</th>\n",
       "      <td>ba78997921bbcdc1373bb41e913ab953</td>\n",
       "      <td>1</td>\n",
       "      <td>credit_card</td>\n",
       "      <td>8</td>\n",
       "      <td>107.78</td>\n",
       "    </tr>\n",
       "    <tr>\n",
       "      <th>4</th>\n",
       "      <td>42fdf880ba16b47b59251dd489d4441a</td>\n",
       "      <td>1</td>\n",
       "      <td>credit_card</td>\n",
       "      <td>2</td>\n",
       "      <td>128.45</td>\n",
       "    </tr>\n",
       "  </tbody>\n",
       "</table>\n",
       "</div>"
      ],
      "text/plain": [
       "                           order_id  payment_sequential payment_type  \\\n",
       "0  b81ef226f3fe1789b1e8b2acac839d17                   1  credit_card   \n",
       "1  a9810da82917af2d9aefd1278f1dcfa0                   1  credit_card   \n",
       "2  25e8ea4e93396b6fa0d3dd708e76c1bd                   1  credit_card   \n",
       "3  ba78997921bbcdc1373bb41e913ab953                   1  credit_card   \n",
       "4  42fdf880ba16b47b59251dd489d4441a                   1  credit_card   \n",
       "\n",
       "   payment_installments  payment_value  \n",
       "0                     8          99.33  \n",
       "1                     1          24.39  \n",
       "2                     1          65.71  \n",
       "3                     8         107.78  \n",
       "4                     2         128.45  "
      ]
     },
     "execution_count": 2778,
     "metadata": {},
     "output_type": "execute_result"
    }
   ],
   "source": [
    "order_payments_df = pd.read_csv(\"e-commerce_public_dataset/order_payments_dataset.csv\")\n",
    "order_payments_df.head()"
   ]
  },
  {
   "cell_type": "markdown",
   "metadata": {},
   "source": [
    "**Insight:**\\\n",
    "Dataset `order_payments` ini berisi informasi mengenai pembayaran yang dilakukan pelanggan untuk pesanan yang mereka buat.\\\n",
    "Informasi yang tertera diantaranya:\n",
    "1. `order_id`: ID unik untuk setiap pesanan.\n",
    "2. `payment_sequential`: Urutan pembayaran untuk setiap pesanan.\n",
    "3. `payment_type`: Jenis pembayaran yang digunakan oleh pelanggan.\n",
    "4. `payment_installments`: Jumlah cicilan yang diambil oleh pelanggan untuk membayar pesanan.\n",
    "5. `payment_value`: Nilai total dari setiap pembayaran."
   ]
  },
  {
   "cell_type": "markdown",
   "metadata": {},
   "source": [
    "#### Data Tabel `order_items_df`"
   ]
  },
  {
   "cell_type": "code",
   "execution_count": 2779,
   "metadata": {},
   "outputs": [
    {
     "data": {
      "text/html": [
       "<div>\n",
       "<style scoped>\n",
       "    .dataframe tbody tr th:only-of-type {\n",
       "        vertical-align: middle;\n",
       "    }\n",
       "\n",
       "    .dataframe tbody tr th {\n",
       "        vertical-align: top;\n",
       "    }\n",
       "\n",
       "    .dataframe thead th {\n",
       "        text-align: right;\n",
       "    }\n",
       "</style>\n",
       "<table border=\"1\" class=\"dataframe\">\n",
       "  <thead>\n",
       "    <tr style=\"text-align: right;\">\n",
       "      <th></th>\n",
       "      <th>order_id</th>\n",
       "      <th>order_item_id</th>\n",
       "      <th>product_id</th>\n",
       "      <th>seller_id</th>\n",
       "      <th>shipping_limit_date</th>\n",
       "      <th>price</th>\n",
       "      <th>freight_value</th>\n",
       "    </tr>\n",
       "  </thead>\n",
       "  <tbody>\n",
       "    <tr>\n",
       "      <th>0</th>\n",
       "      <td>00010242fe8c5a6d1ba2dd792cb16214</td>\n",
       "      <td>1</td>\n",
       "      <td>4244733e06e7ecb4970a6e2683c13e61</td>\n",
       "      <td>48436dade18ac8b2bce089ec2a041202</td>\n",
       "      <td>2017-09-19 09:45:35</td>\n",
       "      <td>58.90</td>\n",
       "      <td>13.29</td>\n",
       "    </tr>\n",
       "    <tr>\n",
       "      <th>1</th>\n",
       "      <td>00018f77f2f0320c557190d7a144bdd3</td>\n",
       "      <td>1</td>\n",
       "      <td>e5f2d52b802189ee658865ca93d83a8f</td>\n",
       "      <td>dd7ddc04e1b6c2c614352b383efe2d36</td>\n",
       "      <td>2017-05-03 11:05:13</td>\n",
       "      <td>239.90</td>\n",
       "      <td>19.93</td>\n",
       "    </tr>\n",
       "    <tr>\n",
       "      <th>2</th>\n",
       "      <td>000229ec398224ef6ca0657da4fc703e</td>\n",
       "      <td>1</td>\n",
       "      <td>c777355d18b72b67abbeef9df44fd0fd</td>\n",
       "      <td>5b51032eddd242adc84c38acab88f23d</td>\n",
       "      <td>2018-01-18 14:48:30</td>\n",
       "      <td>199.00</td>\n",
       "      <td>17.87</td>\n",
       "    </tr>\n",
       "    <tr>\n",
       "      <th>3</th>\n",
       "      <td>00024acbcdf0a6daa1e931b038114c75</td>\n",
       "      <td>1</td>\n",
       "      <td>7634da152a4610f1595efa32f14722fc</td>\n",
       "      <td>9d7a1d34a5052409006425275ba1c2b4</td>\n",
       "      <td>2018-08-15 10:10:18</td>\n",
       "      <td>12.99</td>\n",
       "      <td>12.79</td>\n",
       "    </tr>\n",
       "    <tr>\n",
       "      <th>4</th>\n",
       "      <td>00042b26cf59d7ce69dfabb4e55b4fd9</td>\n",
       "      <td>1</td>\n",
       "      <td>ac6c3623068f30de03045865e4e10089</td>\n",
       "      <td>df560393f3a51e74553ab94004ba5c87</td>\n",
       "      <td>2017-02-13 13:57:51</td>\n",
       "      <td>199.90</td>\n",
       "      <td>18.14</td>\n",
       "    </tr>\n",
       "  </tbody>\n",
       "</table>\n",
       "</div>"
      ],
      "text/plain": [
       "                           order_id  order_item_id  \\\n",
       "0  00010242fe8c5a6d1ba2dd792cb16214              1   \n",
       "1  00018f77f2f0320c557190d7a144bdd3              1   \n",
       "2  000229ec398224ef6ca0657da4fc703e              1   \n",
       "3  00024acbcdf0a6daa1e931b038114c75              1   \n",
       "4  00042b26cf59d7ce69dfabb4e55b4fd9              1   \n",
       "\n",
       "                         product_id                         seller_id  \\\n",
       "0  4244733e06e7ecb4970a6e2683c13e61  48436dade18ac8b2bce089ec2a041202   \n",
       "1  e5f2d52b802189ee658865ca93d83a8f  dd7ddc04e1b6c2c614352b383efe2d36   \n",
       "2  c777355d18b72b67abbeef9df44fd0fd  5b51032eddd242adc84c38acab88f23d   \n",
       "3  7634da152a4610f1595efa32f14722fc  9d7a1d34a5052409006425275ba1c2b4   \n",
       "4  ac6c3623068f30de03045865e4e10089  df560393f3a51e74553ab94004ba5c87   \n",
       "\n",
       "   shipping_limit_date   price  freight_value  \n",
       "0  2017-09-19 09:45:35   58.90          13.29  \n",
       "1  2017-05-03 11:05:13  239.90          19.93  \n",
       "2  2018-01-18 14:48:30  199.00          17.87  \n",
       "3  2018-08-15 10:10:18   12.99          12.79  \n",
       "4  2017-02-13 13:57:51  199.90          18.14  "
      ]
     },
     "execution_count": 2779,
     "metadata": {},
     "output_type": "execute_result"
    }
   ],
   "source": [
    "order_items_df = pd.read_csv(\"e-commerce_public_dataset/order_items_dataset.csv\")\n",
    "order_items_df.head()"
   ]
  },
  {
   "cell_type": "markdown",
   "metadata": {},
   "source": [
    "**Insight:**\\\n",
    "Dataset `order_items_df` berisi informasi mengenai item yang dipesan dalam setiap pesanan.\\\n",
    "Informasi yang tertera diantaranya:\n",
    "1. `order_id`: ID unik untuk setiap pesanan.\n",
    "2. `order_item_id`: ID untuk setiap item pesanan dalam pesanan yang sama.\n",
    "3. `product_id`: ID produk yang dipesan.\n",
    "4. `seller_id`: ID unik penjual.\n",
    "5. `shipping_limit_date`: Batas waktu pengiriman item oleh penjual.\n",
    "6. `price`: Harga jual produk yang dipesan.\n",
    "7. `freight_value`: Biaya pengiriman item."
   ]
  },
  {
   "cell_type": "markdown",
   "metadata": {},
   "source": [
    "#### Data Tabel `geolocation_df`"
   ]
  },
  {
   "cell_type": "code",
   "execution_count": 2780,
   "metadata": {},
   "outputs": [
    {
     "data": {
      "text/html": [
       "<div>\n",
       "<style scoped>\n",
       "    .dataframe tbody tr th:only-of-type {\n",
       "        vertical-align: middle;\n",
       "    }\n",
       "\n",
       "    .dataframe tbody tr th {\n",
       "        vertical-align: top;\n",
       "    }\n",
       "\n",
       "    .dataframe thead th {\n",
       "        text-align: right;\n",
       "    }\n",
       "</style>\n",
       "<table border=\"1\" class=\"dataframe\">\n",
       "  <thead>\n",
       "    <tr style=\"text-align: right;\">\n",
       "      <th></th>\n",
       "      <th>geolocation_zip_code_prefix</th>\n",
       "      <th>geolocation_lat</th>\n",
       "      <th>geolocation_lng</th>\n",
       "      <th>geolocation_city</th>\n",
       "      <th>geolocation_state</th>\n",
       "    </tr>\n",
       "  </thead>\n",
       "  <tbody>\n",
       "    <tr>\n",
       "      <th>0</th>\n",
       "      <td>1037</td>\n",
       "      <td>-23.545621</td>\n",
       "      <td>-46.639292</td>\n",
       "      <td>sao paulo</td>\n",
       "      <td>SP</td>\n",
       "    </tr>\n",
       "    <tr>\n",
       "      <th>1</th>\n",
       "      <td>1046</td>\n",
       "      <td>-23.546081</td>\n",
       "      <td>-46.644820</td>\n",
       "      <td>sao paulo</td>\n",
       "      <td>SP</td>\n",
       "    </tr>\n",
       "    <tr>\n",
       "      <th>2</th>\n",
       "      <td>1046</td>\n",
       "      <td>-23.546129</td>\n",
       "      <td>-46.642951</td>\n",
       "      <td>sao paulo</td>\n",
       "      <td>SP</td>\n",
       "    </tr>\n",
       "    <tr>\n",
       "      <th>3</th>\n",
       "      <td>1041</td>\n",
       "      <td>-23.544392</td>\n",
       "      <td>-46.639499</td>\n",
       "      <td>sao paulo</td>\n",
       "      <td>SP</td>\n",
       "    </tr>\n",
       "    <tr>\n",
       "      <th>4</th>\n",
       "      <td>1035</td>\n",
       "      <td>-23.541578</td>\n",
       "      <td>-46.641607</td>\n",
       "      <td>sao paulo</td>\n",
       "      <td>SP</td>\n",
       "    </tr>\n",
       "  </tbody>\n",
       "</table>\n",
       "</div>"
      ],
      "text/plain": [
       "   geolocation_zip_code_prefix  geolocation_lat  geolocation_lng  \\\n",
       "0                         1037       -23.545621       -46.639292   \n",
       "1                         1046       -23.546081       -46.644820   \n",
       "2                         1046       -23.546129       -46.642951   \n",
       "3                         1041       -23.544392       -46.639499   \n",
       "4                         1035       -23.541578       -46.641607   \n",
       "\n",
       "  geolocation_city geolocation_state  \n",
       "0        sao paulo                SP  \n",
       "1        sao paulo                SP  \n",
       "2        sao paulo                SP  \n",
       "3        sao paulo                SP  \n",
       "4        sao paulo                SP  "
      ]
     },
     "execution_count": 2780,
     "metadata": {},
     "output_type": "execute_result"
    }
   ],
   "source": [
    "geolocation_df = pd.read_csv(\"e-commerce_public_dataset/geolocation_dataset.csv\")\n",
    "geolocation_df.head()"
   ]
  },
  {
   "cell_type": "markdown",
   "metadata": {},
   "source": [
    "**Insight:**\\\n",
    "Dataset `geolocation_df` berisi informasi geolokasi.\\\n",
    "Informasi yang tertera diantaranya:\n",
    "1. `geolocation_zip_code_prefix`: Kode pos.\n",
    "2. `geolocation_lat`: Koordinat geografis lintang.\n",
    "3. `geolocation_lng`: Koordinat geografis bujur.\n",
    "4. `geolocation_city`: Nama kota.\n",
    "5. `geolocation_state`: Nama negara bagian."
   ]
  },
  {
   "cell_type": "markdown",
   "metadata": {},
   "source": [
    "#### Data Tabel `customers_df`"
   ]
  },
  {
   "cell_type": "code",
   "execution_count": 2781,
   "metadata": {},
   "outputs": [
    {
     "data": {
      "text/html": [
       "<div>\n",
       "<style scoped>\n",
       "    .dataframe tbody tr th:only-of-type {\n",
       "        vertical-align: middle;\n",
       "    }\n",
       "\n",
       "    .dataframe tbody tr th {\n",
       "        vertical-align: top;\n",
       "    }\n",
       "\n",
       "    .dataframe thead th {\n",
       "        text-align: right;\n",
       "    }\n",
       "</style>\n",
       "<table border=\"1\" class=\"dataframe\">\n",
       "  <thead>\n",
       "    <tr style=\"text-align: right;\">\n",
       "      <th></th>\n",
       "      <th>customer_id</th>\n",
       "      <th>customer_unique_id</th>\n",
       "      <th>customer_zip_code_prefix</th>\n",
       "      <th>customer_city</th>\n",
       "      <th>customer_state</th>\n",
       "    </tr>\n",
       "  </thead>\n",
       "  <tbody>\n",
       "    <tr>\n",
       "      <th>0</th>\n",
       "      <td>06b8999e2fba1a1fbc88172c00ba8bc7</td>\n",
       "      <td>861eff4711a542e4b93843c6dd7febb0</td>\n",
       "      <td>14409</td>\n",
       "      <td>franca</td>\n",
       "      <td>SP</td>\n",
       "    </tr>\n",
       "    <tr>\n",
       "      <th>1</th>\n",
       "      <td>18955e83d337fd6b2def6b18a428ac77</td>\n",
       "      <td>290c77bc529b7ac935b93aa66c333dc3</td>\n",
       "      <td>9790</td>\n",
       "      <td>sao bernardo do campo</td>\n",
       "      <td>SP</td>\n",
       "    </tr>\n",
       "    <tr>\n",
       "      <th>2</th>\n",
       "      <td>4e7b3e00288586ebd08712fdd0374a03</td>\n",
       "      <td>060e732b5b29e8181a18229c7b0b2b5e</td>\n",
       "      <td>1151</td>\n",
       "      <td>sao paulo</td>\n",
       "      <td>SP</td>\n",
       "    </tr>\n",
       "    <tr>\n",
       "      <th>3</th>\n",
       "      <td>b2b6027bc5c5109e529d4dc6358b12c3</td>\n",
       "      <td>259dac757896d24d7702b9acbbff3f3c</td>\n",
       "      <td>8775</td>\n",
       "      <td>mogi das cruzes</td>\n",
       "      <td>SP</td>\n",
       "    </tr>\n",
       "    <tr>\n",
       "      <th>4</th>\n",
       "      <td>4f2d8ab171c80ec8364f7c12e35b23ad</td>\n",
       "      <td>345ecd01c38d18a9036ed96c73b8d066</td>\n",
       "      <td>13056</td>\n",
       "      <td>campinas</td>\n",
       "      <td>SP</td>\n",
       "    </tr>\n",
       "  </tbody>\n",
       "</table>\n",
       "</div>"
      ],
      "text/plain": [
       "                        customer_id                customer_unique_id  \\\n",
       "0  06b8999e2fba1a1fbc88172c00ba8bc7  861eff4711a542e4b93843c6dd7febb0   \n",
       "1  18955e83d337fd6b2def6b18a428ac77  290c77bc529b7ac935b93aa66c333dc3   \n",
       "2  4e7b3e00288586ebd08712fdd0374a03  060e732b5b29e8181a18229c7b0b2b5e   \n",
       "3  b2b6027bc5c5109e529d4dc6358b12c3  259dac757896d24d7702b9acbbff3f3c   \n",
       "4  4f2d8ab171c80ec8364f7c12e35b23ad  345ecd01c38d18a9036ed96c73b8d066   \n",
       "\n",
       "   customer_zip_code_prefix          customer_city customer_state  \n",
       "0                     14409                 franca             SP  \n",
       "1                      9790  sao bernardo do campo             SP  \n",
       "2                      1151              sao paulo             SP  \n",
       "3                      8775        mogi das cruzes             SP  \n",
       "4                     13056               campinas             SP  "
      ]
     },
     "execution_count": 2781,
     "metadata": {},
     "output_type": "execute_result"
    }
   ],
   "source": [
    "customers_df = pd.read_csv(\"e-commerce_public_dataset/customers_dataset.csv\")\n",
    "customers_df.head()"
   ]
  },
  {
   "cell_type": "markdown",
   "metadata": {},
   "source": [
    "**Insight:**\\\n",
    "Dataset `customers_df` berisi informasi mengenai pelanggan yang melakukan pemesanan.\\\n",
    "Informasi yang tertera diantaranya:\n",
    "1. `customer_id`: ID pelanggan untuk setiap pesanan.\n",
    "2. `customer_unique_id`: ID unik pelanggan.\n",
    "3. `customer_zip_code_prefix`: Kode pos pelanggan.\n",
    "4. `customer_city`: Nama kota pelanggan.\n",
    "5. `customer_state`: Nama negara bagian pelanggan."
   ]
  },
  {
   "cell_type": "markdown",
   "metadata": {},
   "source": [
    "#### Data Tabel `sellers_df`"
   ]
  },
  {
   "cell_type": "code",
   "execution_count": 2782,
   "metadata": {},
   "outputs": [
    {
     "data": {
      "text/html": [
       "<div>\n",
       "<style scoped>\n",
       "    .dataframe tbody tr th:only-of-type {\n",
       "        vertical-align: middle;\n",
       "    }\n",
       "\n",
       "    .dataframe tbody tr th {\n",
       "        vertical-align: top;\n",
       "    }\n",
       "\n",
       "    .dataframe thead th {\n",
       "        text-align: right;\n",
       "    }\n",
       "</style>\n",
       "<table border=\"1\" class=\"dataframe\">\n",
       "  <thead>\n",
       "    <tr style=\"text-align: right;\">\n",
       "      <th></th>\n",
       "      <th>seller_id</th>\n",
       "      <th>seller_zip_code_prefix</th>\n",
       "      <th>seller_city</th>\n",
       "      <th>seller_state</th>\n",
       "    </tr>\n",
       "  </thead>\n",
       "  <tbody>\n",
       "    <tr>\n",
       "      <th>0</th>\n",
       "      <td>3442f8959a84dea7ee197c632cb2df15</td>\n",
       "      <td>13023</td>\n",
       "      <td>campinas</td>\n",
       "      <td>SP</td>\n",
       "    </tr>\n",
       "    <tr>\n",
       "      <th>1</th>\n",
       "      <td>d1b65fc7debc3361ea86b5f14c68d2e2</td>\n",
       "      <td>13844</td>\n",
       "      <td>mogi guacu</td>\n",
       "      <td>SP</td>\n",
       "    </tr>\n",
       "    <tr>\n",
       "      <th>2</th>\n",
       "      <td>ce3ad9de960102d0677a81f5d0bb7b2d</td>\n",
       "      <td>20031</td>\n",
       "      <td>rio de janeiro</td>\n",
       "      <td>RJ</td>\n",
       "    </tr>\n",
       "    <tr>\n",
       "      <th>3</th>\n",
       "      <td>c0f3eea2e14555b6faeea3dd58c1b1c3</td>\n",
       "      <td>4195</td>\n",
       "      <td>sao paulo</td>\n",
       "      <td>SP</td>\n",
       "    </tr>\n",
       "    <tr>\n",
       "      <th>4</th>\n",
       "      <td>51a04a8a6bdcb23deccc82b0b80742cf</td>\n",
       "      <td>12914</td>\n",
       "      <td>braganca paulista</td>\n",
       "      <td>SP</td>\n",
       "    </tr>\n",
       "  </tbody>\n",
       "</table>\n",
       "</div>"
      ],
      "text/plain": [
       "                          seller_id  seller_zip_code_prefix  \\\n",
       "0  3442f8959a84dea7ee197c632cb2df15                   13023   \n",
       "1  d1b65fc7debc3361ea86b5f14c68d2e2                   13844   \n",
       "2  ce3ad9de960102d0677a81f5d0bb7b2d                   20031   \n",
       "3  c0f3eea2e14555b6faeea3dd58c1b1c3                    4195   \n",
       "4  51a04a8a6bdcb23deccc82b0b80742cf                   12914   \n",
       "\n",
       "         seller_city seller_state  \n",
       "0           campinas           SP  \n",
       "1         mogi guacu           SP  \n",
       "2     rio de janeiro           RJ  \n",
       "3          sao paulo           SP  \n",
       "4  braganca paulista           SP  "
      ]
     },
     "execution_count": 2782,
     "metadata": {},
     "output_type": "execute_result"
    }
   ],
   "source": [
    "sellers_df = pd.read_csv(\"e-commerce_public_dataset/sellers_dataset.csv\")\n",
    "sellers_df.head()"
   ]
  },
  {
   "cell_type": "markdown",
   "metadata": {},
   "source": [
    "**Insight:**\\\n",
    "Dataset `sellers_df` berisi informasi penjual\\\n",
    "Informasi yang tertera diantaranya:\n",
    "1. `seller_id`: ID penjual.\n",
    "2. `seller_zip_code_prefix`: Kode pos penjual.\n",
    "3. `seller_city`: Nama kota penjual.\n",
    "4. `seller_state`: Nama negara bagian penjual."
   ]
  },
  {
   "cell_type": "markdown",
   "metadata": {},
   "source": [
    "#### Data Tabel `orders_df`"
   ]
  },
  {
   "cell_type": "code",
   "execution_count": 2783,
   "metadata": {},
   "outputs": [
    {
     "data": {
      "text/html": [
       "<div>\n",
       "<style scoped>\n",
       "    .dataframe tbody tr th:only-of-type {\n",
       "        vertical-align: middle;\n",
       "    }\n",
       "\n",
       "    .dataframe tbody tr th {\n",
       "        vertical-align: top;\n",
       "    }\n",
       "\n",
       "    .dataframe thead th {\n",
       "        text-align: right;\n",
       "    }\n",
       "</style>\n",
       "<table border=\"1\" class=\"dataframe\">\n",
       "  <thead>\n",
       "    <tr style=\"text-align: right;\">\n",
       "      <th></th>\n",
       "      <th>order_id</th>\n",
       "      <th>customer_id</th>\n",
       "      <th>order_status</th>\n",
       "      <th>order_purchase_timestamp</th>\n",
       "      <th>order_approved_at</th>\n",
       "      <th>order_delivered_carrier_date</th>\n",
       "      <th>order_delivered_customer_date</th>\n",
       "      <th>order_estimated_delivery_date</th>\n",
       "    </tr>\n",
       "  </thead>\n",
       "  <tbody>\n",
       "    <tr>\n",
       "      <th>0</th>\n",
       "      <td>e481f51cbdc54678b7cc49136f2d6af7</td>\n",
       "      <td>9ef432eb6251297304e76186b10a928d</td>\n",
       "      <td>delivered</td>\n",
       "      <td>2017-10-02 10:56:33</td>\n",
       "      <td>2017-10-02 11:07:15</td>\n",
       "      <td>2017-10-04 19:55:00</td>\n",
       "      <td>2017-10-10 21:25:13</td>\n",
       "      <td>2017-10-18 00:00:00</td>\n",
       "    </tr>\n",
       "    <tr>\n",
       "      <th>1</th>\n",
       "      <td>53cdb2fc8bc7dce0b6741e2150273451</td>\n",
       "      <td>b0830fb4747a6c6d20dea0b8c802d7ef</td>\n",
       "      <td>delivered</td>\n",
       "      <td>2018-07-24 20:41:37</td>\n",
       "      <td>2018-07-26 03:24:27</td>\n",
       "      <td>2018-07-26 14:31:00</td>\n",
       "      <td>2018-08-07 15:27:45</td>\n",
       "      <td>2018-08-13 00:00:00</td>\n",
       "    </tr>\n",
       "    <tr>\n",
       "      <th>2</th>\n",
       "      <td>47770eb9100c2d0c44946d9cf07ec65d</td>\n",
       "      <td>41ce2a54c0b03bf3443c3d931a367089</td>\n",
       "      <td>delivered</td>\n",
       "      <td>2018-08-08 08:38:49</td>\n",
       "      <td>2018-08-08 08:55:23</td>\n",
       "      <td>2018-08-08 13:50:00</td>\n",
       "      <td>2018-08-17 18:06:29</td>\n",
       "      <td>2018-09-04 00:00:00</td>\n",
       "    </tr>\n",
       "    <tr>\n",
       "      <th>3</th>\n",
       "      <td>949d5b44dbf5de918fe9c16f97b45f8a</td>\n",
       "      <td>f88197465ea7920adcdbec7375364d82</td>\n",
       "      <td>delivered</td>\n",
       "      <td>2017-11-18 19:28:06</td>\n",
       "      <td>2017-11-18 19:45:59</td>\n",
       "      <td>2017-11-22 13:39:59</td>\n",
       "      <td>2017-12-02 00:28:42</td>\n",
       "      <td>2017-12-15 00:00:00</td>\n",
       "    </tr>\n",
       "    <tr>\n",
       "      <th>4</th>\n",
       "      <td>ad21c59c0840e6cb83a9ceb5573f8159</td>\n",
       "      <td>8ab97904e6daea8866dbdbc4fb7aad2c</td>\n",
       "      <td>delivered</td>\n",
       "      <td>2018-02-13 21:18:39</td>\n",
       "      <td>2018-02-13 22:20:29</td>\n",
       "      <td>2018-02-14 19:46:34</td>\n",
       "      <td>2018-02-16 18:17:02</td>\n",
       "      <td>2018-02-26 00:00:00</td>\n",
       "    </tr>\n",
       "  </tbody>\n",
       "</table>\n",
       "</div>"
      ],
      "text/plain": [
       "                           order_id                       customer_id  \\\n",
       "0  e481f51cbdc54678b7cc49136f2d6af7  9ef432eb6251297304e76186b10a928d   \n",
       "1  53cdb2fc8bc7dce0b6741e2150273451  b0830fb4747a6c6d20dea0b8c802d7ef   \n",
       "2  47770eb9100c2d0c44946d9cf07ec65d  41ce2a54c0b03bf3443c3d931a367089   \n",
       "3  949d5b44dbf5de918fe9c16f97b45f8a  f88197465ea7920adcdbec7375364d82   \n",
       "4  ad21c59c0840e6cb83a9ceb5573f8159  8ab97904e6daea8866dbdbc4fb7aad2c   \n",
       "\n",
       "  order_status order_purchase_timestamp    order_approved_at  \\\n",
       "0    delivered      2017-10-02 10:56:33  2017-10-02 11:07:15   \n",
       "1    delivered      2018-07-24 20:41:37  2018-07-26 03:24:27   \n",
       "2    delivered      2018-08-08 08:38:49  2018-08-08 08:55:23   \n",
       "3    delivered      2017-11-18 19:28:06  2017-11-18 19:45:59   \n",
       "4    delivered      2018-02-13 21:18:39  2018-02-13 22:20:29   \n",
       "\n",
       "  order_delivered_carrier_date order_delivered_customer_date  \\\n",
       "0          2017-10-04 19:55:00           2017-10-10 21:25:13   \n",
       "1          2018-07-26 14:31:00           2018-08-07 15:27:45   \n",
       "2          2018-08-08 13:50:00           2018-08-17 18:06:29   \n",
       "3          2017-11-22 13:39:59           2017-12-02 00:28:42   \n",
       "4          2018-02-14 19:46:34           2018-02-16 18:17:02   \n",
       "\n",
       "  order_estimated_delivery_date  \n",
       "0           2017-10-18 00:00:00  \n",
       "1           2018-08-13 00:00:00  \n",
       "2           2018-09-04 00:00:00  \n",
       "3           2017-12-15 00:00:00  \n",
       "4           2018-02-26 00:00:00  "
      ]
     },
     "execution_count": 2783,
     "metadata": {},
     "output_type": "execute_result"
    }
   ],
   "source": [
    "orders_df = pd.read_csv(\"e-commerce_public_dataset/orders_dataset.csv\")\n",
    "orders_df.head()"
   ]
  },
  {
   "cell_type": "markdown",
   "metadata": {
    "id": "MMi6xGaDkbCi"
   },
   "source": [
    "**Insight:**\\\n",
    "Dataset `orders_df` berisi informasi mengenai pesanan yang dibuat oleh pelanggan.\\\n",
    "Informasi yang tertera diantaranya:\n",
    "1. `order_id`: ID unik untuk setiap pesanan.\n",
    "2. `customer_id`: ID pelanggan yang terkait dengan pesanan.\n",
    "3. `order_status`: Status pesanan yang menunjukkan tahapan pesanan seperti delivered, shipped, canceled, dll.\n",
    "4. `order_purchase_timestamp`: Tanggal dan waktu pesanan dibuat.\n",
    "5. `order_approved_at`: Waktu persetujuan pesanan.\n",
    "6. `order_delivered_carrier_date`: Tanggal pesanan dikirim ke pelanggan oleh kurir.\n",
    "7. `order_delivered_customer_date`: Tanggal pesanan diterima oleh pelanggan.\n",
    "8. `order_estimated_delivery_date`: Estimasi tanggal pengiriman pesanan."
   ]
  },
  {
   "cell_type": "markdown",
   "metadata": {
    "id": "FHSiqaZp8DC1"
   },
   "source": [
    "### Assessing Data"
   ]
  },
  {
   "cell_type": "markdown",
   "metadata": {},
   "source": [
    "#### Menilai Tabel `products_df`"
   ]
  },
  {
   "cell_type": "code",
   "execution_count": 2784,
   "metadata": {
    "id": "ax-3tEjc9Cj1"
   },
   "outputs": [
    {
     "name": "stdout",
     "output_type": "stream",
     "text": [
      "<class 'pandas.core.frame.DataFrame'>\n",
      "RangeIndex: 32951 entries, 0 to 32950\n",
      "Data columns (total 9 columns):\n",
      " #   Column                      Non-Null Count  Dtype  \n",
      "---  ------                      --------------  -----  \n",
      " 0   product_id                  32951 non-null  object \n",
      " 1   product_category_name       32341 non-null  object \n",
      " 2   product_name_lenght         32341 non-null  float64\n",
      " 3   product_description_lenght  32341 non-null  float64\n",
      " 4   product_photos_qty          32341 non-null  float64\n",
      " 5   product_weight_g            32949 non-null  float64\n",
      " 6   product_length_cm           32949 non-null  float64\n",
      " 7   product_height_cm           32949 non-null  float64\n",
      " 8   product_width_cm            32949 non-null  float64\n",
      "dtypes: float64(7), object(2)\n",
      "memory usage: 2.3+ MB\n"
     ]
    }
   ],
   "source": [
    "products_df.info()"
   ]
  },
  {
   "cell_type": "code",
   "execution_count": 2785,
   "metadata": {},
   "outputs": [
    {
     "name": "stdout",
     "output_type": "stream",
     "text": [
      "\n",
      "Missing values in Products dataset:\n"
     ]
    },
    {
     "data": {
      "text/plain": [
       "product_id                      0\n",
       "product_category_name         610\n",
       "product_name_lenght           610\n",
       "product_description_lenght    610\n",
       "product_photos_qty            610\n",
       "product_weight_g                2\n",
       "product_length_cm               2\n",
       "product_height_cm               2\n",
       "product_width_cm                2\n",
       "dtype: int64"
      ]
     },
     "execution_count": 2785,
     "metadata": {},
     "output_type": "execute_result"
    }
   ],
   "source": [
    "print(\"\\nMissing values in Products dataset:\")\n",
    "products_df.isna().sum()"
   ]
  },
  {
   "cell_type": "code",
   "execution_count": 2786,
   "metadata": {},
   "outputs": [
    {
     "name": "stdout",
     "output_type": "stream",
     "text": [
      "Duplicates in Products dataset: 0\n"
     ]
    }
   ],
   "source": [
    "print(\"Duplicates in Products dataset:\", products_df.duplicated().sum())"
   ]
  },
  {
   "cell_type": "code",
   "execution_count": 2787,
   "metadata": {},
   "outputs": [
    {
     "data": {
      "text/plain": [
       "count    32949.00\n",
       "mean      2276.47\n",
       "std       4282.04\n",
       "min          0.00\n",
       "25%        300.00\n",
       "50%        700.00\n",
       "75%       1900.00\n",
       "max      40425.00\n",
       "Name: product_weight_g, dtype: float64"
      ]
     },
     "execution_count": 2787,
     "metadata": {},
     "output_type": "execute_result"
    }
   ],
   "source": [
    "products_df[\"product_weight_g\"].describe().round(2)"
   ]
  },
  {
   "cell_type": "markdown",
   "metadata": {},
   "source": [
    "**Insight:**\\\n",
    "Tidak ada data duplikat.\\\n",
    "Terdapat beberapa kolom memiliki nilai yang hilang.\\\n",
    "Rentang nilai `product_weight_g` cukup besar, mulai dari **0.00** hingga **40425** gram, yang menunjukkan adanya anomali pada nilai minimum. Nilai **0.00** pada berat produk tampak tidak logis."
   ]
  },
  {
   "cell_type": "markdown",
   "metadata": {},
   "source": [
    "#### Menilai Tabel `product_category_translation_df`"
   ]
  },
  {
   "cell_type": "code",
   "execution_count": 2788,
   "metadata": {},
   "outputs": [
    {
     "name": "stdout",
     "output_type": "stream",
     "text": [
      "<class 'pandas.core.frame.DataFrame'>\n",
      "RangeIndex: 71 entries, 0 to 70\n",
      "Data columns (total 2 columns):\n",
      " #   Column                         Non-Null Count  Dtype \n",
      "---  ------                         --------------  ----- \n",
      " 0   product_category_name          71 non-null     object\n",
      " 1   product_category_name_english  71 non-null     object\n",
      "dtypes: object(2)\n",
      "memory usage: 1.2+ KB\n"
     ]
    }
   ],
   "source": [
    "product_category_translation_df.info()"
   ]
  },
  {
   "cell_type": "code",
   "execution_count": 2789,
   "metadata": {},
   "outputs": [
    {
     "name": "stdout",
     "output_type": "stream",
     "text": [
      "\n",
      "Missing values in Product Category Translation dataset:\n"
     ]
    },
    {
     "data": {
      "text/plain": [
       "product_category_name            0\n",
       "product_category_name_english    0\n",
       "dtype: int64"
      ]
     },
     "execution_count": 2789,
     "metadata": {},
     "output_type": "execute_result"
    }
   ],
   "source": [
    "print(\"\\nMissing values in Product Category Translation dataset:\")\n",
    "product_category_translation_df.isna().sum()"
   ]
  },
  {
   "cell_type": "code",
   "execution_count": 2790,
   "metadata": {},
   "outputs": [
    {
     "name": "stdout",
     "output_type": "stream",
     "text": [
      "Duplicates in Product Category Translation dataset: 0\n"
     ]
    }
   ],
   "source": [
    "print(\n",
    "    \"Duplicates in Product Category Translation dataset:\",\n",
    "    product_category_translation_df.duplicated().sum(),\n",
    ")"
   ]
  },
  {
   "cell_type": "markdown",
   "metadata": {},
   "source": [
    "**Insight:**\\\n",
    "Setiap kategori produk dalam bahasa Portugis dan terjemahan bahasa Inggris, sesuai dengan jumlah total entri **(71)**.\\\n",
    "Tidak memiliki nilai yang hilang atau duplikat."
   ]
  },
  {
   "cell_type": "markdown",
   "metadata": {},
   "source": [
    "#### Menilai Tabel `order_reviews_df`"
   ]
  },
  {
   "cell_type": "code",
   "execution_count": 2791,
   "metadata": {},
   "outputs": [
    {
     "name": "stdout",
     "output_type": "stream",
     "text": [
      "<class 'pandas.core.frame.DataFrame'>\n",
      "RangeIndex: 99224 entries, 0 to 99223\n",
      "Data columns (total 7 columns):\n",
      " #   Column                   Non-Null Count  Dtype \n",
      "---  ------                   --------------  ----- \n",
      " 0   review_id                99224 non-null  object\n",
      " 1   order_id                 99224 non-null  object\n",
      " 2   review_score             99224 non-null  int64 \n",
      " 3   review_comment_title     11568 non-null  object\n",
      " 4   review_comment_message   40977 non-null  object\n",
      " 5   review_creation_date     99224 non-null  object\n",
      " 6   review_answer_timestamp  99224 non-null  object\n",
      "dtypes: int64(1), object(6)\n",
      "memory usage: 5.3+ MB\n"
     ]
    }
   ],
   "source": [
    "order_reviews_df.info()"
   ]
  },
  {
   "cell_type": "code",
   "execution_count": 2792,
   "metadata": {},
   "outputs": [
    {
     "name": "stdout",
     "output_type": "stream",
     "text": [
      "\n",
      "Missing values in Order Reviews dataset:\n"
     ]
    },
    {
     "data": {
      "text/plain": [
       "review_id                      0\n",
       "order_id                       0\n",
       "review_score                   0\n",
       "review_comment_title       87656\n",
       "review_comment_message     58247\n",
       "review_creation_date           0\n",
       "review_answer_timestamp        0\n",
       "dtype: int64"
      ]
     },
     "execution_count": 2792,
     "metadata": {},
     "output_type": "execute_result"
    }
   ],
   "source": [
    "print(\"\\nMissing values in Order Reviews dataset:\")\n",
    "order_reviews_df.isna().sum()"
   ]
  },
  {
   "cell_type": "code",
   "execution_count": 2793,
   "metadata": {},
   "outputs": [
    {
     "name": "stdout",
     "output_type": "stream",
     "text": [
      "Duplicates in Order Reviews dataset: 0\n"
     ]
    }
   ],
   "source": [
    "print(\"Duplicates in Order Reviews dataset:\", order_reviews_df.duplicated().sum())"
   ]
  },
  {
   "cell_type": "markdown",
   "metadata": {},
   "source": [
    "**Insight:**\\\n",
    "Anomali pada kolom `review_creation_date` & `review_answer_timestamp` yang bertipe data *object* (teks).\n",
    "Terdapat banyak nilai yang hilang pada entri `review_comment_title` dan `review_comment_message`.\\\n",
    "Tidak ada baris yang duplikat.\\"
   ]
  },
  {
   "cell_type": "markdown",
   "metadata": {},
   "source": [
    "#### Menilai Tabel `order_payments_df`"
   ]
  },
  {
   "cell_type": "code",
   "execution_count": 2794,
   "metadata": {},
   "outputs": [
    {
     "name": "stdout",
     "output_type": "stream",
     "text": [
      "<class 'pandas.core.frame.DataFrame'>\n",
      "RangeIndex: 103886 entries, 0 to 103885\n",
      "Data columns (total 5 columns):\n",
      " #   Column                Non-Null Count   Dtype  \n",
      "---  ------                --------------   -----  \n",
      " 0   order_id              103886 non-null  object \n",
      " 1   payment_sequential    103886 non-null  int64  \n",
      " 2   payment_type          103886 non-null  object \n",
      " 3   payment_installments  103886 non-null  int64  \n",
      " 4   payment_value         103886 non-null  float64\n",
      "dtypes: float64(1), int64(2), object(2)\n",
      "memory usage: 4.0+ MB\n"
     ]
    }
   ],
   "source": [
    "order_payments_df.info()"
   ]
  },
  {
   "cell_type": "code",
   "execution_count": 2795,
   "metadata": {},
   "outputs": [
    {
     "name": "stdout",
     "output_type": "stream",
     "text": [
      "\n",
      "Missing values in Order Payments dataset:\n"
     ]
    },
    {
     "data": {
      "text/plain": [
       "order_id                0\n",
       "payment_sequential      0\n",
       "payment_type            0\n",
       "payment_installments    0\n",
       "payment_value           0\n",
       "dtype: int64"
      ]
     },
     "execution_count": 2795,
     "metadata": {},
     "output_type": "execute_result"
    }
   ],
   "source": [
    "print(\"\\nMissing values in Order Payments dataset:\")\n",
    "order_payments_df.isna().sum()"
   ]
  },
  {
   "cell_type": "code",
   "execution_count": 2796,
   "metadata": {},
   "outputs": [
    {
     "name": "stdout",
     "output_type": "stream",
     "text": [
      "Duplicates in Order Payments dataset: 0\n"
     ]
    }
   ],
   "source": [
    "print(\"Duplicates in Order Payments dataset:\", order_payments_df.duplicated().sum())"
   ]
  },
  {
   "cell_type": "code",
   "execution_count": 2797,
   "metadata": {},
   "outputs": [
    {
     "data": {
      "text/html": [
       "<div>\n",
       "<style scoped>\n",
       "    .dataframe tbody tr th:only-of-type {\n",
       "        vertical-align: middle;\n",
       "    }\n",
       "\n",
       "    .dataframe tbody tr th {\n",
       "        vertical-align: top;\n",
       "    }\n",
       "\n",
       "    .dataframe thead th {\n",
       "        text-align: right;\n",
       "    }\n",
       "</style>\n",
       "<table border=\"1\" class=\"dataframe\">\n",
       "  <thead>\n",
       "    <tr style=\"text-align: right;\">\n",
       "      <th></th>\n",
       "      <th>payment_sequential</th>\n",
       "      <th>payment_installments</th>\n",
       "      <th>payment_value</th>\n",
       "    </tr>\n",
       "  </thead>\n",
       "  <tbody>\n",
       "    <tr>\n",
       "      <th>count</th>\n",
       "      <td>103886.000000</td>\n",
       "      <td>103886.000000</td>\n",
       "      <td>103886.000000</td>\n",
       "    </tr>\n",
       "    <tr>\n",
       "      <th>mean</th>\n",
       "      <td>1.092679</td>\n",
       "      <td>2.853349</td>\n",
       "      <td>154.100380</td>\n",
       "    </tr>\n",
       "    <tr>\n",
       "      <th>std</th>\n",
       "      <td>0.706584</td>\n",
       "      <td>2.687051</td>\n",
       "      <td>217.494064</td>\n",
       "    </tr>\n",
       "    <tr>\n",
       "      <th>min</th>\n",
       "      <td>1.000000</td>\n",
       "      <td>0.000000</td>\n",
       "      <td>0.000000</td>\n",
       "    </tr>\n",
       "    <tr>\n",
       "      <th>25%</th>\n",
       "      <td>1.000000</td>\n",
       "      <td>1.000000</td>\n",
       "      <td>56.790000</td>\n",
       "    </tr>\n",
       "    <tr>\n",
       "      <th>50%</th>\n",
       "      <td>1.000000</td>\n",
       "      <td>1.000000</td>\n",
       "      <td>100.000000</td>\n",
       "    </tr>\n",
       "    <tr>\n",
       "      <th>75%</th>\n",
       "      <td>1.000000</td>\n",
       "      <td>4.000000</td>\n",
       "      <td>171.837500</td>\n",
       "    </tr>\n",
       "    <tr>\n",
       "      <th>max</th>\n",
       "      <td>29.000000</td>\n",
       "      <td>24.000000</td>\n",
       "      <td>13664.080000</td>\n",
       "    </tr>\n",
       "  </tbody>\n",
       "</table>\n",
       "</div>"
      ],
      "text/plain": [
       "       payment_sequential  payment_installments  payment_value\n",
       "count       103886.000000         103886.000000  103886.000000\n",
       "mean             1.092679              2.853349     154.100380\n",
       "std              0.706584              2.687051     217.494064\n",
       "min              1.000000              0.000000       0.000000\n",
       "25%              1.000000              1.000000      56.790000\n",
       "50%              1.000000              1.000000     100.000000\n",
       "75%              1.000000              4.000000     171.837500\n",
       "max             29.000000             24.000000   13664.080000"
      ]
     },
     "execution_count": 2797,
     "metadata": {},
     "output_type": "execute_result"
    }
   ],
   "source": [
    "order_payments_df.describe()"
   ]
  },
  {
   "cell_type": "markdown",
   "metadata": {},
   "source": [
    "**Insight:**\\\n",
    "Tidak ada *missing values*.\\\n",
    "Tidak ada data duplikat.\\\n",
    "Pada kolom `payment_installments` dengan minimum value **0.00**, yang mungkin menunjukkan pembayaran tanpa cicilan.\\\n",
    "Pada kolom `payment_value`, nilai minimum adalah **0.00**, yang mungkin barang tersebut digratiskan atau sedang promo."
   ]
  },
  {
   "cell_type": "markdown",
   "metadata": {},
   "source": [
    "#### Menilai Tabel `order_items_df`"
   ]
  },
  {
   "cell_type": "code",
   "execution_count": 2798,
   "metadata": {},
   "outputs": [
    {
     "name": "stdout",
     "output_type": "stream",
     "text": [
      "<class 'pandas.core.frame.DataFrame'>\n",
      "RangeIndex: 112650 entries, 0 to 112649\n",
      "Data columns (total 7 columns):\n",
      " #   Column               Non-Null Count   Dtype  \n",
      "---  ------               --------------   -----  \n",
      " 0   order_id             112650 non-null  object \n",
      " 1   order_item_id        112650 non-null  int64  \n",
      " 2   product_id           112650 non-null  object \n",
      " 3   seller_id            112650 non-null  object \n",
      " 4   shipping_limit_date  112650 non-null  object \n",
      " 5   price                112650 non-null  float64\n",
      " 6   freight_value        112650 non-null  float64\n",
      "dtypes: float64(2), int64(1), object(4)\n",
      "memory usage: 6.0+ MB\n"
     ]
    }
   ],
   "source": [
    "order_items_df.info()"
   ]
  },
  {
   "cell_type": "code",
   "execution_count": 2799,
   "metadata": {},
   "outputs": [
    {
     "name": "stdout",
     "output_type": "stream",
     "text": [
      "\n",
      "Missing values in Order Items dataset:\n"
     ]
    },
    {
     "data": {
      "text/plain": [
       "order_id               0\n",
       "order_item_id          0\n",
       "product_id             0\n",
       "seller_id              0\n",
       "shipping_limit_date    0\n",
       "price                  0\n",
       "freight_value          0\n",
       "dtype: int64"
      ]
     },
     "execution_count": 2799,
     "metadata": {},
     "output_type": "execute_result"
    }
   ],
   "source": [
    "print(\"\\nMissing values in Order Items dataset:\")\n",
    "order_items_df.isna().sum()"
   ]
  },
  {
   "cell_type": "code",
   "execution_count": 2800,
   "metadata": {},
   "outputs": [
    {
     "name": "stdout",
     "output_type": "stream",
     "text": [
      "Duplicates in Order Items dataset: 0\n"
     ]
    }
   ],
   "source": [
    "print(\"Duplicates in Order Items dataset:\", order_items_df.duplicated().sum())"
   ]
  },
  {
   "cell_type": "markdown",
   "metadata": {},
   "source": [
    "**Insight:**\\\n",
    "Anomali pada kolom `shipping_limit_date` yang bertipe data *object* (teks).\\\n",
    "Tidak ada *missing values*.\\\n",
    "Tidak ada baris yang duplikat."
   ]
  },
  {
   "cell_type": "markdown",
   "metadata": {},
   "source": [
    "#### Menilai Tabel `geolocation_df`"
   ]
  },
  {
   "cell_type": "code",
   "execution_count": 2801,
   "metadata": {},
   "outputs": [
    {
     "name": "stdout",
     "output_type": "stream",
     "text": [
      "<class 'pandas.core.frame.DataFrame'>\n",
      "RangeIndex: 1000163 entries, 0 to 1000162\n",
      "Data columns (total 5 columns):\n",
      " #   Column                       Non-Null Count    Dtype  \n",
      "---  ------                       --------------    -----  \n",
      " 0   geolocation_zip_code_prefix  1000163 non-null  int64  \n",
      " 1   geolocation_lat              1000163 non-null  float64\n",
      " 2   geolocation_lng              1000163 non-null  float64\n",
      " 3   geolocation_city             1000163 non-null  object \n",
      " 4   geolocation_state            1000163 non-null  object \n",
      "dtypes: float64(2), int64(1), object(2)\n",
      "memory usage: 38.2+ MB\n"
     ]
    }
   ],
   "source": [
    "geolocation_df.info()"
   ]
  },
  {
   "cell_type": "code",
   "execution_count": 2802,
   "metadata": {},
   "outputs": [
    {
     "name": "stdout",
     "output_type": "stream",
     "text": [
      "\n",
      "Missing values in Geolocation dataset:\n"
     ]
    },
    {
     "data": {
      "text/plain": [
       "geolocation_zip_code_prefix    0\n",
       "geolocation_lat                0\n",
       "geolocation_lng                0\n",
       "geolocation_city               0\n",
       "geolocation_state              0\n",
       "dtype: int64"
      ]
     },
     "execution_count": 2802,
     "metadata": {},
     "output_type": "execute_result"
    }
   ],
   "source": [
    "print(\"\\nMissing values in Geolocation dataset:\")\n",
    "geolocation_df.isna().sum()"
   ]
  },
  {
   "cell_type": "code",
   "execution_count": 2803,
   "metadata": {},
   "outputs": [
    {
     "name": "stdout",
     "output_type": "stream",
     "text": [
      "Duplicates in Geolocation dataset: 261831\n"
     ]
    }
   ],
   "source": [
    "print(\"Duplicates in Geolocation dataset:\", geolocation_df.duplicated().sum())"
   ]
  },
  {
   "cell_type": "markdown",
   "metadata": {},
   "source": [
    "**Insight:**\\\n",
    "Tidak ada *missing values*.\\\n",
    "Terdapat **261831** baris duplikat, sekitar **26%** dari keseluruhan data."
   ]
  },
  {
   "cell_type": "markdown",
   "metadata": {},
   "source": [
    "#### Menilai Tabel `customers_df`"
   ]
  },
  {
   "cell_type": "code",
   "execution_count": 2804,
   "metadata": {},
   "outputs": [
    {
     "name": "stdout",
     "output_type": "stream",
     "text": [
      "<class 'pandas.core.frame.DataFrame'>\n",
      "RangeIndex: 99441 entries, 0 to 99440\n",
      "Data columns (total 5 columns):\n",
      " #   Column                    Non-Null Count  Dtype \n",
      "---  ------                    --------------  ----- \n",
      " 0   customer_id               99441 non-null  object\n",
      " 1   customer_unique_id        99441 non-null  object\n",
      " 2   customer_zip_code_prefix  99441 non-null  int64 \n",
      " 3   customer_city             99441 non-null  object\n",
      " 4   customer_state            99441 non-null  object\n",
      "dtypes: int64(1), object(4)\n",
      "memory usage: 3.8+ MB\n"
     ]
    }
   ],
   "source": [
    "customers_df.info()"
   ]
  },
  {
   "cell_type": "code",
   "execution_count": 2805,
   "metadata": {},
   "outputs": [
    {
     "name": "stdout",
     "output_type": "stream",
     "text": [
      "\n",
      "Missing values in Customers dataset:\n"
     ]
    },
    {
     "data": {
      "text/plain": [
       "customer_id                 0\n",
       "customer_unique_id          0\n",
       "customer_zip_code_prefix    0\n",
       "customer_city               0\n",
       "customer_state              0\n",
       "dtype: int64"
      ]
     },
     "execution_count": 2805,
     "metadata": {},
     "output_type": "execute_result"
    }
   ],
   "source": [
    "print(\"\\nMissing values in Customers dataset:\")\n",
    "customers_df.isna().sum()"
   ]
  },
  {
   "cell_type": "code",
   "execution_count": 2806,
   "metadata": {},
   "outputs": [
    {
     "name": "stdout",
     "output_type": "stream",
     "text": [
      "Duplicates in Customers dataset: 0\n"
     ]
    }
   ],
   "source": [
    "print(\"Duplicates in Customers dataset:\", customers_df.duplicated().sum())"
   ]
  },
  {
   "cell_type": "markdown",
   "metadata": {},
   "source": [
    "**Insight:**\\\n",
    "Tidak ada anomali tipe data.\\\n",
    "Tidak ada *missing values*.\\\n",
    "Tidak ada baris yang duplikat."
   ]
  },
  {
   "cell_type": "markdown",
   "metadata": {},
   "source": [
    "#### Menilai Tabel `sellers_df`"
   ]
  },
  {
   "cell_type": "code",
   "execution_count": 2807,
   "metadata": {},
   "outputs": [
    {
     "name": "stdout",
     "output_type": "stream",
     "text": [
      "<class 'pandas.core.frame.DataFrame'>\n",
      "RangeIndex: 3095 entries, 0 to 3094\n",
      "Data columns (total 4 columns):\n",
      " #   Column                  Non-Null Count  Dtype \n",
      "---  ------                  --------------  ----- \n",
      " 0   seller_id               3095 non-null   object\n",
      " 1   seller_zip_code_prefix  3095 non-null   int64 \n",
      " 2   seller_city             3095 non-null   object\n",
      " 3   seller_state            3095 non-null   object\n",
      "dtypes: int64(1), object(3)\n",
      "memory usage: 96.8+ KB\n"
     ]
    }
   ],
   "source": [
    "sellers_df.info()"
   ]
  },
  {
   "cell_type": "code",
   "execution_count": 2808,
   "metadata": {},
   "outputs": [
    {
     "name": "stdout",
     "output_type": "stream",
     "text": [
      "\n",
      "Missing values in Sellers dataset:\n"
     ]
    },
    {
     "data": {
      "text/plain": [
       "seller_id                 0\n",
       "seller_zip_code_prefix    0\n",
       "seller_city               0\n",
       "seller_state              0\n",
       "dtype: int64"
      ]
     },
     "execution_count": 2808,
     "metadata": {},
     "output_type": "execute_result"
    }
   ],
   "source": [
    "print(\"\\nMissing values in Sellers dataset:\")\n",
    "sellers_df.isna().sum()"
   ]
  },
  {
   "cell_type": "code",
   "execution_count": 2809,
   "metadata": {},
   "outputs": [
    {
     "name": "stdout",
     "output_type": "stream",
     "text": [
      "Duplicates in Sellers dataset: 0\n"
     ]
    }
   ],
   "source": [
    "print(\"Duplicates in Sellers dataset:\", sellers_df.duplicated().sum())"
   ]
  },
  {
   "cell_type": "markdown",
   "metadata": {},
   "source": [
    "**Insight:**\\\n",
    "Tidak ada anomali tipe data.\\\n",
    "Tidak ada *missing values.*\\\n",
    "Tidak ada bairs yang duplikat."
   ]
  },
  {
   "cell_type": "markdown",
   "metadata": {},
   "source": [
    "#### Menilai Tabel `orders_df`"
   ]
  },
  {
   "cell_type": "code",
   "execution_count": 2810,
   "metadata": {},
   "outputs": [
    {
     "name": "stdout",
     "output_type": "stream",
     "text": [
      "<class 'pandas.core.frame.DataFrame'>\n",
      "RangeIndex: 99441 entries, 0 to 99440\n",
      "Data columns (total 8 columns):\n",
      " #   Column                         Non-Null Count  Dtype \n",
      "---  ------                         --------------  ----- \n",
      " 0   order_id                       99441 non-null  object\n",
      " 1   customer_id                    99441 non-null  object\n",
      " 2   order_status                   99441 non-null  object\n",
      " 3   order_purchase_timestamp       99441 non-null  object\n",
      " 4   order_approved_at              99281 non-null  object\n",
      " 5   order_delivered_carrier_date   97658 non-null  object\n",
      " 6   order_delivered_customer_date  96476 non-null  object\n",
      " 7   order_estimated_delivery_date  99441 non-null  object\n",
      "dtypes: object(8)\n",
      "memory usage: 6.1+ MB\n"
     ]
    }
   ],
   "source": [
    "orders_df.info()"
   ]
  },
  {
   "cell_type": "code",
   "execution_count": 2811,
   "metadata": {},
   "outputs": [
    {
     "name": "stdout",
     "output_type": "stream",
     "text": [
      "Duplicates in Orders dataset: 0\n"
     ]
    }
   ],
   "source": [
    "print(\"Duplicates in Orders dataset:\", orders_df.duplicated().sum())"
   ]
  },
  {
   "cell_type": "code",
   "execution_count": 2812,
   "metadata": {},
   "outputs": [
    {
     "name": "stdout",
     "output_type": "stream",
     "text": [
      "\n",
      "Missing values in Orders dataset:\n"
     ]
    },
    {
     "data": {
      "text/plain": [
       "order_id                            0\n",
       "customer_id                         0\n",
       "order_status                        0\n",
       "order_purchase_timestamp            0\n",
       "order_approved_at                 160\n",
       "order_delivered_carrier_date     1783\n",
       "order_delivered_customer_date    2965\n",
       "order_estimated_delivery_date       0\n",
       "dtype: int64"
      ]
     },
     "execution_count": 2812,
     "metadata": {},
     "output_type": "execute_result"
    }
   ],
   "source": [
    "print(\"\\nMissing values in Orders dataset:\")\n",
    "orders_df.isna().sum()"
   ]
  },
  {
   "cell_type": "markdown",
   "metadata": {},
   "source": [
    "**Insight:**\\\n",
    "Anomali pada kolom `order_purchase_timestamp`, `order_approved_at`, `order_delivered_carrier_date`, `order_delivered_customer_date`, dan `order_estimated_delivery_date` dengan tipe data *object* (teks).\\\n",
    "Tidak ada baris yang duplikat.\\\n",
    "Nilai-nilai yang hilang pada dataset berkaitan dengan tahapan proses pesanan, yang bisa disebabkan oleh pesanan yang belum selesai atau pembatalan.\\"
   ]
  },
  {
   "cell_type": "markdown",
   "metadata": {
    "id": "EhN5R4hr8DC1"
   },
   "source": [
    "### Cleaning Data"
   ]
  },
  {
   "cell_type": "markdown",
   "metadata": {},
   "source": [
    "#### Membersihkan Tabel `products_df`"
   ]
  },
  {
   "cell_type": "code",
   "execution_count": 2813,
   "metadata": {},
   "outputs": [
    {
     "name": "stdout",
     "output_type": "stream",
     "text": [
      "<class 'pandas.core.frame.DataFrame'>\n",
      "RangeIndex: 32951 entries, 0 to 32950\n",
      "Data columns (total 9 columns):\n",
      " #   Column                      Non-Null Count  Dtype  \n",
      "---  ------                      --------------  -----  \n",
      " 0   product_id                  32951 non-null  object \n",
      " 1   product_category_name       32341 non-null  object \n",
      " 2   product_name_lenght         32341 non-null  float64\n",
      " 3   product_description_lenght  32341 non-null  float64\n",
      " 4   product_photos_qty          32341 non-null  float64\n",
      " 5   product_weight_g            32949 non-null  float64\n",
      " 6   product_length_cm           32949 non-null  float64\n",
      " 7   product_height_cm           32949 non-null  float64\n",
      " 8   product_width_cm            32949 non-null  float64\n",
      "dtypes: float64(7), object(2)\n",
      "memory usage: 2.3+ MB\n"
     ]
    }
   ],
   "source": [
    "products_df.info()"
   ]
  },
  {
   "cell_type": "code",
   "execution_count": 2814,
   "metadata": {},
   "outputs": [
    {
     "name": "stdout",
     "output_type": "stream",
     "text": [
      "\n",
      "Missing values in Products dataset:\n"
     ]
    },
    {
     "data": {
      "text/plain": [
       "product_id                      0\n",
       "product_category_name         610\n",
       "product_name_lenght           610\n",
       "product_description_lenght    610\n",
       "product_photos_qty            610\n",
       "product_weight_g                2\n",
       "product_length_cm               2\n",
       "product_height_cm               2\n",
       "product_width_cm                2\n",
       "dtype: int64"
      ]
     },
     "execution_count": 2814,
     "metadata": {},
     "output_type": "execute_result"
    }
   ],
   "source": [
    "print(\"\\nMissing values in Products dataset:\")\n",
    "products_df.isna().sum()"
   ]
  },
  {
   "cell_type": "markdown",
   "metadata": {},
   "source": [
    "<div class=\"alert alert-block alert-info\"><b>Fixing: </b> Missing Values</div> "
   ]
  },
  {
   "cell_type": "code",
   "execution_count": 2815,
   "metadata": {},
   "outputs": [
    {
     "data": {
      "text/html": [
       "<div>\n",
       "<style scoped>\n",
       "    .dataframe tbody tr th:only-of-type {\n",
       "        vertical-align: middle;\n",
       "    }\n",
       "\n",
       "    .dataframe tbody tr th {\n",
       "        vertical-align: top;\n",
       "    }\n",
       "\n",
       "    .dataframe thead th {\n",
       "        text-align: right;\n",
       "    }\n",
       "</style>\n",
       "<table border=\"1\" class=\"dataframe\">\n",
       "  <thead>\n",
       "    <tr style=\"text-align: right;\">\n",
       "      <th></th>\n",
       "      <th>product_id</th>\n",
       "      <th>product_category_name</th>\n",
       "      <th>product_name_lenght</th>\n",
       "      <th>product_description_lenght</th>\n",
       "      <th>product_photos_qty</th>\n",
       "      <th>product_weight_g</th>\n",
       "      <th>product_length_cm</th>\n",
       "      <th>product_height_cm</th>\n",
       "      <th>product_width_cm</th>\n",
       "    </tr>\n",
       "  </thead>\n",
       "  <tbody>\n",
       "    <tr>\n",
       "      <th>105</th>\n",
       "      <td>a41e356c76fab66334f36de622ecbd3a</td>\n",
       "      <td>NaN</td>\n",
       "      <td>NaN</td>\n",
       "      <td>NaN</td>\n",
       "      <td>NaN</td>\n",
       "      <td>650.0</td>\n",
       "      <td>17.0</td>\n",
       "      <td>14.0</td>\n",
       "      <td>12.0</td>\n",
       "    </tr>\n",
       "    <tr>\n",
       "      <th>128</th>\n",
       "      <td>d8dee61c2034d6d075997acef1870e9b</td>\n",
       "      <td>NaN</td>\n",
       "      <td>NaN</td>\n",
       "      <td>NaN</td>\n",
       "      <td>NaN</td>\n",
       "      <td>300.0</td>\n",
       "      <td>16.0</td>\n",
       "      <td>7.0</td>\n",
       "      <td>20.0</td>\n",
       "    </tr>\n",
       "    <tr>\n",
       "      <th>145</th>\n",
       "      <td>56139431d72cd51f19eb9f7dae4d1617</td>\n",
       "      <td>NaN</td>\n",
       "      <td>NaN</td>\n",
       "      <td>NaN</td>\n",
       "      <td>NaN</td>\n",
       "      <td>200.0</td>\n",
       "      <td>20.0</td>\n",
       "      <td>20.0</td>\n",
       "      <td>20.0</td>\n",
       "    </tr>\n",
       "    <tr>\n",
       "      <th>154</th>\n",
       "      <td>46b48281eb6d663ced748f324108c733</td>\n",
       "      <td>NaN</td>\n",
       "      <td>NaN</td>\n",
       "      <td>NaN</td>\n",
       "      <td>NaN</td>\n",
       "      <td>18500.0</td>\n",
       "      <td>41.0</td>\n",
       "      <td>30.0</td>\n",
       "      <td>41.0</td>\n",
       "    </tr>\n",
       "    <tr>\n",
       "      <th>197</th>\n",
       "      <td>5fb61f482620cb672f5e586bb132eae9</td>\n",
       "      <td>NaN</td>\n",
       "      <td>NaN</td>\n",
       "      <td>NaN</td>\n",
       "      <td>NaN</td>\n",
       "      <td>300.0</td>\n",
       "      <td>35.0</td>\n",
       "      <td>7.0</td>\n",
       "      <td>12.0</td>\n",
       "    </tr>\n",
       "  </tbody>\n",
       "</table>\n",
       "</div>"
      ],
      "text/plain": [
       "                           product_id product_category_name  \\\n",
       "105  a41e356c76fab66334f36de622ecbd3a                   NaN   \n",
       "128  d8dee61c2034d6d075997acef1870e9b                   NaN   \n",
       "145  56139431d72cd51f19eb9f7dae4d1617                   NaN   \n",
       "154  46b48281eb6d663ced748f324108c733                   NaN   \n",
       "197  5fb61f482620cb672f5e586bb132eae9                   NaN   \n",
       "\n",
       "     product_name_lenght  product_description_lenght  product_photos_qty  \\\n",
       "105                  NaN                         NaN                 NaN   \n",
       "128                  NaN                         NaN                 NaN   \n",
       "145                  NaN                         NaN                 NaN   \n",
       "154                  NaN                         NaN                 NaN   \n",
       "197                  NaN                         NaN                 NaN   \n",
       "\n",
       "     product_weight_g  product_length_cm  product_height_cm  product_width_cm  \n",
       "105             650.0               17.0               14.0              12.0  \n",
       "128             300.0               16.0                7.0              20.0  \n",
       "145             200.0               20.0               20.0              20.0  \n",
       "154           18500.0               41.0               30.0              41.0  \n",
       "197             300.0               35.0                7.0              12.0  "
      ]
     },
     "execution_count": 2815,
     "metadata": {},
     "output_type": "execute_result"
    }
   ],
   "source": [
    "missing_values = products_df[products_df.isna().any(axis=1)]\n",
    "missing_values.head()"
   ]
  },
  {
   "cell_type": "code",
   "execution_count": 2816,
   "metadata": {
    "id": "jVnYpprE9Evz"
   },
   "outputs": [],
   "source": [
    "# Fill missing values in 'product_category_name' with 'unknown'\n",
    "products_df.loc[:, \"product_category_name\"] = products_df[\n",
    "    \"product_category_name\"\n",
    "].fillna(\"unknown\")"
   ]
  },
  {
   "cell_type": "code",
   "execution_count": 2817,
   "metadata": {},
   "outputs": [
    {
     "name": "stdout",
     "output_type": "stream",
     "text": [
      "Number of rows with 'unknown' entries in 'product_category_name': 610\n"
     ]
    }
   ],
   "source": [
    "unknown_count = products_df[products_df[\"product_category_name\"] == \"unknown\"].shape[0]\n",
    "print(\n",
    "    f\"Number of rows with 'unknown' entries in 'product_category_name': {unknown_count}\"\n",
    ")"
   ]
  },
  {
   "cell_type": "code",
   "execution_count": 2818,
   "metadata": {},
   "outputs": [
    {
     "name": "stdout",
     "output_type": "stream",
     "text": [
      "Product weight statistics:\n",
      "\n"
     ]
    },
    {
     "data": {
      "text/plain": [
       "count    32949.00\n",
       "mean      2276.47\n",
       "std       4282.04\n",
       "min          0.00\n",
       "25%        300.00\n",
       "50%        700.00\n",
       "75%       1900.00\n",
       "max      40425.00\n",
       "Name: product_weight_g, dtype: float64"
      ]
     },
     "execution_count": 2818,
     "metadata": {},
     "output_type": "execute_result"
    }
   ],
   "source": [
    "print(\"Product weight statistics:\\n\")\n",
    "products_df[\"product_weight_g\"].describe().round(2)"
   ]
  },
  {
   "cell_type": "code",
   "execution_count": 2819,
   "metadata": {},
   "outputs": [
    {
     "data": {
      "text/html": [
       "<div>\n",
       "<style scoped>\n",
       "    .dataframe tbody tr th:only-of-type {\n",
       "        vertical-align: middle;\n",
       "    }\n",
       "\n",
       "    .dataframe tbody tr th {\n",
       "        vertical-align: top;\n",
       "    }\n",
       "\n",
       "    .dataframe thead th {\n",
       "        text-align: right;\n",
       "    }\n",
       "</style>\n",
       "<table border=\"1\" class=\"dataframe\">\n",
       "  <thead>\n",
       "    <tr style=\"text-align: right;\">\n",
       "      <th></th>\n",
       "      <th>product_id</th>\n",
       "      <th>product_category_name</th>\n",
       "      <th>product_weight_g</th>\n",
       "    </tr>\n",
       "  </thead>\n",
       "  <tbody>\n",
       "    <tr>\n",
       "      <th>9769</th>\n",
       "      <td>81781c0fed9fe1ad6e8c81fca1e1cb08</td>\n",
       "      <td>cama_mesa_banho</td>\n",
       "      <td>0.0</td>\n",
       "    </tr>\n",
       "    <tr>\n",
       "      <th>13683</th>\n",
       "      <td>8038040ee2a71048d4bdbbdc985b69ab</td>\n",
       "      <td>cama_mesa_banho</td>\n",
       "      <td>0.0</td>\n",
       "    </tr>\n",
       "    <tr>\n",
       "      <th>14997</th>\n",
       "      <td>36ba42dd187055e1fbe943b2d11430ca</td>\n",
       "      <td>cama_mesa_banho</td>\n",
       "      <td>0.0</td>\n",
       "    </tr>\n",
       "    <tr>\n",
       "      <th>32079</th>\n",
       "      <td>e673e90efa65a5409ff4196c038bb5af</td>\n",
       "      <td>cama_mesa_banho</td>\n",
       "      <td>0.0</td>\n",
       "    </tr>\n",
       "  </tbody>\n",
       "</table>\n",
       "</div>"
      ],
      "text/plain": [
       "                             product_id product_category_name  \\\n",
       "9769   81781c0fed9fe1ad6e8c81fca1e1cb08       cama_mesa_banho   \n",
       "13683  8038040ee2a71048d4bdbbdc985b69ab       cama_mesa_banho   \n",
       "14997  36ba42dd187055e1fbe943b2d11430ca       cama_mesa_banho   \n",
       "32079  e673e90efa65a5409ff4196c038bb5af       cama_mesa_banho   \n",
       "\n",
       "       product_weight_g  \n",
       "9769                0.0  \n",
       "13683               0.0  \n",
       "14997               0.0  \n",
       "32079               0.0  "
      ]
     },
     "execution_count": 2819,
     "metadata": {},
     "output_type": "execute_result"
    }
   ],
   "source": [
    "# Product weight with value 0\n",
    "products_df.loc[\n",
    "    products_df[\"product_weight_g\"] == 0,\n",
    "    [\"product_id\", \"product_category_name\", \"product_weight_g\"],\n",
    "]"
   ]
  },
  {
   "cell_type": "code",
   "execution_count": 2820,
   "metadata": {},
   "outputs": [],
   "source": [
    "cama_mesa_banho_df = products_df[\n",
    "    products_df[\"product_category_name\"] == \"cama_mesa_banho\"\n",
    "]\n",
    "\n",
    "# Replace the value 0 in the 'product_weight_g' column for the cama_mesa_banho cateogry with its median\n",
    "products_df.loc[\n",
    "    (products_df[\"product_category_name\"] == \"cama_mesa_banho\")\n",
    "    & (products_df[\"product_weight_g\"] == 0),\n",
    "    \"product_weight_g\",\n",
    "] = cama_mesa_banho_df[\"product_weight_g\"].median()"
   ]
  },
  {
   "cell_type": "code",
   "execution_count": 2821,
   "metadata": {},
   "outputs": [
    {
     "name": "stdout",
     "output_type": "stream",
     "text": [
      "Product weight statistics:\n",
      "\n"
     ]
    },
    {
     "data": {
      "text/plain": [
       "count    32949.00\n",
       "mean      2276.62\n",
       "std       4281.98\n",
       "min          2.00\n",
       "25%        300.00\n",
       "50%        700.00\n",
       "75%       1900.00\n",
       "max      40425.00\n",
       "Name: product_weight_g, dtype: float64"
      ]
     },
     "execution_count": 2821,
     "metadata": {},
     "output_type": "execute_result"
    }
   ],
   "source": [
    "print(\"Product weight statistics:\\n\")\n",
    "products_df[\"product_weight_g\"].describe().round(2)"
   ]
  },
  {
   "cell_type": "code",
   "execution_count": 2822,
   "metadata": {},
   "outputs": [],
   "source": [
    "# Fill missing values in `product_name_length`, `product_description_length`, and `product_photos_qty` with their mean values\n",
    "products_df[\"product_name_lenght\"] = products_df[\"product_name_lenght\"].fillna(\n",
    "    products_df[\"product_name_lenght\"].mean().round(2)\n",
    ")\n",
    "\n",
    "products_df[\"product_description_lenght\"] = products_df[\n",
    "    \"product_description_lenght\"\n",
    "].fillna(products_df[\"product_description_lenght\"].mean().round(2))\n",
    "\n",
    "products_df[\"product_photos_qty\"] = products_df[\"product_photos_qty\"].fillna(\n",
    "    products_df[\"product_photos_qty\"].mean().round(2)\n",
    ")"
   ]
  },
  {
   "cell_type": "code",
   "execution_count": 2823,
   "metadata": {},
   "outputs": [
    {
     "name": "stdout",
     "output_type": "stream",
     "text": [
      "\n",
      "Missing values in Products dataset:\n"
     ]
    },
    {
     "data": {
      "text/plain": [
       "product_id                    0\n",
       "product_category_name         0\n",
       "product_name_lenght           0\n",
       "product_description_lenght    0\n",
       "product_photos_qty            0\n",
       "product_weight_g              2\n",
       "product_length_cm             2\n",
       "product_height_cm             2\n",
       "product_width_cm              2\n",
       "dtype: int64"
      ]
     },
     "execution_count": 2823,
     "metadata": {},
     "output_type": "execute_result"
    }
   ],
   "source": [
    "print(\"\\nMissing values in Products dataset:\")\n",
    "products_df.isna().sum()"
   ]
  },
  {
   "cell_type": "code",
   "execution_count": 2824,
   "metadata": {},
   "outputs": [
    {
     "data": {
      "text/html": [
       "<div>\n",
       "<style scoped>\n",
       "    .dataframe tbody tr th:only-of-type {\n",
       "        vertical-align: middle;\n",
       "    }\n",
       "\n",
       "    .dataframe tbody tr th {\n",
       "        vertical-align: top;\n",
       "    }\n",
       "\n",
       "    .dataframe thead th {\n",
       "        text-align: right;\n",
       "    }\n",
       "</style>\n",
       "<table border=\"1\" class=\"dataframe\">\n",
       "  <thead>\n",
       "    <tr style=\"text-align: right;\">\n",
       "      <th></th>\n",
       "      <th>product_id</th>\n",
       "      <th>product_category_name</th>\n",
       "      <th>product_name_lenght</th>\n",
       "      <th>product_description_lenght</th>\n",
       "      <th>product_photos_qty</th>\n",
       "      <th>product_weight_g</th>\n",
       "      <th>product_length_cm</th>\n",
       "      <th>product_height_cm</th>\n",
       "      <th>product_width_cm</th>\n",
       "    </tr>\n",
       "  </thead>\n",
       "  <tbody>\n",
       "    <tr>\n",
       "      <th>8578</th>\n",
       "      <td>09ff539a621711667c43eba6a3bd8466</td>\n",
       "      <td>bebes</td>\n",
       "      <td>60.00</td>\n",
       "      <td>865.0</td>\n",
       "      <td>3.00</td>\n",
       "      <td>NaN</td>\n",
       "      <td>NaN</td>\n",
       "      <td>NaN</td>\n",
       "      <td>NaN</td>\n",
       "    </tr>\n",
       "    <tr>\n",
       "      <th>18851</th>\n",
       "      <td>5eb564652db742ff8f28759cd8d2652a</td>\n",
       "      <td>unknown</td>\n",
       "      <td>48.48</td>\n",
       "      <td>771.5</td>\n",
       "      <td>2.19</td>\n",
       "      <td>NaN</td>\n",
       "      <td>NaN</td>\n",
       "      <td>NaN</td>\n",
       "      <td>NaN</td>\n",
       "    </tr>\n",
       "  </tbody>\n",
       "</table>\n",
       "</div>"
      ],
      "text/plain": [
       "                             product_id product_category_name  \\\n",
       "8578   09ff539a621711667c43eba6a3bd8466                 bebes   \n",
       "18851  5eb564652db742ff8f28759cd8d2652a               unknown   \n",
       "\n",
       "       product_name_lenght  product_description_lenght  product_photos_qty  \\\n",
       "8578                 60.00                       865.0                3.00   \n",
       "18851                48.48                       771.5                2.19   \n",
       "\n",
       "       product_weight_g  product_length_cm  product_height_cm  \\\n",
       "8578                NaN                NaN                NaN   \n",
       "18851               NaN                NaN                NaN   \n",
       "\n",
       "       product_width_cm  \n",
       "8578                NaN  \n",
       "18851               NaN  "
      ]
     },
     "execution_count": 2824,
     "metadata": {},
     "output_type": "execute_result"
    }
   ],
   "source": [
    "missing_rows = products_df[\n",
    "    products_df[\n",
    "        [\n",
    "            \"product_weight_g\",\n",
    "            \"product_name_lenght\",\n",
    "            \"product_height_cm\",\n",
    "            \"product_width_cm\",\n",
    "        ]\n",
    "    ]\n",
    "    .isna()\n",
    "    .any(axis=1)\n",
    "]\n",
    "\n",
    "missing_rows"
   ]
  },
  {
   "cell_type": "code",
   "execution_count": 2825,
   "metadata": {},
   "outputs": [],
   "source": [
    "columns_to_fill = [\n",
    "    \"product_weight_g\",\n",
    "    \"product_length_cm\",\n",
    "    \"product_height_cm\",\n",
    "    \"product_width_cm\",\n",
    "]\n",
    "\n",
    "# Specify the category for which you want to fill the NaN value\n",
    "categories = [\"bebes\", \"unknown\"]\n",
    "\n",
    "# Process for each category\n",
    "for category in categories:\n",
    "    for column in columns_to_fill:\n",
    "        products_df.loc[\n",
    "            products_df[\"product_category_name\"] == category, column\n",
    "        ] = products_df[products_df[\"product_category_name\"] == category][\n",
    "            column\n",
    "        ].fillna(\n",
    "            products_df[products_df[\"product_category_name\"] == category][column]\n",
    "            .mean()\n",
    "            .round(2)\n",
    "        )"
   ]
  },
  {
   "cell_type": "code",
   "execution_count": 2826,
   "metadata": {},
   "outputs": [
    {
     "name": "stdout",
     "output_type": "stream",
     "text": [
      "<class 'pandas.core.frame.DataFrame'>\n",
      "RangeIndex: 32951 entries, 0 to 32950\n",
      "Data columns (total 9 columns):\n",
      " #   Column                      Non-Null Count  Dtype  \n",
      "---  ------                      --------------  -----  \n",
      " 0   product_id                  32951 non-null  object \n",
      " 1   product_category_name       32951 non-null  object \n",
      " 2   product_name_lenght         32951 non-null  float64\n",
      " 3   product_description_lenght  32951 non-null  float64\n",
      " 4   product_photos_qty          32951 non-null  float64\n",
      " 5   product_weight_g            32951 non-null  float64\n",
      " 6   product_length_cm           32951 non-null  float64\n",
      " 7   product_height_cm           32951 non-null  float64\n",
      " 8   product_width_cm            32951 non-null  float64\n",
      "dtypes: float64(7), object(2)\n",
      "memory usage: 2.3+ MB\n"
     ]
    }
   ],
   "source": [
    "products_df.info()"
   ]
  },
  {
   "cell_type": "markdown",
   "metadata": {
    "id": "Q_5ejIqckiSP"
   },
   "source": [
    "**Insigth:**\\\n",
    "*Missing values* sebanyak **610** pada `product_category_name` berhasil diisi dengan nama kategori produk 'unknown' karena hilangnya informasi pada dataset.\\\n",
    "*Missing values* sebanyak **610** pada [`product_name_length`, `product_description_length`, `product_photos_qty`] berhasil diisi dengan nilai *mean*  dari masing-masing kolom mereka.\n",
    "\n",
    "Nilai *NaN* di kolom `product_weight_g`, `product_length_cm`, `product_height_cm`, dan `product_width_cm` untuk kategori 'bebes' dan 'unknown' telah diisi menggunakan rata-rata (mean) masing-masing kolom untuk setiap kategori. Pendekatan ini memastikan bahwa setiap kategori produk memiliki nilai yang lebih representatif dibanding menggunakan satu nilai median atau mean secara keseluruhan.\n",
    "\n",
    "Rentang berat produk `product_weight_g` yang dimulai dari **0.00** hingga **40425** gram, menunjukkan adanya anomali dengan adanya berat produk sebesar **0.00** gram yang telah digantikan dengan nilai *median*."
   ]
  },
  {
   "cell_type": "markdown",
   "metadata": {},
   "source": [
    "#### Membersihkan Tabel `order_reviews.df`"
   ]
  },
  {
   "cell_type": "code",
   "execution_count": 2827,
   "metadata": {},
   "outputs": [
    {
     "name": "stdout",
     "output_type": "stream",
     "text": [
      "<class 'pandas.core.frame.DataFrame'>\n",
      "RangeIndex: 99224 entries, 0 to 99223\n",
      "Data columns (total 7 columns):\n",
      " #   Column                   Non-Null Count  Dtype \n",
      "---  ------                   --------------  ----- \n",
      " 0   review_id                99224 non-null  object\n",
      " 1   order_id                 99224 non-null  object\n",
      " 2   review_score             99224 non-null  int64 \n",
      " 3   review_comment_title     11568 non-null  object\n",
      " 4   review_comment_message   40977 non-null  object\n",
      " 5   review_creation_date     99224 non-null  object\n",
      " 6   review_answer_timestamp  99224 non-null  object\n",
      "dtypes: int64(1), object(6)\n",
      "memory usage: 5.3+ MB\n"
     ]
    }
   ],
   "source": [
    "order_reviews_df.info()"
   ]
  },
  {
   "cell_type": "markdown",
   "metadata": {},
   "source": [
    "<div class=\"alert alert-block alert-info\"><b>Fixing: </b> Data Types</div> "
   ]
  },
  {
   "cell_type": "code",
   "execution_count": 2828,
   "metadata": {},
   "outputs": [
    {
     "data": {
      "text/plain": [
       "review_creation_date       object\n",
       "review_answer_timestamp    object\n",
       "dtype: object"
      ]
     },
     "execution_count": 2828,
     "metadata": {},
     "output_type": "execute_result"
    }
   ],
   "source": [
    "order_reviews_df[[\"review_creation_date\", \"review_answer_timestamp\"]].dtypes"
   ]
  },
  {
   "cell_type": "code",
   "execution_count": 2829,
   "metadata": {},
   "outputs": [
    {
     "data": {
      "text/plain": [
       "review_creation_date       datetime64[ns]\n",
       "review_answer_timestamp    datetime64[ns]\n",
       "dtype: object"
      ]
     },
     "execution_count": 2829,
     "metadata": {},
     "output_type": "execute_result"
    }
   ],
   "source": [
    "order_reviews_df[\"review_creation_date\"] = pd.to_datetime(\n",
    "    order_reviews_df[\"review_creation_date\"]\n",
    ")\n",
    "order_reviews_df[\"review_answer_timestamp\"] = pd.to_datetime(\n",
    "    order_reviews_df[\"review_answer_timestamp\"]\n",
    ")\n",
    "\n",
    "order_reviews_df[[\"review_creation_date\", \"review_answer_timestamp\"]].dtypes"
   ]
  },
  {
   "cell_type": "markdown",
   "metadata": {},
   "source": [
    "**Insight:**\\\n",
    "Kolom `review_creation_date` dan `review_answer_timestamp` telah dikonversi menjadi *datetime*."
   ]
  },
  {
   "cell_type": "markdown",
   "metadata": {},
   "source": [
    "<div class=\"alert alert-block alert-info\"><b>Fixing: </b> Missing Values</div> "
   ]
  },
  {
   "cell_type": "code",
   "execution_count": 2830,
   "metadata": {},
   "outputs": [
    {
     "name": "stdout",
     "output_type": "stream",
     "text": [
      "\n",
      "Missing values in Order Reviews dataset:\n",
      "\n",
      "review_id                      0\n",
      "order_id                       0\n",
      "review_score                   0\n",
      "review_comment_title       87656\n",
      "review_comment_message     58247\n",
      "review_creation_date           0\n",
      "review_answer_timestamp        0\n",
      "dtype: int64\n"
     ]
    }
   ],
   "source": [
    "print(\"\\nMissing values in Order Reviews dataset:\\n\")\n",
    "print(order_reviews_df.isna().sum())"
   ]
  },
  {
   "cell_type": "code",
   "execution_count": 2831,
   "metadata": {},
   "outputs": [
    {
     "data": {
      "text/html": [
       "<div>\n",
       "<style scoped>\n",
       "    .dataframe tbody tr th:only-of-type {\n",
       "        vertical-align: middle;\n",
       "    }\n",
       "\n",
       "    .dataframe tbody tr th {\n",
       "        vertical-align: top;\n",
       "    }\n",
       "\n",
       "    .dataframe thead th {\n",
       "        text-align: right;\n",
       "    }\n",
       "</style>\n",
       "<table border=\"1\" class=\"dataframe\">\n",
       "  <thead>\n",
       "    <tr style=\"text-align: right;\">\n",
       "      <th></th>\n",
       "      <th>review_id</th>\n",
       "      <th>order_id</th>\n",
       "      <th>review_score</th>\n",
       "      <th>review_comment_title</th>\n",
       "      <th>review_comment_message</th>\n",
       "      <th>review_creation_date</th>\n",
       "      <th>review_answer_timestamp</th>\n",
       "    </tr>\n",
       "  </thead>\n",
       "  <tbody>\n",
       "    <tr>\n",
       "      <th>97359</th>\n",
       "      <td>8edd0fafd93d51e034ba3c9e68552cf2</td>\n",
       "      <td>9f0c24c74a6da307a862a27b63886f1c</td>\n",
       "      <td>5</td>\n",
       "      <td>empty</td>\n",
       "      <td>Tudo dentro do previsto.</td>\n",
       "      <td>2018-01-19</td>\n",
       "      <td>2018-02-14 13:15:53</td>\n",
       "    </tr>\n",
       "    <tr>\n",
       "      <th>66840</th>\n",
       "      <td>6cddbe204d2cfe1f9d39d11cceb2506b</td>\n",
       "      <td>f833a0260cb98fa615a517d4e4a8cdf3</td>\n",
       "      <td>5</td>\n",
       "      <td>empty</td>\n",
       "      <td>Excelente aquisicao</td>\n",
       "      <td>2017-05-11</td>\n",
       "      <td>2017-05-13 03:46:08</td>\n",
       "    </tr>\n",
       "    <tr>\n",
       "      <th>40111</th>\n",
       "      <td>44f9c0b307a9ba9bac7a10443ce25b97</td>\n",
       "      <td>ed4702d5c64be8a78291b25080218bea</td>\n",
       "      <td>4</td>\n",
       "      <td>empty</td>\n",
       "      <td>empty</td>\n",
       "      <td>2018-05-17</td>\n",
       "      <td>2018-05-21 12:03:27</td>\n",
       "    </tr>\n",
       "    <tr>\n",
       "      <th>12097</th>\n",
       "      <td>5d19d9c423175b2a110a222c845bac83</td>\n",
       "      <td>9039bf11d9ef8467d23a4cfbc162653e</td>\n",
       "      <td>5</td>\n",
       "      <td>empty</td>\n",
       "      <td>empty</td>\n",
       "      <td>2017-11-07</td>\n",
       "      <td>2017-11-07 14:55:22</td>\n",
       "    </tr>\n",
       "    <tr>\n",
       "      <th>65109</th>\n",
       "      <td>365f4eada207645c155f471623b7e084</td>\n",
       "      <td>f8207caf0d0b8d07ebb64c397a72793a</td>\n",
       "      <td>5</td>\n",
       "      <td>empty</td>\n",
       "      <td>empty</td>\n",
       "      <td>2017-07-23</td>\n",
       "      <td>2017-07-23 19:42:41</td>\n",
       "    </tr>\n",
       "  </tbody>\n",
       "</table>\n",
       "</div>"
      ],
      "text/plain": [
       "                              review_id                          order_id  \\\n",
       "97359  8edd0fafd93d51e034ba3c9e68552cf2  9f0c24c74a6da307a862a27b63886f1c   \n",
       "66840  6cddbe204d2cfe1f9d39d11cceb2506b  f833a0260cb98fa615a517d4e4a8cdf3   \n",
       "40111  44f9c0b307a9ba9bac7a10443ce25b97  ed4702d5c64be8a78291b25080218bea   \n",
       "12097  5d19d9c423175b2a110a222c845bac83  9039bf11d9ef8467d23a4cfbc162653e   \n",
       "65109  365f4eada207645c155f471623b7e084  f8207caf0d0b8d07ebb64c397a72793a   \n",
       "\n",
       "       review_score review_comment_title    review_comment_message  \\\n",
       "97359             5                empty  Tudo dentro do previsto.   \n",
       "66840             5                empty       Excelente aquisicao   \n",
       "40111             4                empty                     empty   \n",
       "12097             5                empty                     empty   \n",
       "65109             5                empty                     empty   \n",
       "\n",
       "      review_creation_date review_answer_timestamp  \n",
       "97359           2018-01-19     2018-02-14 13:15:53  \n",
       "66840           2017-05-11     2017-05-13 03:46:08  \n",
       "40111           2018-05-17     2018-05-21 12:03:27  \n",
       "12097           2017-11-07     2017-11-07 14:55:22  \n",
       "65109           2017-07-23     2017-07-23 19:42:41  "
      ]
     },
     "execution_count": 2831,
     "metadata": {},
     "output_type": "execute_result"
    }
   ],
   "source": [
    "# Fill the NaN values in review_comment_title and review_comment_message with 'empty'\n",
    "order_reviews_df.loc[:, [\"review_comment_title\", \"review_comment_message\"]] = (\n",
    "    order_reviews_df.loc[:, [\"review_comment_title\", \"review_comment_message\"]].fillna(\n",
    "        \"empty\"\n",
    "    )\n",
    ")\n",
    "\n",
    "# Display sample data that contains 'empty'\n",
    "empty_samples = order_reviews_df[\n",
    "    (order_reviews_df[\"review_comment_title\"] == \"empty\")\n",
    "    | (order_reviews_df[\"review_comment_message\"] == \"empty\")\n",
    "]\n",
    "\n",
    "empty_samples.sample(5)"
   ]
  },
  {
   "cell_type": "code",
   "execution_count": 2832,
   "metadata": {},
   "outputs": [
    {
     "name": "stdout",
     "output_type": "stream",
     "text": [
      "'empty' values in review_comment_title or review_comment_message: 87656\n",
      "'empty' values in review_comment_message: 58247\n"
     ]
    }
   ],
   "source": [
    "empty_samples_title = order_reviews_df[\n",
    "    order_reviews_df[\"review_comment_title\"] == \"empty\"\n",
    "]\n",
    "empty_samples_message = order_reviews_df[\n",
    "    order_reviews_df[\"review_comment_message\"] == \"empty\"\n",
    "]\n",
    "\n",
    "print(\n",
    "    f\"'empty' values in review_comment_title or review_comment_message: {empty_samples_title.shape[0]}\"\n",
    ")\n",
    "print(f\"'empty' values in review_comment_message: {empty_samples_message.shape[0]}\")"
   ]
  },
  {
   "cell_type": "code",
   "execution_count": 2833,
   "metadata": {},
   "outputs": [
    {
     "name": "stdout",
     "output_type": "stream",
     "text": [
      "\n",
      "Missing values in Order Reviews dataset:\n",
      "\n",
      "review_id                  0\n",
      "order_id                   0\n",
      "review_score               0\n",
      "review_comment_title       0\n",
      "review_comment_message     0\n",
      "review_creation_date       0\n",
      "review_answer_timestamp    0\n",
      "dtype: int64\n"
     ]
    }
   ],
   "source": [
    "print(\"\\nMissing values in Order Reviews dataset:\\n\")\n",
    "print(order_reviews_df.isna().sum())"
   ]
  },
  {
   "cell_type": "markdown",
   "metadata": {},
   "source": [
    "**Insight:**\\\n",
    "*Missing values* pada kolom `review_comment_title` dan `review_comment_message` telah diisi dengan 'empty' untuk mengisi kekosongan data."
   ]
  },
  {
   "cell_type": "markdown",
   "metadata": {},
   "source": [
    "#### Membersihkan Tabel `order_items_df`"
   ]
  },
  {
   "cell_type": "markdown",
   "metadata": {},
   "source": [
    "<div class=\"alert alert-block alert-info\"><b>Fixing: </b> Data Types</div> "
   ]
  },
  {
   "cell_type": "code",
   "execution_count": 2834,
   "metadata": {},
   "outputs": [
    {
     "name": "stdout",
     "output_type": "stream",
     "text": [
      "Data type [shipping_limit_date]: object\n"
     ]
    }
   ],
   "source": [
    "print(f\"Data type [shipping_limit_date]: {order_items_df['shipping_limit_date'].dtype}\")"
   ]
  },
  {
   "cell_type": "code",
   "execution_count": 2835,
   "metadata": {},
   "outputs": [],
   "source": [
    "order_items_df[\"shipping_limit_date\"] = pd.to_datetime(\n",
    "    order_items_df[\"shipping_limit_date\"]\n",
    ")"
   ]
  },
  {
   "cell_type": "code",
   "execution_count": 2836,
   "metadata": {},
   "outputs": [
    {
     "name": "stdout",
     "output_type": "stream",
     "text": [
      "<class 'pandas.core.frame.DataFrame'>\n",
      "RangeIndex: 112650 entries, 0 to 112649\n",
      "Data columns (total 7 columns):\n",
      " #   Column               Non-Null Count   Dtype         \n",
      "---  ------               --------------   -----         \n",
      " 0   order_id             112650 non-null  object        \n",
      " 1   order_item_id        112650 non-null  int64         \n",
      " 2   product_id           112650 non-null  object        \n",
      " 3   seller_id            112650 non-null  object        \n",
      " 4   shipping_limit_date  112650 non-null  datetime64[ns]\n",
      " 5   price                112650 non-null  float64       \n",
      " 6   freight_value        112650 non-null  float64       \n",
      "dtypes: datetime64[ns](1), float64(2), int64(1), object(3)\n",
      "memory usage: 6.0+ MB\n"
     ]
    }
   ],
   "source": [
    "order_items_df.info()"
   ]
  },
  {
   "cell_type": "markdown",
   "metadata": {},
   "source": [
    "**Insight:**\\\n",
    "Kolom `shipping_limit_date` telah dikonversi ke tipe data *datetime*.\\\n",
    "Kolom `freight_value` tetap menyertakan nilai **0.00** karena munkin saja merepresentasikan *free shipping*."
   ]
  },
  {
   "cell_type": "markdown",
   "metadata": {},
   "source": [
    "#### Membersihkan Tabel `geolocation_df`"
   ]
  },
  {
   "cell_type": "code",
   "execution_count": 2837,
   "metadata": {},
   "outputs": [
    {
     "name": "stdout",
     "output_type": "stream",
     "text": [
      "Duplicates in Geolocation dataset: 261831\n"
     ]
    }
   ],
   "source": [
    "print(\"Duplicates in Geolocation dataset:\", geolocation_df.duplicated().sum())"
   ]
  },
  {
   "cell_type": "markdown",
   "metadata": {},
   "source": [
    "<div class=\"alert alert-block alert-info\"><b>Fixing: </b> Duplicates</div> "
   ]
  },
  {
   "cell_type": "code",
   "execution_count": 2838,
   "metadata": {},
   "outputs": [],
   "source": [
    "# Drop duplicates\n",
    "geolocation_df = geolocation_df.drop_duplicates()\n",
    "remaining_duplicates_count = geolocation_df.duplicated().sum()"
   ]
  },
  {
   "cell_type": "code",
   "execution_count": 2839,
   "metadata": {},
   "outputs": [
    {
     "name": "stdout",
     "output_type": "stream",
     "text": [
      "Remaining duplicates in Geolocation dataset: 0\n"
     ]
    }
   ],
   "source": [
    "print(\"Remaining duplicates in Geolocation dataset:\", remaining_duplicates_count)"
   ]
  },
  {
   "cell_type": "code",
   "execution_count": 2840,
   "metadata": {},
   "outputs": [
    {
     "name": "stdout",
     "output_type": "stream",
     "text": [
      "<class 'pandas.core.frame.DataFrame'>\n",
      "Index: 738332 entries, 0 to 1000161\n",
      "Data columns (total 5 columns):\n",
      " #   Column                       Non-Null Count   Dtype  \n",
      "---  ------                       --------------   -----  \n",
      " 0   geolocation_zip_code_prefix  738332 non-null  int64  \n",
      " 1   geolocation_lat              738332 non-null  float64\n",
      " 2   geolocation_lng              738332 non-null  float64\n",
      " 3   geolocation_city             738332 non-null  object \n",
      " 4   geolocation_state            738332 non-null  object \n",
      "dtypes: float64(2), int64(1), object(2)\n",
      "memory usage: 33.8+ MB\n"
     ]
    }
   ],
   "source": [
    "geolocation_df.info()"
   ]
  },
  {
   "cell_type": "markdown",
   "metadata": {},
   "source": [
    "**Insight:**\\\n",
    "Sebanyak **261831** baris duplikat telah dihapus."
   ]
  },
  {
   "cell_type": "markdown",
   "metadata": {},
   "source": [
    "#### Membersihkan Tabel `orders_df`"
   ]
  },
  {
   "cell_type": "markdown",
   "metadata": {},
   "source": [
    "<div class=\"alert alert-block alert-info\"><b>Fixing: </b> Data Types </div> "
   ]
  },
  {
   "cell_type": "code",
   "execution_count": 2841,
   "metadata": {},
   "outputs": [
    {
     "name": "stdout",
     "output_type": "stream",
     "text": [
      "Data type [order_purchase_timestamp]: object\n",
      "Data type [order_approved_at]: object\n",
      "Data type [order_delivered_carrier_date]: object\n",
      "Data type [order_delivered_customer_date]: object\n",
      "Data type [order_estimated_delivery_date]: object\n"
     ]
    }
   ],
   "source": [
    "columns = [\n",
    "    \"order_purchase_timestamp\",\n",
    "    \"order_approved_at\",\n",
    "    \"order_delivered_carrier_date\",\n",
    "    \"order_delivered_customer_date\",\n",
    "    \"order_estimated_delivery_date\",\n",
    "]\n",
    "\n",
    "for col in columns:\n",
    "    print(f\"Data type [{col}]: {orders_df[col].dtype}\")"
   ]
  },
  {
   "cell_type": "code",
   "execution_count": 2842,
   "metadata": {},
   "outputs": [
    {
     "name": "stdout",
     "output_type": "stream",
     "text": [
      "Data type [order_purchase_timestamp]: datetime64[ns]\n",
      "Data type [order_approved_at]: datetime64[ns]\n",
      "Data type [order_delivered_carrier_date]: datetime64[ns]\n",
      "Data type [order_delivered_customer_date]: datetime64[ns]\n",
      "Data type [order_estimated_delivery_date]: datetime64[ns]\n"
     ]
    }
   ],
   "source": [
    "for col in columns:\n",
    "    orders_df[col] = pd.to_datetime(orders_df[col], errors=\"coerce\")\n",
    "    print(f\"Data type [{col}]: {orders_df[col].dtype}\")"
   ]
  },
  {
   "cell_type": "markdown",
   "metadata": {},
   "source": [
    "**Insight:**\\\n",
    "Kolom `order_purchase_timestamp`, `order_approved_at`, `order_delivered_carrier_date`, `order_delivered_customer_date`, dan `order_estimated_delivery_date` telah berhasil dikonversi menjadi tipe data *datetime*."
   ]
  },
  {
   "cell_type": "markdown",
   "metadata": {},
   "source": [
    "<div class=\"alert alert-block alert-info\"><b>Fixing: </b> Missing Values </div> "
   ]
  },
  {
   "cell_type": "code",
   "execution_count": 2843,
   "metadata": {},
   "outputs": [
    {
     "name": "stdout",
     "output_type": "stream",
     "text": [
      "\n",
      "Missing values in Orders dataset:\n",
      "order_id                            0\n",
      "customer_id                         0\n",
      "order_status                        0\n",
      "order_purchase_timestamp            0\n",
      "order_approved_at                 160\n",
      "order_delivered_carrier_date     1783\n",
      "order_delivered_customer_date    2965\n",
      "order_estimated_delivery_date       0\n",
      "dtype: int64\n"
     ]
    }
   ],
   "source": [
    "print(\"\\nMissing values in Orders dataset:\")\n",
    "print(orders_df.isna().sum())"
   ]
  },
  {
   "cell_type": "code",
   "execution_count": 2844,
   "metadata": {},
   "outputs": [
    {
     "name": "stdout",
     "output_type": "stream",
     "text": [
      "Number of rows with missing 'order_approved_at': 160\n",
      "\n",
      "Sample rows with missing 'order_approved_at' and status 'delivered':\n"
     ]
    },
    {
     "data": {
      "text/html": [
       "<div>\n",
       "<style scoped>\n",
       "    .dataframe tbody tr th:only-of-type {\n",
       "        vertical-align: middle;\n",
       "    }\n",
       "\n",
       "    .dataframe tbody tr th {\n",
       "        vertical-align: top;\n",
       "    }\n",
       "\n",
       "    .dataframe thead th {\n",
       "        text-align: right;\n",
       "    }\n",
       "</style>\n",
       "<table border=\"1\" class=\"dataframe\">\n",
       "  <thead>\n",
       "    <tr style=\"text-align: right;\">\n",
       "      <th></th>\n",
       "      <th>order_id</th>\n",
       "      <th>customer_id</th>\n",
       "      <th>order_status</th>\n",
       "      <th>order_purchase_timestamp</th>\n",
       "      <th>order_approved_at</th>\n",
       "      <th>order_delivered_carrier_date</th>\n",
       "      <th>order_delivered_customer_date</th>\n",
       "      <th>order_estimated_delivery_date</th>\n",
       "    </tr>\n",
       "  </thead>\n",
       "  <tbody>\n",
       "    <tr>\n",
       "      <th>5323</th>\n",
       "      <td>e04abd8149ef81b95221e88f6ed9ab6a</td>\n",
       "      <td>2127dc6603ac33544953ef05ec155771</td>\n",
       "      <td>delivered</td>\n",
       "      <td>2017-02-18 14:40:00</td>\n",
       "      <td>NaT</td>\n",
       "      <td>2017-02-23 12:04:47</td>\n",
       "      <td>2017-03-01 13:25:33</td>\n",
       "      <td>2017-03-17</td>\n",
       "    </tr>\n",
       "    <tr>\n",
       "      <th>72407</th>\n",
       "      <td>3c0b8706b065f9919d0505d3b3343881</td>\n",
       "      <td>d85919cb3c0529589c6fa617f5f43281</td>\n",
       "      <td>delivered</td>\n",
       "      <td>2017-02-17 15:53:27</td>\n",
       "      <td>NaT</td>\n",
       "      <td>2017-02-22 11:31:30</td>\n",
       "      <td>2017-03-03 11:47:47</td>\n",
       "      <td>2017-03-23</td>\n",
       "    </tr>\n",
       "    <tr>\n",
       "      <th>84999</th>\n",
       "      <td>2babbb4b15e6d2dfe95e2de765c97bce</td>\n",
       "      <td>74bebaf46603f9340e3b50c6b086f992</td>\n",
       "      <td>delivered</td>\n",
       "      <td>2017-02-18 17:15:03</td>\n",
       "      <td>NaT</td>\n",
       "      <td>2017-02-22 11:23:11</td>\n",
       "      <td>2017-03-03 18:43:43</td>\n",
       "      <td>2017-03-31</td>\n",
       "    </tr>\n",
       "  </tbody>\n",
       "</table>\n",
       "</div>"
      ],
      "text/plain": [
       "                               order_id                       customer_id  \\\n",
       "5323   e04abd8149ef81b95221e88f6ed9ab6a  2127dc6603ac33544953ef05ec155771   \n",
       "72407  3c0b8706b065f9919d0505d3b3343881  d85919cb3c0529589c6fa617f5f43281   \n",
       "84999  2babbb4b15e6d2dfe95e2de765c97bce  74bebaf46603f9340e3b50c6b086f992   \n",
       "\n",
       "      order_status order_purchase_timestamp order_approved_at  \\\n",
       "5323     delivered      2017-02-18 14:40:00               NaT   \n",
       "72407    delivered      2017-02-17 15:53:27               NaT   \n",
       "84999    delivered      2017-02-18 17:15:03               NaT   \n",
       "\n",
       "      order_delivered_carrier_date order_delivered_customer_date  \\\n",
       "5323           2017-02-23 12:04:47           2017-03-01 13:25:33   \n",
       "72407          2017-02-22 11:31:30           2017-03-03 11:47:47   \n",
       "84999          2017-02-22 11:23:11           2017-03-03 18:43:43   \n",
       "\n",
       "      order_estimated_delivery_date  \n",
       "5323                     2017-03-17  \n",
       "72407                    2017-03-23  \n",
       "84999                    2017-03-31  "
      ]
     },
     "execution_count": 2844,
     "metadata": {},
     "output_type": "execute_result"
    }
   ],
   "source": [
    "missing_approved_at = orders_df[orders_df[\"order_approved_at\"].isna()]\n",
    "print(\n",
    "    f\"Number of rows with missing 'order_approved_at': {missing_approved_at.shape[0]}\"\n",
    ")\n",
    "\n",
    "missing_approved_delivered = missing_approved_at[\n",
    "    missing_approved_at[\"order_status\"] == \"delivered\"\n",
    "]\n",
    "\n",
    "print(\"\\nSample rows with missing 'order_approved_at' and status 'delivered':\")\n",
    "missing_approved_delivered.sample(3)"
   ]
  },
  {
   "cell_type": "code",
   "execution_count": 2845,
   "metadata": {},
   "outputs": [
    {
     "data": {
      "text/html": [
       "<div>\n",
       "<style scoped>\n",
       "    .dataframe tbody tr th:only-of-type {\n",
       "        vertical-align: middle;\n",
       "    }\n",
       "\n",
       "    .dataframe tbody tr th {\n",
       "        vertical-align: top;\n",
       "    }\n",
       "\n",
       "    .dataframe thead th {\n",
       "        text-align: right;\n",
       "    }\n",
       "</style>\n",
       "<table border=\"1\" class=\"dataframe\">\n",
       "  <thead>\n",
       "    <tr style=\"text-align: right;\">\n",
       "      <th></th>\n",
       "      <th>order_id</th>\n",
       "      <th>customer_id</th>\n",
       "      <th>order_status</th>\n",
       "      <th>order_purchase_timestamp</th>\n",
       "      <th>order_approved_at</th>\n",
       "      <th>order_delivered_carrier_date</th>\n",
       "      <th>order_delivered_customer_date</th>\n",
       "      <th>order_estimated_delivery_date</th>\n",
       "      <th>approval_time_diff</th>\n",
       "    </tr>\n",
       "  </thead>\n",
       "  <tbody>\n",
       "    <tr>\n",
       "      <th>86895</th>\n",
       "      <td>90553773adebd97e53db3810be841c91</td>\n",
       "      <td>3f774a8ca68da8fc546c22ba0e483568</td>\n",
       "      <td>delivered</td>\n",
       "      <td>2018-02-11 11:50:35</td>\n",
       "      <td>2018-02-11 12:08:56</td>\n",
       "      <td>2018-02-14 19:40:00</td>\n",
       "      <td>2018-02-20 20:18:50</td>\n",
       "      <td>2018-03-09</td>\n",
       "      <td>0.31</td>\n",
       "    </tr>\n",
       "    <tr>\n",
       "      <th>42183</th>\n",
       "      <td>cd41a5bf3ffd542864ab33b17144968f</td>\n",
       "      <td>b0f4a833c13466c077bf44efca4d5b56</td>\n",
       "      <td>delivered</td>\n",
       "      <td>2017-11-24 16:33:46</td>\n",
       "      <td>2017-11-24 20:32:12</td>\n",
       "      <td>2017-12-04 16:33:32</td>\n",
       "      <td>2017-12-06 22:18:42</td>\n",
       "      <td>2017-12-15</td>\n",
       "      <td>3.97</td>\n",
       "    </tr>\n",
       "    <tr>\n",
       "      <th>97444</th>\n",
       "      <td>c65ca254bd0c624c11dd60d92955c989</td>\n",
       "      <td>3e4ebed68177e081dd84a416c4718ad8</td>\n",
       "      <td>delivered</td>\n",
       "      <td>2017-12-13 20:15:02</td>\n",
       "      <td>2017-12-13 20:29:21</td>\n",
       "      <td>2017-12-18 22:38:32</td>\n",
       "      <td>2017-12-22 19:27:44</td>\n",
       "      <td>2018-01-09</td>\n",
       "      <td>0.24</td>\n",
       "    </tr>\n",
       "  </tbody>\n",
       "</table>\n",
       "</div>"
      ],
      "text/plain": [
       "                               order_id                       customer_id  \\\n",
       "86895  90553773adebd97e53db3810be841c91  3f774a8ca68da8fc546c22ba0e483568   \n",
       "42183  cd41a5bf3ffd542864ab33b17144968f  b0f4a833c13466c077bf44efca4d5b56   \n",
       "97444  c65ca254bd0c624c11dd60d92955c989  3e4ebed68177e081dd84a416c4718ad8   \n",
       "\n",
       "      order_status order_purchase_timestamp   order_approved_at  \\\n",
       "86895    delivered      2018-02-11 11:50:35 2018-02-11 12:08:56   \n",
       "42183    delivered      2017-11-24 16:33:46 2017-11-24 20:32:12   \n",
       "97444    delivered      2017-12-13 20:15:02 2017-12-13 20:29:21   \n",
       "\n",
       "      order_delivered_carrier_date order_delivered_customer_date  \\\n",
       "86895          2018-02-14 19:40:00           2018-02-20 20:18:50   \n",
       "42183          2017-12-04 16:33:32           2017-12-06 22:18:42   \n",
       "97444          2017-12-18 22:38:32           2017-12-22 19:27:44   \n",
       "\n",
       "      order_estimated_delivery_date  approval_time_diff  \n",
       "86895                    2018-03-09                0.31  \n",
       "42183                    2017-12-15                3.97  \n",
       "97444                    2018-01-09                0.24  "
      ]
     },
     "execution_count": 2845,
     "metadata": {},
     "output_type": "execute_result"
    }
   ],
   "source": [
    "# Calculate the time difference between 'order_purchase_timestamp' and 'order_approved_at' in hours\n",
    "orders_df[\"approval_time_diff\"] = (\n",
    "    orders_df[\"order_approved_at\"] - orders_df[\"order_purchase_timestamp\"]\n",
    ").dt.total_seconds() / 3600\n",
    "orders_df[\"approval_time_diff\"] = orders_df[\"approval_time_diff\"].round(2)\n",
    "\n",
    "# Calculate the average approval time\n",
    "average_approval_time = orders_df[\"approval_time_diff\"].mean()\n",
    "\n",
    "# Fill missing values in 'order_approved_at' by adding the average approval time to 'order_purchase_timestamp'\n",
    "orders_df[\"order_approved_at\"] = orders_df[\"order_approved_at\"].fillna(\n",
    "    orders_df[\"order_purchase_timestamp\"]\n",
    "    + pd.to_timedelta(average_approval_time, unit=\"h\")\n",
    ")\n",
    "\n",
    "# Round 'order_approved_at' to the nearest second\n",
    "orders_df[\"order_approved_at\"] = orders_df[\"order_approved_at\"].dt.round(\"s\")\n",
    "\n",
    "orders_df.sample(3)"
   ]
  },
  {
   "cell_type": "code",
   "execution_count": 2846,
   "metadata": {},
   "outputs": [
    {
     "name": "stdout",
     "output_type": "stream",
     "text": [
      "NaN values in 'approval_time_diff': 160\n"
     ]
    }
   ],
   "source": [
    "# Check nan value in 'approval_time_diff' column\n",
    "print(\n",
    "    \"NaN values in 'approval_time_diff':\", orders_df[\"approval_time_diff\"].isna().sum()\n",
    ")"
   ]
  },
  {
   "cell_type": "code",
   "execution_count": 2847,
   "metadata": {},
   "outputs": [],
   "source": [
    "# Fill missing values in 'approval_time_diff' with the calculated average\n",
    "average_approval_time = orders_df[\"approval_time_diff\"].mean()\n",
    "orders_df[\"approval_time_diff\"] = orders_df[\"approval_time_diff\"].fillna(\n",
    "    average_approval_time\n",
    ")\n",
    "orders_df[\"approval_time_diff\"] = orders_df[\"approval_time_diff\"].round(2)"
   ]
  },
  {
   "cell_type": "code",
   "execution_count": 2848,
   "metadata": {},
   "outputs": [
    {
     "name": "stdout",
     "output_type": "stream",
     "text": [
      "NaN values in 'approval_time_diff': 0\n"
     ]
    }
   ],
   "source": [
    "print(\n",
    "    \"NaN values in 'approval_time_diff':\", orders_df[\"approval_time_diff\"].isna().sum()\n",
    ")"
   ]
  },
  {
   "cell_type": "code",
   "execution_count": 2849,
   "metadata": {},
   "outputs": [
    {
     "name": "stdout",
     "output_type": "stream",
     "text": [
      "\n",
      "Missing values in Orders dataset:\n"
     ]
    },
    {
     "data": {
      "text/plain": [
       "order_id                            0\n",
       "customer_id                         0\n",
       "order_status                        0\n",
       "order_purchase_timestamp            0\n",
       "order_approved_at                   0\n",
       "order_delivered_carrier_date     1783\n",
       "order_delivered_customer_date    2965\n",
       "order_estimated_delivery_date       0\n",
       "approval_time_diff                  0\n",
       "dtype: int64"
      ]
     },
     "execution_count": 2849,
     "metadata": {},
     "output_type": "execute_result"
    }
   ],
   "source": [
    "print(\"\\nMissing values in Orders dataset:\")\n",
    "orders_df.isna().sum()"
   ]
  },
  {
   "cell_type": "markdown",
   "metadata": {},
   "source": [
    "**Insight:**\\\n",
    "Terdapat beberapa `order_status` 'delivered' yang mempunyai nilai kosong pada `order_approved_at`.\\\n",
    "Kolom `order_approved_at` yang memiliki nilai kosong telah diisi dengan menghitung rata-rata waktu persetujuan dari pesanan yang sudah memiliki nilai di `order_approved_at` (selisih waktu antara `order_purchase_timestamp` dan `order_approved_at`).\\\n",
    "\n",
    "*NaT* pada kolom `order_delivered_carrier_date` dan `order_delivered_customer_date` tetap, karena disesuaikan dengan keadaan aktual dimana pesanan belum memasuki status pengiriman."
   ]
  },
  {
   "cell_type": "markdown",
   "metadata": {
    "id": "gp-Y6wU38DC1"
   },
   "source": [
    "## Exploratory Data Analysis (EDA)"
   ]
  },
  {
   "cell_type": "markdown",
   "metadata": {},
   "source": [
    "### Eksplorasi Data `products_df` dan `product_category_translation_df`"
   ]
  },
  {
   "cell_type": "code",
   "execution_count": 2850,
   "metadata": {},
   "outputs": [
    {
     "name": "stdout",
     "output_type": "stream",
     "text": [
      "<class 'pandas.core.frame.DataFrame'>\n",
      "RangeIndex: 32951 entries, 0 to 32950\n",
      "Data columns (total 9 columns):\n",
      " #   Column                      Non-Null Count  Dtype  \n",
      "---  ------                      --------------  -----  \n",
      " 0   product_id                  32951 non-null  object \n",
      " 1   product_category_name       32951 non-null  object \n",
      " 2   product_name_lenght         32951 non-null  float64\n",
      " 3   product_description_lenght  32951 non-null  float64\n",
      " 4   product_photos_qty          32951 non-null  float64\n",
      " 5   product_weight_g            32951 non-null  float64\n",
      " 6   product_length_cm           32951 non-null  float64\n",
      " 7   product_height_cm           32951 non-null  float64\n",
      " 8   product_width_cm            32951 non-null  float64\n",
      "dtypes: float64(7), object(2)\n",
      "memory usage: 2.3+ MB\n",
      "\n",
      "(rows, collumns): \t\t\t(32951, 9)\n",
      "nunique of product_id: \t\t\t32951\n",
      "nunique of product_category_name: \t74\n"
     ]
    }
   ],
   "source": [
    "products_df.info()\n",
    "\n",
    "print(f\"\\n(rows, collumns): \\t\\t\\t{products_df.shape}\")\n",
    "print(f\"nunique of product_id: \\t\\t\\t{products_df['product_id'].nunique()}\")\n",
    "print(\n",
    "    f\"nunique of product_category_name: \\t{products_df['product_category_name'].nunique()}\"\n",
    ")"
   ]
  },
  {
   "cell_type": "markdown",
   "metadata": {},
   "source": [
    "#### Menerjemahkan `product_category_name`"
   ]
  },
  {
   "cell_type": "code",
   "execution_count": 2851,
   "metadata": {},
   "outputs": [
    {
     "data": {
      "text/html": [
       "<div>\n",
       "<style scoped>\n",
       "    .dataframe tbody tr th:only-of-type {\n",
       "        vertical-align: middle;\n",
       "    }\n",
       "\n",
       "    .dataframe tbody tr th {\n",
       "        vertical-align: top;\n",
       "    }\n",
       "\n",
       "    .dataframe thead th {\n",
       "        text-align: right;\n",
       "    }\n",
       "</style>\n",
       "<table border=\"1\" class=\"dataframe\">\n",
       "  <thead>\n",
       "    <tr style=\"text-align: right;\">\n",
       "      <th></th>\n",
       "      <th>product_id</th>\n",
       "      <th>product_category_name</th>\n",
       "    </tr>\n",
       "  </thead>\n",
       "  <tbody>\n",
       "    <tr>\n",
       "      <th>0</th>\n",
       "      <td>1e9e8ef04dbcff4541ed26657ea517e5</td>\n",
       "      <td>perfumaria</td>\n",
       "    </tr>\n",
       "    <tr>\n",
       "      <th>1</th>\n",
       "      <td>3aa071139cb16b67ca9e5dea641aaa2f</td>\n",
       "      <td>artes</td>\n",
       "    </tr>\n",
       "    <tr>\n",
       "      <th>2</th>\n",
       "      <td>96bd76ec8810374ed1b65e291975717f</td>\n",
       "      <td>esporte_lazer</td>\n",
       "    </tr>\n",
       "    <tr>\n",
       "      <th>3</th>\n",
       "      <td>cef67bcfe19066a932b7673e239eb23d</td>\n",
       "      <td>bebes</td>\n",
       "    </tr>\n",
       "    <tr>\n",
       "      <th>4</th>\n",
       "      <td>9dc1a7de274444849c219cff195d0b71</td>\n",
       "      <td>utilidades_domesticas</td>\n",
       "    </tr>\n",
       "  </tbody>\n",
       "</table>\n",
       "</div>"
      ],
      "text/plain": [
       "                         product_id  product_category_name\n",
       "0  1e9e8ef04dbcff4541ed26657ea517e5             perfumaria\n",
       "1  3aa071139cb16b67ca9e5dea641aaa2f                  artes\n",
       "2  96bd76ec8810374ed1b65e291975717f          esporte_lazer\n",
       "3  cef67bcfe19066a932b7673e239eb23d                  bebes\n",
       "4  9dc1a7de274444849c219cff195d0b71  utilidades_domesticas"
      ]
     },
     "execution_count": 2851,
     "metadata": {},
     "output_type": "execute_result"
    }
   ],
   "source": [
    "products_df[[\"product_id\", \"product_category_name\"]].head()"
   ]
  },
  {
   "cell_type": "code",
   "execution_count": 2852,
   "metadata": {},
   "outputs": [
    {
     "data": {
      "text/html": [
       "<div>\n",
       "<style scoped>\n",
       "    .dataframe tbody tr th:only-of-type {\n",
       "        vertical-align: middle;\n",
       "    }\n",
       "\n",
       "    .dataframe tbody tr th {\n",
       "        vertical-align: top;\n",
       "    }\n",
       "\n",
       "    .dataframe thead th {\n",
       "        text-align: right;\n",
       "    }\n",
       "</style>\n",
       "<table border=\"1\" class=\"dataframe\">\n",
       "  <thead>\n",
       "    <tr style=\"text-align: right;\">\n",
       "      <th></th>\n",
       "      <th>product_id</th>\n",
       "      <th>product_category_name</th>\n",
       "    </tr>\n",
       "  </thead>\n",
       "  <tbody>\n",
       "    <tr>\n",
       "      <th>0</th>\n",
       "      <td>1e9e8ef04dbcff4541ed26657ea517e5</td>\n",
       "      <td>perfumery</td>\n",
       "    </tr>\n",
       "    <tr>\n",
       "      <th>1</th>\n",
       "      <td>3aa071139cb16b67ca9e5dea641aaa2f</td>\n",
       "      <td>art</td>\n",
       "    </tr>\n",
       "    <tr>\n",
       "      <th>2</th>\n",
       "      <td>96bd76ec8810374ed1b65e291975717f</td>\n",
       "      <td>sports_leisure</td>\n",
       "    </tr>\n",
       "    <tr>\n",
       "      <th>3</th>\n",
       "      <td>cef67bcfe19066a932b7673e239eb23d</td>\n",
       "      <td>baby</td>\n",
       "    </tr>\n",
       "    <tr>\n",
       "      <th>4</th>\n",
       "      <td>9dc1a7de274444849c219cff195d0b71</td>\n",
       "      <td>housewares</td>\n",
       "    </tr>\n",
       "  </tbody>\n",
       "</table>\n",
       "</div>"
      ],
      "text/plain": [
       "                         product_id product_category_name\n",
       "0  1e9e8ef04dbcff4541ed26657ea517e5             perfumery\n",
       "1  3aa071139cb16b67ca9e5dea641aaa2f                   art\n",
       "2  96bd76ec8810374ed1b65e291975717f        sports_leisure\n",
       "3  cef67bcfe19066a932b7673e239eb23d                  baby\n",
       "4  9dc1a7de274444849c219cff195d0b71            housewares"
      ]
     },
     "execution_count": 2852,
     "metadata": {},
     "output_type": "execute_result"
    }
   ],
   "source": [
    "category_translation = product_category_translation_df.set_index(\n",
    "    \"product_category_name\"\n",
    ")[\"product_category_name_english\"]\n",
    "\n",
    "products_df[\"product_category_name\"] = (\n",
    "    products_df[\"product_category_name\"]\n",
    "    .map(category_translation)\n",
    "    .fillna(products_df[\"product_category_name\"])\n",
    ")\n",
    "\n",
    "products_df[[\"product_id\", \"product_category_name\"]].head()"
   ]
  },
  {
   "cell_type": "code",
   "execution_count": 2853,
   "metadata": {},
   "outputs": [
    {
     "name": "stdout",
     "output_type": "stream",
     "text": [
      "Most frequent product categories:\n"
     ]
    },
    {
     "data": {
      "text/plain": [
       "product_category_name\n",
       "bed_bath_table     3029\n",
       "sports_leisure     2867\n",
       "furniture_decor    2657\n",
       "health_beauty      2444\n",
       "housewares         2335\n",
       "Name: count, dtype: int64"
      ]
     },
     "execution_count": 2853,
     "metadata": {},
     "output_type": "execute_result"
    }
   ],
   "source": [
    "print(\"Most frequent product categories:\")\n",
    "products_df[\"product_category_name\"].value_counts().head()"
   ]
  },
  {
   "cell_type": "code",
   "execution_count": 2854,
   "metadata": {},
   "outputs": [
    {
     "name": "stdout",
     "output_type": "stream",
     "text": [
      "The rarest product category:\n"
     ]
    },
    {
     "data": {
      "text/plain": [
       "product_category_name\n",
       "fashion_childrens_clothes    5\n",
       "home_comfort_2               5\n",
       "pc_gamer                     3\n",
       "security_and_services        2\n",
       "cds_dvds_musicals            1\n",
       "Name: count, dtype: int64"
      ]
     },
     "execution_count": 2854,
     "metadata": {},
     "output_type": "execute_result"
    }
   ],
   "source": [
    "category_counts = products_df[\"product_category_name\"].value_counts()\n",
    "rarest_categories = category_counts.tail()\n",
    "\n",
    "# Calculate percentages\n",
    "total_products = category_counts.sum()\n",
    "percentages = (rarest_categories / total_products * 100).round(2)\n",
    "\n",
    "# Create a DataFrame for better formatting\n",
    "output_df = pd.DataFrame({\n",
    "    'Category': rarest_categories.index,\n",
    "    'Count': rarest_categories.values,\n",
    "    'Percentage': percentages.values\n",
    "})\n",
    "\n",
    "output_df['Percentage'] = output_df['Percentage'].map(\"{:.2f}%\".format)\n",
    "\n",
    "print(\"\\nThe Rarest Product Categories\")\n",
    "print(\"-\" * 60)\n",
    "print(output_df.to_string(index=False))\n",
    "print(\"-\" * 60)\n",
    "print(f\"Total Products: {total_products}\")"
   ]
  },
  {
   "cell_type": "code",
   "execution_count": 2855,
   "metadata": {},
   "outputs": [
    {
     "name": "stdout",
     "output_type": "stream",
     "text": [
      "Number of products with 'unknown' category: 610 \n",
      "\n"
     ]
    },
    {
     "data": {
      "text/html": [
       "<div>\n",
       "<style scoped>\n",
       "    .dataframe tbody tr th:only-of-type {\n",
       "        vertical-align: middle;\n",
       "    }\n",
       "\n",
       "    .dataframe tbody tr th {\n",
       "        vertical-align: top;\n",
       "    }\n",
       "\n",
       "    .dataframe thead th {\n",
       "        text-align: right;\n",
       "    }\n",
       "</style>\n",
       "<table border=\"1\" class=\"dataframe\">\n",
       "  <thead>\n",
       "    <tr style=\"text-align: right;\">\n",
       "      <th></th>\n",
       "      <th>product_id</th>\n",
       "      <th>product_category_name</th>\n",
       "    </tr>\n",
       "  </thead>\n",
       "  <tbody>\n",
       "    <tr>\n",
       "      <th>105</th>\n",
       "      <td>a41e356c76fab66334f36de622ecbd3a</td>\n",
       "      <td>unknown</td>\n",
       "    </tr>\n",
       "    <tr>\n",
       "      <th>128</th>\n",
       "      <td>d8dee61c2034d6d075997acef1870e9b</td>\n",
       "      <td>unknown</td>\n",
       "    </tr>\n",
       "    <tr>\n",
       "      <th>145</th>\n",
       "      <td>56139431d72cd51f19eb9f7dae4d1617</td>\n",
       "      <td>unknown</td>\n",
       "    </tr>\n",
       "    <tr>\n",
       "      <th>154</th>\n",
       "      <td>46b48281eb6d663ced748f324108c733</td>\n",
       "      <td>unknown</td>\n",
       "    </tr>\n",
       "    <tr>\n",
       "      <th>197</th>\n",
       "      <td>5fb61f482620cb672f5e586bb132eae9</td>\n",
       "      <td>unknown</td>\n",
       "    </tr>\n",
       "  </tbody>\n",
       "</table>\n",
       "</div>"
      ],
      "text/plain": [
       "                           product_id product_category_name\n",
       "105  a41e356c76fab66334f36de622ecbd3a               unknown\n",
       "128  d8dee61c2034d6d075997acef1870e9b               unknown\n",
       "145  56139431d72cd51f19eb9f7dae4d1617               unknown\n",
       "154  46b48281eb6d663ced748f324108c733               unknown\n",
       "197  5fb61f482620cb672f5e586bb132eae9               unknown"
      ]
     },
     "execution_count": 2855,
     "metadata": {},
     "output_type": "execute_result"
    }
   ],
   "source": [
    "print(\n",
    "    f\"Number of products with 'unknown' category: {products_df[products_df['product_category_name'] == 'unknown'].shape[0]} \\n\"\n",
    ")\n",
    "\n",
    "unknown_category = products_df[products_df[\"product_category_name\"] == \"unknown\"]\n",
    "unknown_category[[\"product_id\", \"product_category_name\"]].head()"
   ]
  },
  {
   "cell_type": "code",
   "execution_count": 2856,
   "metadata": {},
   "outputs": [
    {
     "data": {
      "text/html": [
       "<div>\n",
       "<style scoped>\n",
       "    .dataframe tbody tr th:only-of-type {\n",
       "        vertical-align: middle;\n",
       "    }\n",
       "\n",
       "    .dataframe tbody tr th {\n",
       "        vertical-align: top;\n",
       "    }\n",
       "\n",
       "    .dataframe thead th {\n",
       "        text-align: right;\n",
       "    }\n",
       "</style>\n",
       "<table border=\"1\" class=\"dataframe\">\n",
       "  <thead>\n",
       "    <tr style=\"text-align: right;\">\n",
       "      <th></th>\n",
       "      <th>product_name_lenght</th>\n",
       "      <th>product_description_lenght</th>\n",
       "      <th>product_photos_qty</th>\n",
       "      <th>product_weight_g</th>\n",
       "      <th>product_length_cm</th>\n",
       "      <th>product_height_cm</th>\n",
       "      <th>product_width_cm</th>\n",
       "    </tr>\n",
       "  </thead>\n",
       "  <tbody>\n",
       "    <tr>\n",
       "      <th>count</th>\n",
       "      <td>32951.00</td>\n",
       "      <td>32951.00</td>\n",
       "      <td>32951.00</td>\n",
       "      <td>32951.00</td>\n",
       "      <td>32951.00</td>\n",
       "      <td>32951.00</td>\n",
       "      <td>32951.00</td>\n",
       "    </tr>\n",
       "    <tr>\n",
       "      <th>mean</th>\n",
       "      <td>48.48</td>\n",
       "      <td>771.50</td>\n",
       "      <td>2.19</td>\n",
       "      <td>2276.67</td>\n",
       "      <td>30.82</td>\n",
       "      <td>16.94</td>\n",
       "      <td>23.20</td>\n",
       "    </tr>\n",
       "    <tr>\n",
       "      <th>std</th>\n",
       "      <td>10.15</td>\n",
       "      <td>629.21</td>\n",
       "      <td>1.72</td>\n",
       "      <td>4281.86</td>\n",
       "      <td>16.91</td>\n",
       "      <td>13.64</td>\n",
       "      <td>12.08</td>\n",
       "    </tr>\n",
       "    <tr>\n",
       "      <th>min</th>\n",
       "      <td>5.00</td>\n",
       "      <td>4.00</td>\n",
       "      <td>1.00</td>\n",
       "      <td>2.00</td>\n",
       "      <td>7.00</td>\n",
       "      <td>2.00</td>\n",
       "      <td>6.00</td>\n",
       "    </tr>\n",
       "    <tr>\n",
       "      <th>25%</th>\n",
       "      <td>42.00</td>\n",
       "      <td>344.00</td>\n",
       "      <td>1.00</td>\n",
       "      <td>300.00</td>\n",
       "      <td>18.00</td>\n",
       "      <td>8.00</td>\n",
       "      <td>15.00</td>\n",
       "    </tr>\n",
       "    <tr>\n",
       "      <th>50%</th>\n",
       "      <td>51.00</td>\n",
       "      <td>604.00</td>\n",
       "      <td>1.00</td>\n",
       "      <td>700.00</td>\n",
       "      <td>25.00</td>\n",
       "      <td>13.00</td>\n",
       "      <td>20.00</td>\n",
       "    </tr>\n",
       "    <tr>\n",
       "      <th>75%</th>\n",
       "      <td>57.00</td>\n",
       "      <td>961.00</td>\n",
       "      <td>3.00</td>\n",
       "      <td>1900.00</td>\n",
       "      <td>38.00</td>\n",
       "      <td>21.00</td>\n",
       "      <td>30.00</td>\n",
       "    </tr>\n",
       "    <tr>\n",
       "      <th>max</th>\n",
       "      <td>76.00</td>\n",
       "      <td>3992.00</td>\n",
       "      <td>20.00</td>\n",
       "      <td>40425.00</td>\n",
       "      <td>105.00</td>\n",
       "      <td>105.00</td>\n",
       "      <td>118.00</td>\n",
       "    </tr>\n",
       "  </tbody>\n",
       "</table>\n",
       "</div>"
      ],
      "text/plain": [
       "       product_name_lenght  product_description_lenght  product_photos_qty  \\\n",
       "count             32951.00                    32951.00            32951.00   \n",
       "mean                 48.48                      771.50                2.19   \n",
       "std                  10.15                      629.21                1.72   \n",
       "min                   5.00                        4.00                1.00   \n",
       "25%                  42.00                      344.00                1.00   \n",
       "50%                  51.00                      604.00                1.00   \n",
       "75%                  57.00                      961.00                3.00   \n",
       "max                  76.00                     3992.00               20.00   \n",
       "\n",
       "       product_weight_g  product_length_cm  product_height_cm  \\\n",
       "count          32951.00           32951.00           32951.00   \n",
       "mean            2276.67              30.82              16.94   \n",
       "std             4281.86              16.91              13.64   \n",
       "min                2.00               7.00               2.00   \n",
       "25%              300.00              18.00               8.00   \n",
       "50%              700.00              25.00              13.00   \n",
       "75%             1900.00              38.00              21.00   \n",
       "max            40425.00             105.00             105.00   \n",
       "\n",
       "       product_width_cm  \n",
       "count          32951.00  \n",
       "mean              23.20  \n",
       "std               12.08  \n",
       "min                6.00  \n",
       "25%               15.00  \n",
       "50%               20.00  \n",
       "75%               30.00  \n",
       "max              118.00  "
      ]
     },
     "execution_count": 2856,
     "metadata": {},
     "output_type": "execute_result"
    }
   ],
   "source": [
    "products_df.describe().round(2)"
   ]
  },
  {
   "cell_type": "markdown",
   "metadata": {},
   "source": [
    "**Insight:**\n",
    "1. **Most frequent product categories** & **The rarest product category**\n",
    "    - Kategori produk yang memiliki varian produk terbanyak adalah *bed_bath_table*.\n",
    "    - Kategori produk yang memiliki varian produk paling sedikit adalah *cds_dvds_musicals*.\n",
    "2. `product_name_lenght`\n",
    "    - Panjang nama produk bervariasi antara **5** hingga **76** karakter dengan rata-rata panjang sebesar **48.48** karakter. \n",
    "    - Hal ini menunjukkan bahwa rata-rata nama produk relatif singkat dan deskriptif.\n",
    "3. `product_description_lenght`\n",
    "    - Panjang deskripsi produk berkisar dari **4** hingga **3992** karakter, dengan rata-rata deskripsi sebesar **771.5** karakter. \n",
    "    - Ini menunjukkan bahwa sebagian besar produk memiliki deskripsi yang cukup detail, namun ada beberapa produk dengan deskripsi yang sangat singkat.\n",
    "4. `product_photos_qty`\n",
    "    - Setiap produk memiliki antara **1** hingga **20** foto, dengan rata-rata jumlah foto sebesar **2.19**. \n",
    "    - Ini menunjukkan bahwa sebagian besar produk didokumentasikan dengan baik menggunakan setidaknya satu foto, namun ada juga yang memiliki lebih banyak foto untuk mendukung promosi produk."
   ]
  },
  {
   "cell_type": "markdown",
   "metadata": {},
   "source": [
    "### Eksplorasi Data `orders_df`, `order_items_df`, dan `order_reviews_df`"
   ]
  },
  {
   "cell_type": "markdown",
   "metadata": {},
   "source": [
    "#### Eksplorasi Data `orders_df`"
   ]
  },
  {
   "cell_type": "code",
   "execution_count": 2857,
   "metadata": {},
   "outputs": [
    {
     "data": {
      "text/html": [
       "<div>\n",
       "<style scoped>\n",
       "    .dataframe tbody tr th:only-of-type {\n",
       "        vertical-align: middle;\n",
       "    }\n",
       "\n",
       "    .dataframe tbody tr th {\n",
       "        vertical-align: top;\n",
       "    }\n",
       "\n",
       "    .dataframe thead th {\n",
       "        text-align: right;\n",
       "    }\n",
       "</style>\n",
       "<table border=\"1\" class=\"dataframe\">\n",
       "  <thead>\n",
       "    <tr style=\"text-align: right;\">\n",
       "      <th></th>\n",
       "      <th>order_id</th>\n",
       "      <th>customer_id</th>\n",
       "      <th>order_status</th>\n",
       "      <th>order_purchase_timestamp</th>\n",
       "      <th>order_approved_at</th>\n",
       "      <th>order_delivered_carrier_date</th>\n",
       "      <th>order_delivered_customer_date</th>\n",
       "      <th>order_estimated_delivery_date</th>\n",
       "      <th>approval_time_diff</th>\n",
       "    </tr>\n",
       "  </thead>\n",
       "  <tbody>\n",
       "    <tr>\n",
       "      <th>0</th>\n",
       "      <td>e481f51cbdc54678b7cc49136f2d6af7</td>\n",
       "      <td>9ef432eb6251297304e76186b10a928d</td>\n",
       "      <td>delivered</td>\n",
       "      <td>2017-10-02 10:56:33</td>\n",
       "      <td>2017-10-02 11:07:15</td>\n",
       "      <td>2017-10-04 19:55:00</td>\n",
       "      <td>2017-10-10 21:25:13</td>\n",
       "      <td>2017-10-18</td>\n",
       "      <td>0.18</td>\n",
       "    </tr>\n",
       "    <tr>\n",
       "      <th>1</th>\n",
       "      <td>53cdb2fc8bc7dce0b6741e2150273451</td>\n",
       "      <td>b0830fb4747a6c6d20dea0b8c802d7ef</td>\n",
       "      <td>delivered</td>\n",
       "      <td>2018-07-24 20:41:37</td>\n",
       "      <td>2018-07-26 03:24:27</td>\n",
       "      <td>2018-07-26 14:31:00</td>\n",
       "      <td>2018-08-07 15:27:45</td>\n",
       "      <td>2018-08-13</td>\n",
       "      <td>30.71</td>\n",
       "    </tr>\n",
       "    <tr>\n",
       "      <th>2</th>\n",
       "      <td>47770eb9100c2d0c44946d9cf07ec65d</td>\n",
       "      <td>41ce2a54c0b03bf3443c3d931a367089</td>\n",
       "      <td>delivered</td>\n",
       "      <td>2018-08-08 08:38:49</td>\n",
       "      <td>2018-08-08 08:55:23</td>\n",
       "      <td>2018-08-08 13:50:00</td>\n",
       "      <td>2018-08-17 18:06:29</td>\n",
       "      <td>2018-09-04</td>\n",
       "      <td>0.28</td>\n",
       "    </tr>\n",
       "  </tbody>\n",
       "</table>\n",
       "</div>"
      ],
      "text/plain": [
       "                           order_id                       customer_id  \\\n",
       "0  e481f51cbdc54678b7cc49136f2d6af7  9ef432eb6251297304e76186b10a928d   \n",
       "1  53cdb2fc8bc7dce0b6741e2150273451  b0830fb4747a6c6d20dea0b8c802d7ef   \n",
       "2  47770eb9100c2d0c44946d9cf07ec65d  41ce2a54c0b03bf3443c3d931a367089   \n",
       "\n",
       "  order_status order_purchase_timestamp   order_approved_at  \\\n",
       "0    delivered      2017-10-02 10:56:33 2017-10-02 11:07:15   \n",
       "1    delivered      2018-07-24 20:41:37 2018-07-26 03:24:27   \n",
       "2    delivered      2018-08-08 08:38:49 2018-08-08 08:55:23   \n",
       "\n",
       "  order_delivered_carrier_date order_delivered_customer_date  \\\n",
       "0          2017-10-04 19:55:00           2017-10-10 21:25:13   \n",
       "1          2018-07-26 14:31:00           2018-08-07 15:27:45   \n",
       "2          2018-08-08 13:50:00           2018-08-17 18:06:29   \n",
       "\n",
       "  order_estimated_delivery_date  approval_time_diff  \n",
       "0                    2017-10-18                0.18  \n",
       "1                    2018-08-13               30.71  \n",
       "2                    2018-09-04                0.28  "
      ]
     },
     "execution_count": 2857,
     "metadata": {},
     "output_type": "execute_result"
    }
   ],
   "source": [
    "orders_df.head(3)"
   ]
  },
  {
   "cell_type": "code",
   "execution_count": 2858,
   "metadata": {},
   "outputs": [
    {
     "name": "stdout",
     "output_type": "stream",
     "text": [
      "<class 'pandas.core.frame.DataFrame'>\n",
      "RangeIndex: 99441 entries, 0 to 99440\n",
      "Data columns (total 9 columns):\n",
      " #   Column                         Non-Null Count  Dtype         \n",
      "---  ------                         --------------  -----         \n",
      " 0   order_id                       99441 non-null  object        \n",
      " 1   customer_id                    99441 non-null  object        \n",
      " 2   order_status                   99441 non-null  object        \n",
      " 3   order_purchase_timestamp       99441 non-null  datetime64[ns]\n",
      " 4   order_approved_at              99441 non-null  datetime64[ns]\n",
      " 5   order_delivered_carrier_date   97658 non-null  datetime64[ns]\n",
      " 6   order_delivered_customer_date  96476 non-null  datetime64[ns]\n",
      " 7   order_estimated_delivery_date  99441 non-null  datetime64[ns]\n",
      " 8   approval_time_diff             99441 non-null  float64       \n",
      "dtypes: datetime64[ns](5), float64(1), object(3)\n",
      "memory usage: 6.8+ MB\n",
      "\n",
      "(rows, collumns): \t\t(99441, 9)\n",
      "nunique of order_id: \t\t99441\n",
      "nunique of customer_id: \t99441\n",
      "nunique of order_status: \t8\n",
      "\n",
      "Number of duplicate rows: \t\t0\n",
      "Number of duplicate in order_id: \t0\n",
      "Number of duplicate in customer_id: \t0\n"
     ]
    }
   ],
   "source": [
    "orders_df.info()\n",
    "\n",
    "print(f\"\\n(rows, collumns): \\t\\t{orders_df.shape}\")\n",
    "print(f\"nunique of order_id: \\t\\t{orders_df['order_id'].nunique()}\")\n",
    "print(f\"nunique of customer_id: \\t{orders_df['customer_id'].nunique()}\")\n",
    "print(f\"nunique of order_status: \\t{orders_df['order_status'].nunique()}\")\n",
    "\n",
    "print(f\"\\nNumber of duplicate rows: \\t\\t{orders_df.duplicated().sum()}\")\n",
    "print(f\"Number of duplicate in order_id: \\t{orders_df['order_id'].duplicated().sum()}\")\n",
    "print(\n",
    "    f\"Number of duplicate in customer_id: \\t{orders_df['customer_id'].duplicated().sum()}\"\n",
    ")"
   ]
  },
  {
   "cell_type": "code",
   "execution_count": 2927,
   "metadata": {},
   "outputs": [
    {
     "name": "stdout",
     "output_type": "stream",
     "text": [
      "\n",
      "Distribution of Order Statuses\n",
      "--------------------------------------------------\n",
      "Order Status  Count Percentage\n",
      "   delivered  96478     97.02%\n",
      "     shipped   1107      1.11%\n",
      "    canceled    625      0.63%\n",
      " unavailable    609      0.61%\n",
      "    invoiced    314      0.32%\n",
      "  processing    301      0.30%\n",
      "     created      5      0.01%\n",
      "    approved      2      0.00%\n",
      "--------------------------------------------------\n",
      "Total Orders: 99441\n"
     ]
    }
   ],
   "source": [
    "status_counts = orders_df[\"order_status\"].value_counts()\n",
    "\n",
    "total_orders = status_counts.sum()\n",
    "percentages = (status_counts / total_orders * 100).round(2)\n",
    "\n",
    "output_df = pd.DataFrame({\n",
    "    'Order Status': status_counts.index,\n",
    "    'Count': status_counts.values,\n",
    "    'Percentage': percentages.values\n",
    "})\n",
    "\n",
    "output_df['Percentage'] = output_df['Percentage'].map(\"{:.2f}%\".format)\n",
    "\n",
    "print(\"\\nDistribution of Order Statuses\")\n",
    "print(\"-\" * 50)\n",
    "print(output_df.to_string(index=False))\n",
    "print(\"-\" * 50)\n",
    "print(f\"Total Orders: {total_orders}\")"
   ]
  },
  {
   "cell_type": "markdown",
   "metadata": {},
   "source": [
    "##### **Memahami Distribusi `approval_time_diff`**"
   ]
  },
  {
   "cell_type": "code",
   "execution_count": 2926,
   "metadata": {},
   "outputs": [
    {
     "name": "stdout",
     "output_type": "stream",
     "text": [
      "\n",
      "Descriptive Statistics of Approval Time Difference\n",
      "--------------------------------------------------\n",
      "Statistic    Value\n",
      "    count 99441.00\n",
      "     mean    10.42\n",
      "      std    26.02\n",
      "      min     0.00\n",
      "      25%     0.22\n",
      "      50%     0.34\n",
      "      75%    14.54\n",
      "      max  4509.18\n",
      "--------------------------------------------------\n"
     ]
    }
   ],
   "source": [
    "# Assuming orders_df is your DataFrame\n",
    "stats = orders_df[\"approval_time_diff\"].describe().round(2)\n",
    "\n",
    "# Create a DataFrame for better formatting\n",
    "output_df = pd.DataFrame({\n",
    "    'Statistic': stats.index,\n",
    "    'Value': stats.values\n",
    "})\n",
    "\n",
    "# Format the 'Value' column to handle both integers and floats\n",
    "output_df['Value'] = output_df['Value'].apply(lambda x: f\"{x:.2f}\" if isinstance(x, float) else f\"{int(x)}\")\n",
    "\n",
    "# Print the formatted table\n",
    "print(\"\\nDescriptive Statistics of Approval Time Difference\")\n",
    "print(\"-\" * 50)\n",
    "print(output_df.to_string(index=False))\n",
    "print(\"-\" * 50)"
   ]
  },
  {
   "cell_type": "code",
   "execution_count": 2861,
   "metadata": {},
   "outputs": [
    {
     "data": {
      "text/html": [
       "<div>\n",
       "<style scoped>\n",
       "    .dataframe tbody tr th:only-of-type {\n",
       "        vertical-align: middle;\n",
       "    }\n",
       "\n",
       "    .dataframe tbody tr th {\n",
       "        vertical-align: top;\n",
       "    }\n",
       "\n",
       "    .dataframe thead th {\n",
       "        text-align: right;\n",
       "    }\n",
       "</style>\n",
       "<table border=\"1\" class=\"dataframe\">\n",
       "  <thead>\n",
       "    <tr style=\"text-align: right;\">\n",
       "      <th></th>\n",
       "      <th>order_id</th>\n",
       "      <th>order_status</th>\n",
       "      <th>approval_time_diff</th>\n",
       "    </tr>\n",
       "  </thead>\n",
       "  <tbody>\n",
       "    <tr>\n",
       "      <th>96251</th>\n",
       "      <td>0a93b40850d3f4becf2f276666e01340</td>\n",
       "      <td>delivered</td>\n",
       "      <td>741.44</td>\n",
       "    </tr>\n",
       "    <tr>\n",
       "      <th>55708</th>\n",
       "      <td>f7923db0430587601c2aef15ec4b8af4</td>\n",
       "      <td>delivered</td>\n",
       "      <td>738.45</td>\n",
       "    </tr>\n",
       "    <tr>\n",
       "      <th>88671</th>\n",
       "      <td>de0076b42a023f53b398ce9ab0d9009c</td>\n",
       "      <td>delivered</td>\n",
       "      <td>554.78</td>\n",
       "    </tr>\n",
       "    <tr>\n",
       "      <th>71651</th>\n",
       "      <td>daed0f3aefd193de33c31e21b16a3b3a</td>\n",
       "      <td>delivered</td>\n",
       "      <td>404.23</td>\n",
       "    </tr>\n",
       "    <tr>\n",
       "      <th>73881</th>\n",
       "      <td>9c038e10f14d12a96939a0176c4ecc99</td>\n",
       "      <td>delivered</td>\n",
       "      <td>319.53</td>\n",
       "    </tr>\n",
       "  </tbody>\n",
       "</table>\n",
       "</div>"
      ],
      "text/plain": [
       "                               order_id order_status  approval_time_diff\n",
       "96251  0a93b40850d3f4becf2f276666e01340    delivered              741.44\n",
       "55708  f7923db0430587601c2aef15ec4b8af4    delivered              738.45\n",
       "88671  de0076b42a023f53b398ce9ab0d9009c    delivered              554.78\n",
       "71651  daed0f3aefd193de33c31e21b16a3b3a    delivered              404.23\n",
       "73881  9c038e10f14d12a96939a0176c4ecc99    delivered              319.53"
      ]
     },
     "execution_count": 2861,
     "metadata": {},
     "output_type": "execute_result"
    }
   ],
   "source": [
    "delivered_status_df = orders_df[orders_df[\"order_status\"] == \"delivered\"].sort_values(\n",
    "    \"approval_time_diff\", ascending=False\n",
    ")\n",
    "\n",
    "delivered_status_df[[\"order_id\", \"order_status\", \"approval_time_diff\"]].head()"
   ]
  },
  {
   "cell_type": "code",
   "execution_count": 2862,
   "metadata": {},
   "outputs": [
    {
     "data": {
      "text/html": [
       "<div>\n",
       "<style scoped>\n",
       "    .dataframe tbody tr th:only-of-type {\n",
       "        vertical-align: middle;\n",
       "    }\n",
       "\n",
       "    .dataframe tbody tr th {\n",
       "        vertical-align: top;\n",
       "    }\n",
       "\n",
       "    .dataframe thead th {\n",
       "        text-align: right;\n",
       "    }\n",
       "</style>\n",
       "<table border=\"1\" class=\"dataframe\">\n",
       "  <thead>\n",
       "    <tr style=\"text-align: right;\">\n",
       "      <th></th>\n",
       "      <th>order_id</th>\n",
       "      <th>order_status</th>\n",
       "      <th>approval_time_diff</th>\n",
       "    </tr>\n",
       "  </thead>\n",
       "  <tbody>\n",
       "    <tr>\n",
       "      <th>90080</th>\n",
       "      <td>8c006b6688741e47144a6f79f96e225d</td>\n",
       "      <td>delivered</td>\n",
       "      <td>0.0</td>\n",
       "    </tr>\n",
       "    <tr>\n",
       "      <th>35078</th>\n",
       "      <td>898ded7ecb1e4d92997856bd8b7a8aa1</td>\n",
       "      <td>delivered</td>\n",
       "      <td>0.0</td>\n",
       "    </tr>\n",
       "    <tr>\n",
       "      <th>78152</th>\n",
       "      <td>dd13617f642718bd4cdc450d197960f9</td>\n",
       "      <td>delivered</td>\n",
       "      <td>0.0</td>\n",
       "    </tr>\n",
       "    <tr>\n",
       "      <th>35091</th>\n",
       "      <td>2dc3f680b2788d38f7162482b575e41a</td>\n",
       "      <td>delivered</td>\n",
       "      <td>0.0</td>\n",
       "    </tr>\n",
       "    <tr>\n",
       "      <th>55171</th>\n",
       "      <td>380bf78bcf690a6955b8f1de575e26ba</td>\n",
       "      <td>delivered</td>\n",
       "      <td>0.0</td>\n",
       "    </tr>\n",
       "  </tbody>\n",
       "</table>\n",
       "</div>"
      ],
      "text/plain": [
       "                               order_id order_status  approval_time_diff\n",
       "90080  8c006b6688741e47144a6f79f96e225d    delivered                 0.0\n",
       "35078  898ded7ecb1e4d92997856bd8b7a8aa1    delivered                 0.0\n",
       "78152  dd13617f642718bd4cdc450d197960f9    delivered                 0.0\n",
       "35091  2dc3f680b2788d38f7162482b575e41a    delivered                 0.0\n",
       "55171  380bf78bcf690a6955b8f1de575e26ba    delivered                 0.0"
      ]
     },
     "execution_count": 2862,
     "metadata": {},
     "output_type": "execute_result"
    }
   ],
   "source": [
    "delivered_status_df[[\"order_id\", \"order_status\", \"approval_time_diff\"]].tail()"
   ]
  },
  {
   "cell_type": "code",
   "execution_count": 2923,
   "metadata": {},
   "outputs": [
    {
     "name": "stdout",
     "output_type": "stream",
     "text": [
      "\n",
      "Distribution of Delivered Orders by Approval Time\n",
      "----------------------------------------------------------------------\n",
      "Time Range (hours)  Count Percentage\n",
      "         diff <= 0   1244     1.289%\n",
      "    0 < diff <= 24  78386    81.248%\n",
      "   24 < diff <= 48  11872    12.305%\n",
      "   48 < diff <= 72   2798     2.900%\n",
      "   72 < diff <= 96   1453     1.506%\n",
      "  96 < diff <= 168    657     0.681%\n",
      " 168 < diff <= 336     64     0.066%\n",
      " 336 < diff <= 504      1     0.001%\n",
      " 504 < diff <= 720      1     0.001%\n",
      "        diff > 720      2     0.002%\n",
      "----------------------------------------------------------------------\n",
      "Total delivered orders: 96478\n"
     ]
    }
   ],
   "source": [
    "bins = [\n",
    "    -float(\"inf\"),  # Less than or equal to 0\n",
    "    0,  # 0 hours\n",
    "    24,  # 1 day\n",
    "    48,  # 2 days\n",
    "    72,  # 3 days\n",
    "    96,  # 4 days\n",
    "    168,  # 7 days\n",
    "    336,  # 14 days\n",
    "    504,  # 21 days\n",
    "    720,  # 30 days\n",
    "    float(\"inf\"),  # More than 30 days\n",
    "]\n",
    "\n",
    "labels = [\n",
    "    \"diff <= 0\",\n",
    "    \"0 < diff <= 24\",\n",
    "    \"24 < diff <= 48\",\n",
    "    \"48 < diff <= 72\",\n",
    "    \"72 < diff <= 96\",\n",
    "    \"96 < diff <= 168\",  # 4 < diff <= 7 days\n",
    "    \"168 < diff <= 336\",  # 7 < diff <= 14 days\n",
    "    \"336 < diff <= 504\",  # 14 < diff <= 21 days\n",
    "    \"504 < diff <= 720\",  # 21 < diff <= 30 days\n",
    "    \"diff > 720\",  # > 30 days\n",
    "]\n",
    "\n",
    "# Assign time ranges to the 'approval_time_diff' column for the delivered orders DataFrame\n",
    "delivered_status_df[\"time_range\"] = pd.cut(\n",
    "    delivered_status_df[\"approval_time_diff\"], bins=bins, labels=labels, right=True\n",
    ")\n",
    "\n",
    "# Count occurrences of each time range\n",
    "counts = delivered_status_df[\"time_range\"].value_counts().reindex(labels, fill_value=0)\n",
    "\n",
    "# Calculate the total number of delivered orders\n",
    "total_delivered_orders = delivered_status_df.shape[0]\n",
    "\n",
    "# Create a DataFrame for the output\n",
    "output_df = pd.DataFrame({\n",
    "    'Time Range (hours)': labels,\n",
    "    'Count': counts,\n",
    "    'Percentage': (counts / total_delivered_orders) * 100\n",
    "})\n",
    "\n",
    "output_df['Percentage'] = output_df['Percentage'].map(\"{:.3f}%\".format)\n",
    "\n",
    "print(\"\\nDistribution of Delivered Orders by Approval Time\")\n",
    "print(\"-\" * 70)\n",
    "print(output_df.to_string(index=False))\n",
    "print(\"-\" * 70)\n",
    "print(f\"Total delivered orders: {total_delivered_orders}\")"
   ]
  },
  {
   "cell_type": "code",
   "execution_count": 2864,
   "metadata": {},
   "outputs": [
    {
     "data": {
      "text/html": [
       "<div>\n",
       "<style scoped>\n",
       "    .dataframe tbody tr th:only-of-type {\n",
       "        vertical-align: middle;\n",
       "    }\n",
       "\n",
       "    .dataframe tbody tr th {\n",
       "        vertical-align: top;\n",
       "    }\n",
       "\n",
       "    .dataframe thead th {\n",
       "        text-align: right;\n",
       "    }\n",
       "</style>\n",
       "<table border=\"1\" class=\"dataframe\">\n",
       "  <thead>\n",
       "    <tr style=\"text-align: right;\">\n",
       "      <th></th>\n",
       "      <th>order_id</th>\n",
       "      <th>order_status</th>\n",
       "      <th>approval_time_diff</th>\n",
       "    </tr>\n",
       "  </thead>\n",
       "  <tbody>\n",
       "    <tr>\n",
       "      <th>4396</th>\n",
       "      <td>e5fa5a7210941f7d56d0208e4e071d35</td>\n",
       "      <td>canceled</td>\n",
       "      <td>781.03</td>\n",
       "    </tr>\n",
       "    <tr>\n",
       "      <th>53475</th>\n",
       "      <td>490291524fddde2b31c2e6bec3d9e6da</td>\n",
       "      <td>canceled</td>\n",
       "      <td>676.07</td>\n",
       "    </tr>\n",
       "    <tr>\n",
       "      <th>10071</th>\n",
       "      <td>809a282bbd5dbcabb6f2f724fca862ec</td>\n",
       "      <td>canceled</td>\n",
       "      <td>573.87</td>\n",
       "    </tr>\n",
       "    <tr>\n",
       "      <th>40076</th>\n",
       "      <td>7fd4b0e047195ca197c3660772a8d8c0</td>\n",
       "      <td>canceled</td>\n",
       "      <td>248.28</td>\n",
       "    </tr>\n",
       "    <tr>\n",
       "      <th>62406</th>\n",
       "      <td>123e27a1a4d0b2481d8618ac3dff7d4e</td>\n",
       "      <td>canceled</td>\n",
       "      <td>242.58</td>\n",
       "    </tr>\n",
       "  </tbody>\n",
       "</table>\n",
       "</div>"
      ],
      "text/plain": [
       "                               order_id order_status  approval_time_diff\n",
       "4396   e5fa5a7210941f7d56d0208e4e071d35     canceled              781.03\n",
       "53475  490291524fddde2b31c2e6bec3d9e6da     canceled              676.07\n",
       "10071  809a282bbd5dbcabb6f2f724fca862ec     canceled              573.87\n",
       "40076  7fd4b0e047195ca197c3660772a8d8c0     canceled              248.28\n",
       "62406  123e27a1a4d0b2481d8618ac3dff7d4e     canceled              242.58"
      ]
     },
     "execution_count": 2864,
     "metadata": {},
     "output_type": "execute_result"
    }
   ],
   "source": [
    "canceled_status_df = orders_df[orders_df[\"order_status\"] == \"canceled\"].sort_values(\n",
    "    \"approval_time_diff\", ascending=False\n",
    ")\n",
    "\n",
    "canceled_status_df[[\"order_id\", \"order_status\", \"approval_time_diff\"]].head()"
   ]
  },
  {
   "cell_type": "code",
   "execution_count": 2865,
   "metadata": {},
   "outputs": [
    {
     "data": {
      "text/html": [
       "<div>\n",
       "<style scoped>\n",
       "    .dataframe tbody tr th:only-of-type {\n",
       "        vertical-align: middle;\n",
       "    }\n",
       "\n",
       "    .dataframe tbody tr th {\n",
       "        vertical-align: top;\n",
       "    }\n",
       "\n",
       "    .dataframe thead th {\n",
       "        text-align: right;\n",
       "    }\n",
       "</style>\n",
       "<table border=\"1\" class=\"dataframe\">\n",
       "  <thead>\n",
       "    <tr style=\"text-align: right;\">\n",
       "      <th></th>\n",
       "      <th>order_id</th>\n",
       "      <th>order_status</th>\n",
       "      <th>approval_time_diff</th>\n",
       "    </tr>\n",
       "  </thead>\n",
       "  <tbody>\n",
       "    <tr>\n",
       "      <th>71603</th>\n",
       "      <td>b17fd4c033b06e8d888de8ea6105ef9d</td>\n",
       "      <td>canceled</td>\n",
       "      <td>0.0</td>\n",
       "    </tr>\n",
       "    <tr>\n",
       "      <th>67963</th>\n",
       "      <td>5b9680f27b5067afded00b23f9cb4d61</td>\n",
       "      <td>canceled</td>\n",
       "      <td>0.0</td>\n",
       "    </tr>\n",
       "    <tr>\n",
       "      <th>28846</th>\n",
       "      <td>9abe82df39e950e1e0c1a5969e22571e</td>\n",
       "      <td>canceled</td>\n",
       "      <td>0.0</td>\n",
       "    </tr>\n",
       "    <tr>\n",
       "      <th>28455</th>\n",
       "      <td>d01c5b46e00bd214519fe9f64bbb2649</td>\n",
       "      <td>canceled</td>\n",
       "      <td>0.0</td>\n",
       "    </tr>\n",
       "    <tr>\n",
       "      <th>80797</th>\n",
       "      <td>983e16bfbe23e60f23a6fcb9c4792204</td>\n",
       "      <td>canceled</td>\n",
       "      <td>0.0</td>\n",
       "    </tr>\n",
       "  </tbody>\n",
       "</table>\n",
       "</div>"
      ],
      "text/plain": [
       "                               order_id order_status  approval_time_diff\n",
       "71603  b17fd4c033b06e8d888de8ea6105ef9d     canceled                 0.0\n",
       "67963  5b9680f27b5067afded00b23f9cb4d61     canceled                 0.0\n",
       "28846  9abe82df39e950e1e0c1a5969e22571e     canceled                 0.0\n",
       "28455  d01c5b46e00bd214519fe9f64bbb2649     canceled                 0.0\n",
       "80797  983e16bfbe23e60f23a6fcb9c4792204     canceled                 0.0"
      ]
     },
     "execution_count": 2865,
     "metadata": {},
     "output_type": "execute_result"
    }
   ],
   "source": [
    "canceled_status_df[[\"order_id\", \"order_status\", \"approval_time_diff\"]].tail()"
   ]
  },
  {
   "cell_type": "code",
   "execution_count": 2925,
   "metadata": {},
   "outputs": [
    {
     "name": "stdout",
     "output_type": "stream",
     "text": [
      "\n",
      "Distribution of Canceled Orders by Approval Time\n",
      "------------------------------------------------------------\n",
      "       Time Range  Count Percentage\n",
      "        diff <= 0     18      2.88%\n",
      "   0 < diff <= 24    525     84.00%\n",
      "  24 < diff <= 48     56      8.96%\n",
      "  48 < diff <= 72     10      1.60%\n",
      "  72 < diff <= 96      8      1.28%\n",
      " 96 < diff <= 168      1      0.16%\n",
      "168 < diff <= 336      4      0.64%\n",
      "336 < diff <= 504      0      0.00%\n",
      "504 < diff <= 720      2      0.32%\n",
      "       diff > 720      1      0.16%\n",
      "------------------------------------------------------------\n",
      "Total canceled orders: 625\n"
     ]
    }
   ],
   "source": [
    "canceled_status_df[\"time_range\"] = pd.cut(\n",
    "    canceled_status_df[\"approval_time_diff\"], bins=bins, labels=labels, right=True\n",
    ")\n",
    "\n",
    "counts = canceled_status_df[\"time_range\"].value_counts().reindex(labels, fill_value=0)\n",
    "\n",
    "total_canceled_orders = canceled_status_df.shape[0]\n",
    "\n",
    "output_df = pd.DataFrame({\n",
    "    'Time Range': labels,\n",
    "    'Count': counts,\n",
    "    'Percentage': (counts / total_canceled_orders) * 100\n",
    "})\n",
    "\n",
    "output_df['Percentage'] = output_df['Percentage'].map(\"{:.2f}%\".format)\n",
    "\n",
    "print(\"\\nDistribution of Canceled Orders by Approval Time\")\n",
    "print(\"-\" * 60)\n",
    "print(output_df.to_string(index=False))\n",
    "print(\"-\" * 60)\n",
    "print(f\"Total canceled orders: {total_canceled_orders}\")"
   ]
  },
  {
   "cell_type": "markdown",
   "metadata": {},
   "source": [
    "**Insight:**\n",
    "1. **Pesanan yang dibatalkan cenderung disetujui lebih cepat**\n",
    "    - Berdasarkan `approval_time_diff`:\n",
    "        - `canceled`: **84.00%** disetujui dalam 24 jam pertama\n",
    "        - `delivered`: **81.25%** disetujui dalam 24 jam pertama\n",
    "    - Terindikasi bahwa **kecepatan persetujuan bukan faktor utama pembatalan pesanan oleh pelanggan.**\n",
    "2. Data ini menunjukkan bahwa pembeli tidak membatalkan pesanan karena terlalu lama persetujuan. Sebaliknya, pembatalan tampaknya lebih dipengaruhi oleh faktor-faktor lain yang tidak terlihat dalam data ini."
   ]
  },
  {
   "cell_type": "markdown",
   "metadata": {},
   "source": [
    "##### **Drop Unnecessary Data**"
   ]
  },
  {
   "cell_type": "code",
   "execution_count": 2867,
   "metadata": {},
   "outputs": [
    {
     "data": {
      "text/html": [
       "<div>\n",
       "<style scoped>\n",
       "    .dataframe tbody tr th:only-of-type {\n",
       "        vertical-align: middle;\n",
       "    }\n",
       "\n",
       "    .dataframe tbody tr th {\n",
       "        vertical-align: top;\n",
       "    }\n",
       "\n",
       "    .dataframe thead th {\n",
       "        text-align: right;\n",
       "    }\n",
       "</style>\n",
       "<table border=\"1\" class=\"dataframe\">\n",
       "  <thead>\n",
       "    <tr style=\"text-align: right;\">\n",
       "      <th></th>\n",
       "      <th>counts</th>\n",
       "      <th>percentage</th>\n",
       "    </tr>\n",
       "    <tr>\n",
       "      <th>order_status</th>\n",
       "      <th></th>\n",
       "      <th></th>\n",
       "    </tr>\n",
       "  </thead>\n",
       "  <tbody>\n",
       "    <tr>\n",
       "      <th>delivered</th>\n",
       "      <td>96478</td>\n",
       "      <td>97.020</td>\n",
       "    </tr>\n",
       "    <tr>\n",
       "      <th>shipped</th>\n",
       "      <td>1107</td>\n",
       "      <td>1.113</td>\n",
       "    </tr>\n",
       "    <tr>\n",
       "      <th>canceled</th>\n",
       "      <td>625</td>\n",
       "      <td>0.629</td>\n",
       "    </tr>\n",
       "    <tr>\n",
       "      <th>unavailable</th>\n",
       "      <td>609</td>\n",
       "      <td>0.612</td>\n",
       "    </tr>\n",
       "    <tr>\n",
       "      <th>invoiced</th>\n",
       "      <td>314</td>\n",
       "      <td>0.316</td>\n",
       "    </tr>\n",
       "    <tr>\n",
       "      <th>processing</th>\n",
       "      <td>301</td>\n",
       "      <td>0.303</td>\n",
       "    </tr>\n",
       "    <tr>\n",
       "      <th>created</th>\n",
       "      <td>5</td>\n",
       "      <td>0.005</td>\n",
       "    </tr>\n",
       "    <tr>\n",
       "      <th>approved</th>\n",
       "      <td>2</td>\n",
       "      <td>0.002</td>\n",
       "    </tr>\n",
       "  </tbody>\n",
       "</table>\n",
       "</div>"
      ],
      "text/plain": [
       "              counts  percentage\n",
       "order_status                    \n",
       "delivered      96478      97.020\n",
       "shipped         1107       1.113\n",
       "canceled         625       0.629\n",
       "unavailable      609       0.612\n",
       "invoiced         314       0.316\n",
       "processing       301       0.303\n",
       "created            5       0.005\n",
       "approved           2       0.002"
      ]
     },
     "execution_count": 2867,
     "metadata": {},
     "output_type": "execute_result"
    }
   ],
   "source": [
    "value_counts = orders_df[\"order_status\"].value_counts()\n",
    "percentage = (value_counts / value_counts.sum()) * 100\n",
    "\n",
    "percentage_df = pd.DataFrame(\n",
    "    {\"counts\": value_counts, \"percentage\": percentage.round(3)}\n",
    ")\n",
    "\n",
    "percentage_df"
   ]
  },
  {
   "cell_type": "markdown",
   "metadata": {},
   "source": [
    "#### Eksplorasi Data `orders_df` dan `order_reviews_df`"
   ]
  },
  {
   "cell_type": "code",
   "execution_count": 2868,
   "metadata": {},
   "outputs": [
    {
     "name": "stdout",
     "output_type": "stream",
     "text": [
      "<class 'pandas.core.frame.DataFrame'>\n",
      "RangeIndex: 99992 entries, 0 to 99991\n",
      "Data columns (total 15 columns):\n",
      " #   Column                         Non-Null Count  Dtype         \n",
      "---  ------                         --------------  -----         \n",
      " 0   order_id                       99992 non-null  object        \n",
      " 1   customer_id                    99992 non-null  object        \n",
      " 2   order_status                   99992 non-null  object        \n",
      " 3   order_purchase_timestamp       99992 non-null  datetime64[ns]\n",
      " 4   order_approved_at              99992 non-null  datetime64[ns]\n",
      " 5   order_delivered_carrier_date   98199 non-null  datetime64[ns]\n",
      " 6   order_delivered_customer_date  97005 non-null  datetime64[ns]\n",
      " 7   order_estimated_delivery_date  99992 non-null  datetime64[ns]\n",
      " 8   approval_time_diff             99992 non-null  float64       \n",
      " 9   review_id                      99224 non-null  object        \n",
      " 10  review_score                   99224 non-null  Int64         \n",
      " 11  review_comment_title           99224 non-null  object        \n",
      " 12  review_comment_message         99224 non-null  object        \n",
      " 13  review_creation_date           99224 non-null  datetime64[ns]\n",
      " 14  review_answer_timestamp        99224 non-null  datetime64[ns]\n",
      "dtypes: Int64(1), datetime64[ns](7), float64(1), object(6)\n",
      "memory usage: 11.5+ MB\n"
     ]
    }
   ],
   "source": [
    "merged_df = pd.merge(\n",
    "    orders_df, order_reviews_df, on=\"order_id\", how=\"left\", suffixes=(\"\", \"_reviews\")\n",
    ")\n",
    "\n",
    "merged_df[\"review_score\"] = merged_df[\"review_score\"].astype(\"Int64\")\n",
    "\n",
    "merged_df.info()"
   ]
  },
  {
   "cell_type": "code",
   "execution_count": 2902,
   "metadata": {},
   "outputs": [
    {
     "data": {
      "text/html": [
       "<div>\n",
       "<style scoped>\n",
       "    .dataframe tbody tr th:only-of-type {\n",
       "        vertical-align: middle;\n",
       "    }\n",
       "\n",
       "    .dataframe tbody tr th {\n",
       "        vertical-align: top;\n",
       "    }\n",
       "\n",
       "    .dataframe thead th {\n",
       "        text-align: right;\n",
       "    }\n",
       "</style>\n",
       "<table border=\"1\" class=\"dataframe\">\n",
       "  <thead>\n",
       "    <tr style=\"text-align: right;\">\n",
       "      <th></th>\n",
       "      <th>0</th>\n",
       "      <th>1</th>\n",
       "      <th>2</th>\n",
       "      <th>3</th>\n",
       "      <th>4</th>\n",
       "    </tr>\n",
       "  </thead>\n",
       "  <tbody>\n",
       "    <tr>\n",
       "      <th>order_id</th>\n",
       "      <td>e481f51cbdc54678b7cc49136f2d6af7</td>\n",
       "      <td>53cdb2fc8bc7dce0b6741e2150273451</td>\n",
       "      <td>47770eb9100c2d0c44946d9cf07ec65d</td>\n",
       "      <td>949d5b44dbf5de918fe9c16f97b45f8a</td>\n",
       "      <td>ad21c59c0840e6cb83a9ceb5573f8159</td>\n",
       "    </tr>\n",
       "    <tr>\n",
       "      <th>customer_id</th>\n",
       "      <td>9ef432eb6251297304e76186b10a928d</td>\n",
       "      <td>b0830fb4747a6c6d20dea0b8c802d7ef</td>\n",
       "      <td>41ce2a54c0b03bf3443c3d931a367089</td>\n",
       "      <td>f88197465ea7920adcdbec7375364d82</td>\n",
       "      <td>8ab97904e6daea8866dbdbc4fb7aad2c</td>\n",
       "    </tr>\n",
       "    <tr>\n",
       "      <th>order_status</th>\n",
       "      <td>delivered</td>\n",
       "      <td>delivered</td>\n",
       "      <td>delivered</td>\n",
       "      <td>delivered</td>\n",
       "      <td>delivered</td>\n",
       "    </tr>\n",
       "    <tr>\n",
       "      <th>order_purchase_timestamp</th>\n",
       "      <td>2017-10-02 10:56:33</td>\n",
       "      <td>2018-07-24 20:41:37</td>\n",
       "      <td>2018-08-08 08:38:49</td>\n",
       "      <td>2017-11-18 19:28:06</td>\n",
       "      <td>2018-02-13 21:18:39</td>\n",
       "    </tr>\n",
       "    <tr>\n",
       "      <th>order_approved_at</th>\n",
       "      <td>2017-10-02 11:07:15</td>\n",
       "      <td>2018-07-26 03:24:27</td>\n",
       "      <td>2018-08-08 08:55:23</td>\n",
       "      <td>2017-11-18 19:45:59</td>\n",
       "      <td>2018-02-13 22:20:29</td>\n",
       "    </tr>\n",
       "    <tr>\n",
       "      <th>order_delivered_carrier_date</th>\n",
       "      <td>2017-10-04 19:55:00</td>\n",
       "      <td>2018-07-26 14:31:00</td>\n",
       "      <td>2018-08-08 13:50:00</td>\n",
       "      <td>2017-11-22 13:39:59</td>\n",
       "      <td>2018-02-14 19:46:34</td>\n",
       "    </tr>\n",
       "    <tr>\n",
       "      <th>order_delivered_customer_date</th>\n",
       "      <td>2017-10-10 21:25:13</td>\n",
       "      <td>2018-08-07 15:27:45</td>\n",
       "      <td>2018-08-17 18:06:29</td>\n",
       "      <td>2017-12-02 00:28:42</td>\n",
       "      <td>2018-02-16 18:17:02</td>\n",
       "    </tr>\n",
       "    <tr>\n",
       "      <th>order_estimated_delivery_date</th>\n",
       "      <td>2017-10-18 00:00:00</td>\n",
       "      <td>2018-08-13 00:00:00</td>\n",
       "      <td>2018-09-04 00:00:00</td>\n",
       "      <td>2017-12-15 00:00:00</td>\n",
       "      <td>2018-02-26 00:00:00</td>\n",
       "    </tr>\n",
       "    <tr>\n",
       "      <th>approval_time_diff</th>\n",
       "      <td>0.18</td>\n",
       "      <td>30.71</td>\n",
       "      <td>0.28</td>\n",
       "      <td>0.3</td>\n",
       "      <td>1.03</td>\n",
       "    </tr>\n",
       "    <tr>\n",
       "      <th>review_id</th>\n",
       "      <td>a54f0611adc9ed256b57ede6b6eb5114</td>\n",
       "      <td>8d5266042046a06655c8db133d120ba5</td>\n",
       "      <td>e73b67b67587f7644d5bd1a52deb1b01</td>\n",
       "      <td>359d03e676b3c069f62cadba8dd3f6e8</td>\n",
       "      <td>e50934924e227544ba8246aeb3770dd4</td>\n",
       "    </tr>\n",
       "    <tr>\n",
       "      <th>review_score</th>\n",
       "      <td>4</td>\n",
       "      <td>4</td>\n",
       "      <td>5</td>\n",
       "      <td>5</td>\n",
       "      <td>5</td>\n",
       "    </tr>\n",
       "    <tr>\n",
       "      <th>review_comment_title</th>\n",
       "      <td>empty</td>\n",
       "      <td>Muito boa a loja</td>\n",
       "      <td>empty</td>\n",
       "      <td>empty</td>\n",
       "      <td>empty</td>\n",
       "    </tr>\n",
       "    <tr>\n",
       "      <th>review_comment_message</th>\n",
       "      <td>Não testei o produto ainda, mas ele veio correto e em boas condições. Apenas a caixa que veio bem amassada e danificada, o que ficará chato, pois se trata de um presente.</td>\n",
       "      <td>Muito bom o produto.</td>\n",
       "      <td>empty</td>\n",
       "      <td>O produto foi exatamente o que eu esperava e estava descrito no site e chegou bem antes da data prevista.</td>\n",
       "      <td>empty</td>\n",
       "    </tr>\n",
       "    <tr>\n",
       "      <th>review_creation_date</th>\n",
       "      <td>2017-10-11 00:00:00</td>\n",
       "      <td>2018-08-08 00:00:00</td>\n",
       "      <td>2018-08-18 00:00:00</td>\n",
       "      <td>2017-12-03 00:00:00</td>\n",
       "      <td>2018-02-17 00:00:00</td>\n",
       "    </tr>\n",
       "    <tr>\n",
       "      <th>review_answer_timestamp</th>\n",
       "      <td>2017-10-12 03:43:48</td>\n",
       "      <td>2018-08-08 18:37:50</td>\n",
       "      <td>2018-08-22 19:07:58</td>\n",
       "      <td>2017-12-05 19:21:58</td>\n",
       "      <td>2018-02-18 13:02:51</td>\n",
       "    </tr>\n",
       "  </tbody>\n",
       "</table>\n",
       "</div>"
      ],
      "text/plain": [
       "                                                                                                                                                                                                        0  \\\n",
       "order_id                                                                                                                                                                 e481f51cbdc54678b7cc49136f2d6af7   \n",
       "customer_id                                                                                                                                                              9ef432eb6251297304e76186b10a928d   \n",
       "order_status                                                                                                                                                                                    delivered   \n",
       "order_purchase_timestamp                                                                                                                                                              2017-10-02 10:56:33   \n",
       "order_approved_at                                                                                                                                                                     2017-10-02 11:07:15   \n",
       "order_delivered_carrier_date                                                                                                                                                          2017-10-04 19:55:00   \n",
       "order_delivered_customer_date                                                                                                                                                         2017-10-10 21:25:13   \n",
       "order_estimated_delivery_date                                                                                                                                                         2017-10-18 00:00:00   \n",
       "approval_time_diff                                                                                                                                                                                   0.18   \n",
       "review_id                                                                                                                                                                a54f0611adc9ed256b57ede6b6eb5114   \n",
       "review_score                                                                                                                                                                                            4   \n",
       "review_comment_title                                                                                                                                                                                empty   \n",
       "review_comment_message         Não testei o produto ainda, mas ele veio correto e em boas condições. Apenas a caixa que veio bem amassada e danificada, o que ficará chato, pois se trata de um presente.   \n",
       "review_creation_date                                                                                                                                                                  2017-10-11 00:00:00   \n",
       "review_answer_timestamp                                                                                                                                                               2017-10-12 03:43:48   \n",
       "\n",
       "                                                              1  \\\n",
       "order_id                       53cdb2fc8bc7dce0b6741e2150273451   \n",
       "customer_id                    b0830fb4747a6c6d20dea0b8c802d7ef   \n",
       "order_status                                          delivered   \n",
       "order_purchase_timestamp                    2018-07-24 20:41:37   \n",
       "order_approved_at                           2018-07-26 03:24:27   \n",
       "order_delivered_carrier_date                2018-07-26 14:31:00   \n",
       "order_delivered_customer_date               2018-08-07 15:27:45   \n",
       "order_estimated_delivery_date               2018-08-13 00:00:00   \n",
       "approval_time_diff                                        30.71   \n",
       "review_id                      8d5266042046a06655c8db133d120ba5   \n",
       "review_score                                                  4   \n",
       "review_comment_title                           Muito boa a loja   \n",
       "review_comment_message                     Muito bom o produto.   \n",
       "review_creation_date                        2018-08-08 00:00:00   \n",
       "review_answer_timestamp                     2018-08-08 18:37:50   \n",
       "\n",
       "                                                              2  \\\n",
       "order_id                       47770eb9100c2d0c44946d9cf07ec65d   \n",
       "customer_id                    41ce2a54c0b03bf3443c3d931a367089   \n",
       "order_status                                          delivered   \n",
       "order_purchase_timestamp                    2018-08-08 08:38:49   \n",
       "order_approved_at                           2018-08-08 08:55:23   \n",
       "order_delivered_carrier_date                2018-08-08 13:50:00   \n",
       "order_delivered_customer_date               2018-08-17 18:06:29   \n",
       "order_estimated_delivery_date               2018-09-04 00:00:00   \n",
       "approval_time_diff                                         0.28   \n",
       "review_id                      e73b67b67587f7644d5bd1a52deb1b01   \n",
       "review_score                                                  5   \n",
       "review_comment_title                                      empty   \n",
       "review_comment_message                                    empty   \n",
       "review_creation_date                        2018-08-18 00:00:00   \n",
       "review_answer_timestamp                     2018-08-22 19:07:58   \n",
       "\n",
       "                                                                                                                                       3  \\\n",
       "order_id                                                                                                949d5b44dbf5de918fe9c16f97b45f8a   \n",
       "customer_id                                                                                             f88197465ea7920adcdbec7375364d82   \n",
       "order_status                                                                                                                   delivered   \n",
       "order_purchase_timestamp                                                                                             2017-11-18 19:28:06   \n",
       "order_approved_at                                                                                                    2017-11-18 19:45:59   \n",
       "order_delivered_carrier_date                                                                                         2017-11-22 13:39:59   \n",
       "order_delivered_customer_date                                                                                        2017-12-02 00:28:42   \n",
       "order_estimated_delivery_date                                                                                        2017-12-15 00:00:00   \n",
       "approval_time_diff                                                                                                                   0.3   \n",
       "review_id                                                                                               359d03e676b3c069f62cadba8dd3f6e8   \n",
       "review_score                                                                                                                           5   \n",
       "review_comment_title                                                                                                               empty   \n",
       "review_comment_message         O produto foi exatamente o que eu esperava e estava descrito no site e chegou bem antes da data prevista.   \n",
       "review_creation_date                                                                                                 2017-12-03 00:00:00   \n",
       "review_answer_timestamp                                                                                              2017-12-05 19:21:58   \n",
       "\n",
       "                                                              4  \n",
       "order_id                       ad21c59c0840e6cb83a9ceb5573f8159  \n",
       "customer_id                    8ab97904e6daea8866dbdbc4fb7aad2c  \n",
       "order_status                                          delivered  \n",
       "order_purchase_timestamp                    2018-02-13 21:18:39  \n",
       "order_approved_at                           2018-02-13 22:20:29  \n",
       "order_delivered_carrier_date                2018-02-14 19:46:34  \n",
       "order_delivered_customer_date               2018-02-16 18:17:02  \n",
       "order_estimated_delivery_date               2018-02-26 00:00:00  \n",
       "approval_time_diff                                         1.03  \n",
       "review_id                      e50934924e227544ba8246aeb3770dd4  \n",
       "review_score                                                  5  \n",
       "review_comment_title                                      empty  \n",
       "review_comment_message                                    empty  \n",
       "review_creation_date                        2018-02-17 00:00:00  \n",
       "review_answer_timestamp                     2018-02-18 13:02:51  "
      ]
     },
     "execution_count": 2902,
     "metadata": {},
     "output_type": "execute_result"
    }
   ],
   "source": [
    "merged_df.head().T"
   ]
  },
  {
   "cell_type": "code",
   "execution_count": 2917,
   "metadata": {},
   "outputs": [
    {
     "name": "stdout",
     "output_type": "stream",
     "text": [
      "\n",
      "Distribution of Score Review\n",
      "----------------------------------------\n",
      "              Count Percentage\n",
      "Review Score                  \n",
      "1             11424     11.51%\n",
      "2              3151      3.18%\n",
      "3              8179      8.24%\n",
      "4             19142     19.29%\n",
      "5             57328     57.78%\n",
      "----------------------------------------\n",
      "Total: 99224\n"
     ]
    }
   ],
   "source": [
    "output = merged_df[\"review_score\"].value_counts().sort_index()\n",
    "\n",
    "df = pd.DataFrame({\"Review Score\": output.index, \"Count\": output.values})\n",
    "df[\"Percentage\"] = df[\"Count\"] / df[\"Count\"].sum() * 100\n",
    "\n",
    "df.set_index(\"Review Score\", inplace=True)\n",
    "\n",
    "df[\"Percentage\"] = df[\"Percentage\"].map(\"{:.2f}%\".format)\n",
    "\n",
    "# Print the formatted table\n",
    "print(\"\\nDistribution of Score Review\")\n",
    "print(\"-\" * 40)\n",
    "print(df.to_string())\n",
    "print(\"-\" * 40)\n",
    "print(f\"Total: {df['Count'].sum()}\")"
   ]
  },
  {
   "cell_type": "code",
   "execution_count": 2870,
   "metadata": {},
   "outputs": [
    {
     "data": {
      "text/plain": [
       "order_id                            0\n",
       "customer_id                         0\n",
       "order_status                        0\n",
       "order_purchase_timestamp            0\n",
       "order_approved_at                   0\n",
       "order_delivered_carrier_date     1793\n",
       "order_delivered_customer_date    2987\n",
       "order_estimated_delivery_date       0\n",
       "approval_time_diff                  0\n",
       "review_id                         768\n",
       "review_score                      768\n",
       "review_comment_title              768\n",
       "review_comment_message            768\n",
       "review_creation_date              768\n",
       "review_answer_timestamp           768\n",
       "dtype: int64"
      ]
     },
     "execution_count": 2870,
     "metadata": {},
     "output_type": "execute_result"
    }
   ],
   "source": [
    "merged_df.isna().sum()"
   ]
  },
  {
   "cell_type": "code",
   "execution_count": 2912,
   "metadata": {},
   "outputs": [
    {
     "name": "stdout",
     "output_type": "stream",
     "text": [
      "NaN values in review_score:\n"
     ]
    },
    {
     "data": {
      "text/html": [
       "<div>\n",
       "<style scoped>\n",
       "    .dataframe tbody tr th:only-of-type {\n",
       "        vertical-align: middle;\n",
       "    }\n",
       "\n",
       "    .dataframe tbody tr th {\n",
       "        vertical-align: top;\n",
       "    }\n",
       "\n",
       "    .dataframe thead th {\n",
       "        text-align: right;\n",
       "    }\n",
       "</style>\n",
       "<table border=\"1\" class=\"dataframe\">\n",
       "  <thead>\n",
       "    <tr style=\"text-align: right;\">\n",
       "      <th></th>\n",
       "      <th>order_id</th>\n",
       "      <th>customer_id</th>\n",
       "      <th>order_status</th>\n",
       "      <th>order_purchase_timestamp</th>\n",
       "      <th>order_approved_at</th>\n",
       "      <th>order_delivered_carrier_date</th>\n",
       "      <th>order_delivered_customer_date</th>\n",
       "      <th>order_estimated_delivery_date</th>\n",
       "      <th>approval_time_diff</th>\n",
       "      <th>review_id</th>\n",
       "      <th>review_score</th>\n",
       "      <th>review_comment_title</th>\n",
       "      <th>review_comment_message</th>\n",
       "      <th>review_creation_date</th>\n",
       "      <th>review_answer_timestamp</th>\n",
       "    </tr>\n",
       "  </thead>\n",
       "  <tbody>\n",
       "    <tr>\n",
       "      <th>16</th>\n",
       "      <td>403b97836b0c04a622354cf531062e5f</td>\n",
       "      <td>738b086814c6fcc74b8cc583f8516ee3</td>\n",
       "      <td>delivered</td>\n",
       "      <td>2018-01-02 19:00:43</td>\n",
       "      <td>2018-01-02 19:09:04</td>\n",
       "      <td>2018-01-03 18:19:09</td>\n",
       "      <td>2018-01-20 01:38:59</td>\n",
       "      <td>2018-02-06</td>\n",
       "      <td>0.14</td>\n",
       "      <td>NaN</td>\n",
       "      <td>&lt;NA&gt;</td>\n",
       "      <td>NaN</td>\n",
       "      <td>NaN</td>\n",
       "      <td>NaT</td>\n",
       "      <td>NaT</td>\n",
       "    </tr>\n",
       "    <tr>\n",
       "      <th>154</th>\n",
       "      <td>6942b8da583c2f9957e990d028607019</td>\n",
       "      <td>52006a9383bf149a4fb24226b173106f</td>\n",
       "      <td>shipped</td>\n",
       "      <td>2018-01-10 11:33:07</td>\n",
       "      <td>2018-01-11 02:32:30</td>\n",
       "      <td>2018-01-11 19:39:23</td>\n",
       "      <td>NaT</td>\n",
       "      <td>2018-02-07</td>\n",
       "      <td>14.99</td>\n",
       "      <td>NaN</td>\n",
       "      <td>&lt;NA&gt;</td>\n",
       "      <td>NaN</td>\n",
       "      <td>NaN</td>\n",
       "      <td>NaT</td>\n",
       "      <td>NaT</td>\n",
       "    </tr>\n",
       "    <tr>\n",
       "      <th>311</th>\n",
       "      <td>4906eeadde5f70b308c20c4a8f20be02</td>\n",
       "      <td>4e7656e34357b93f14b40c6400ca3f6e</td>\n",
       "      <td>delivered</td>\n",
       "      <td>2017-12-08 04:45:26</td>\n",
       "      <td>2017-12-12 03:50:30</td>\n",
       "      <td>2017-12-12 17:43:21</td>\n",
       "      <td>2018-01-09 18:04:58</td>\n",
       "      <td>2018-01-03</td>\n",
       "      <td>95.08</td>\n",
       "      <td>NaN</td>\n",
       "      <td>&lt;NA&gt;</td>\n",
       "      <td>NaN</td>\n",
       "      <td>NaN</td>\n",
       "      <td>NaT</td>\n",
       "      <td>NaT</td>\n",
       "    </tr>\n",
       "  </tbody>\n",
       "</table>\n",
       "</div>"
      ],
      "text/plain": [
       "                             order_id                       customer_id  \\\n",
       "16   403b97836b0c04a622354cf531062e5f  738b086814c6fcc74b8cc583f8516ee3   \n",
       "154  6942b8da583c2f9957e990d028607019  52006a9383bf149a4fb24226b173106f   \n",
       "311  4906eeadde5f70b308c20c4a8f20be02  4e7656e34357b93f14b40c6400ca3f6e   \n",
       "\n",
       "    order_status order_purchase_timestamp   order_approved_at  \\\n",
       "16     delivered      2018-01-02 19:00:43 2018-01-02 19:09:04   \n",
       "154      shipped      2018-01-10 11:33:07 2018-01-11 02:32:30   \n",
       "311    delivered      2017-12-08 04:45:26 2017-12-12 03:50:30   \n",
       "\n",
       "    order_delivered_carrier_date order_delivered_customer_date  \\\n",
       "16           2018-01-03 18:19:09           2018-01-20 01:38:59   \n",
       "154          2018-01-11 19:39:23                           NaT   \n",
       "311          2017-12-12 17:43:21           2018-01-09 18:04:58   \n",
       "\n",
       "    order_estimated_delivery_date  approval_time_diff review_id  review_score  \\\n",
       "16                     2018-02-06                0.14       NaN          <NA>   \n",
       "154                    2018-02-07               14.99       NaN          <NA>   \n",
       "311                    2018-01-03               95.08       NaN          <NA>   \n",
       "\n",
       "    review_comment_title review_comment_message review_creation_date  \\\n",
       "16                   NaN                    NaN                  NaT   \n",
       "154                  NaN                    NaN                  NaT   \n",
       "311                  NaN                    NaN                  NaT   \n",
       "\n",
       "    review_answer_timestamp  \n",
       "16                      NaT  \n",
       "154                     NaT  \n",
       "311                     NaT  "
      ]
     },
     "execution_count": 2912,
     "metadata": {},
     "output_type": "execute_result"
    }
   ],
   "source": [
    "print(\"NaN values in review_score:\")\n",
    "merged_df[merged_df[\"review_score\"].isna()].head(3)"
   ]
  },
  {
   "cell_type": "code",
   "execution_count": 2906,
   "metadata": {},
   "outputs": [
    {
     "data": {
      "text/html": [
       "<div>\n",
       "<style scoped>\n",
       "    .dataframe tbody tr th:only-of-type {\n",
       "        vertical-align: middle;\n",
       "    }\n",
       "\n",
       "    .dataframe tbody tr th {\n",
       "        vertical-align: top;\n",
       "    }\n",
       "\n",
       "    .dataframe thead th {\n",
       "        text-align: right;\n",
       "    }\n",
       "</style>\n",
       "<table border=\"1\" class=\"dataframe\">\n",
       "  <thead>\n",
       "    <tr style=\"text-align: right;\">\n",
       "      <th></th>\n",
       "      <th>99041</th>\n",
       "      <th>47957</th>\n",
       "      <th>24890</th>\n",
       "      <th>25260</th>\n",
       "      <th>91113</th>\n",
       "    </tr>\n",
       "  </thead>\n",
       "  <tbody>\n",
       "    <tr>\n",
       "      <th>order_id</th>\n",
       "      <td>2be6c8b958e16856397259974d4abee9</td>\n",
       "      <td>24f07a52ca6b749c618b46ddb2e94b8a</td>\n",
       "      <td>a9957adf297a6be5e8625b3e93329c6d</td>\n",
       "      <td>2e8a59579f027832343436a97c22499b</td>\n",
       "      <td>cf5508a6ae55421646b0683bb605ac74</td>\n",
       "    </tr>\n",
       "    <tr>\n",
       "      <th>order_status</th>\n",
       "      <td>canceled</td>\n",
       "      <td>canceled</td>\n",
       "      <td>canceled</td>\n",
       "      <td>canceled</td>\n",
       "      <td>canceled</td>\n",
       "    </tr>\n",
       "    <tr>\n",
       "      <th>customer_id</th>\n",
       "      <td>ccbce7bcb13ee88adcf78890cae0ea42</td>\n",
       "      <td>2fead6d196da5adf133e4ddb08f51c8c</td>\n",
       "      <td>7e779aeb9722a44ac85680883c9ee20f</td>\n",
       "      <td>4dcdb96c4c889577e5b04124b6ce5cff</td>\n",
       "      <td>e42274a986c58b500513a7d57a4fed2d</td>\n",
       "    </tr>\n",
       "    <tr>\n",
       "      <th>review_id</th>\n",
       "      <td>60a43f2ae6645ae3c49a96bac275680b</td>\n",
       "      <td>bf3adf61d4e6dfb0ca4e3b957630b8bb</td>\n",
       "      <td>aed16082f275e17a2d85693d0f971d0e</td>\n",
       "      <td>b48d676f6cbb5bfe53f834197db3dfe4</td>\n",
       "      <td>5c76615cb4d96fe9ddfb9121c7594436</td>\n",
       "    </tr>\n",
       "    <tr>\n",
       "      <th>review_score</th>\n",
       "      <td>1</td>\n",
       "      <td>1</td>\n",
       "      <td>1</td>\n",
       "      <td>1</td>\n",
       "      <td>1</td>\n",
       "    </tr>\n",
       "    <tr>\n",
       "      <th>review_comment_message</th>\n",
       "      <td>Meu produto não foi entregue, estava previsto para 19/04 e até agora nada. Já passou do prazo de entrega.Pois já veio até cobrando a primeira parcela no meu cartão.\\r\\nJá mandei email e o site não respo</td>\n",
       "      <td>Estou aguardando meu produto ,dei numero errado mais ja dei o certo e ate agora nao recebi o produto</td>\n",
       "      <td>Não recebi meu pedido, e não é a primeira vez que ocorre nesse site.</td>\n",
       "      <td>Produto não entregue dentro do prazo, e falta de posicionamento do produto. Onde o vendedor não soube me dizer o que houve com o produto.\\r\\n</td>\n",
       "      <td>Não recebi o produto até o momento.</td>\n",
       "    </tr>\n",
       "  </tbody>\n",
       "</table>\n",
       "</div>"
      ],
      "text/plain": [
       "                                                                                                                                                                                                                             99041  \\\n",
       "order_id                                                                                                                                                                                          2be6c8b958e16856397259974d4abee9   \n",
       "order_status                                                                                                                                                                                                              canceled   \n",
       "customer_id                                                                                                                                                                                       ccbce7bcb13ee88adcf78890cae0ea42   \n",
       "review_id                                                                                                                                                                                         60a43f2ae6645ae3c49a96bac275680b   \n",
       "review_score                                                                                                                                                                                                                     1   \n",
       "review_comment_message  Meu produto não foi entregue, estava previsto para 19/04 e até agora nada. Já passou do prazo de entrega.Pois já veio até cobrando a primeira parcela no meu cartão.\\r\\nJá mandei email e o site não respo   \n",
       "\n",
       "                                                                                                                       47957  \\\n",
       "order_id                                                                                    24f07a52ca6b749c618b46ddb2e94b8a   \n",
       "order_status                                                                                                        canceled   \n",
       "customer_id                                                                                 2fead6d196da5adf133e4ddb08f51c8c   \n",
       "review_id                                                                                   bf3adf61d4e6dfb0ca4e3b957630b8bb   \n",
       "review_score                                                                                                               1   \n",
       "review_comment_message  Estou aguardando meu produto ,dei numero errado mais ja dei o certo e ate agora nao recebi o produto   \n",
       "\n",
       "                                                                                       24890  \\\n",
       "order_id                                                    a9957adf297a6be5e8625b3e93329c6d   \n",
       "order_status                                                                        canceled   \n",
       "customer_id                                                 7e779aeb9722a44ac85680883c9ee20f   \n",
       "review_id                                                   aed16082f275e17a2d85693d0f971d0e   \n",
       "review_score                                                                               1   \n",
       "review_comment_message  Não recebi meu pedido, e não é a primeira vez que ocorre nesse site.   \n",
       "\n",
       "                                                                                                                                                                25260  \\\n",
       "order_id                                                                                                                             2e8a59579f027832343436a97c22499b   \n",
       "order_status                                                                                                                                                 canceled   \n",
       "customer_id                                                                                                                          4dcdb96c4c889577e5b04124b6ce5cff   \n",
       "review_id                                                                                                                            b48d676f6cbb5bfe53f834197db3dfe4   \n",
       "review_score                                                                                                                                                        1   \n",
       "review_comment_message  Produto não entregue dentro do prazo, e falta de posicionamento do produto. Onde o vendedor não soube me dizer o que houve com o produto.\\r\\n   \n",
       "\n",
       "                                                      91113  \n",
       "order_id                   cf5508a6ae55421646b0683bb605ac74  \n",
       "order_status                                       canceled  \n",
       "customer_id                e42274a986c58b500513a7d57a4fed2d  \n",
       "review_id                  5c76615cb4d96fe9ddfb9121c7594436  \n",
       "review_score                                              1  \n",
       "review_comment_message  Não recebi o produto até o momento.  "
      ]
     },
     "execution_count": 2906,
     "metadata": {},
     "output_type": "execute_result"
    }
   ],
   "source": [
    "# Show rows that have canceled status and have a value in the review_comment_message column that is not 'empty'\n",
    "canceled_reviews = merged_df[\n",
    "    (merged_df[\"order_status\"] == \"canceled\")\n",
    "    & (merged_df[\"review_comment_message\"] != \"empty\")\n",
    "]\n",
    "\n",
    "# Filter the desired rows and columns\n",
    "filtered_df = canceled_reviews[\n",
    "    [\n",
    "        \"order_id\",\n",
    "        \"order_status\",\n",
    "        \"customer_id\",\n",
    "        \"review_id\",\n",
    "        \"review_score\",\n",
    "        \"review_comment_message\",\n",
    "    ]\n",
    "].sample(5)\n",
    "\n",
    "filtered_df.T"
   ]
  },
  {
   "cell_type": "code",
   "execution_count": 2909,
   "metadata": {},
   "outputs": [
    {
     "data": {
      "text/html": [
       "<div>\n",
       "<style scoped>\n",
       "    .dataframe tbody tr th:only-of-type {\n",
       "        vertical-align: middle;\n",
       "    }\n",
       "\n",
       "    .dataframe tbody tr th {\n",
       "        vertical-align: top;\n",
       "    }\n",
       "\n",
       "    .dataframe thead th {\n",
       "        text-align: right;\n",
       "    }\n",
       "</style>\n",
       "<table border=\"1\" class=\"dataframe\">\n",
       "  <thead>\n",
       "    <tr style=\"text-align: right;\">\n",
       "      <th></th>\n",
       "      <th>74781</th>\n",
       "      <th>24968</th>\n",
       "      <th>6680</th>\n",
       "      <th>20033</th>\n",
       "      <th>40197</th>\n",
       "    </tr>\n",
       "  </thead>\n",
       "  <tbody>\n",
       "    <tr>\n",
       "      <th>order_id</th>\n",
       "      <td>d7cc5fcfee9af53fcd78bb47e4e55584</td>\n",
       "      <td>642a8a89c36a8b2f4884cd8e68168247</td>\n",
       "      <td>5b4858f2dcf69731f2285a38829bfa7c</td>\n",
       "      <td>ce0a53468ddde09e79f73edba370ceec</td>\n",
       "      <td>f3bd213a969549dd53ed48872f4bb69d</td>\n",
       "    </tr>\n",
       "    <tr>\n",
       "      <th>order_status</th>\n",
       "      <td>canceled</td>\n",
       "      <td>canceled</td>\n",
       "      <td>canceled</td>\n",
       "      <td>canceled</td>\n",
       "      <td>canceled</td>\n",
       "    </tr>\n",
       "    <tr>\n",
       "      <th>customer_id</th>\n",
       "      <td>6c081dfe77db2d63f336f33043f0036a</td>\n",
       "      <td>64fc1ea0b3ef7d792474f9cce8ddbfb1</td>\n",
       "      <td>c8223f76047e09bea798462f2f46ffa9</td>\n",
       "      <td>be661c8beed58e228518d223a539700e</td>\n",
       "      <td>1b4970ad8aaf073fd9164c55384584a5</td>\n",
       "    </tr>\n",
       "    <tr>\n",
       "      <th>review_id</th>\n",
       "      <td>13fda443af3ce6df563ffe6956042056</td>\n",
       "      <td>fb83f879a7eff7a6bdc9c9860bc72615</td>\n",
       "      <td>b439df4e47d50f3d06b6395d9b3867c2</td>\n",
       "      <td>0f7d99e8dd13bd0928d27904e11b0d19</td>\n",
       "      <td>b943aa9b8877835e183d136d2712479e</td>\n",
       "    </tr>\n",
       "    <tr>\n",
       "      <th>review_score</th>\n",
       "      <td>1</td>\n",
       "      <td>1</td>\n",
       "      <td>1</td>\n",
       "      <td>1</td>\n",
       "      <td>1</td>\n",
       "    </tr>\n",
       "    <tr>\n",
       "      <th>review_comment_message</th>\n",
       "      <td>Gostaria de saber através da lannister.com,como vai ficar a minha situação,já que a targaryeni esta vinculada a americana.com. Realizei a compra virtual através de uma vendedora das Lojas lannister S/A.</td>\n",
       "      <td>nao recomendo esta loja, como nunca tinha tido problema em comprar pelo baratheon n atentei a pesquisar sobre o fornecedor,depois do prazo da entrega ter passado fui pesquisar e existe varias reclamçao</td>\n",
       "      <td>0 correio não entregou a minha encomenda por que meu nome estava incompleto, por favor mande o meu produto ou devolva meu dinheiro, fui no correio varias vezes mas não quiseram entregar o meu produto.</td>\n",
       "      <td>A loja foi irresponsável, pois não emitiu a nota fiscal e nem avisou se tinha o produto ou quanto tempo iria ter, ficou apenas dizendo que estava aguardando a emissão da nota fiscal, isso levou um mês</td>\n",
       "      <td>10 dias após efetuar a compra, gerar o boleto e pagar, recebo um e-mail cancelando a compra por falta do produto.\\r\\nPara o estorno do valor me obrigaram a ir em uma agência bancaria e retirar o valor!</td>\n",
       "    </tr>\n",
       "  </tbody>\n",
       "</table>\n",
       "</div>"
      ],
      "text/plain": [
       "                                                                                                                                                                                                                             74781  \\\n",
       "order_id                                                                                                                                                                                          d7cc5fcfee9af53fcd78bb47e4e55584   \n",
       "order_status                                                                                                                                                                                                              canceled   \n",
       "customer_id                                                                                                                                                                                       6c081dfe77db2d63f336f33043f0036a   \n",
       "review_id                                                                                                                                                                                         13fda443af3ce6df563ffe6956042056   \n",
       "review_score                                                                                                                                                                                                                     1   \n",
       "review_comment_message  Gostaria de saber através da lannister.com,como vai ficar a minha situação,já que a targaryeni esta vinculada a americana.com. Realizei a compra virtual através de uma vendedora das Lojas lannister S/A.   \n",
       "\n",
       "                                                                                                                                                                                                                            24968  \\\n",
       "order_id                                                                                                                                                                                         642a8a89c36a8b2f4884cd8e68168247   \n",
       "order_status                                                                                                                                                                                                             canceled   \n",
       "customer_id                                                                                                                                                                                      64fc1ea0b3ef7d792474f9cce8ddbfb1   \n",
       "review_id                                                                                                                                                                                        fb83f879a7eff7a6bdc9c9860bc72615   \n",
       "review_score                                                                                                                                                                                                                    1   \n",
       "review_comment_message  nao recomendo esta loja, como nunca tinha tido problema em comprar pelo baratheon n atentei a pesquisar sobre o fornecedor,depois do prazo da entrega ter passado fui pesquisar e existe varias reclamçao   \n",
       "\n",
       "                                                                                                                                                                                                                           6680   \\\n",
       "order_id                                                                                                                                                                                        5b4858f2dcf69731f2285a38829bfa7c   \n",
       "order_status                                                                                                                                                                                                            canceled   \n",
       "customer_id                                                                                                                                                                                     c8223f76047e09bea798462f2f46ffa9   \n",
       "review_id                                                                                                                                                                                       b439df4e47d50f3d06b6395d9b3867c2   \n",
       "review_score                                                                                                                                                                                                                   1   \n",
       "review_comment_message  0 correio não entregou a minha encomenda por que meu nome estava incompleto, por favor mande o meu produto ou devolva meu dinheiro, fui no correio varias vezes mas não quiseram entregar o meu produto.   \n",
       "\n",
       "                                                                                                                                                                                                                           20033  \\\n",
       "order_id                                                                                                                                                                                        ce0a53468ddde09e79f73edba370ceec   \n",
       "order_status                                                                                                                                                                                                            canceled   \n",
       "customer_id                                                                                                                                                                                     be661c8beed58e228518d223a539700e   \n",
       "review_id                                                                                                                                                                                       0f7d99e8dd13bd0928d27904e11b0d19   \n",
       "review_score                                                                                                                                                                                                                   1   \n",
       "review_comment_message  A loja foi irresponsável, pois não emitiu a nota fiscal e nem avisou se tinha o produto ou quanto tempo iria ter, ficou apenas dizendo que estava aguardando a emissão da nota fiscal, isso levou um mês   \n",
       "\n",
       "                                                                                                                                                                                                                             40197  \n",
       "order_id                                                                                                                                                                                          f3bd213a969549dd53ed48872f4bb69d  \n",
       "order_status                                                                                                                                                                                                              canceled  \n",
       "customer_id                                                                                                                                                                                       1b4970ad8aaf073fd9164c55384584a5  \n",
       "review_id                                                                                                                                                                                         b943aa9b8877835e183d136d2712479e  \n",
       "review_score                                                                                                                                                                                                                     1  \n",
       "review_comment_message  10 dias após efetuar a compra, gerar o boleto e pagar, recebo um e-mail cancelando a compra por falta do produto.\\r\\nPara o estorno do valor me obrigaram a ir em uma agência bancaria e retirar o valor!   "
      ]
     },
     "execution_count": 2909,
     "metadata": {},
     "output_type": "execute_result"
    }
   ],
   "source": [
    "# Calculate the length of each review message\n",
    "canceled_reviews.loc[:, \"review_length\"] = canceled_reviews[\n",
    "    \"review_comment_message\"\n",
    "].apply(lambda x: len(str(x)) if pd.notna(x) else 0)\n",
    "\n",
    "# Sort by review length (descending) and review score (ascending)\n",
    "canceled_reviews = canceled_reviews.sort_values(\n",
    "    by=[\"review_length\", \"review_score\"], ascending=[False, True]\n",
    ")\n",
    "\n",
    "# Select the top 5 rows based on the sorted values\n",
    "selected_reviews = canceled_reviews[\n",
    "    [\n",
    "        \"order_id\",\n",
    "        \"order_status\",\n",
    "        \"customer_id\",\n",
    "        \"review_id\",\n",
    "        \"review_score\",\n",
    "        \"review_comment_message\",\n",
    "    ]\n",
    "].head(5)\n",
    "\n",
    "selected_reviews.T"
   ]
  },
  {
   "cell_type": "code",
   "execution_count": 2911,
   "metadata": {},
   "outputs": [
    {
     "name": "stdout",
     "output_type": "stream",
     "text": [
      "\n",
      "Canceled Reviews by Score\n",
      "-------------------------\n",
      "              Count\n",
      "Review Score       \n",
      "1               311\n",
      "2                35\n",
      "3                26\n",
      "4                 6\n",
      "5                28\n",
      "-------------------------\n",
      "Total: 406\n"
     ]
    }
   ],
   "source": [
    "output = canceled_reviews[\"review_score\"].value_counts().sort_index()\n",
    "\n",
    "df = pd.DataFrame({\"Review Score\": output.index, \"Count\": output.values})\n",
    "\n",
    "df.set_index(\"Review Score\", inplace=True)\n",
    "\n",
    "print(\"\\nCanceled Reviews by Score\")\n",
    "print(\"-\" * 25)\n",
    "print(df.to_string())\n",
    "print(\"-\" * 25)\n",
    "print(f\"Total: {df['Count'].sum()}\")"
   ]
  },
  {
   "cell_type": "code",
   "execution_count": 2896,
   "metadata": {},
   "outputs": [
    {
     "data": {
      "text/html": [
       "<div>\n",
       "<style scoped>\n",
       "    .dataframe tbody tr th:only-of-type {\n",
       "        vertical-align: middle;\n",
       "    }\n",
       "\n",
       "    .dataframe tbody tr th {\n",
       "        vertical-align: top;\n",
       "    }\n",
       "\n",
       "    .dataframe thead th {\n",
       "        text-align: right;\n",
       "    }\n",
       "</style>\n",
       "<table border=\"1\" class=\"dataframe\">\n",
       "  <thead>\n",
       "    <tr style=\"text-align: right;\">\n",
       "      <th></th>\n",
       "      <th>74781</th>\n",
       "      <th>24968</th>\n",
       "      <th>6680</th>\n",
       "      <th>20033</th>\n",
       "      <th>40197</th>\n",
       "    </tr>\n",
       "  </thead>\n",
       "  <tbody>\n",
       "    <tr>\n",
       "      <th>Order ID</th>\n",
       "      <td>d7cc5fcfee9af53fcd78bb47e4e55584</td>\n",
       "      <td>642a8a89c36a8b2f4884cd8e68168247</td>\n",
       "      <td>5b4858f2dcf69731f2285a38829bfa7c</td>\n",
       "      <td>ce0a53468ddde09e79f73edba370ceec</td>\n",
       "      <td>f3bd213a969549dd53ed48872f4bb69d</td>\n",
       "    </tr>\n",
       "    <tr>\n",
       "      <th>Order Status</th>\n",
       "      <td>canceled</td>\n",
       "      <td>canceled</td>\n",
       "      <td>canceled</td>\n",
       "      <td>canceled</td>\n",
       "      <td>canceled</td>\n",
       "    </tr>\n",
       "    <tr>\n",
       "      <th>Customer ID</th>\n",
       "      <td>6c081dfe77db2d63f336f33043f0036a</td>\n",
       "      <td>64fc1ea0b3ef7d792474f9cce8ddbfb1</td>\n",
       "      <td>c8223f76047e09bea798462f2f46ffa9</td>\n",
       "      <td>be661c8beed58e228518d223a539700e</td>\n",
       "      <td>1b4970ad8aaf073fd9164c55384584a5</td>\n",
       "    </tr>\n",
       "    <tr>\n",
       "      <th>Review ID</th>\n",
       "      <td>13fda443af3ce6df563ffe6956042056</td>\n",
       "      <td>fb83f879a7eff7a6bdc9c9860bc72615</td>\n",
       "      <td>b439df4e47d50f3d06b6395d9b3867c2</td>\n",
       "      <td>0f7d99e8dd13bd0928d27904e11b0d19</td>\n",
       "      <td>b943aa9b8877835e183d136d2712479e</td>\n",
       "    </tr>\n",
       "    <tr>\n",
       "      <th>Review Score</th>\n",
       "      <td>1</td>\n",
       "      <td>1</td>\n",
       "      <td>1</td>\n",
       "      <td>1</td>\n",
       "      <td>1</td>\n",
       "    </tr>\n",
       "    <tr>\n",
       "      <th>Review Message</th>\n",
       "      <td>Saya ingin tahu melalui lannister.com seperti apa situasi saya nanti, karena targaryeni terhubung ke americana.com. Saya melakukan pembelian virtual melalui penjual di Lojas Lannister S/A.</td>\n",
       "      <td>Saya tidak merekomendasikan toko ini, karena saya tidak pernah mengalami masalah saat membeli melalui Baratheon, saya tidak mencoba meneliti pemasoknya, setelah batas waktu pengiriman lewat saya memeriksanya dan ada beberapa keluhan.</td>\n",
       "      <td>Kurir tidak mengirimkan pesanan saya karena nama saya tidak lengkap, silakan kirim produk saya atau kembalikan uang saya, saya pergi ke kantor pos beberapa kali tetapi mereka tidak mau mengirimkan produk saya.</td>\n",
       "      <td>Toko tidak bertanggung jawab karena tidak mengeluarkan invoice atau menginformasikan apakah ada produk atau berapa lama, hanya dikatakan menunggu invoice dikeluarkan, butuh waktu sebulan</td>\n",
       "      <td>10 hari setelah melakukan pembelian, membuat faktur dan membayar, saya menerima email yang membatalkan pembelian karena kekurangan produk.\\r\\nUntuk mengembalikan jumlah tersebut, mereka memaksa saya pergi ke cabang bank dan menarik jumlah tersebut!</td>\n",
       "    </tr>\n",
       "  </tbody>\n",
       "</table>\n",
       "</div>"
      ],
      "text/plain": [
       "                                                                                                                                                                                                       74781  \\\n",
       "Order ID                                                                                                                                                                    d7cc5fcfee9af53fcd78bb47e4e55584   \n",
       "Order Status                                                                                                                                                                                        canceled   \n",
       "Customer ID                                                                                                                                                                 6c081dfe77db2d63f336f33043f0036a   \n",
       "Review ID                                                                                                                                                                   13fda443af3ce6df563ffe6956042056   \n",
       "Review Score                                                                                                                                                                                               1   \n",
       "Review Message  Saya ingin tahu melalui lannister.com seperti apa situasi saya nanti, karena targaryeni terhubung ke americana.com. Saya melakukan pembelian virtual melalui penjual di Lojas Lannister S/A.   \n",
       "\n",
       "                                                                                                                                                                                                                                                    24968  \\\n",
       "Order ID                                                                                                                                                                                                                 642a8a89c36a8b2f4884cd8e68168247   \n",
       "Order Status                                                                                                                                                                                                                                     canceled   \n",
       "Customer ID                                                                                                                                                                                                              64fc1ea0b3ef7d792474f9cce8ddbfb1   \n",
       "Review ID                                                                                                                                                                                                                fb83f879a7eff7a6bdc9c9860bc72615   \n",
       "Review Score                                                                                                                                                                                                                                            1   \n",
       "Review Message  Saya tidak merekomendasikan toko ini, karena saya tidak pernah mengalami masalah saat membeli melalui Baratheon, saya tidak mencoba meneliti pemasoknya, setelah batas waktu pengiriman lewat saya memeriksanya dan ada beberapa keluhan.   \n",
       "\n",
       "                                                                                                                                                                                                                            6680   \\\n",
       "Order ID                                                                                                                                                                                         5b4858f2dcf69731f2285a38829bfa7c   \n",
       "Order Status                                                                                                                                                                                                             canceled   \n",
       "Customer ID                                                                                                                                                                                      c8223f76047e09bea798462f2f46ffa9   \n",
       "Review ID                                                                                                                                                                                        b439df4e47d50f3d06b6395d9b3867c2   \n",
       "Review Score                                                                                                                                                                                                                    1   \n",
       "Review Message  Kurir tidak mengirimkan pesanan saya karena nama saya tidak lengkap, silakan kirim produk saya atau kembalikan uang saya, saya pergi ke kantor pos beberapa kali tetapi mereka tidak mau mengirimkan produk saya.   \n",
       "\n",
       "                                                                                                                                                                                                     20033  \\\n",
       "Order ID                                                                                                                                                                  ce0a53468ddde09e79f73edba370ceec   \n",
       "Order Status                                                                                                                                                                                      canceled   \n",
       "Customer ID                                                                                                                                                               be661c8beed58e228518d223a539700e   \n",
       "Review ID                                                                                                                                                                 0f7d99e8dd13bd0928d27904e11b0d19   \n",
       "Review Score                                                                                                                                                                                             1   \n",
       "Review Message  Toko tidak bertanggung jawab karena tidak mengeluarkan invoice atau menginformasikan apakah ada produk atau berapa lama, hanya dikatakan menunggu invoice dikeluarkan, butuh waktu sebulan   \n",
       "\n",
       "                                                                                                                                                                                                                                                                   40197  \n",
       "Order ID                                                                                                                                                                                                                                f3bd213a969549dd53ed48872f4bb69d  \n",
       "Order Status                                                                                                                                                                                                                                                    canceled  \n",
       "Customer ID                                                                                                                                                                                                                             1b4970ad8aaf073fd9164c55384584a5  \n",
       "Review ID                                                                                                                                                                                                                               b943aa9b8877835e183d136d2712479e  \n",
       "Review Score                                                                                                                                                                                                                                                           1  \n",
       "Review Message  10 hari setelah melakukan pembelian, membuat faktur dan membayar, saya menerima email yang membatalkan pembelian karena kekurangan produk.\\r\\nUntuk mengembalikan jumlah tersebut, mereka memaksa saya pergi ke cabang bank dan menarik jumlah tersebut!  "
      ]
     },
     "execution_count": 2896,
     "metadata": {},
     "output_type": "execute_result"
    }
   ],
   "source": [
    "# Select the first 5 rows and store in a new DataFrame\n",
    "head_canceled_reviews_df = canceled_reviews.head(5).copy()\n",
    "\n",
    "# Translate the review messages directly within the new DataFrame\n",
    "head_canceled_reviews_df[\"Review Message\"] = head_canceled_reviews_df[\n",
    "    \"review_comment_message\"\n",
    "].apply(\n",
    "    lambda x: (\n",
    "        GoogleTranslator(source=\"auto\", target=\"id\").translate(x) if pd.notna(x) else \"\"\n",
    "    )\n",
    ")\n",
    "\n",
    "translated_df = head_canceled_reviews_df[\n",
    "    [\n",
    "        \"order_id\",\n",
    "        \"order_status\",\n",
    "        \"customer_id\",\n",
    "        \"review_id\",\n",
    "        \"review_score\",\n",
    "        \"Review Message\",\n",
    "    ]\n",
    "].rename(\n",
    "    columns={\n",
    "        \"order_id\": \"Order ID\",\n",
    "        \"order_status\": \"Order Status\",\n",
    "        \"customer_id\": \"Customer ID\",\n",
    "        \"review_id\": \"Review ID\",\n",
    "        \"review_score\": \"Review Score\",\n",
    "    }\n",
    ")\n",
    "\n",
    "pd.set_option(\"display.max_colwidth\", None)\n",
    "\n",
    "translated_df.T"
   ]
  },
  {
   "cell_type": "code",
   "execution_count": 2898,
   "metadata": {},
   "outputs": [
    {
     "data": {
      "text/html": [
       "<div>\n",
       "<style scoped>\n",
       "    .dataframe tbody tr th:only-of-type {\n",
       "        vertical-align: middle;\n",
       "    }\n",
       "\n",
       "    .dataframe tbody tr th {\n",
       "        vertical-align: top;\n",
       "    }\n",
       "\n",
       "    .dataframe thead th {\n",
       "        text-align: right;\n",
       "    }\n",
       "</style>\n",
       "<table border=\"1\" class=\"dataframe\">\n",
       "  <thead>\n",
       "    <tr style=\"text-align: right;\">\n",
       "      <th></th>\n",
       "      <th>8590</th>\n",
       "      <th>93618</th>\n",
       "      <th>65854</th>\n",
       "      <th>25790</th>\n",
       "      <th>58410</th>\n",
       "    </tr>\n",
       "  </thead>\n",
       "  <tbody>\n",
       "    <tr>\n",
       "      <th>Order ID</th>\n",
       "      <td>7142b298b22a79a285d2ce792dc533a2</td>\n",
       "      <td>7a56ded9b696cca5e892f56f49b1921a</td>\n",
       "      <td>ded456690bcb2ffd4def86541479037f</td>\n",
       "      <td>1857e77a4bad8abb2db929f107430663</td>\n",
       "      <td>cadd4c5765abf658117f2cc7e2a639c2</td>\n",
       "    </tr>\n",
       "    <tr>\n",
       "      <th>Order Status</th>\n",
       "      <td>canceled</td>\n",
       "      <td>canceled</td>\n",
       "      <td>canceled</td>\n",
       "      <td>canceled</td>\n",
       "      <td>canceled</td>\n",
       "    </tr>\n",
       "    <tr>\n",
       "      <th>Customer ID</th>\n",
       "      <td>d2fac3a405031b2adb1739b20cae646a</td>\n",
       "      <td>caca87282df2b6fce5e717b93e548b92</td>\n",
       "      <td>e72188520e7450d41369c84fed0a4b68</td>\n",
       "      <td>616833eaef04d25b67207119cd6936dc</td>\n",
       "      <td>939c6ecf27d8c32e7956b4a2a468326d</td>\n",
       "    </tr>\n",
       "    <tr>\n",
       "      <th>Review ID</th>\n",
       "      <td>0624d0ec20d86b39b8f4936da80afff7</td>\n",
       "      <td>c8cbb7509c516719ed41a11bf31d757f</td>\n",
       "      <td>a38a071b913a47b0990806e07409d454</td>\n",
       "      <td>cab94b2b92fe84fc842095bdf1451904</td>\n",
       "      <td>0c9b6ca9b3beaf0fd5d621f63844ea01</td>\n",
       "    </tr>\n",
       "    <tr>\n",
       "      <th>Review Score</th>\n",
       "      <td>5</td>\n",
       "      <td>5</td>\n",
       "      <td>5</td>\n",
       "      <td>5</td>\n",
       "      <td>5</td>\n",
       "    </tr>\n",
       "    <tr>\n",
       "      <th>Review Message</th>\n",
       "      <td>Mereka tidak memberikan kepuasan sedikit pun kepada pelanggan. Pengiriman dijadwalkan pada 13/03/17 dan itu adalah satu-satunya komunikasi yang saya miliki. Saya mengirim email dan tidak dijawab pada 10/03. Pesanan akan dibatalkan</td>\n",
       "      <td>Ada masalah dengan pengiriman, kantor pos tidak mengirimkannya ke orang di agen meskipun dengan kode pelacakan dan dokumen. Mereka menginformasikan bahwa produk tersebut tidak ada di unit.</td>\n",
       "      <td>Saya menerima email yang memberitahukan tentang pengembalian produk, namun saya tidak mengetahui permintaan ini, bukan saya yang membuatnya. Saya masih menunggu pengiriman dalam batas waktu yang ditentukan.</td>\n",
       "      <td>Produk dikirim seperti yang diiklankan, termasuk sambungan dan katup. Bahkan gulungan pita penyegel benang disertakan dengan sambungannya. Saya sangat merekomendasikannya.</td>\n",
       "      <td>Saya berharap untuk menerimanya minggu ini, yang tidak akan terlalu berlebihan, namun... penundaan lebih dari itu akan membuat saya menyerah pada baratheon.</td>\n",
       "    </tr>\n",
       "  </tbody>\n",
       "</table>\n",
       "</div>"
      ],
      "text/plain": [
       "                                                                                                                                                                                                                                                 8590   \\\n",
       "Order ID                                                                                                                                                                                                              7142b298b22a79a285d2ce792dc533a2   \n",
       "Order Status                                                                                                                                                                                                                                  canceled   \n",
       "Customer ID                                                                                                                                                                                                           d2fac3a405031b2adb1739b20cae646a   \n",
       "Review ID                                                                                                                                                                                                             0624d0ec20d86b39b8f4936da80afff7   \n",
       "Review Score                                                                                                                                                                                                                                         5   \n",
       "Review Message  Mereka tidak memberikan kepuasan sedikit pun kepada pelanggan. Pengiriman dijadwalkan pada 13/03/17 dan itu adalah satu-satunya komunikasi yang saya miliki. Saya mengirim email dan tidak dijawab pada 10/03. Pesanan akan dibatalkan   \n",
       "\n",
       "                                                                                                                                                                                                       93618  \\\n",
       "Order ID                                                                                                                                                                    7a56ded9b696cca5e892f56f49b1921a   \n",
       "Order Status                                                                                                                                                                                        canceled   \n",
       "Customer ID                                                                                                                                                                 caca87282df2b6fce5e717b93e548b92   \n",
       "Review ID                                                                                                                                                                   c8cbb7509c516719ed41a11bf31d757f   \n",
       "Review Score                                                                                                                                                                                               5   \n",
       "Review Message  Ada masalah dengan pengiriman, kantor pos tidak mengirimkannya ke orang di agen meskipun dengan kode pelacakan dan dokumen. Mereka menginformasikan bahwa produk tersebut tidak ada di unit.   \n",
       "\n",
       "                                                                                                                                                                                                                         65854  \\\n",
       "Order ID                                                                                                                                                                                      ded456690bcb2ffd4def86541479037f   \n",
       "Order Status                                                                                                                                                                                                          canceled   \n",
       "Customer ID                                                                                                                                                                                   e72188520e7450d41369c84fed0a4b68   \n",
       "Review ID                                                                                                                                                                                     a38a071b913a47b0990806e07409d454   \n",
       "Review Score                                                                                                                                                                                                                 5   \n",
       "Review Message  Saya menerima email yang memberitahukan tentang pengembalian produk, namun saya tidak mengetahui permintaan ini, bukan saya yang membuatnya. Saya masih menunggu pengiriman dalam batas waktu yang ditentukan.   \n",
       "\n",
       "                                                                                                                                                                                      25790  \\\n",
       "Order ID                                                                                                                                                   1857e77a4bad8abb2db929f107430663   \n",
       "Order Status                                                                                                                                                                       canceled   \n",
       "Customer ID                                                                                                                                                616833eaef04d25b67207119cd6936dc   \n",
       "Review ID                                                                                                                                                  cab94b2b92fe84fc842095bdf1451904   \n",
       "Review Score                                                                                                                                                                              5   \n",
       "Review Message  Produk dikirim seperti yang diiklankan, termasuk sambungan dan katup. Bahkan gulungan pita penyegel benang disertakan dengan sambungannya. Saya sangat merekomendasikannya.   \n",
       "\n",
       "                                                                                                                                                                       58410  \n",
       "Order ID                                                                                                                                    cadd4c5765abf658117f2cc7e2a639c2  \n",
       "Order Status                                                                                                                                                        canceled  \n",
       "Customer ID                                                                                                                                 939c6ecf27d8c32e7956b4a2a468326d  \n",
       "Review ID                                                                                                                                   0c9b6ca9b3beaf0fd5d621f63844ea01  \n",
       "Review Score                                                                                                                                                               5  \n",
       "Review Message  Saya berharap untuk menerimanya minggu ini, yang tidak akan terlalu berlebihan, namun... penundaan lebih dari itu akan membuat saya menyerah pada baratheon.  "
      ]
     },
     "execution_count": 2898,
     "metadata": {},
     "output_type": "execute_result"
    }
   ],
   "source": [
    "# Filter and sort reviews with a score of 5 by review length in descending order\n",
    "top_5_5star_reviews = (\n",
    "    canceled_reviews.loc[canceled_reviews[\"review_score\"] == 5]\n",
    "    .nlargest(5, \"review_length\")\n",
    "    .copy()\n",
    ")\n",
    "\n",
    "# Translate the review messages directly within the new DataFrame\n",
    "top_5_5star_reviews[\"Review Message\"] = top_5_5star_reviews[\n",
    "    \"review_comment_message\"\n",
    "].apply(\n",
    "    lambda x: (\n",
    "        GoogleTranslator(source=\"auto\", target=\"id\").translate(x) if pd.notna(x) else \"\"\n",
    "    )\n",
    ")\n",
    "\n",
    "translated_fivestar_df = top_5_5star_reviews[\n",
    "    [\n",
    "        \"order_id\",\n",
    "        \"order_status\",\n",
    "        \"customer_id\",\n",
    "        \"review_id\",\n",
    "        \"review_score\",\n",
    "        \"Review Message\",\n",
    "    ]\n",
    "].rename(\n",
    "    columns={\n",
    "        \"order_id\": \"Order ID\",\n",
    "        \"order_status\": \"Order Status\",\n",
    "        \"customer_id\": \"Customer ID\",\n",
    "        \"review_id\": \"Review ID\",\n",
    "        \"review_score\": \"Review Score\",\n",
    "    }\n",
    ")\n",
    "\n",
    "translated_fivestar_df.T"
   ]
  },
  {
   "cell_type": "markdown",
   "metadata": {},
   "source": [
    "**Insight:**\\"
   ]
  },
  {
   "cell_type": "markdown",
   "metadata": {},
   "source": [
    "#### Eksplorasi Data `order_items_df`"
   ]
  },
  {
   "cell_type": "code",
   "execution_count": null,
   "metadata": {},
   "outputs": [],
   "source": [
    "print(order_items_df.info())\n",
    "\n",
    "print(f\"\\nnunique of order_id: \\t\\t{order_items_df['order_id'].nunique()}\")\n",
    "print(f\"nunique of product_id: \\t\\t{order_items_df['product_id'].nunique()}\")\n",
    "print(f\"nunique of seller_id: \\t\\t{order_items_df['seller_id'].nunique()}\")\n",
    "\n",
    "print(f\"\\nNumber of duplicate rows: \\t{order_items_df.duplicated().sum()}\")"
   ]
  },
  {
   "cell_type": "code",
   "execution_count": null,
   "metadata": {},
   "outputs": [],
   "source": [
    "merged_items_reviews_df = pd.merge(\n",
    "    order_reviews_df, order_items_df, on=\"order_id\", how=\"left\"\n",
    ")\n",
    "\n",
    "selected_colls = merged_items_reviews_df[\n",
    "    [\n",
    "        \"order_id\",\n",
    "        \"review_id\",\n",
    "        \"review_score\",\n",
    "        \"order_item_id\",\n",
    "        \"seller_id\",\n",
    "        \"product_id\",\n",
    "    ]\n",
    "]\n",
    "\n",
    "multi_item_orders = selected_colls.groupby(\"order_id\").filter(\n",
    "    lambda x: x[\"product_id\"].nunique() > 1\n",
    ")\n",
    "\n",
    "\"Sample of multi-item orders:\\n\", multi_item_orders.head(6)"
   ]
  },
  {
   "cell_type": "markdown",
   "metadata": {},
   "source": [
    "**Insight:**\n",
    "- `multi_item_order`:\n",
    "    - `order_id` <span style=\"color:orange\">b18dcdf73be66366873cd26c5724d1dc</span> memiliki beberapa item yang berbeda (`order_item_id` 1, 2, 3, dan 4). Semua item ini terkait dengan satu ulasan (berdasarkan `review_id`), dan pelanggan memberikan skor **1** untuk keseluruhan pesanan.\n",
    "    - `order_id` <span style=\"color:orange\">d7bd0e4afdf94846eb73642b4e3e75c3</span> juga memuat lebih dari satu item, dan pelanggan memberikan skor **3**.\n",
    "- Ini memberikan gambaran jelas bahwa dalam beberapa kasus, satu `order_id` memang berisi beberapa item, dan setiap item mungkin memiliki detail produk yang berbeda. Namun, ulasan diberikan satu kali untuk seluruh pesanan (berdasarkan `order_id`), meskipun pesanan tersebut terdiri dari beberapa produk (berdasarkan `order_item_id`)."
   ]
  },
  {
   "cell_type": "markdown",
   "metadata": {},
   "source": [
    "#### Eksplorasi Data `merged_items_reviews_df`"
   ]
  },
  {
   "cell_type": "code",
   "execution_count": null,
   "metadata": {
    "editable": true,
    "slideshow": {
     "slide_type": ""
    },
    "tags": []
   },
   "outputs": [],
   "source": [
    "merged_items_reviews_df.head()"
   ]
  },
  {
   "cell_type": "code",
   "execution_count": null,
   "metadata": {},
   "outputs": [],
   "source": [
    "merged_items_reviews_df.info()\n",
    "\n",
    "print(f\"\\n(rows, collumns): \\t\\t\\t{merged_items_reviews_df.shape}\")\n",
    "print(f\"\\nNumber of duplicate rows: \\t\\t{merged_items_reviews_df.duplicated().sum()}\")\n",
    "print(\n",
    "    f\"Number of duplicate in order_id: \\t{merged_items_reviews_df['order_id'].duplicated().sum()}\"\n",
    ")\n",
    "print(\n",
    "    f\"Number of duplicate in review_id: \\t{merged_items_reviews_df['review_id'].duplicated().sum()}\"\n",
    ")\n",
    "print(\n",
    "    f\"Number of duplicate in product_id: \\t{merged_items_reviews_df['product_id'].duplicated().sum()}\"\n",
    ")\n",
    "\n",
    "print(\"\\nnunique of order_id: \\t\", merged_items_reviews_df[\"order_id\"].nunique())\n",
    "print(\"nunique of review_id: \\t\", merged_items_reviews_df[\"review_id\"].nunique())"
   ]
  },
  {
   "cell_type": "code",
   "execution_count": null,
   "metadata": {},
   "outputs": [],
   "source": [
    "merged_items_reviews_df = pd.merge(\n",
    "    merged_items_reviews_df,\n",
    "    products_df[[\"product_id\", \"product_category_name\"]],\n",
    "    on=\"product_id\",\n",
    "    how=\"left\",\n",
    ")\n",
    "\n",
    "cols = list(merged_items_reviews_df.columns)\n",
    "product_id_index = cols.index(\"product_id\")\n",
    "cols.insert(product_id_index + 1, cols.pop(cols.index(\"product_category_name\")))\n",
    "merged_items_reviews_df = merged_items_reviews_df[cols]\n",
    "\n",
    "print(merged_items_reviews_df.head())"
   ]
  },
  {
   "cell_type": "markdown",
   "metadata": {},
   "source": [
    "#### Eksplorasi Data `merged_orders_items_reviews_df`"
   ]
  },
  {
   "cell_type": "code",
   "execution_count": null,
   "metadata": {},
   "outputs": [],
   "source": [
    "merged_df = pd.merge(merged_items_reviews_df, orders_df, on=\"order_id\", how=\"left\")\n",
    "merged_df.head()"
   ]
  },
  {
   "cell_type": "code",
   "execution_count": null,
   "metadata": {},
   "outputs": [],
   "source": [
    "print(merged_df.isna().sum())"
   ]
  },
  {
   "cell_type": "code",
   "execution_count": null,
   "metadata": {},
   "outputs": [],
   "source": [
    "# cari order id yang memiliki review_score dengan status canceled\n",
    "canceled_orders = merged_df[merged_df[\"order_status\"] == \"canceled\"]\n",
    "\n",
    "# cek baris data order_id yang memiliki review_score dengan status canceled\n",
    "print(canceled_orders[[\"order_id\", \"review_score\", \"order_status\"]].head())"
   ]
  },
  {
   "cell_type": "code",
   "execution_count": null,
   "metadata": {},
   "outputs": [],
   "source": [
    "# tampilkan row order id 8d4c637f1accf7a88a4555f02741e606\n",
    "pd.set_option(\"display.max_columns\", None)\n",
    "\n",
    "print(\n",
    "    canceled_orders[\n",
    "        canceled_orders[\"order_id\"].isin(\n",
    "            [\"8d4c637f1accf7a88a4555f02741e606\", \"96b947c986b42f213c9e6b8ccccedb89\"]\n",
    "        )\n",
    "    ]\n",
    ")"
   ]
  },
  {
   "cell_type": "markdown",
   "metadata": {},
   "source": [
    "### Eksplorasi Data `order_payments_df`"
   ]
  },
  {
   "cell_type": "code",
   "execution_count": null,
   "metadata": {},
   "outputs": [],
   "source": [
    "print(order_payments_df.head())\n",
    "\n",
    "print(f\"\\n(rows, collumns): \\t\\t\\t{order_payments_df.shape}\")\n",
    "print(f\"nunique of order_id: \\t\\t\\t{order_payments_df['order_id'].nunique()}\")\n",
    "print(f\"nunique of payment_type: \\t\\t{order_payments_df['payment_type'].nunique()}\")\n",
    "\n",
    "print(f\"\\nNumber of duplicate rows: \\t\\t{order_payments_df.duplicated().sum()}\")\n",
    "print(\n",
    "    f\"Number of duplicate in order_id: \\t{order_payments_df['order_id'].duplicated().sum()}\"\n",
    ")"
   ]
  },
  {
   "cell_type": "code",
   "execution_count": null,
   "metadata": {},
   "outputs": [],
   "source": [
    "# Baris yang duplikat berdasarkan order_id\n",
    "duplicated_order_id = order_payments_df[\n",
    "    order_payments_df.duplicated(\"order_id\", keep=False)\n",
    "]\n",
    "print(duplicated_order_id.sort_values(by=\"order_id\", ascending=False).head(4))"
   ]
  },
  {
   "cell_type": "code",
   "execution_count": null,
   "metadata": {},
   "outputs": [],
   "source": [
    "print(\n",
    "    order_payments_df.pivot_table(\n",
    "        index=\"payment_type\", values=\"order_id\", aggfunc=\"nunique\"\n",
    "    ).sort_values(by=\"order_id\", ascending=False)\n",
    ")"
   ]
  },
  {
   "cell_type": "code",
   "execution_count": null,
   "metadata": {},
   "outputs": [],
   "source": [
    "# Rows yang memiliki nilai not_defined pada kolom payment_type\n",
    "not_defined_payment = order_payments_df[\n",
    "    order_payments_df[\"payment_type\"] == \"not_defined\"\n",
    "]\n",
    "print(not_defined_payment)"
   ]
  },
  {
   "cell_type": "code",
   "execution_count": null,
   "metadata": {},
   "outputs": [],
   "source": [
    "print(order_payments_df.describe().round(2))"
   ]
  },
  {
   "cell_type": "markdown",
   "metadata": {},
   "source": [
    "**Insight:**\n",
    "- `duplicated_order_id`\n",
    "    - Dataset ini mencakup **103886** entri, dengan **99440** pesanan unik. \n",
    "    - Terdapat **4446** pesanan yang memiliki entri duplikat pada `order_id`\n",
    "    - Ini menunjukkan bahwa beberapa pesanan memiliki lebih dari satu pembayaran, juga menunjukkan pesanan dibayar dengan beberapa metode atau cicilan.\n",
    "- "
   ]
  },
  {
   "cell_type": "markdown",
   "metadata": {},
   "source": [
    "### Eksplore Data `sellers_df`"
   ]
  },
  {
   "cell_type": "code",
   "execution_count": null,
   "metadata": {},
   "outputs": [],
   "source": [
    "print(sellers_df.head())\n",
    "\n",
    "print(f\"\\n(rows, collumns): \\t\\t\\t{sellers_df.shape}\")\n",
    "print(f\"nunique of seller_id: \\t\\t\\t{sellers_df['seller_id'].nunique()}\")\n",
    "print(\n",
    "    f\"nunique of seller_zip_code_prefix: \\t{sellers_df['seller_zip_code_prefix'].nunique()}\"\n",
    ")\n",
    "print(f\"nunique of seller_city: \\t\\t{sellers_df['seller_city'].nunique()}\")\n",
    "print(f\"nunique of seller_state: \\t\\t{sellers_df['seller_state'].nunique()}\")\n",
    "\n",
    "print(f\"\\nNumber of duplicate rows: \\t\\t{sellers_df.duplicated().sum()}\")\n",
    "print(\n",
    "    f\"Number of duplicate in seller_id: \\t{sellers_df['seller_id'].duplicated().sum()}\"\n",
    ")"
   ]
  },
  {
   "cell_type": "code",
   "execution_count": null,
   "metadata": {},
   "outputs": [],
   "source": [
    "print(\n",
    "    sellers_df.pivot_table(\n",
    "        index=\"seller_state\", values=\"seller_id\", aggfunc=\"count\"\n",
    "    ).sort_values(by=\"seller_id\", ascending=False)\n",
    ")"
   ]
  },
  {
   "cell_type": "markdown",
   "metadata": {},
   "source": [
    "### Eksplore Data `customers_df`"
   ]
  },
  {
   "cell_type": "code",
   "execution_count": null,
   "metadata": {},
   "outputs": [],
   "source": [
    "print(customers_df.head())\n",
    "\n",
    "print(f\"\\n(rows, collumns): \\t\\t\\t{customers_df.shape}\")\n",
    "print(f\"nunique of customer_id: \\t\\t{customers_df['customer_id'].nunique()}\")\n",
    "print(\n",
    "    f\"nunique of customer_unique_id: \\t\\t{customers_df['customer_unique_id'].nunique()}\"\n",
    ")\n",
    "\n",
    "print(f\"\\nNumber of duplicate rows: \\t\\t\\t{customers_df.duplicated().sum()}\")\n",
    "print(\n",
    "    f\"Number of duplicate in customer_id: \\t\\t{customers_df['customer_id'].duplicated().sum()}\"\n",
    ")\n",
    "print(\n",
    "    f\"Number of duplicate in customer_unique_id: \\t{customers_df['customer_unique_id'].duplicated().sum()}\"\n",
    ")"
   ]
  },
  {
   "cell_type": "code",
   "execution_count": null,
   "metadata": {},
   "outputs": [],
   "source": [
    "# Baris yang duplikat berdasarkan customer_unique_id\n",
    "duplicated_customer_unique_id = customers_df[\n",
    "    customers_df.duplicated(\"customer_unique_id\", keep=False)\n",
    "]\n",
    "print(\n",
    "    duplicated_customer_unique_id.sort_values(\n",
    "        by=\"customer_unique_id\", ascending=False\n",
    "    ).head()\n",
    ")"
   ]
  },
  {
   "cell_type": "markdown",
   "metadata": {},
   "source": [
    "### Eksplorasi Data `geolocation_df`"
   ]
  },
  {
   "cell_type": "code",
   "execution_count": null,
   "metadata": {},
   "outputs": [],
   "source": [
    "print(geolocation_df.head())\n",
    "\n",
    "print(f\"\\n(rows, collumns): \\t\\t\\t{geolocation_df.shape}\")\n",
    "print(\n",
    "    f\"nunique of geolocation_zip_code_prefix: {geolocation_df['geolocation_zip_code_prefix'].nunique()}\"\n",
    ")\n",
    "print(f\"nunique of geolocation_lat: \\t\\t{geolocation_df['geolocation_lat'].nunique()}\")\n",
    "print(f\"nunique of geolocation_lng: \\t\\t{geolocation_df['geolocation_lng'].nunique()}\")\n",
    "\n",
    "print(f\"\\nNumber of duplicate rows: \\t\\t\\t\\t{geolocation_df.duplicated().sum()}\")\n",
    "print(\n",
    "    f\"Number of duplicate in geolocation_zip_code_prefix: \\t{geolocation_df['geolocation_zip_code_prefix'].duplicated().sum()}\"\n",
    ")"
   ]
  },
  {
   "cell_type": "code",
   "execution_count": null,
   "metadata": {},
   "outputs": [],
   "source": [
    "# Baris yang duplikat berdasarkan geolocation_zip_code_prefix\n",
    "duplicated_geolocation_zip_code_prefix = geolocation_df[\n",
    "    geolocation_df.duplicated(\"geolocation_zip_code_prefix\", keep=False)\n",
    "]\n",
    "print(\n",
    "    duplicated_geolocation_zip_code_prefix.sort_values(\n",
    "        by=\"geolocation_zip_code_prefix\", ascending=False\n",
    "    ).head()\n",
    ")"
   ]
  },
  {
   "cell_type": "markdown",
   "metadata": {},
   "source": [
    "Setiap titik geolokasi mungkin mewakili lokasi yang berbeda dalam kode pos yang sama dalam kota yang sama."
   ]
  },
  {
   "cell_type": "markdown",
   "metadata": {
    "id": "zsyZjqak8DC2"
   },
   "source": [
    "## Visualization & Explanatory Analysis"
   ]
  },
  {
   "cell_type": "markdown",
   "metadata": {
    "id": "HZxOiQ6n8DC2"
   },
   "source": [
    "### Pertanyaan 1:"
   ]
  },
  {
   "cell_type": "code",
   "execution_count": null,
   "metadata": {
    "id": "1swJUdAD8DC2"
   },
   "outputs": [],
   "source": []
  },
  {
   "cell_type": "markdown",
   "metadata": {
    "id": "DgHI7CiU8DC2"
   },
   "source": [
    "### Pertanyaan 2:"
   ]
  },
  {
   "cell_type": "code",
   "execution_count": null,
   "metadata": {
    "id": "Go0lCsvO8DC2"
   },
   "outputs": [],
   "source": []
  },
  {
   "cell_type": "markdown",
   "metadata": {
    "id": "_0-36BDLklRg"
   },
   "source": [
    "**Insight:**\n",
    "- xxx\n",
    "- xxx"
   ]
  },
  {
   "cell_type": "markdown",
   "metadata": {
    "id": "9y4VUsmcYNZ5"
   },
   "source": [
    "## Analisis Lanjutan (Opsional)"
   ]
  },
  {
   "cell_type": "code",
   "execution_count": null,
   "metadata": {
    "id": "iWhnzsJGYUCO"
   },
   "outputs": [],
   "source": []
  },
  {
   "cell_type": "markdown",
   "metadata": {
    "id": "_WeHlCeX8DC2"
   },
   "source": [
    "## Conclusion"
   ]
  },
  {
   "cell_type": "markdown",
   "metadata": {
    "id": "ZTcyR48Y8DC2"
   },
   "source": [
    "- Conclution pertanyaan 1\n",
    "- Conclution pertanyaan 2"
   ]
  }
 ],
 "metadata": {
  "colab": {
   "provenance": []
  },
  "kernelspec": {
   "display_name": "Python 3 (ipykernel)",
   "language": "python",
   "name": "python3"
  },
  "language_info": {
   "codemirror_mode": {
    "name": "ipython",
    "version": 3
   },
   "file_extension": ".py",
   "mimetype": "text/x-python",
   "name": "python",
   "nbconvert_exporter": "python",
   "pygments_lexer": "ipython3",
   "version": "3.11.6"
  },
  "vscode": {
   "interpreter": {
    "hash": "972b3bf27e332e87b5379f2791f6ef9dfc79c71018c370b0d7423235e20fe4d7"
   }
  },
  "widgets": {
   "application/vnd.jupyter.widget-state+json": {
    "state": {},
    "version_major": 2,
    "version_minor": 0
   }
  }
 },
 "nbformat": 4,
 "nbformat_minor": 4
}
