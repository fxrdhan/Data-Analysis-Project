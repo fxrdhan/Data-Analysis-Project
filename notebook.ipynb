{
 "cells": [
  {
   "cell_type": "markdown",
   "metadata": {
    "editable": true,
    "id": "H9wADwK78DCz",
    "slideshow": {
     "slide_type": ""
    },
    "tags": []
   },
   "source": [
    "# Proyek Analisis Data: E-Commerce Public Dataset\n",
    "- **Nama:** Firdaus Arif Ramadhani\n",
    "- **Email:** firdausarief65@gmail.com\n",
    "- **ID Dicoding:** FIRDAUS ARIF RAMADHANI"
   ]
  },
  {
   "cell_type": "markdown",
   "metadata": {
    "id": "eE0raob58DC0"
   },
   "source": [
    "## Menentukan Pertanyaan Bisnis"
   ]
  },
  {
   "cell_type": "markdown",
   "metadata": {
    "id": "GmQeQ5YF8DC0"
   },
   "source": [
    "- "
   ]
  },
  {
   "cell_type": "markdown",
   "metadata": {
    "id": "H-z4QGlO8DC1"
   },
   "source": [
    "## Import Semua Packages/Library yang Digunakan"
   ]
  },
  {
   "cell_type": "code",
   "execution_count": 2,
   "metadata": {
    "id": "FVYwaObI8DC1"
   },
   "outputs": [],
   "source": [
    "import random\n",
    "import re\n",
    "from collections import Counter\n",
    "\n",
    "import matplotlib.pyplot as plt\n",
    "import numpy as np\n",
    "import pandas as pd\n",
    "import seaborn as sns\n",
    "from deep_translator import GoogleTranslator"
   ]
  },
  {
   "cell_type": "markdown",
   "metadata": {
    "id": "h_Sh51Xy8DC1"
   },
   "source": [
    "## Data Wrangling"
   ]
  },
  {
   "cell_type": "markdown",
   "metadata": {
    "id": "sXU2GBYu8DC1"
   },
   "source": [
    "### Gathering Data"
   ]
  },
  {
   "cell_type": "markdown",
   "metadata": {},
   "source": [
    "#### Data Tabel `products_df`"
   ]
  },
  {
   "cell_type": "code",
   "execution_count": 3,
   "metadata": {
    "id": "zjCBk1BI8DC1"
   },
   "outputs": [
    {
     "data": {
      "text/html": [
       "<div>\n",
       "<style scoped>\n",
       "    .dataframe tbody tr th:only-of-type {\n",
       "        vertical-align: middle;\n",
       "    }\n",
       "\n",
       "    .dataframe tbody tr th {\n",
       "        vertical-align: top;\n",
       "    }\n",
       "\n",
       "    .dataframe thead th {\n",
       "        text-align: right;\n",
       "    }\n",
       "</style>\n",
       "<table border=\"1\" class=\"dataframe\">\n",
       "  <thead>\n",
       "    <tr style=\"text-align: right;\">\n",
       "      <th></th>\n",
       "      <th>product_id</th>\n",
       "      <th>product_category_name</th>\n",
       "      <th>product_name_lenght</th>\n",
       "      <th>product_description_lenght</th>\n",
       "      <th>product_photos_qty</th>\n",
       "      <th>product_weight_g</th>\n",
       "      <th>product_length_cm</th>\n",
       "      <th>product_height_cm</th>\n",
       "      <th>product_width_cm</th>\n",
       "    </tr>\n",
       "  </thead>\n",
       "  <tbody>\n",
       "    <tr>\n",
       "      <th>0</th>\n",
       "      <td>1e9e8ef04dbcff4541ed26657ea517e5</td>\n",
       "      <td>perfumaria</td>\n",
       "      <td>40.0</td>\n",
       "      <td>287.0</td>\n",
       "      <td>1.0</td>\n",
       "      <td>225.0</td>\n",
       "      <td>16.0</td>\n",
       "      <td>10.0</td>\n",
       "      <td>14.0</td>\n",
       "    </tr>\n",
       "    <tr>\n",
       "      <th>1</th>\n",
       "      <td>3aa071139cb16b67ca9e5dea641aaa2f</td>\n",
       "      <td>artes</td>\n",
       "      <td>44.0</td>\n",
       "      <td>276.0</td>\n",
       "      <td>1.0</td>\n",
       "      <td>1000.0</td>\n",
       "      <td>30.0</td>\n",
       "      <td>18.0</td>\n",
       "      <td>20.0</td>\n",
       "    </tr>\n",
       "    <tr>\n",
       "      <th>2</th>\n",
       "      <td>96bd76ec8810374ed1b65e291975717f</td>\n",
       "      <td>esporte_lazer</td>\n",
       "      <td>46.0</td>\n",
       "      <td>250.0</td>\n",
       "      <td>1.0</td>\n",
       "      <td>154.0</td>\n",
       "      <td>18.0</td>\n",
       "      <td>9.0</td>\n",
       "      <td>15.0</td>\n",
       "    </tr>\n",
       "    <tr>\n",
       "      <th>3</th>\n",
       "      <td>cef67bcfe19066a932b7673e239eb23d</td>\n",
       "      <td>bebes</td>\n",
       "      <td>27.0</td>\n",
       "      <td>261.0</td>\n",
       "      <td>1.0</td>\n",
       "      <td>371.0</td>\n",
       "      <td>26.0</td>\n",
       "      <td>4.0</td>\n",
       "      <td>26.0</td>\n",
       "    </tr>\n",
       "    <tr>\n",
       "      <th>4</th>\n",
       "      <td>9dc1a7de274444849c219cff195d0b71</td>\n",
       "      <td>utilidades_domesticas</td>\n",
       "      <td>37.0</td>\n",
       "      <td>402.0</td>\n",
       "      <td>4.0</td>\n",
       "      <td>625.0</td>\n",
       "      <td>20.0</td>\n",
       "      <td>17.0</td>\n",
       "      <td>13.0</td>\n",
       "    </tr>\n",
       "  </tbody>\n",
       "</table>\n",
       "</div>"
      ],
      "text/plain": [
       "                         product_id  product_category_name  \\\n",
       "0  1e9e8ef04dbcff4541ed26657ea517e5             perfumaria   \n",
       "1  3aa071139cb16b67ca9e5dea641aaa2f                  artes   \n",
       "2  96bd76ec8810374ed1b65e291975717f          esporte_lazer   \n",
       "3  cef67bcfe19066a932b7673e239eb23d                  bebes   \n",
       "4  9dc1a7de274444849c219cff195d0b71  utilidades_domesticas   \n",
       "\n",
       "   product_name_lenght  product_description_lenght  product_photos_qty  \\\n",
       "0                 40.0                       287.0                 1.0   \n",
       "1                 44.0                       276.0                 1.0   \n",
       "2                 46.0                       250.0                 1.0   \n",
       "3                 27.0                       261.0                 1.0   \n",
       "4                 37.0                       402.0                 4.0   \n",
       "\n",
       "   product_weight_g  product_length_cm  product_height_cm  product_width_cm  \n",
       "0             225.0               16.0               10.0              14.0  \n",
       "1            1000.0               30.0               18.0              20.0  \n",
       "2             154.0               18.0                9.0              15.0  \n",
       "3             371.0               26.0                4.0              26.0  \n",
       "4             625.0               20.0               17.0              13.0  "
      ]
     },
     "execution_count": 3,
     "metadata": {},
     "output_type": "execute_result"
    }
   ],
   "source": [
    "products_df = pd.read_csv(\"e-commerce_public_dataset/products_dataset.csv\")\n",
    "products_df.head()"
   ]
  },
  {
   "cell_type": "markdown",
   "metadata": {},
   "source": [
    "**Insight:**\\\n",
    "Dataset products_df berisi informasi terkait produk.\\\n",
    "Informasi yang tersedia diantaranya:\n",
    "1. `product_id`: ID unik untuk setiap produk.\n",
    "2. `product_category_name`: Panjang nama produk dalam karakter.\n",
    "3. `product_name_lenght`: Panjang deskripsi produk.\n",
    "4. `product_photos_qty`: Jumlah foto yang tersedia untuk produk.\n",
    "5. `product_weight_g`: Berat produk.\n",
    "6. `product_length_cm`, `product_height_cm`, dan `product_width_cm`: DImensi produk."
   ]
  },
  {
   "cell_type": "markdown",
   "metadata": {},
   "source": [
    "#### Data Tabel `product_category_translation_df`"
   ]
  },
  {
   "cell_type": "code",
   "execution_count": 4,
   "metadata": {},
   "outputs": [
    {
     "data": {
      "text/html": [
       "<div>\n",
       "<style scoped>\n",
       "    .dataframe tbody tr th:only-of-type {\n",
       "        vertical-align: middle;\n",
       "    }\n",
       "\n",
       "    .dataframe tbody tr th {\n",
       "        vertical-align: top;\n",
       "    }\n",
       "\n",
       "    .dataframe thead th {\n",
       "        text-align: right;\n",
       "    }\n",
       "</style>\n",
       "<table border=\"1\" class=\"dataframe\">\n",
       "  <thead>\n",
       "    <tr style=\"text-align: right;\">\n",
       "      <th></th>\n",
       "      <th>product_category_name</th>\n",
       "      <th>product_category_name_english</th>\n",
       "    </tr>\n",
       "  </thead>\n",
       "  <tbody>\n",
       "    <tr>\n",
       "      <th>0</th>\n",
       "      <td>beleza_saude</td>\n",
       "      <td>health_beauty</td>\n",
       "    </tr>\n",
       "    <tr>\n",
       "      <th>1</th>\n",
       "      <td>informatica_acessorios</td>\n",
       "      <td>computers_accessories</td>\n",
       "    </tr>\n",
       "    <tr>\n",
       "      <th>2</th>\n",
       "      <td>automotivo</td>\n",
       "      <td>auto</td>\n",
       "    </tr>\n",
       "    <tr>\n",
       "      <th>3</th>\n",
       "      <td>cama_mesa_banho</td>\n",
       "      <td>bed_bath_table</td>\n",
       "    </tr>\n",
       "    <tr>\n",
       "      <th>4</th>\n",
       "      <td>moveis_decoracao</td>\n",
       "      <td>furniture_decor</td>\n",
       "    </tr>\n",
       "  </tbody>\n",
       "</table>\n",
       "</div>"
      ],
      "text/plain": [
       "    product_category_name product_category_name_english\n",
       "0            beleza_saude                 health_beauty\n",
       "1  informatica_acessorios         computers_accessories\n",
       "2              automotivo                          auto\n",
       "3         cama_mesa_banho                bed_bath_table\n",
       "4        moveis_decoracao               furniture_decor"
      ]
     },
     "execution_count": 4,
     "metadata": {},
     "output_type": "execute_result"
    }
   ],
   "source": [
    "product_category_translation_df = pd.read_csv(\n",
    "    \"e-commerce_public_dataset/product_category_name_translation.csv\"\n",
    ")\n",
    "product_category_translation_df.head()"
   ]
  },
  {
   "cell_type": "markdown",
   "metadata": {},
   "source": [
    "**Insight:**\\\n",
    "Dataset `product_category_translation_df` memuat terjemahan nama kategori produk dari bahasa Portugis ke bahasa Inggris.\\\n",
    "Informasi yang tertera diantaranya:\n",
    "1. `product_category_name`: Nama kategori dalam bahasa Portugis.\n",
    "2. `product_category_name_english`: Nama kategori dalam bahasa Inggris."
   ]
  },
  {
   "cell_type": "markdown",
   "metadata": {},
   "source": [
    "#### Data Tabel `order_reviews_df`"
   ]
  },
  {
   "cell_type": "code",
   "execution_count": 5,
   "metadata": {},
   "outputs": [
    {
     "data": {
      "text/html": [
       "<div>\n",
       "<style scoped>\n",
       "    .dataframe tbody tr th:only-of-type {\n",
       "        vertical-align: middle;\n",
       "    }\n",
       "\n",
       "    .dataframe tbody tr th {\n",
       "        vertical-align: top;\n",
       "    }\n",
       "\n",
       "    .dataframe thead th {\n",
       "        text-align: right;\n",
       "    }\n",
       "</style>\n",
       "<table border=\"1\" class=\"dataframe\">\n",
       "  <thead>\n",
       "    <tr style=\"text-align: right;\">\n",
       "      <th></th>\n",
       "      <th>review_id</th>\n",
       "      <th>order_id</th>\n",
       "      <th>review_score</th>\n",
       "      <th>review_comment_title</th>\n",
       "      <th>review_comment_message</th>\n",
       "      <th>review_creation_date</th>\n",
       "      <th>review_answer_timestamp</th>\n",
       "    </tr>\n",
       "  </thead>\n",
       "  <tbody>\n",
       "    <tr>\n",
       "      <th>0</th>\n",
       "      <td>7bc2406110b926393aa56f80a40eba40</td>\n",
       "      <td>73fc7af87114b39712e6da79b0a377eb</td>\n",
       "      <td>4</td>\n",
       "      <td>NaN</td>\n",
       "      <td>NaN</td>\n",
       "      <td>2018-01-18 00:00:00</td>\n",
       "      <td>2018-01-18 21:46:59</td>\n",
       "    </tr>\n",
       "    <tr>\n",
       "      <th>1</th>\n",
       "      <td>80e641a11e56f04c1ad469d5645fdfde</td>\n",
       "      <td>a548910a1c6147796b98fdf73dbeba33</td>\n",
       "      <td>5</td>\n",
       "      <td>NaN</td>\n",
       "      <td>NaN</td>\n",
       "      <td>2018-03-10 00:00:00</td>\n",
       "      <td>2018-03-11 03:05:13</td>\n",
       "    </tr>\n",
       "    <tr>\n",
       "      <th>2</th>\n",
       "      <td>228ce5500dc1d8e020d8d1322874b6f0</td>\n",
       "      <td>f9e4b658b201a9f2ecdecbb34bed034b</td>\n",
       "      <td>5</td>\n",
       "      <td>NaN</td>\n",
       "      <td>NaN</td>\n",
       "      <td>2018-02-17 00:00:00</td>\n",
       "      <td>2018-02-18 14:36:24</td>\n",
       "    </tr>\n",
       "    <tr>\n",
       "      <th>3</th>\n",
       "      <td>e64fb393e7b32834bb789ff8bb30750e</td>\n",
       "      <td>658677c97b385a9be170737859d3511b</td>\n",
       "      <td>5</td>\n",
       "      <td>NaN</td>\n",
       "      <td>Recebi bem antes do prazo estipulado.</td>\n",
       "      <td>2017-04-21 00:00:00</td>\n",
       "      <td>2017-04-21 22:02:06</td>\n",
       "    </tr>\n",
       "    <tr>\n",
       "      <th>4</th>\n",
       "      <td>f7c4243c7fe1938f181bec41a392bdeb</td>\n",
       "      <td>8e6bfb81e283fa7e4f11123a3fb894f1</td>\n",
       "      <td>5</td>\n",
       "      <td>NaN</td>\n",
       "      <td>Parabéns lojas lannister adorei comprar pela I...</td>\n",
       "      <td>2018-03-01 00:00:00</td>\n",
       "      <td>2018-03-02 10:26:53</td>\n",
       "    </tr>\n",
       "  </tbody>\n",
       "</table>\n",
       "</div>"
      ],
      "text/plain": [
       "                          review_id                          order_id  \\\n",
       "0  7bc2406110b926393aa56f80a40eba40  73fc7af87114b39712e6da79b0a377eb   \n",
       "1  80e641a11e56f04c1ad469d5645fdfde  a548910a1c6147796b98fdf73dbeba33   \n",
       "2  228ce5500dc1d8e020d8d1322874b6f0  f9e4b658b201a9f2ecdecbb34bed034b   \n",
       "3  e64fb393e7b32834bb789ff8bb30750e  658677c97b385a9be170737859d3511b   \n",
       "4  f7c4243c7fe1938f181bec41a392bdeb  8e6bfb81e283fa7e4f11123a3fb894f1   \n",
       "\n",
       "   review_score review_comment_title  \\\n",
       "0             4                  NaN   \n",
       "1             5                  NaN   \n",
       "2             5                  NaN   \n",
       "3             5                  NaN   \n",
       "4             5                  NaN   \n",
       "\n",
       "                              review_comment_message review_creation_date  \\\n",
       "0                                                NaN  2018-01-18 00:00:00   \n",
       "1                                                NaN  2018-03-10 00:00:00   \n",
       "2                                                NaN  2018-02-17 00:00:00   \n",
       "3              Recebi bem antes do prazo estipulado.  2017-04-21 00:00:00   \n",
       "4  Parabéns lojas lannister adorei comprar pela I...  2018-03-01 00:00:00   \n",
       "\n",
       "  review_answer_timestamp  \n",
       "0     2018-01-18 21:46:59  \n",
       "1     2018-03-11 03:05:13  \n",
       "2     2018-02-18 14:36:24  \n",
       "3     2017-04-21 22:02:06  \n",
       "4     2018-03-02 10:26:53  "
      ]
     },
     "execution_count": 5,
     "metadata": {},
     "output_type": "execute_result"
    }
   ],
   "source": [
    "order_reviews_df = pd.read_csv(\"e-commerce_public_dataset/order_reviews_dataset.csv\")\n",
    "order_reviews_df.head()"
   ]
  },
  {
   "cell_type": "markdown",
   "metadata": {},
   "source": [
    "**Insight:**\\\n",
    "Dataset `order_reviews_df` berisi informasi mengenai ulasan pelanggan terhadap pesanan yang telah mereka terima.\\\n",
    "Informasi yang tertera diantaranya:\n",
    "1. `review_id`: ID unik untuk setiap ulasan.\n",
    "2. `order_id`: ID unik dari pesanan.\n",
    "3. `review_score`: Skor ulasan yang diberikan oleh pelanggan, pada skala 1-5.\n",
    "4. `review_comment_title` & `review_comment_message`: Komentar pelanggan.\n",
    "5. `review_creation_date` $ `review_answer_timestamp`: Waktu ketika ulasan dibuat dan dijawab."
   ]
  },
  {
   "cell_type": "markdown",
   "metadata": {},
   "source": [
    "#### Data Tabel `order_payments`"
   ]
  },
  {
   "cell_type": "code",
   "execution_count": 6,
   "metadata": {},
   "outputs": [
    {
     "data": {
      "text/html": [
       "<div>\n",
       "<style scoped>\n",
       "    .dataframe tbody tr th:only-of-type {\n",
       "        vertical-align: middle;\n",
       "    }\n",
       "\n",
       "    .dataframe tbody tr th {\n",
       "        vertical-align: top;\n",
       "    }\n",
       "\n",
       "    .dataframe thead th {\n",
       "        text-align: right;\n",
       "    }\n",
       "</style>\n",
       "<table border=\"1\" class=\"dataframe\">\n",
       "  <thead>\n",
       "    <tr style=\"text-align: right;\">\n",
       "      <th></th>\n",
       "      <th>order_id</th>\n",
       "      <th>payment_sequential</th>\n",
       "      <th>payment_type</th>\n",
       "      <th>payment_installments</th>\n",
       "      <th>payment_value</th>\n",
       "    </tr>\n",
       "  </thead>\n",
       "  <tbody>\n",
       "    <tr>\n",
       "      <th>0</th>\n",
       "      <td>b81ef226f3fe1789b1e8b2acac839d17</td>\n",
       "      <td>1</td>\n",
       "      <td>credit_card</td>\n",
       "      <td>8</td>\n",
       "      <td>99.33</td>\n",
       "    </tr>\n",
       "    <tr>\n",
       "      <th>1</th>\n",
       "      <td>a9810da82917af2d9aefd1278f1dcfa0</td>\n",
       "      <td>1</td>\n",
       "      <td>credit_card</td>\n",
       "      <td>1</td>\n",
       "      <td>24.39</td>\n",
       "    </tr>\n",
       "    <tr>\n",
       "      <th>2</th>\n",
       "      <td>25e8ea4e93396b6fa0d3dd708e76c1bd</td>\n",
       "      <td>1</td>\n",
       "      <td>credit_card</td>\n",
       "      <td>1</td>\n",
       "      <td>65.71</td>\n",
       "    </tr>\n",
       "    <tr>\n",
       "      <th>3</th>\n",
       "      <td>ba78997921bbcdc1373bb41e913ab953</td>\n",
       "      <td>1</td>\n",
       "      <td>credit_card</td>\n",
       "      <td>8</td>\n",
       "      <td>107.78</td>\n",
       "    </tr>\n",
       "    <tr>\n",
       "      <th>4</th>\n",
       "      <td>42fdf880ba16b47b59251dd489d4441a</td>\n",
       "      <td>1</td>\n",
       "      <td>credit_card</td>\n",
       "      <td>2</td>\n",
       "      <td>128.45</td>\n",
       "    </tr>\n",
       "  </tbody>\n",
       "</table>\n",
       "</div>"
      ],
      "text/plain": [
       "                           order_id  payment_sequential payment_type  \\\n",
       "0  b81ef226f3fe1789b1e8b2acac839d17                   1  credit_card   \n",
       "1  a9810da82917af2d9aefd1278f1dcfa0                   1  credit_card   \n",
       "2  25e8ea4e93396b6fa0d3dd708e76c1bd                   1  credit_card   \n",
       "3  ba78997921bbcdc1373bb41e913ab953                   1  credit_card   \n",
       "4  42fdf880ba16b47b59251dd489d4441a                   1  credit_card   \n",
       "\n",
       "   payment_installments  payment_value  \n",
       "0                     8          99.33  \n",
       "1                     1          24.39  \n",
       "2                     1          65.71  \n",
       "3                     8         107.78  \n",
       "4                     2         128.45  "
      ]
     },
     "execution_count": 6,
     "metadata": {},
     "output_type": "execute_result"
    }
   ],
   "source": [
    "order_payments_df = pd.read_csv(\"e-commerce_public_dataset/order_payments_dataset.csv\")\n",
    "order_payments_df.head()"
   ]
  },
  {
   "cell_type": "markdown",
   "metadata": {},
   "source": [
    "**Insight:**\\\n",
    "Dataset `order_payments` ini berisi informasi mengenai pembayaran yang dilakukan pelanggan untuk pesanan yang mereka buat.\\\n",
    "Informasi yang tertera diantaranya:\n",
    "1. `order_id`: ID unik untuk setiap pesanan.\n",
    "2. `payment_sequential`: Urutan pembayaran untuk setiap pesanan.\n",
    "3. `payment_type`: Jenis pembayaran yang digunakan oleh pelanggan.\n",
    "4. `payment_installments`: Jumlah cicilan yang diambil oleh pelanggan untuk membayar pesanan.\n",
    "5. `payment_value`: Nilai total dari setiap pembayaran."
   ]
  },
  {
   "cell_type": "markdown",
   "metadata": {},
   "source": [
    "#### Data Tabel `order_items_df`"
   ]
  },
  {
   "cell_type": "code",
   "execution_count": 7,
   "metadata": {},
   "outputs": [
    {
     "data": {
      "text/html": [
       "<div>\n",
       "<style scoped>\n",
       "    .dataframe tbody tr th:only-of-type {\n",
       "        vertical-align: middle;\n",
       "    }\n",
       "\n",
       "    .dataframe tbody tr th {\n",
       "        vertical-align: top;\n",
       "    }\n",
       "\n",
       "    .dataframe thead th {\n",
       "        text-align: right;\n",
       "    }\n",
       "</style>\n",
       "<table border=\"1\" class=\"dataframe\">\n",
       "  <thead>\n",
       "    <tr style=\"text-align: right;\">\n",
       "      <th></th>\n",
       "      <th>order_id</th>\n",
       "      <th>order_item_id</th>\n",
       "      <th>product_id</th>\n",
       "      <th>seller_id</th>\n",
       "      <th>shipping_limit_date</th>\n",
       "      <th>price</th>\n",
       "      <th>freight_value</th>\n",
       "    </tr>\n",
       "  </thead>\n",
       "  <tbody>\n",
       "    <tr>\n",
       "      <th>0</th>\n",
       "      <td>00010242fe8c5a6d1ba2dd792cb16214</td>\n",
       "      <td>1</td>\n",
       "      <td>4244733e06e7ecb4970a6e2683c13e61</td>\n",
       "      <td>48436dade18ac8b2bce089ec2a041202</td>\n",
       "      <td>2017-09-19 09:45:35</td>\n",
       "      <td>58.90</td>\n",
       "      <td>13.29</td>\n",
       "    </tr>\n",
       "    <tr>\n",
       "      <th>1</th>\n",
       "      <td>00018f77f2f0320c557190d7a144bdd3</td>\n",
       "      <td>1</td>\n",
       "      <td>e5f2d52b802189ee658865ca93d83a8f</td>\n",
       "      <td>dd7ddc04e1b6c2c614352b383efe2d36</td>\n",
       "      <td>2017-05-03 11:05:13</td>\n",
       "      <td>239.90</td>\n",
       "      <td>19.93</td>\n",
       "    </tr>\n",
       "    <tr>\n",
       "      <th>2</th>\n",
       "      <td>000229ec398224ef6ca0657da4fc703e</td>\n",
       "      <td>1</td>\n",
       "      <td>c777355d18b72b67abbeef9df44fd0fd</td>\n",
       "      <td>5b51032eddd242adc84c38acab88f23d</td>\n",
       "      <td>2018-01-18 14:48:30</td>\n",
       "      <td>199.00</td>\n",
       "      <td>17.87</td>\n",
       "    </tr>\n",
       "    <tr>\n",
       "      <th>3</th>\n",
       "      <td>00024acbcdf0a6daa1e931b038114c75</td>\n",
       "      <td>1</td>\n",
       "      <td>7634da152a4610f1595efa32f14722fc</td>\n",
       "      <td>9d7a1d34a5052409006425275ba1c2b4</td>\n",
       "      <td>2018-08-15 10:10:18</td>\n",
       "      <td>12.99</td>\n",
       "      <td>12.79</td>\n",
       "    </tr>\n",
       "    <tr>\n",
       "      <th>4</th>\n",
       "      <td>00042b26cf59d7ce69dfabb4e55b4fd9</td>\n",
       "      <td>1</td>\n",
       "      <td>ac6c3623068f30de03045865e4e10089</td>\n",
       "      <td>df560393f3a51e74553ab94004ba5c87</td>\n",
       "      <td>2017-02-13 13:57:51</td>\n",
       "      <td>199.90</td>\n",
       "      <td>18.14</td>\n",
       "    </tr>\n",
       "  </tbody>\n",
       "</table>\n",
       "</div>"
      ],
      "text/plain": [
       "                           order_id  order_item_id  \\\n",
       "0  00010242fe8c5a6d1ba2dd792cb16214              1   \n",
       "1  00018f77f2f0320c557190d7a144bdd3              1   \n",
       "2  000229ec398224ef6ca0657da4fc703e              1   \n",
       "3  00024acbcdf0a6daa1e931b038114c75              1   \n",
       "4  00042b26cf59d7ce69dfabb4e55b4fd9              1   \n",
       "\n",
       "                         product_id                         seller_id  \\\n",
       "0  4244733e06e7ecb4970a6e2683c13e61  48436dade18ac8b2bce089ec2a041202   \n",
       "1  e5f2d52b802189ee658865ca93d83a8f  dd7ddc04e1b6c2c614352b383efe2d36   \n",
       "2  c777355d18b72b67abbeef9df44fd0fd  5b51032eddd242adc84c38acab88f23d   \n",
       "3  7634da152a4610f1595efa32f14722fc  9d7a1d34a5052409006425275ba1c2b4   \n",
       "4  ac6c3623068f30de03045865e4e10089  df560393f3a51e74553ab94004ba5c87   \n",
       "\n",
       "   shipping_limit_date   price  freight_value  \n",
       "0  2017-09-19 09:45:35   58.90          13.29  \n",
       "1  2017-05-03 11:05:13  239.90          19.93  \n",
       "2  2018-01-18 14:48:30  199.00          17.87  \n",
       "3  2018-08-15 10:10:18   12.99          12.79  \n",
       "4  2017-02-13 13:57:51  199.90          18.14  "
      ]
     },
     "execution_count": 7,
     "metadata": {},
     "output_type": "execute_result"
    }
   ],
   "source": [
    "order_items_df = pd.read_csv(\"e-commerce_public_dataset/order_items_dataset.csv\")\n",
    "order_items_df.head()"
   ]
  },
  {
   "cell_type": "markdown",
   "metadata": {},
   "source": [
    "**Insight:**\\\n",
    "Dataset `order_items_df` berisi informasi mengenai item yang dipesan dalam setiap pesanan.\\\n",
    "Informasi yang tertera diantaranya:\n",
    "1. `order_id`: ID unik untuk setiap pesanan.\n",
    "2. `order_item_id`: ID untuk setiap item pesanan dalam pesanan yang sama.\n",
    "3. `product_id`: ID produk yang dipesan.\n",
    "4. `seller_id`: ID unik penjual.\n",
    "5. `shipping_limit_date`: Batas waktu pengiriman item oleh penjual.\n",
    "6. `price`: Harga jual produk yang dipesan.\n",
    "7. `freight_value`: Biaya pengiriman item."
   ]
  },
  {
   "cell_type": "markdown",
   "metadata": {},
   "source": [
    "#### Data Tabel `geolocation_df`"
   ]
  },
  {
   "cell_type": "code",
   "execution_count": 8,
   "metadata": {},
   "outputs": [
    {
     "data": {
      "text/html": [
       "<div>\n",
       "<style scoped>\n",
       "    .dataframe tbody tr th:only-of-type {\n",
       "        vertical-align: middle;\n",
       "    }\n",
       "\n",
       "    .dataframe tbody tr th {\n",
       "        vertical-align: top;\n",
       "    }\n",
       "\n",
       "    .dataframe thead th {\n",
       "        text-align: right;\n",
       "    }\n",
       "</style>\n",
       "<table border=\"1\" class=\"dataframe\">\n",
       "  <thead>\n",
       "    <tr style=\"text-align: right;\">\n",
       "      <th></th>\n",
       "      <th>geolocation_zip_code_prefix</th>\n",
       "      <th>geolocation_lat</th>\n",
       "      <th>geolocation_lng</th>\n",
       "      <th>geolocation_city</th>\n",
       "      <th>geolocation_state</th>\n",
       "    </tr>\n",
       "  </thead>\n",
       "  <tbody>\n",
       "    <tr>\n",
       "      <th>0</th>\n",
       "      <td>1037</td>\n",
       "      <td>-23.545621</td>\n",
       "      <td>-46.639292</td>\n",
       "      <td>sao paulo</td>\n",
       "      <td>SP</td>\n",
       "    </tr>\n",
       "    <tr>\n",
       "      <th>1</th>\n",
       "      <td>1046</td>\n",
       "      <td>-23.546081</td>\n",
       "      <td>-46.644820</td>\n",
       "      <td>sao paulo</td>\n",
       "      <td>SP</td>\n",
       "    </tr>\n",
       "    <tr>\n",
       "      <th>2</th>\n",
       "      <td>1046</td>\n",
       "      <td>-23.546129</td>\n",
       "      <td>-46.642951</td>\n",
       "      <td>sao paulo</td>\n",
       "      <td>SP</td>\n",
       "    </tr>\n",
       "    <tr>\n",
       "      <th>3</th>\n",
       "      <td>1041</td>\n",
       "      <td>-23.544392</td>\n",
       "      <td>-46.639499</td>\n",
       "      <td>sao paulo</td>\n",
       "      <td>SP</td>\n",
       "    </tr>\n",
       "    <tr>\n",
       "      <th>4</th>\n",
       "      <td>1035</td>\n",
       "      <td>-23.541578</td>\n",
       "      <td>-46.641607</td>\n",
       "      <td>sao paulo</td>\n",
       "      <td>SP</td>\n",
       "    </tr>\n",
       "  </tbody>\n",
       "</table>\n",
       "</div>"
      ],
      "text/plain": [
       "   geolocation_zip_code_prefix  geolocation_lat  geolocation_lng  \\\n",
       "0                         1037       -23.545621       -46.639292   \n",
       "1                         1046       -23.546081       -46.644820   \n",
       "2                         1046       -23.546129       -46.642951   \n",
       "3                         1041       -23.544392       -46.639499   \n",
       "4                         1035       -23.541578       -46.641607   \n",
       "\n",
       "  geolocation_city geolocation_state  \n",
       "0        sao paulo                SP  \n",
       "1        sao paulo                SP  \n",
       "2        sao paulo                SP  \n",
       "3        sao paulo                SP  \n",
       "4        sao paulo                SP  "
      ]
     },
     "execution_count": 8,
     "metadata": {},
     "output_type": "execute_result"
    }
   ],
   "source": [
    "geolocation_df = pd.read_csv(\"e-commerce_public_dataset/geolocation_dataset.csv\")\n",
    "geolocation_df.head()"
   ]
  },
  {
   "cell_type": "markdown",
   "metadata": {},
   "source": [
    "**Insight:**\\\n",
    "Dataset `geolocation_df` berisi informasi geolokasi.\\\n",
    "Informasi yang tertera diantaranya:\n",
    "1. `geolocation_zip_code_prefix`: Kode pos.\n",
    "2. `geolocation_lat`: Koordinat geografis lintang.\n",
    "3. `geolocation_lng`: Koordinat geografis bujur.\n",
    "4. `geolocation_city`: Nama kota.\n",
    "5. `geolocation_state`: Nama negara bagian."
   ]
  },
  {
   "cell_type": "markdown",
   "metadata": {},
   "source": [
    "#### Data Tabel `customers_df`"
   ]
  },
  {
   "cell_type": "code",
   "execution_count": 9,
   "metadata": {},
   "outputs": [
    {
     "data": {
      "text/html": [
       "<div>\n",
       "<style scoped>\n",
       "    .dataframe tbody tr th:only-of-type {\n",
       "        vertical-align: middle;\n",
       "    }\n",
       "\n",
       "    .dataframe tbody tr th {\n",
       "        vertical-align: top;\n",
       "    }\n",
       "\n",
       "    .dataframe thead th {\n",
       "        text-align: right;\n",
       "    }\n",
       "</style>\n",
       "<table border=\"1\" class=\"dataframe\">\n",
       "  <thead>\n",
       "    <tr style=\"text-align: right;\">\n",
       "      <th></th>\n",
       "      <th>customer_id</th>\n",
       "      <th>customer_unique_id</th>\n",
       "      <th>customer_zip_code_prefix</th>\n",
       "      <th>customer_city</th>\n",
       "      <th>customer_state</th>\n",
       "    </tr>\n",
       "  </thead>\n",
       "  <tbody>\n",
       "    <tr>\n",
       "      <th>0</th>\n",
       "      <td>06b8999e2fba1a1fbc88172c00ba8bc7</td>\n",
       "      <td>861eff4711a542e4b93843c6dd7febb0</td>\n",
       "      <td>14409</td>\n",
       "      <td>franca</td>\n",
       "      <td>SP</td>\n",
       "    </tr>\n",
       "    <tr>\n",
       "      <th>1</th>\n",
       "      <td>18955e83d337fd6b2def6b18a428ac77</td>\n",
       "      <td>290c77bc529b7ac935b93aa66c333dc3</td>\n",
       "      <td>9790</td>\n",
       "      <td>sao bernardo do campo</td>\n",
       "      <td>SP</td>\n",
       "    </tr>\n",
       "    <tr>\n",
       "      <th>2</th>\n",
       "      <td>4e7b3e00288586ebd08712fdd0374a03</td>\n",
       "      <td>060e732b5b29e8181a18229c7b0b2b5e</td>\n",
       "      <td>1151</td>\n",
       "      <td>sao paulo</td>\n",
       "      <td>SP</td>\n",
       "    </tr>\n",
       "    <tr>\n",
       "      <th>3</th>\n",
       "      <td>b2b6027bc5c5109e529d4dc6358b12c3</td>\n",
       "      <td>259dac757896d24d7702b9acbbff3f3c</td>\n",
       "      <td>8775</td>\n",
       "      <td>mogi das cruzes</td>\n",
       "      <td>SP</td>\n",
       "    </tr>\n",
       "    <tr>\n",
       "      <th>4</th>\n",
       "      <td>4f2d8ab171c80ec8364f7c12e35b23ad</td>\n",
       "      <td>345ecd01c38d18a9036ed96c73b8d066</td>\n",
       "      <td>13056</td>\n",
       "      <td>campinas</td>\n",
       "      <td>SP</td>\n",
       "    </tr>\n",
       "  </tbody>\n",
       "</table>\n",
       "</div>"
      ],
      "text/plain": [
       "                        customer_id                customer_unique_id  \\\n",
       "0  06b8999e2fba1a1fbc88172c00ba8bc7  861eff4711a542e4b93843c6dd7febb0   \n",
       "1  18955e83d337fd6b2def6b18a428ac77  290c77bc529b7ac935b93aa66c333dc3   \n",
       "2  4e7b3e00288586ebd08712fdd0374a03  060e732b5b29e8181a18229c7b0b2b5e   \n",
       "3  b2b6027bc5c5109e529d4dc6358b12c3  259dac757896d24d7702b9acbbff3f3c   \n",
       "4  4f2d8ab171c80ec8364f7c12e35b23ad  345ecd01c38d18a9036ed96c73b8d066   \n",
       "\n",
       "   customer_zip_code_prefix          customer_city customer_state  \n",
       "0                     14409                 franca             SP  \n",
       "1                      9790  sao bernardo do campo             SP  \n",
       "2                      1151              sao paulo             SP  \n",
       "3                      8775        mogi das cruzes             SP  \n",
       "4                     13056               campinas             SP  "
      ]
     },
     "execution_count": 9,
     "metadata": {},
     "output_type": "execute_result"
    }
   ],
   "source": [
    "customers_df = pd.read_csv(\"e-commerce_public_dataset/customers_dataset.csv\")\n",
    "customers_df.head()"
   ]
  },
  {
   "cell_type": "markdown",
   "metadata": {},
   "source": [
    "**Insight:**\\\n",
    "Dataset `customers_df` berisi informasi mengenai pelanggan yang melakukan pemesanan.\\\n",
    "Informasi yang tertera diantaranya:\n",
    "1. `customer_id`: ID pelanggan untuk setiap pesanan.\n",
    "2. `customer_unique_id`: ID unik pelanggan.\n",
    "3. `customer_zip_code_prefix`: Kode pos pelanggan.\n",
    "4. `customer_city`: Nama kota pelanggan.\n",
    "5. `customer_state`: Nama negara bagian pelanggan."
   ]
  },
  {
   "cell_type": "markdown",
   "metadata": {},
   "source": [
    "#### Data Tabel `sellers_df`"
   ]
  },
  {
   "cell_type": "code",
   "execution_count": 10,
   "metadata": {},
   "outputs": [
    {
     "data": {
      "text/html": [
       "<div>\n",
       "<style scoped>\n",
       "    .dataframe tbody tr th:only-of-type {\n",
       "        vertical-align: middle;\n",
       "    }\n",
       "\n",
       "    .dataframe tbody tr th {\n",
       "        vertical-align: top;\n",
       "    }\n",
       "\n",
       "    .dataframe thead th {\n",
       "        text-align: right;\n",
       "    }\n",
       "</style>\n",
       "<table border=\"1\" class=\"dataframe\">\n",
       "  <thead>\n",
       "    <tr style=\"text-align: right;\">\n",
       "      <th></th>\n",
       "      <th>seller_id</th>\n",
       "      <th>seller_zip_code_prefix</th>\n",
       "      <th>seller_city</th>\n",
       "      <th>seller_state</th>\n",
       "    </tr>\n",
       "  </thead>\n",
       "  <tbody>\n",
       "    <tr>\n",
       "      <th>0</th>\n",
       "      <td>3442f8959a84dea7ee197c632cb2df15</td>\n",
       "      <td>13023</td>\n",
       "      <td>campinas</td>\n",
       "      <td>SP</td>\n",
       "    </tr>\n",
       "    <tr>\n",
       "      <th>1</th>\n",
       "      <td>d1b65fc7debc3361ea86b5f14c68d2e2</td>\n",
       "      <td>13844</td>\n",
       "      <td>mogi guacu</td>\n",
       "      <td>SP</td>\n",
       "    </tr>\n",
       "    <tr>\n",
       "      <th>2</th>\n",
       "      <td>ce3ad9de960102d0677a81f5d0bb7b2d</td>\n",
       "      <td>20031</td>\n",
       "      <td>rio de janeiro</td>\n",
       "      <td>RJ</td>\n",
       "    </tr>\n",
       "    <tr>\n",
       "      <th>3</th>\n",
       "      <td>c0f3eea2e14555b6faeea3dd58c1b1c3</td>\n",
       "      <td>4195</td>\n",
       "      <td>sao paulo</td>\n",
       "      <td>SP</td>\n",
       "    </tr>\n",
       "    <tr>\n",
       "      <th>4</th>\n",
       "      <td>51a04a8a6bdcb23deccc82b0b80742cf</td>\n",
       "      <td>12914</td>\n",
       "      <td>braganca paulista</td>\n",
       "      <td>SP</td>\n",
       "    </tr>\n",
       "  </tbody>\n",
       "</table>\n",
       "</div>"
      ],
      "text/plain": [
       "                          seller_id  seller_zip_code_prefix  \\\n",
       "0  3442f8959a84dea7ee197c632cb2df15                   13023   \n",
       "1  d1b65fc7debc3361ea86b5f14c68d2e2                   13844   \n",
       "2  ce3ad9de960102d0677a81f5d0bb7b2d                   20031   \n",
       "3  c0f3eea2e14555b6faeea3dd58c1b1c3                    4195   \n",
       "4  51a04a8a6bdcb23deccc82b0b80742cf                   12914   \n",
       "\n",
       "         seller_city seller_state  \n",
       "0           campinas           SP  \n",
       "1         mogi guacu           SP  \n",
       "2     rio de janeiro           RJ  \n",
       "3          sao paulo           SP  \n",
       "4  braganca paulista           SP  "
      ]
     },
     "execution_count": 10,
     "metadata": {},
     "output_type": "execute_result"
    }
   ],
   "source": [
    "sellers_df = pd.read_csv(\"e-commerce_public_dataset/sellers_dataset.csv\")\n",
    "sellers_df.head()"
   ]
  },
  {
   "cell_type": "markdown",
   "metadata": {},
   "source": [
    "**Insight:**\\\n",
    "Dataset `sellers_df` berisi informasi penjual\\\n",
    "Informasi yang tertera diantaranya:\n",
    "1. `seller_id`: ID penjual.\n",
    "2. `seller_zip_code_prefix`: Kode pos penjual.\n",
    "3. `seller_city`: Nama kota penjual.\n",
    "4. `seller_state`: Nama negara bagian penjual."
   ]
  },
  {
   "cell_type": "markdown",
   "metadata": {},
   "source": [
    "#### Data Tabel `orders_df`"
   ]
  },
  {
   "cell_type": "code",
   "execution_count": 11,
   "metadata": {},
   "outputs": [
    {
     "data": {
      "text/html": [
       "<div>\n",
       "<style scoped>\n",
       "    .dataframe tbody tr th:only-of-type {\n",
       "        vertical-align: middle;\n",
       "    }\n",
       "\n",
       "    .dataframe tbody tr th {\n",
       "        vertical-align: top;\n",
       "    }\n",
       "\n",
       "    .dataframe thead th {\n",
       "        text-align: right;\n",
       "    }\n",
       "</style>\n",
       "<table border=\"1\" class=\"dataframe\">\n",
       "  <thead>\n",
       "    <tr style=\"text-align: right;\">\n",
       "      <th></th>\n",
       "      <th>order_id</th>\n",
       "      <th>customer_id</th>\n",
       "      <th>order_status</th>\n",
       "      <th>order_purchase_timestamp</th>\n",
       "      <th>order_approved_at</th>\n",
       "      <th>order_delivered_carrier_date</th>\n",
       "      <th>order_delivered_customer_date</th>\n",
       "      <th>order_estimated_delivery_date</th>\n",
       "    </tr>\n",
       "  </thead>\n",
       "  <tbody>\n",
       "    <tr>\n",
       "      <th>0</th>\n",
       "      <td>e481f51cbdc54678b7cc49136f2d6af7</td>\n",
       "      <td>9ef432eb6251297304e76186b10a928d</td>\n",
       "      <td>delivered</td>\n",
       "      <td>2017-10-02 10:56:33</td>\n",
       "      <td>2017-10-02 11:07:15</td>\n",
       "      <td>2017-10-04 19:55:00</td>\n",
       "      <td>2017-10-10 21:25:13</td>\n",
       "      <td>2017-10-18 00:00:00</td>\n",
       "    </tr>\n",
       "    <tr>\n",
       "      <th>1</th>\n",
       "      <td>53cdb2fc8bc7dce0b6741e2150273451</td>\n",
       "      <td>b0830fb4747a6c6d20dea0b8c802d7ef</td>\n",
       "      <td>delivered</td>\n",
       "      <td>2018-07-24 20:41:37</td>\n",
       "      <td>2018-07-26 03:24:27</td>\n",
       "      <td>2018-07-26 14:31:00</td>\n",
       "      <td>2018-08-07 15:27:45</td>\n",
       "      <td>2018-08-13 00:00:00</td>\n",
       "    </tr>\n",
       "    <tr>\n",
       "      <th>2</th>\n",
       "      <td>47770eb9100c2d0c44946d9cf07ec65d</td>\n",
       "      <td>41ce2a54c0b03bf3443c3d931a367089</td>\n",
       "      <td>delivered</td>\n",
       "      <td>2018-08-08 08:38:49</td>\n",
       "      <td>2018-08-08 08:55:23</td>\n",
       "      <td>2018-08-08 13:50:00</td>\n",
       "      <td>2018-08-17 18:06:29</td>\n",
       "      <td>2018-09-04 00:00:00</td>\n",
       "    </tr>\n",
       "    <tr>\n",
       "      <th>3</th>\n",
       "      <td>949d5b44dbf5de918fe9c16f97b45f8a</td>\n",
       "      <td>f88197465ea7920adcdbec7375364d82</td>\n",
       "      <td>delivered</td>\n",
       "      <td>2017-11-18 19:28:06</td>\n",
       "      <td>2017-11-18 19:45:59</td>\n",
       "      <td>2017-11-22 13:39:59</td>\n",
       "      <td>2017-12-02 00:28:42</td>\n",
       "      <td>2017-12-15 00:00:00</td>\n",
       "    </tr>\n",
       "    <tr>\n",
       "      <th>4</th>\n",
       "      <td>ad21c59c0840e6cb83a9ceb5573f8159</td>\n",
       "      <td>8ab97904e6daea8866dbdbc4fb7aad2c</td>\n",
       "      <td>delivered</td>\n",
       "      <td>2018-02-13 21:18:39</td>\n",
       "      <td>2018-02-13 22:20:29</td>\n",
       "      <td>2018-02-14 19:46:34</td>\n",
       "      <td>2018-02-16 18:17:02</td>\n",
       "      <td>2018-02-26 00:00:00</td>\n",
       "    </tr>\n",
       "  </tbody>\n",
       "</table>\n",
       "</div>"
      ],
      "text/plain": [
       "                           order_id                       customer_id  \\\n",
       "0  e481f51cbdc54678b7cc49136f2d6af7  9ef432eb6251297304e76186b10a928d   \n",
       "1  53cdb2fc8bc7dce0b6741e2150273451  b0830fb4747a6c6d20dea0b8c802d7ef   \n",
       "2  47770eb9100c2d0c44946d9cf07ec65d  41ce2a54c0b03bf3443c3d931a367089   \n",
       "3  949d5b44dbf5de918fe9c16f97b45f8a  f88197465ea7920adcdbec7375364d82   \n",
       "4  ad21c59c0840e6cb83a9ceb5573f8159  8ab97904e6daea8866dbdbc4fb7aad2c   \n",
       "\n",
       "  order_status order_purchase_timestamp    order_approved_at  \\\n",
       "0    delivered      2017-10-02 10:56:33  2017-10-02 11:07:15   \n",
       "1    delivered      2018-07-24 20:41:37  2018-07-26 03:24:27   \n",
       "2    delivered      2018-08-08 08:38:49  2018-08-08 08:55:23   \n",
       "3    delivered      2017-11-18 19:28:06  2017-11-18 19:45:59   \n",
       "4    delivered      2018-02-13 21:18:39  2018-02-13 22:20:29   \n",
       "\n",
       "  order_delivered_carrier_date order_delivered_customer_date  \\\n",
       "0          2017-10-04 19:55:00           2017-10-10 21:25:13   \n",
       "1          2018-07-26 14:31:00           2018-08-07 15:27:45   \n",
       "2          2018-08-08 13:50:00           2018-08-17 18:06:29   \n",
       "3          2017-11-22 13:39:59           2017-12-02 00:28:42   \n",
       "4          2018-02-14 19:46:34           2018-02-16 18:17:02   \n",
       "\n",
       "  order_estimated_delivery_date  \n",
       "0           2017-10-18 00:00:00  \n",
       "1           2018-08-13 00:00:00  \n",
       "2           2018-09-04 00:00:00  \n",
       "3           2017-12-15 00:00:00  \n",
       "4           2018-02-26 00:00:00  "
      ]
     },
     "execution_count": 11,
     "metadata": {},
     "output_type": "execute_result"
    }
   ],
   "source": [
    "orders_df = pd.read_csv(\"e-commerce_public_dataset/orders_dataset.csv\")\n",
    "orders_df.head()"
   ]
  },
  {
   "cell_type": "markdown",
   "metadata": {
    "id": "MMi6xGaDkbCi"
   },
   "source": [
    "**Insight:**\\\n",
    "Dataset `orders_df` berisi informasi mengenai pesanan yang dibuat oleh pelanggan.\\\n",
    "Informasi yang tertera diantaranya:\n",
    "1. `order_id`: ID unik untuk setiap pesanan.\n",
    "2. `customer_id`: ID pelanggan yang terkait dengan pesanan.\n",
    "3. `order_status`: Status pesanan yang menunjukkan tahapan pesanan seperti delivered, shipped, canceled, dll.\n",
    "4. `order_purchase_timestamp`: Tanggal dan waktu pesanan dibuat.\n",
    "5. `order_approved_at`: Waktu persetujuan pesanan.\n",
    "6. `order_delivered_carrier_date`: Tanggal pesanan dikirim ke pelanggan oleh kurir.\n",
    "7. `order_delivered_customer_date`: Tanggal pesanan diterima oleh pelanggan.\n",
    "8. `order_estimated_delivery_date`: Estimasi tanggal pengiriman pesanan."
   ]
  },
  {
   "cell_type": "markdown",
   "metadata": {
    "id": "FHSiqaZp8DC1"
   },
   "source": [
    "### Assessing Data"
   ]
  },
  {
   "cell_type": "markdown",
   "metadata": {},
   "source": [
    "#### Menilai Tabel `products_df`"
   ]
  },
  {
   "cell_type": "code",
   "execution_count": 12,
   "metadata": {
    "id": "ax-3tEjc9Cj1"
   },
   "outputs": [
    {
     "name": "stdout",
     "output_type": "stream",
     "text": [
      "<class 'pandas.core.frame.DataFrame'>\n",
      "RangeIndex: 32951 entries, 0 to 32950\n",
      "Data columns (total 9 columns):\n",
      " #   Column                      Non-Null Count  Dtype  \n",
      "---  ------                      --------------  -----  \n",
      " 0   product_id                  32951 non-null  object \n",
      " 1   product_category_name       32341 non-null  object \n",
      " 2   product_name_lenght         32341 non-null  float64\n",
      " 3   product_description_lenght  32341 non-null  float64\n",
      " 4   product_photos_qty          32341 non-null  float64\n",
      " 5   product_weight_g            32949 non-null  float64\n",
      " 6   product_length_cm           32949 non-null  float64\n",
      " 7   product_height_cm           32949 non-null  float64\n",
      " 8   product_width_cm            32949 non-null  float64\n",
      "dtypes: float64(7), object(2)\n",
      "memory usage: 2.3+ MB\n"
     ]
    }
   ],
   "source": [
    "products_df.info()"
   ]
  },
  {
   "cell_type": "code",
   "execution_count": 13,
   "metadata": {},
   "outputs": [
    {
     "name": "stdout",
     "output_type": "stream",
     "text": [
      "\n",
      "Missing values in Products dataset:\n"
     ]
    },
    {
     "data": {
      "text/plain": [
       "product_id                      0\n",
       "product_category_name         610\n",
       "product_name_lenght           610\n",
       "product_description_lenght    610\n",
       "product_photos_qty            610\n",
       "product_weight_g                2\n",
       "product_length_cm               2\n",
       "product_height_cm               2\n",
       "product_width_cm                2\n",
       "dtype: int64"
      ]
     },
     "execution_count": 13,
     "metadata": {},
     "output_type": "execute_result"
    }
   ],
   "source": [
    "print(\"\\nMissing values in Products dataset:\")\n",
    "products_df.isna().sum()"
   ]
  },
  {
   "cell_type": "code",
   "execution_count": 14,
   "metadata": {},
   "outputs": [
    {
     "name": "stdout",
     "output_type": "stream",
     "text": [
      "Duplicates in Products dataset: 0\n"
     ]
    }
   ],
   "source": [
    "print(\"Duplicates in Products dataset:\", products_df.duplicated().sum())"
   ]
  },
  {
   "cell_type": "code",
   "execution_count": 15,
   "metadata": {},
   "outputs": [
    {
     "data": {
      "text/plain": [
       "count    32949.00\n",
       "mean      2276.47\n",
       "std       4282.04\n",
       "min          0.00\n",
       "25%        300.00\n",
       "50%        700.00\n",
       "75%       1900.00\n",
       "max      40425.00\n",
       "Name: product_weight_g, dtype: float64"
      ]
     },
     "execution_count": 15,
     "metadata": {},
     "output_type": "execute_result"
    }
   ],
   "source": [
    "products_df[\"product_weight_g\"].describe().round(2)"
   ]
  },
  {
   "cell_type": "markdown",
   "metadata": {},
   "source": [
    "**Insight:**\\\n",
    "Tidak ada data duplikat.\\\n",
    "Terdapat beberapa kolom memiliki nilai yang hilang.\\\n",
    "Rentang nilai `product_weight_g` cukup besar, mulai dari **0.00** hingga **40425** gram, yang menunjukkan adanya anomali pada nilai minimum. Nilai **0.00** pada berat produk tampak tidak logis."
   ]
  },
  {
   "cell_type": "markdown",
   "metadata": {},
   "source": [
    "#### Menilai Tabel `product_category_translation_df`"
   ]
  },
  {
   "cell_type": "code",
   "execution_count": 16,
   "metadata": {},
   "outputs": [
    {
     "name": "stdout",
     "output_type": "stream",
     "text": [
      "<class 'pandas.core.frame.DataFrame'>\n",
      "RangeIndex: 71 entries, 0 to 70\n",
      "Data columns (total 2 columns):\n",
      " #   Column                         Non-Null Count  Dtype \n",
      "---  ------                         --------------  ----- \n",
      " 0   product_category_name          71 non-null     object\n",
      " 1   product_category_name_english  71 non-null     object\n",
      "dtypes: object(2)\n",
      "memory usage: 1.2+ KB\n"
     ]
    }
   ],
   "source": [
    "product_category_translation_df.info()"
   ]
  },
  {
   "cell_type": "code",
   "execution_count": 17,
   "metadata": {},
   "outputs": [
    {
     "name": "stdout",
     "output_type": "stream",
     "text": [
      "\n",
      "Missing values in Product Category Translation dataset:\n"
     ]
    },
    {
     "data": {
      "text/plain": [
       "product_category_name            0\n",
       "product_category_name_english    0\n",
       "dtype: int64"
      ]
     },
     "execution_count": 17,
     "metadata": {},
     "output_type": "execute_result"
    }
   ],
   "source": [
    "print(\"\\nMissing values in Product Category Translation dataset:\")\n",
    "product_category_translation_df.isna().sum()"
   ]
  },
  {
   "cell_type": "code",
   "execution_count": 18,
   "metadata": {},
   "outputs": [
    {
     "name": "stdout",
     "output_type": "stream",
     "text": [
      "Duplicates in Product Category Translation dataset: 0\n"
     ]
    }
   ],
   "source": [
    "print(\n",
    "    \"Duplicates in Product Category Translation dataset:\",\n",
    "    product_category_translation_df.duplicated().sum(),\n",
    ")"
   ]
  },
  {
   "cell_type": "markdown",
   "metadata": {},
   "source": [
    "**Insight:**\\\n",
    "Setiap kategori produk dalam bahasa Portugis dan terjemahan bahasa Inggris, sesuai dengan jumlah total entri **(71)**.\\\n",
    "Tidak memiliki nilai yang hilang atau duplikat."
   ]
  },
  {
   "cell_type": "markdown",
   "metadata": {},
   "source": [
    "#### Menilai Tabel `order_reviews_df`"
   ]
  },
  {
   "cell_type": "code",
   "execution_count": 19,
   "metadata": {},
   "outputs": [
    {
     "name": "stdout",
     "output_type": "stream",
     "text": [
      "<class 'pandas.core.frame.DataFrame'>\n",
      "RangeIndex: 99224 entries, 0 to 99223\n",
      "Data columns (total 7 columns):\n",
      " #   Column                   Non-Null Count  Dtype \n",
      "---  ------                   --------------  ----- \n",
      " 0   review_id                99224 non-null  object\n",
      " 1   order_id                 99224 non-null  object\n",
      " 2   review_score             99224 non-null  int64 \n",
      " 3   review_comment_title     11568 non-null  object\n",
      " 4   review_comment_message   40977 non-null  object\n",
      " 5   review_creation_date     99224 non-null  object\n",
      " 6   review_answer_timestamp  99224 non-null  object\n",
      "dtypes: int64(1), object(6)\n",
      "memory usage: 5.3+ MB\n"
     ]
    }
   ],
   "source": [
    "order_reviews_df.info()"
   ]
  },
  {
   "cell_type": "code",
   "execution_count": 20,
   "metadata": {},
   "outputs": [
    {
     "name": "stdout",
     "output_type": "stream",
     "text": [
      "\n",
      "Missing values in Order Reviews dataset:\n"
     ]
    },
    {
     "data": {
      "text/plain": [
       "review_id                      0\n",
       "order_id                       0\n",
       "review_score                   0\n",
       "review_comment_title       87656\n",
       "review_comment_message     58247\n",
       "review_creation_date           0\n",
       "review_answer_timestamp        0\n",
       "dtype: int64"
      ]
     },
     "execution_count": 20,
     "metadata": {},
     "output_type": "execute_result"
    }
   ],
   "source": [
    "print(\"\\nMissing values in Order Reviews dataset:\")\n",
    "order_reviews_df.isna().sum()"
   ]
  },
  {
   "cell_type": "code",
   "execution_count": 21,
   "metadata": {},
   "outputs": [
    {
     "name": "stdout",
     "output_type": "stream",
     "text": [
      "Duplicates in Order Reviews dataset: 0\n"
     ]
    }
   ],
   "source": [
    "print(\"Duplicates in Order Reviews dataset:\", order_reviews_df.duplicated().sum())"
   ]
  },
  {
   "cell_type": "markdown",
   "metadata": {},
   "source": [
    "**Insight:**\\\n",
    "Anomali pada kolom `review_creation_date` & `review_answer_timestamp` yang bertipe data *object* (teks).\n",
    "Terdapat banyak nilai yang hilang pada entri `review_comment_title` dan `review_comment_message`.\\\n",
    "Tidak ada baris yang duplikat.\\"
   ]
  },
  {
   "cell_type": "markdown",
   "metadata": {},
   "source": [
    "#### Menilai Tabel `order_payments_df`"
   ]
  },
  {
   "cell_type": "code",
   "execution_count": 22,
   "metadata": {},
   "outputs": [
    {
     "name": "stdout",
     "output_type": "stream",
     "text": [
      "<class 'pandas.core.frame.DataFrame'>\n",
      "RangeIndex: 103886 entries, 0 to 103885\n",
      "Data columns (total 5 columns):\n",
      " #   Column                Non-Null Count   Dtype  \n",
      "---  ------                --------------   -----  \n",
      " 0   order_id              103886 non-null  object \n",
      " 1   payment_sequential    103886 non-null  int64  \n",
      " 2   payment_type          103886 non-null  object \n",
      " 3   payment_installments  103886 non-null  int64  \n",
      " 4   payment_value         103886 non-null  float64\n",
      "dtypes: float64(1), int64(2), object(2)\n",
      "memory usage: 4.0+ MB\n"
     ]
    }
   ],
   "source": [
    "order_payments_df.info()"
   ]
  },
  {
   "cell_type": "code",
   "execution_count": 23,
   "metadata": {},
   "outputs": [
    {
     "name": "stdout",
     "output_type": "stream",
     "text": [
      "\n",
      "Missing values in Order Payments dataset:\n"
     ]
    },
    {
     "data": {
      "text/plain": [
       "order_id                0\n",
       "payment_sequential      0\n",
       "payment_type            0\n",
       "payment_installments    0\n",
       "payment_value           0\n",
       "dtype: int64"
      ]
     },
     "execution_count": 23,
     "metadata": {},
     "output_type": "execute_result"
    }
   ],
   "source": [
    "print(\"\\nMissing values in Order Payments dataset:\")\n",
    "order_payments_df.isna().sum()"
   ]
  },
  {
   "cell_type": "code",
   "execution_count": 24,
   "metadata": {},
   "outputs": [
    {
     "name": "stdout",
     "output_type": "stream",
     "text": [
      "Duplicates in Order Payments dataset: 0\n"
     ]
    }
   ],
   "source": [
    "print(\"Duplicates in Order Payments dataset:\", order_payments_df.duplicated().sum())"
   ]
  },
  {
   "cell_type": "code",
   "execution_count": 25,
   "metadata": {},
   "outputs": [
    {
     "data": {
      "text/html": [
       "<div>\n",
       "<style scoped>\n",
       "    .dataframe tbody tr th:only-of-type {\n",
       "        vertical-align: middle;\n",
       "    }\n",
       "\n",
       "    .dataframe tbody tr th {\n",
       "        vertical-align: top;\n",
       "    }\n",
       "\n",
       "    .dataframe thead th {\n",
       "        text-align: right;\n",
       "    }\n",
       "</style>\n",
       "<table border=\"1\" class=\"dataframe\">\n",
       "  <thead>\n",
       "    <tr style=\"text-align: right;\">\n",
       "      <th></th>\n",
       "      <th>payment_sequential</th>\n",
       "      <th>payment_installments</th>\n",
       "      <th>payment_value</th>\n",
       "    </tr>\n",
       "  </thead>\n",
       "  <tbody>\n",
       "    <tr>\n",
       "      <th>count</th>\n",
       "      <td>103886.000000</td>\n",
       "      <td>103886.000000</td>\n",
       "      <td>103886.000000</td>\n",
       "    </tr>\n",
       "    <tr>\n",
       "      <th>mean</th>\n",
       "      <td>1.092679</td>\n",
       "      <td>2.853349</td>\n",
       "      <td>154.100380</td>\n",
       "    </tr>\n",
       "    <tr>\n",
       "      <th>std</th>\n",
       "      <td>0.706584</td>\n",
       "      <td>2.687051</td>\n",
       "      <td>217.494064</td>\n",
       "    </tr>\n",
       "    <tr>\n",
       "      <th>min</th>\n",
       "      <td>1.000000</td>\n",
       "      <td>0.000000</td>\n",
       "      <td>0.000000</td>\n",
       "    </tr>\n",
       "    <tr>\n",
       "      <th>25%</th>\n",
       "      <td>1.000000</td>\n",
       "      <td>1.000000</td>\n",
       "      <td>56.790000</td>\n",
       "    </tr>\n",
       "    <tr>\n",
       "      <th>50%</th>\n",
       "      <td>1.000000</td>\n",
       "      <td>1.000000</td>\n",
       "      <td>100.000000</td>\n",
       "    </tr>\n",
       "    <tr>\n",
       "      <th>75%</th>\n",
       "      <td>1.000000</td>\n",
       "      <td>4.000000</td>\n",
       "      <td>171.837500</td>\n",
       "    </tr>\n",
       "    <tr>\n",
       "      <th>max</th>\n",
       "      <td>29.000000</td>\n",
       "      <td>24.000000</td>\n",
       "      <td>13664.080000</td>\n",
       "    </tr>\n",
       "  </tbody>\n",
       "</table>\n",
       "</div>"
      ],
      "text/plain": [
       "       payment_sequential  payment_installments  payment_value\n",
       "count       103886.000000         103886.000000  103886.000000\n",
       "mean             1.092679              2.853349     154.100380\n",
       "std              0.706584              2.687051     217.494064\n",
       "min              1.000000              0.000000       0.000000\n",
       "25%              1.000000              1.000000      56.790000\n",
       "50%              1.000000              1.000000     100.000000\n",
       "75%              1.000000              4.000000     171.837500\n",
       "max             29.000000             24.000000   13664.080000"
      ]
     },
     "execution_count": 25,
     "metadata": {},
     "output_type": "execute_result"
    }
   ],
   "source": [
    "order_payments_df.describe()"
   ]
  },
  {
   "cell_type": "markdown",
   "metadata": {},
   "source": [
    "**Insight:**\\\n",
    "Tidak ada *missing values*.\\\n",
    "Tidak ada data duplikat.\\\n",
    "Pada kolom `payment_installments` dengan minimum value **0.00**, yang mungkin menunjukkan pembayaran tanpa cicilan.\\\n",
    "Pada kolom `payment_value`, nilai minimum adalah **0.00**, yang mungkin barang tersebut digratiskan atau sedang promo."
   ]
  },
  {
   "cell_type": "markdown",
   "metadata": {},
   "source": [
    "#### Menilai Tabel `order_items_df`"
   ]
  },
  {
   "cell_type": "code",
   "execution_count": 26,
   "metadata": {},
   "outputs": [
    {
     "name": "stdout",
     "output_type": "stream",
     "text": [
      "<class 'pandas.core.frame.DataFrame'>\n",
      "RangeIndex: 112650 entries, 0 to 112649\n",
      "Data columns (total 7 columns):\n",
      " #   Column               Non-Null Count   Dtype  \n",
      "---  ------               --------------   -----  \n",
      " 0   order_id             112650 non-null  object \n",
      " 1   order_item_id        112650 non-null  int64  \n",
      " 2   product_id           112650 non-null  object \n",
      " 3   seller_id            112650 non-null  object \n",
      " 4   shipping_limit_date  112650 non-null  object \n",
      " 5   price                112650 non-null  float64\n",
      " 6   freight_value        112650 non-null  float64\n",
      "dtypes: float64(2), int64(1), object(4)\n",
      "memory usage: 6.0+ MB\n"
     ]
    }
   ],
   "source": [
    "order_items_df.info()"
   ]
  },
  {
   "cell_type": "code",
   "execution_count": 27,
   "metadata": {},
   "outputs": [
    {
     "name": "stdout",
     "output_type": "stream",
     "text": [
      "\n",
      "Missing values in Order Items dataset:\n"
     ]
    },
    {
     "data": {
      "text/plain": [
       "order_id               0\n",
       "order_item_id          0\n",
       "product_id             0\n",
       "seller_id              0\n",
       "shipping_limit_date    0\n",
       "price                  0\n",
       "freight_value          0\n",
       "dtype: int64"
      ]
     },
     "execution_count": 27,
     "metadata": {},
     "output_type": "execute_result"
    }
   ],
   "source": [
    "print(\"\\nMissing values in Order Items dataset:\")\n",
    "order_items_df.isna().sum()"
   ]
  },
  {
   "cell_type": "code",
   "execution_count": 28,
   "metadata": {},
   "outputs": [
    {
     "name": "stdout",
     "output_type": "stream",
     "text": [
      "Duplicates in Order Items dataset: 0\n"
     ]
    }
   ],
   "source": [
    "print(\"Duplicates in Order Items dataset:\", order_items_df.duplicated().sum())"
   ]
  },
  {
   "cell_type": "markdown",
   "metadata": {},
   "source": [
    "**Insight:**\\\n",
    "Anomali pada kolom `shipping_limit_date` yang bertipe data *object* (teks).\\\n",
    "Tidak ada *missing values*.\\\n",
    "Tidak ada baris yang duplikat."
   ]
  },
  {
   "cell_type": "markdown",
   "metadata": {},
   "source": [
    "#### Menilai Tabel `geolocation_df`"
   ]
  },
  {
   "cell_type": "code",
   "execution_count": 29,
   "metadata": {},
   "outputs": [
    {
     "name": "stdout",
     "output_type": "stream",
     "text": [
      "<class 'pandas.core.frame.DataFrame'>\n",
      "RangeIndex: 1000163 entries, 0 to 1000162\n",
      "Data columns (total 5 columns):\n",
      " #   Column                       Non-Null Count    Dtype  \n",
      "---  ------                       --------------    -----  \n",
      " 0   geolocation_zip_code_prefix  1000163 non-null  int64  \n",
      " 1   geolocation_lat              1000163 non-null  float64\n",
      " 2   geolocation_lng              1000163 non-null  float64\n",
      " 3   geolocation_city             1000163 non-null  object \n",
      " 4   geolocation_state            1000163 non-null  object \n",
      "dtypes: float64(2), int64(1), object(2)\n",
      "memory usage: 38.2+ MB\n"
     ]
    }
   ],
   "source": [
    "geolocation_df.info()"
   ]
  },
  {
   "cell_type": "code",
   "execution_count": 30,
   "metadata": {},
   "outputs": [
    {
     "name": "stdout",
     "output_type": "stream",
     "text": [
      "\n",
      "Missing values in Geolocation dataset:\n"
     ]
    },
    {
     "data": {
      "text/plain": [
       "geolocation_zip_code_prefix    0\n",
       "geolocation_lat                0\n",
       "geolocation_lng                0\n",
       "geolocation_city               0\n",
       "geolocation_state              0\n",
       "dtype: int64"
      ]
     },
     "execution_count": 30,
     "metadata": {},
     "output_type": "execute_result"
    }
   ],
   "source": [
    "print(\"\\nMissing values in Geolocation dataset:\")\n",
    "geolocation_df.isna().sum()"
   ]
  },
  {
   "cell_type": "code",
   "execution_count": 31,
   "metadata": {},
   "outputs": [
    {
     "name": "stdout",
     "output_type": "stream",
     "text": [
      "Duplicates in Geolocation dataset: 261831\n"
     ]
    }
   ],
   "source": [
    "print(\"Duplicates in Geolocation dataset:\", geolocation_df.duplicated().sum())"
   ]
  },
  {
   "cell_type": "markdown",
   "metadata": {},
   "source": [
    "**Insight:**\\\n",
    "Tidak ada *missing values*.\\\n",
    "Terdapat **261831** baris duplikat, sekitar **26%** dari keseluruhan data."
   ]
  },
  {
   "cell_type": "markdown",
   "metadata": {},
   "source": [
    "#### Menilai Tabel `customers_df`"
   ]
  },
  {
   "cell_type": "code",
   "execution_count": 32,
   "metadata": {},
   "outputs": [
    {
     "name": "stdout",
     "output_type": "stream",
     "text": [
      "<class 'pandas.core.frame.DataFrame'>\n",
      "RangeIndex: 99441 entries, 0 to 99440\n",
      "Data columns (total 5 columns):\n",
      " #   Column                    Non-Null Count  Dtype \n",
      "---  ------                    --------------  ----- \n",
      " 0   customer_id               99441 non-null  object\n",
      " 1   customer_unique_id        99441 non-null  object\n",
      " 2   customer_zip_code_prefix  99441 non-null  int64 \n",
      " 3   customer_city             99441 non-null  object\n",
      " 4   customer_state            99441 non-null  object\n",
      "dtypes: int64(1), object(4)\n",
      "memory usage: 3.8+ MB\n"
     ]
    }
   ],
   "source": [
    "customers_df.info()"
   ]
  },
  {
   "cell_type": "code",
   "execution_count": 33,
   "metadata": {},
   "outputs": [
    {
     "name": "stdout",
     "output_type": "stream",
     "text": [
      "\n",
      "Missing values in Customers dataset:\n"
     ]
    },
    {
     "data": {
      "text/plain": [
       "customer_id                 0\n",
       "customer_unique_id          0\n",
       "customer_zip_code_prefix    0\n",
       "customer_city               0\n",
       "customer_state              0\n",
       "dtype: int64"
      ]
     },
     "execution_count": 33,
     "metadata": {},
     "output_type": "execute_result"
    }
   ],
   "source": [
    "print(\"\\nMissing values in Customers dataset:\")\n",
    "customers_df.isna().sum()"
   ]
  },
  {
   "cell_type": "code",
   "execution_count": 34,
   "metadata": {},
   "outputs": [
    {
     "name": "stdout",
     "output_type": "stream",
     "text": [
      "Duplicates in Customers dataset: 0\n"
     ]
    }
   ],
   "source": [
    "print(\"Duplicates in Customers dataset:\", customers_df.duplicated().sum())"
   ]
  },
  {
   "cell_type": "markdown",
   "metadata": {},
   "source": [
    "**Insight:**\\\n",
    "Tidak ada anomali tipe data.\\\n",
    "Tidak ada *missing values*.\\\n",
    "Tidak ada baris yang duplikat."
   ]
  },
  {
   "cell_type": "markdown",
   "metadata": {},
   "source": [
    "#### Menilai Tabel `sellers_df`"
   ]
  },
  {
   "cell_type": "code",
   "execution_count": 35,
   "metadata": {},
   "outputs": [
    {
     "name": "stdout",
     "output_type": "stream",
     "text": [
      "<class 'pandas.core.frame.DataFrame'>\n",
      "RangeIndex: 3095 entries, 0 to 3094\n",
      "Data columns (total 4 columns):\n",
      " #   Column                  Non-Null Count  Dtype \n",
      "---  ------                  --------------  ----- \n",
      " 0   seller_id               3095 non-null   object\n",
      " 1   seller_zip_code_prefix  3095 non-null   int64 \n",
      " 2   seller_city             3095 non-null   object\n",
      " 3   seller_state            3095 non-null   object\n",
      "dtypes: int64(1), object(3)\n",
      "memory usage: 96.8+ KB\n"
     ]
    }
   ],
   "source": [
    "sellers_df.info()"
   ]
  },
  {
   "cell_type": "code",
   "execution_count": 36,
   "metadata": {},
   "outputs": [
    {
     "name": "stdout",
     "output_type": "stream",
     "text": [
      "\n",
      "Missing values in Sellers dataset:\n"
     ]
    },
    {
     "data": {
      "text/plain": [
       "seller_id                 0\n",
       "seller_zip_code_prefix    0\n",
       "seller_city               0\n",
       "seller_state              0\n",
       "dtype: int64"
      ]
     },
     "execution_count": 36,
     "metadata": {},
     "output_type": "execute_result"
    }
   ],
   "source": [
    "print(\"\\nMissing values in Sellers dataset:\")\n",
    "sellers_df.isna().sum()"
   ]
  },
  {
   "cell_type": "code",
   "execution_count": 37,
   "metadata": {},
   "outputs": [
    {
     "name": "stdout",
     "output_type": "stream",
     "text": [
      "Duplicates in Sellers dataset: 0\n"
     ]
    }
   ],
   "source": [
    "print(\"Duplicates in Sellers dataset:\", sellers_df.duplicated().sum())"
   ]
  },
  {
   "cell_type": "markdown",
   "metadata": {},
   "source": [
    "**Insight:**\\\n",
    "Tidak ada anomali tipe data.\\\n",
    "Tidak ada *missing values.*\\\n",
    "Tidak ada bairs yang duplikat."
   ]
  },
  {
   "cell_type": "markdown",
   "metadata": {},
   "source": [
    "#### Menilai Tabel `orders_df`"
   ]
  },
  {
   "cell_type": "code",
   "execution_count": 38,
   "metadata": {},
   "outputs": [
    {
     "name": "stdout",
     "output_type": "stream",
     "text": [
      "<class 'pandas.core.frame.DataFrame'>\n",
      "RangeIndex: 99441 entries, 0 to 99440\n",
      "Data columns (total 8 columns):\n",
      " #   Column                         Non-Null Count  Dtype \n",
      "---  ------                         --------------  ----- \n",
      " 0   order_id                       99441 non-null  object\n",
      " 1   customer_id                    99441 non-null  object\n",
      " 2   order_status                   99441 non-null  object\n",
      " 3   order_purchase_timestamp       99441 non-null  object\n",
      " 4   order_approved_at              99281 non-null  object\n",
      " 5   order_delivered_carrier_date   97658 non-null  object\n",
      " 6   order_delivered_customer_date  96476 non-null  object\n",
      " 7   order_estimated_delivery_date  99441 non-null  object\n",
      "dtypes: object(8)\n",
      "memory usage: 6.1+ MB\n"
     ]
    }
   ],
   "source": [
    "orders_df.info()"
   ]
  },
  {
   "cell_type": "code",
   "execution_count": 39,
   "metadata": {},
   "outputs": [
    {
     "name": "stdout",
     "output_type": "stream",
     "text": [
      "Duplicates in Orders dataset: 0\n"
     ]
    }
   ],
   "source": [
    "print(\"Duplicates in Orders dataset:\", orders_df.duplicated().sum())"
   ]
  },
  {
   "cell_type": "code",
   "execution_count": 40,
   "metadata": {},
   "outputs": [
    {
     "name": "stdout",
     "output_type": "stream",
     "text": [
      "\n",
      "Missing values in Orders dataset:\n"
     ]
    },
    {
     "data": {
      "text/plain": [
       "order_id                            0\n",
       "customer_id                         0\n",
       "order_status                        0\n",
       "order_purchase_timestamp            0\n",
       "order_approved_at                 160\n",
       "order_delivered_carrier_date     1783\n",
       "order_delivered_customer_date    2965\n",
       "order_estimated_delivery_date       0\n",
       "dtype: int64"
      ]
     },
     "execution_count": 40,
     "metadata": {},
     "output_type": "execute_result"
    }
   ],
   "source": [
    "print(\"\\nMissing values in Orders dataset:\")\n",
    "orders_df.isna().sum()"
   ]
  },
  {
   "cell_type": "markdown",
   "metadata": {},
   "source": [
    "**Insight:**\\\n",
    "Anomali pada kolom `order_purchase_timestamp`, `order_approved_at`, `order_delivered_carrier_date`, `order_delivered_customer_date`, dan `order_estimated_delivery_date` dengan tipe data *object* (teks).\\\n",
    "Tidak ada baris yang duplikat.\\\n",
    "Nilai-nilai yang hilang pada dataset berkaitan dengan tahapan proses pesanan, yang bisa disebabkan oleh pesanan yang belum selesai atau pembatalan.\\"
   ]
  },
  {
   "cell_type": "markdown",
   "metadata": {
    "id": "EhN5R4hr8DC1"
   },
   "source": [
    "### Cleaning Data"
   ]
  },
  {
   "cell_type": "markdown",
   "metadata": {},
   "source": [
    "#### Membersihkan Tabel `products_df`"
   ]
  },
  {
   "cell_type": "code",
   "execution_count": 41,
   "metadata": {},
   "outputs": [
    {
     "name": "stdout",
     "output_type": "stream",
     "text": [
      "<class 'pandas.core.frame.DataFrame'>\n",
      "RangeIndex: 32951 entries, 0 to 32950\n",
      "Data columns (total 9 columns):\n",
      " #   Column                      Non-Null Count  Dtype  \n",
      "---  ------                      --------------  -----  \n",
      " 0   product_id                  32951 non-null  object \n",
      " 1   product_category_name       32341 non-null  object \n",
      " 2   product_name_lenght         32341 non-null  float64\n",
      " 3   product_description_lenght  32341 non-null  float64\n",
      " 4   product_photos_qty          32341 non-null  float64\n",
      " 5   product_weight_g            32949 non-null  float64\n",
      " 6   product_length_cm           32949 non-null  float64\n",
      " 7   product_height_cm           32949 non-null  float64\n",
      " 8   product_width_cm            32949 non-null  float64\n",
      "dtypes: float64(7), object(2)\n",
      "memory usage: 2.3+ MB\n"
     ]
    }
   ],
   "source": [
    "products_df.info()"
   ]
  },
  {
   "cell_type": "markdown",
   "metadata": {},
   "source": [
    "**FIXING:** Missing Values"
   ]
  },
  {
   "cell_type": "code",
   "execution_count": 42,
   "metadata": {
    "scrolled": true
   },
   "outputs": [
    {
     "name": "stdout",
     "output_type": "stream",
     "text": [
      "\n",
      "Missing values in Products dataset:\n"
     ]
    },
    {
     "data": {
      "text/plain": [
       "product_id                      0\n",
       "product_category_name         610\n",
       "product_name_lenght           610\n",
       "product_description_lenght    610\n",
       "product_photos_qty            610\n",
       "product_weight_g                2\n",
       "product_length_cm               2\n",
       "product_height_cm               2\n",
       "product_width_cm                2\n",
       "dtype: int64"
      ]
     },
     "execution_count": 42,
     "metadata": {},
     "output_type": "execute_result"
    }
   ],
   "source": [
    "print(\"\\nMissing values in Products dataset:\")\n",
    "products_df.isna().sum()"
   ]
  },
  {
   "cell_type": "code",
   "execution_count": 43,
   "metadata": {},
   "outputs": [
    {
     "data": {
      "text/html": [
       "<div>\n",
       "<style scoped>\n",
       "    .dataframe tbody tr th:only-of-type {\n",
       "        vertical-align: middle;\n",
       "    }\n",
       "\n",
       "    .dataframe tbody tr th {\n",
       "        vertical-align: top;\n",
       "    }\n",
       "\n",
       "    .dataframe thead th {\n",
       "        text-align: right;\n",
       "    }\n",
       "</style>\n",
       "<table border=\"1\" class=\"dataframe\">\n",
       "  <thead>\n",
       "    <tr style=\"text-align: right;\">\n",
       "      <th></th>\n",
       "      <th>product_id</th>\n",
       "      <th>product_category_name</th>\n",
       "      <th>product_name_lenght</th>\n",
       "      <th>product_description_lenght</th>\n",
       "      <th>product_photos_qty</th>\n",
       "      <th>product_weight_g</th>\n",
       "      <th>product_length_cm</th>\n",
       "      <th>product_height_cm</th>\n",
       "      <th>product_width_cm</th>\n",
       "    </tr>\n",
       "  </thead>\n",
       "  <tbody>\n",
       "    <tr>\n",
       "      <th>105</th>\n",
       "      <td>a41e356c76fab66334f36de622ecbd3a</td>\n",
       "      <td>NaN</td>\n",
       "      <td>NaN</td>\n",
       "      <td>NaN</td>\n",
       "      <td>NaN</td>\n",
       "      <td>650.0</td>\n",
       "      <td>17.0</td>\n",
       "      <td>14.0</td>\n",
       "      <td>12.0</td>\n",
       "    </tr>\n",
       "    <tr>\n",
       "      <th>128</th>\n",
       "      <td>d8dee61c2034d6d075997acef1870e9b</td>\n",
       "      <td>NaN</td>\n",
       "      <td>NaN</td>\n",
       "      <td>NaN</td>\n",
       "      <td>NaN</td>\n",
       "      <td>300.0</td>\n",
       "      <td>16.0</td>\n",
       "      <td>7.0</td>\n",
       "      <td>20.0</td>\n",
       "    </tr>\n",
       "    <tr>\n",
       "      <th>145</th>\n",
       "      <td>56139431d72cd51f19eb9f7dae4d1617</td>\n",
       "      <td>NaN</td>\n",
       "      <td>NaN</td>\n",
       "      <td>NaN</td>\n",
       "      <td>NaN</td>\n",
       "      <td>200.0</td>\n",
       "      <td>20.0</td>\n",
       "      <td>20.0</td>\n",
       "      <td>20.0</td>\n",
       "    </tr>\n",
       "    <tr>\n",
       "      <th>154</th>\n",
       "      <td>46b48281eb6d663ced748f324108c733</td>\n",
       "      <td>NaN</td>\n",
       "      <td>NaN</td>\n",
       "      <td>NaN</td>\n",
       "      <td>NaN</td>\n",
       "      <td>18500.0</td>\n",
       "      <td>41.0</td>\n",
       "      <td>30.0</td>\n",
       "      <td>41.0</td>\n",
       "    </tr>\n",
       "    <tr>\n",
       "      <th>197</th>\n",
       "      <td>5fb61f482620cb672f5e586bb132eae9</td>\n",
       "      <td>NaN</td>\n",
       "      <td>NaN</td>\n",
       "      <td>NaN</td>\n",
       "      <td>NaN</td>\n",
       "      <td>300.0</td>\n",
       "      <td>35.0</td>\n",
       "      <td>7.0</td>\n",
       "      <td>12.0</td>\n",
       "    </tr>\n",
       "  </tbody>\n",
       "</table>\n",
       "</div>"
      ],
      "text/plain": [
       "                           product_id product_category_name  \\\n",
       "105  a41e356c76fab66334f36de622ecbd3a                   NaN   \n",
       "128  d8dee61c2034d6d075997acef1870e9b                   NaN   \n",
       "145  56139431d72cd51f19eb9f7dae4d1617                   NaN   \n",
       "154  46b48281eb6d663ced748f324108c733                   NaN   \n",
       "197  5fb61f482620cb672f5e586bb132eae9                   NaN   \n",
       "\n",
       "     product_name_lenght  product_description_lenght  product_photos_qty  \\\n",
       "105                  NaN                         NaN                 NaN   \n",
       "128                  NaN                         NaN                 NaN   \n",
       "145                  NaN                         NaN                 NaN   \n",
       "154                  NaN                         NaN                 NaN   \n",
       "197                  NaN                         NaN                 NaN   \n",
       "\n",
       "     product_weight_g  product_length_cm  product_height_cm  product_width_cm  \n",
       "105             650.0               17.0               14.0              12.0  \n",
       "128             300.0               16.0                7.0              20.0  \n",
       "145             200.0               20.0               20.0              20.0  \n",
       "154           18500.0               41.0               30.0              41.0  \n",
       "197             300.0               35.0                7.0              12.0  "
      ]
     },
     "execution_count": 43,
     "metadata": {},
     "output_type": "execute_result"
    }
   ],
   "source": [
    "missing_values = products_df[products_df.isna().any(axis=1)]\n",
    "missing_values.head()"
   ]
  },
  {
   "cell_type": "code",
   "execution_count": 44,
   "metadata": {
    "id": "jVnYpprE9Evz"
   },
   "outputs": [],
   "source": [
    "# Fill missing values in 'product_category_name' with 'unknown'\n",
    "products_df.loc[:, \"product_category_name\"] = products_df[\n",
    "    \"product_category_name\"\n",
    "].fillna(\"unknown\")"
   ]
  },
  {
   "cell_type": "code",
   "execution_count": 45,
   "metadata": {},
   "outputs": [
    {
     "name": "stdout",
     "output_type": "stream",
     "text": [
      "Number of rows with 'unknown' entries in 'product_category_name': 610\n"
     ]
    }
   ],
   "source": [
    "unknown_count = products_df[products_df[\"product_category_name\"] == \"unknown\"].shape[0]\n",
    "print(\n",
    "    f\"Number of rows with 'unknown' entries in 'product_category_name': {unknown_count}\"\n",
    ")"
   ]
  },
  {
   "cell_type": "code",
   "execution_count": 46,
   "metadata": {},
   "outputs": [
    {
     "name": "stdout",
     "output_type": "stream",
     "text": [
      "Product weight statistics:\n",
      "\n"
     ]
    },
    {
     "data": {
      "text/plain": [
       "count    32949.00\n",
       "mean      2276.47\n",
       "std       4282.04\n",
       "min          0.00\n",
       "25%        300.00\n",
       "50%        700.00\n",
       "75%       1900.00\n",
       "max      40425.00\n",
       "Name: product_weight_g, dtype: float64"
      ]
     },
     "execution_count": 46,
     "metadata": {},
     "output_type": "execute_result"
    }
   ],
   "source": [
    "print(\"Product weight statistics:\\n\")\n",
    "products_df[\"product_weight_g\"].describe().round(2)"
   ]
  },
  {
   "cell_type": "code",
   "execution_count": 47,
   "metadata": {},
   "outputs": [
    {
     "data": {
      "text/html": [
       "<div>\n",
       "<style scoped>\n",
       "    .dataframe tbody tr th:only-of-type {\n",
       "        vertical-align: middle;\n",
       "    }\n",
       "\n",
       "    .dataframe tbody tr th {\n",
       "        vertical-align: top;\n",
       "    }\n",
       "\n",
       "    .dataframe thead th {\n",
       "        text-align: right;\n",
       "    }\n",
       "</style>\n",
       "<table border=\"1\" class=\"dataframe\">\n",
       "  <thead>\n",
       "    <tr style=\"text-align: right;\">\n",
       "      <th></th>\n",
       "      <th>product_id</th>\n",
       "      <th>product_category_name</th>\n",
       "      <th>product_weight_g</th>\n",
       "    </tr>\n",
       "  </thead>\n",
       "  <tbody>\n",
       "    <tr>\n",
       "      <th>9769</th>\n",
       "      <td>81781c0fed9fe1ad6e8c81fca1e1cb08</td>\n",
       "      <td>cama_mesa_banho</td>\n",
       "      <td>0.0</td>\n",
       "    </tr>\n",
       "    <tr>\n",
       "      <th>13683</th>\n",
       "      <td>8038040ee2a71048d4bdbbdc985b69ab</td>\n",
       "      <td>cama_mesa_banho</td>\n",
       "      <td>0.0</td>\n",
       "    </tr>\n",
       "    <tr>\n",
       "      <th>14997</th>\n",
       "      <td>36ba42dd187055e1fbe943b2d11430ca</td>\n",
       "      <td>cama_mesa_banho</td>\n",
       "      <td>0.0</td>\n",
       "    </tr>\n",
       "    <tr>\n",
       "      <th>32079</th>\n",
       "      <td>e673e90efa65a5409ff4196c038bb5af</td>\n",
       "      <td>cama_mesa_banho</td>\n",
       "      <td>0.0</td>\n",
       "    </tr>\n",
       "  </tbody>\n",
       "</table>\n",
       "</div>"
      ],
      "text/plain": [
       "                             product_id product_category_name  \\\n",
       "9769   81781c0fed9fe1ad6e8c81fca1e1cb08       cama_mesa_banho   \n",
       "13683  8038040ee2a71048d4bdbbdc985b69ab       cama_mesa_banho   \n",
       "14997  36ba42dd187055e1fbe943b2d11430ca       cama_mesa_banho   \n",
       "32079  e673e90efa65a5409ff4196c038bb5af       cama_mesa_banho   \n",
       "\n",
       "       product_weight_g  \n",
       "9769                0.0  \n",
       "13683               0.0  \n",
       "14997               0.0  \n",
       "32079               0.0  "
      ]
     },
     "execution_count": 47,
     "metadata": {},
     "output_type": "execute_result"
    }
   ],
   "source": [
    "# Product weight with value 0\n",
    "products_df.loc[\n",
    "    products_df[\"product_weight_g\"] == 0,\n",
    "    [\"product_id\", \"product_category_name\", \"product_weight_g\"],\n",
    "]"
   ]
  },
  {
   "cell_type": "code",
   "execution_count": 48,
   "metadata": {},
   "outputs": [],
   "source": [
    "cama_mesa_banho_df = products_df[\n",
    "    products_df[\"product_category_name\"] == \"cama_mesa_banho\"\n",
    "]\n",
    "\n",
    "# Replace the value 0 in the 'product_weight_g' column for the cama_mesa_banho cateogry\n",
    "products_df.loc[\n",
    "    (products_df[\"product_category_name\"] == \"cama_mesa_banho\")\n",
    "    & (products_df[\"product_weight_g\"] == 0),\n",
    "    \"product_weight_g\",\n",
    "] = cama_mesa_banho_df[\"product_weight_g\"].median()"
   ]
  },
  {
   "cell_type": "code",
   "execution_count": 49,
   "metadata": {},
   "outputs": [
    {
     "name": "stdout",
     "output_type": "stream",
     "text": [
      "Product weight statistics:\n",
      "\n"
     ]
    },
    {
     "data": {
      "text/plain": [
       "count    32949.00\n",
       "mean      2276.62\n",
       "std       4281.98\n",
       "min          2.00\n",
       "25%        300.00\n",
       "50%        700.00\n",
       "75%       1900.00\n",
       "max      40425.00\n",
       "Name: product_weight_g, dtype: float64"
      ]
     },
     "execution_count": 49,
     "metadata": {},
     "output_type": "execute_result"
    }
   ],
   "source": [
    "print(\"Product weight statistics:\\n\")\n",
    "products_df[\"product_weight_g\"].describe().round(2)"
   ]
  },
  {
   "cell_type": "code",
   "execution_count": 50,
   "metadata": {},
   "outputs": [],
   "source": [
    "# Fill missing values with their mean values\n",
    "products_df[\"product_name_lenght\"] = products_df[\"product_name_lenght\"].fillna(\n",
    "    products_df[\"product_name_lenght\"].mean().round(2)\n",
    ")\n",
    "\n",
    "products_df[\"product_description_lenght\"] = products_df[\n",
    "    \"product_description_lenght\"\n",
    "].fillna(products_df[\"product_description_lenght\"].mean().round(2))\n",
    "\n",
    "products_df[\"product_photos_qty\"] = products_df[\"product_photos_qty\"].fillna(\n",
    "    products_df[\"product_photos_qty\"].mean().round(2)\n",
    ")"
   ]
  },
  {
   "cell_type": "code",
   "execution_count": 51,
   "metadata": {},
   "outputs": [
    {
     "name": "stdout",
     "output_type": "stream",
     "text": [
      "\n",
      "Missing values in Products dataset:\n"
     ]
    },
    {
     "data": {
      "text/plain": [
       "product_id                    0\n",
       "product_category_name         0\n",
       "product_name_lenght           0\n",
       "product_description_lenght    0\n",
       "product_photos_qty            0\n",
       "product_weight_g              2\n",
       "product_length_cm             2\n",
       "product_height_cm             2\n",
       "product_width_cm              2\n",
       "dtype: int64"
      ]
     },
     "execution_count": 51,
     "metadata": {},
     "output_type": "execute_result"
    }
   ],
   "source": [
    "print(\"\\nMissing values in Products dataset:\")\n",
    "products_df.isna().sum()"
   ]
  },
  {
   "cell_type": "code",
   "execution_count": 52,
   "metadata": {},
   "outputs": [
    {
     "data": {
      "text/html": [
       "<div>\n",
       "<style scoped>\n",
       "    .dataframe tbody tr th:only-of-type {\n",
       "        vertical-align: middle;\n",
       "    }\n",
       "\n",
       "    .dataframe tbody tr th {\n",
       "        vertical-align: top;\n",
       "    }\n",
       "\n",
       "    .dataframe thead th {\n",
       "        text-align: right;\n",
       "    }\n",
       "</style>\n",
       "<table border=\"1\" class=\"dataframe\">\n",
       "  <thead>\n",
       "    <tr style=\"text-align: right;\">\n",
       "      <th></th>\n",
       "      <th>product_id</th>\n",
       "      <th>product_category_name</th>\n",
       "      <th>product_name_lenght</th>\n",
       "      <th>product_description_lenght</th>\n",
       "      <th>product_photos_qty</th>\n",
       "      <th>product_weight_g</th>\n",
       "      <th>product_length_cm</th>\n",
       "      <th>product_height_cm</th>\n",
       "      <th>product_width_cm</th>\n",
       "    </tr>\n",
       "  </thead>\n",
       "  <tbody>\n",
       "    <tr>\n",
       "      <th>8578</th>\n",
       "      <td>09ff539a621711667c43eba6a3bd8466</td>\n",
       "      <td>bebes</td>\n",
       "      <td>60.00</td>\n",
       "      <td>865.0</td>\n",
       "      <td>3.00</td>\n",
       "      <td>NaN</td>\n",
       "      <td>NaN</td>\n",
       "      <td>NaN</td>\n",
       "      <td>NaN</td>\n",
       "    </tr>\n",
       "    <tr>\n",
       "      <th>18851</th>\n",
       "      <td>5eb564652db742ff8f28759cd8d2652a</td>\n",
       "      <td>unknown</td>\n",
       "      <td>48.48</td>\n",
       "      <td>771.5</td>\n",
       "      <td>2.19</td>\n",
       "      <td>NaN</td>\n",
       "      <td>NaN</td>\n",
       "      <td>NaN</td>\n",
       "      <td>NaN</td>\n",
       "    </tr>\n",
       "  </tbody>\n",
       "</table>\n",
       "</div>"
      ],
      "text/plain": [
       "                             product_id product_category_name  \\\n",
       "8578   09ff539a621711667c43eba6a3bd8466                 bebes   \n",
       "18851  5eb564652db742ff8f28759cd8d2652a               unknown   \n",
       "\n",
       "       product_name_lenght  product_description_lenght  product_photos_qty  \\\n",
       "8578                 60.00                       865.0                3.00   \n",
       "18851                48.48                       771.5                2.19   \n",
       "\n",
       "       product_weight_g  product_length_cm  product_height_cm  \\\n",
       "8578                NaN                NaN                NaN   \n",
       "18851               NaN                NaN                NaN   \n",
       "\n",
       "       product_width_cm  \n",
       "8578                NaN  \n",
       "18851               NaN  "
      ]
     },
     "execution_count": 52,
     "metadata": {},
     "output_type": "execute_result"
    }
   ],
   "source": [
    "missing_rows = products_df[\n",
    "    products_df[\n",
    "        [\n",
    "            \"product_weight_g\",\n",
    "            \"product_name_lenght\",\n",
    "            \"product_height_cm\",\n",
    "            \"product_width_cm\",\n",
    "        ]\n",
    "    ]\n",
    "    .isna()\n",
    "    .any(axis=1)\n",
    "]\n",
    "\n",
    "missing_rows"
   ]
  },
  {
   "cell_type": "code",
   "execution_count": 53,
   "metadata": {},
   "outputs": [],
   "source": [
    "columns_to_fill = [\n",
    "    \"product_weight_g\",\n",
    "    \"product_length_cm\",\n",
    "    \"product_height_cm\",\n",
    "    \"product_width_cm\",\n",
    "]\n",
    "\n",
    "# Specify the category for which you want to fill the NaN value\n",
    "categories = [\"bebes\", \"unknown\"]\n",
    "\n",
    "# Process for each category\n",
    "for category in categories:\n",
    "    for column in columns_to_fill:\n",
    "        products_df.loc[\n",
    "            products_df[\"product_category_name\"] == category, column\n",
    "        ] = products_df[products_df[\"product_category_name\"] == category][\n",
    "            column\n",
    "        ].fillna(\n",
    "            products_df[products_df[\"product_category_name\"] == category][column]\n",
    "            .mean()\n",
    "            .round(2)\n",
    "        )"
   ]
  },
  {
   "cell_type": "code",
   "execution_count": 54,
   "metadata": {},
   "outputs": [
    {
     "name": "stdout",
     "output_type": "stream",
     "text": [
      "<class 'pandas.core.frame.DataFrame'>\n",
      "RangeIndex: 32951 entries, 0 to 32950\n",
      "Data columns (total 9 columns):\n",
      " #   Column                      Non-Null Count  Dtype  \n",
      "---  ------                      --------------  -----  \n",
      " 0   product_id                  32951 non-null  object \n",
      " 1   product_category_name       32951 non-null  object \n",
      " 2   product_name_lenght         32951 non-null  float64\n",
      " 3   product_description_lenght  32951 non-null  float64\n",
      " 4   product_photos_qty          32951 non-null  float64\n",
      " 5   product_weight_g            32951 non-null  float64\n",
      " 6   product_length_cm           32951 non-null  float64\n",
      " 7   product_height_cm           32951 non-null  float64\n",
      " 8   product_width_cm            32951 non-null  float64\n",
      "dtypes: float64(7), object(2)\n",
      "memory usage: 2.3+ MB\n"
     ]
    }
   ],
   "source": [
    "products_df.info()"
   ]
  },
  {
   "cell_type": "markdown",
   "metadata": {
    "id": "Q_5ejIqckiSP"
   },
   "source": [
    "**Insigth:**\\\n",
    "*Missing values* sebanyak **610** pada `product_category_name` berhasil diisi dengan nama kategori produk 'unknown' karena hilangnya informasi pada dataset.\\\n",
    "*Missing values* sebanyak **610** pada [`product_name_length`, `product_description_length`, `product_photos_qty`] berhasil diisi dengan nilai *mean*  dari masing-masing kolom mereka.\n",
    "\n",
    "Nilai *NaN* di kolom `product_weight_g`, `product_length_cm`, `product_height_cm`, dan `product_width_cm` untuk kategori 'bebes' dan 'unknown' telah diisi menggunakan rata-rata (mean) masing-masing kolom untuk setiap kategori. Pendekatan ini memastikan bahwa setiap kategori produk memiliki nilai yang lebih representatif dibanding menggunakan satu nilai median atau mean secara keseluruhan.\n",
    "\n",
    "Rentang berat produk `product_weight_g` yang dimulai dari **0.00** hingga **40425** gram, menunjukkan adanya anomali dengan adanya berat produk sebesar **0.00** gram yang telah digantikan dengan nilai *median*."
   ]
  },
  {
   "cell_type": "markdown",
   "metadata": {},
   "source": [
    "#### Membersihkan Tabel `order_reviews.df`"
   ]
  },
  {
   "cell_type": "code",
   "execution_count": 55,
   "metadata": {},
   "outputs": [
    {
     "name": "stdout",
     "output_type": "stream",
     "text": [
      "<class 'pandas.core.frame.DataFrame'>\n",
      "RangeIndex: 99224 entries, 0 to 99223\n",
      "Data columns (total 7 columns):\n",
      " #   Column                   Non-Null Count  Dtype \n",
      "---  ------                   --------------  ----- \n",
      " 0   review_id                99224 non-null  object\n",
      " 1   order_id                 99224 non-null  object\n",
      " 2   review_score             99224 non-null  int64 \n",
      " 3   review_comment_title     11568 non-null  object\n",
      " 4   review_comment_message   40977 non-null  object\n",
      " 5   review_creation_date     99224 non-null  object\n",
      " 6   review_answer_timestamp  99224 non-null  object\n",
      "dtypes: int64(1), object(6)\n",
      "memory usage: 5.3+ MB\n"
     ]
    }
   ],
   "source": [
    "order_reviews_df.info()"
   ]
  },
  {
   "cell_type": "markdown",
   "metadata": {},
   "source": [
    "**FIXING:** Data Types"
   ]
  },
  {
   "cell_type": "code",
   "execution_count": 56,
   "metadata": {},
   "outputs": [
    {
     "data": {
      "text/plain": [
       "review_creation_date       object\n",
       "review_answer_timestamp    object\n",
       "dtype: object"
      ]
     },
     "execution_count": 56,
     "metadata": {},
     "output_type": "execute_result"
    }
   ],
   "source": [
    "order_reviews_df[[\"review_creation_date\", \"review_answer_timestamp\"]].dtypes"
   ]
  },
  {
   "cell_type": "code",
   "execution_count": 57,
   "metadata": {},
   "outputs": [
    {
     "data": {
      "text/plain": [
       "review_creation_date       datetime64[ns]\n",
       "review_answer_timestamp    datetime64[ns]\n",
       "dtype: object"
      ]
     },
     "execution_count": 57,
     "metadata": {},
     "output_type": "execute_result"
    }
   ],
   "source": [
    "order_reviews_df[\"review_creation_date\"] = pd.to_datetime(\n",
    "    order_reviews_df[\"review_creation_date\"]\n",
    ")\n",
    "order_reviews_df[\"review_answer_timestamp\"] = pd.to_datetime(\n",
    "    order_reviews_df[\"review_answer_timestamp\"]\n",
    ")\n",
    "\n",
    "order_reviews_df[[\"review_creation_date\", \"review_answer_timestamp\"]].dtypes"
   ]
  },
  {
   "cell_type": "markdown",
   "metadata": {},
   "source": [
    "**Insight:**\\\n",
    "Kolom `review_creation_date` dan `review_answer_timestamp` telah dikonversi menjadi *datetime*."
   ]
  },
  {
   "cell_type": "markdown",
   "metadata": {},
   "source": [
    "**FIXING:** Missing Values"
   ]
  },
  {
   "cell_type": "code",
   "execution_count": 58,
   "metadata": {},
   "outputs": [
    {
     "data": {
      "text/plain": [
       "review_id                      0\n",
       "order_id                       0\n",
       "review_score                   0\n",
       "review_comment_title       87656\n",
       "review_comment_message     58247\n",
       "review_creation_date           0\n",
       "review_answer_timestamp        0\n",
       "dtype: int64"
      ]
     },
     "execution_count": 58,
     "metadata": {},
     "output_type": "execute_result"
    }
   ],
   "source": [
    "order_reviews_df.isna().sum()"
   ]
  },
  {
   "cell_type": "code",
   "execution_count": 59,
   "metadata": {},
   "outputs": [
    {
     "data": {
      "text/html": [
       "<div>\n",
       "<style scoped>\n",
       "    .dataframe tbody tr th:only-of-type {\n",
       "        vertical-align: middle;\n",
       "    }\n",
       "\n",
       "    .dataframe tbody tr th {\n",
       "        vertical-align: top;\n",
       "    }\n",
       "\n",
       "    .dataframe thead th {\n",
       "        text-align: right;\n",
       "    }\n",
       "</style>\n",
       "<table border=\"1\" class=\"dataframe\">\n",
       "  <thead>\n",
       "    <tr style=\"text-align: right;\">\n",
       "      <th></th>\n",
       "      <th>review_id</th>\n",
       "      <th>order_id</th>\n",
       "      <th>review_score</th>\n",
       "      <th>review_comment_title</th>\n",
       "      <th>review_comment_message</th>\n",
       "      <th>review_creation_date</th>\n",
       "      <th>review_answer_timestamp</th>\n",
       "    </tr>\n",
       "  </thead>\n",
       "  <tbody>\n",
       "    <tr>\n",
       "      <th>70159</th>\n",
       "      <td>d2131086736a1b69820e60c0aba267b3</td>\n",
       "      <td>c3d24172aec3f97cadcdc629a7357555</td>\n",
       "      <td>4</td>\n",
       "      <td>empty</td>\n",
       "      <td>empty</td>\n",
       "      <td>2017-09-13</td>\n",
       "      <td>2017-09-19 18:37:06</td>\n",
       "    </tr>\n",
       "    <tr>\n",
       "      <th>80724</th>\n",
       "      <td>f41b51e086cbee3efc25ed0e52506b0a</td>\n",
       "      <td>9cb1433345225b0c4d9449e593900bdd</td>\n",
       "      <td>5</td>\n",
       "      <td>empty</td>\n",
       "      <td>empty</td>\n",
       "      <td>2018-03-02</td>\n",
       "      <td>2018-03-07 11:45:41</td>\n",
       "    </tr>\n",
       "    <tr>\n",
       "      <th>44552</th>\n",
       "      <td>5a636f8f9d36088e3a006b8d9d179cea</td>\n",
       "      <td>e63244efc2759393ecb3f8a417efb78d</td>\n",
       "      <td>4</td>\n",
       "      <td>empty</td>\n",
       "      <td>empty</td>\n",
       "      <td>2018-01-24</td>\n",
       "      <td>2018-01-26 21:33:20</td>\n",
       "    </tr>\n",
       "    <tr>\n",
       "      <th>80625</th>\n",
       "      <td>8efe135fb3499da86f94c13e7d72948d</td>\n",
       "      <td>ae4db4c8bea553ad40e0d84be24d635b</td>\n",
       "      <td>5</td>\n",
       "      <td>empty</td>\n",
       "      <td>muito bom!!!</td>\n",
       "      <td>2017-11-30</td>\n",
       "      <td>2017-11-30 20:25:44</td>\n",
       "    </tr>\n",
       "    <tr>\n",
       "      <th>71902</th>\n",
       "      <td>de00526e993007f881d40042ef966e2e</td>\n",
       "      <td>a3d6f1c32e941d70a3261b7080854aa2</td>\n",
       "      <td>5</td>\n",
       "      <td>empty</td>\n",
       "      <td>O prazo de entrega é um pouco longo, tirando i...</td>\n",
       "      <td>2018-02-09</td>\n",
       "      <td>2018-02-09 16:00:54</td>\n",
       "    </tr>\n",
       "  </tbody>\n",
       "</table>\n",
       "</div>"
      ],
      "text/plain": [
       "                              review_id                          order_id  \\\n",
       "70159  d2131086736a1b69820e60c0aba267b3  c3d24172aec3f97cadcdc629a7357555   \n",
       "80724  f41b51e086cbee3efc25ed0e52506b0a  9cb1433345225b0c4d9449e593900bdd   \n",
       "44552  5a636f8f9d36088e3a006b8d9d179cea  e63244efc2759393ecb3f8a417efb78d   \n",
       "80625  8efe135fb3499da86f94c13e7d72948d  ae4db4c8bea553ad40e0d84be24d635b   \n",
       "71902  de00526e993007f881d40042ef966e2e  a3d6f1c32e941d70a3261b7080854aa2   \n",
       "\n",
       "       review_score review_comment_title  \\\n",
       "70159             4                empty   \n",
       "80724             5                empty   \n",
       "44552             4                empty   \n",
       "80625             5                empty   \n",
       "71902             5                empty   \n",
       "\n",
       "                                  review_comment_message review_creation_date  \\\n",
       "70159                                              empty           2017-09-13   \n",
       "80724                                              empty           2018-03-02   \n",
       "44552                                              empty           2018-01-24   \n",
       "80625                                       muito bom!!!           2017-11-30   \n",
       "71902  O prazo de entrega é um pouco longo, tirando i...           2018-02-09   \n",
       "\n",
       "      review_answer_timestamp  \n",
       "70159     2017-09-19 18:37:06  \n",
       "80724     2018-03-07 11:45:41  \n",
       "44552     2018-01-26 21:33:20  \n",
       "80625     2017-11-30 20:25:44  \n",
       "71902     2018-02-09 16:00:54  "
      ]
     },
     "execution_count": 59,
     "metadata": {},
     "output_type": "execute_result"
    }
   ],
   "source": [
    "# Fill the NaN values in review_comment_title and review_comment_message with 'empty'\n",
    "order_reviews_df.loc[:, [\"review_comment_title\", \"review_comment_message\"]] = (\n",
    "    order_reviews_df.loc[:, [\"review_comment_title\", \"review_comment_message\"]].fillna(\n",
    "        \"empty\"\n",
    "    )\n",
    ")\n",
    "\n",
    "# Display sample data that contains 'empty'\n",
    "empty_samples = order_reviews_df[\n",
    "    (order_reviews_df[\"review_comment_title\"] == \"empty\")\n",
    "    | (order_reviews_df[\"review_comment_message\"] == \"empty\")\n",
    "]\n",
    "\n",
    "empty_samples.sample(5)"
   ]
  },
  {
   "cell_type": "code",
   "execution_count": 60,
   "metadata": {},
   "outputs": [
    {
     "name": "stdout",
     "output_type": "stream",
     "text": [
      "'empty' values in review_comment_title or review_comment_message: 87656\n",
      "'empty' values in review_comment_message: 58247\n"
     ]
    }
   ],
   "source": [
    "empty_samples_title = order_reviews_df[\n",
    "    order_reviews_df[\"review_comment_title\"] == \"empty\"\n",
    "]\n",
    "empty_samples_message = order_reviews_df[\n",
    "    order_reviews_df[\"review_comment_message\"] == \"empty\"\n",
    "]\n",
    "\n",
    "print(\n",
    "    f\"'empty' values in review_comment_title or review_comment_message: {empty_samples_title.shape[0]}\"\n",
    ")\n",
    "print(f\"'empty' values in review_comment_message: {empty_samples_message.shape[0]}\")"
   ]
  },
  {
   "cell_type": "code",
   "execution_count": 61,
   "metadata": {},
   "outputs": [
    {
     "data": {
      "text/plain": [
       "review_id                  0\n",
       "order_id                   0\n",
       "review_score               0\n",
       "review_comment_title       0\n",
       "review_comment_message     0\n",
       "review_creation_date       0\n",
       "review_answer_timestamp    0\n",
       "dtype: int64"
      ]
     },
     "execution_count": 61,
     "metadata": {},
     "output_type": "execute_result"
    }
   ],
   "source": [
    "order_reviews_df.isna().sum()"
   ]
  },
  {
   "cell_type": "markdown",
   "metadata": {},
   "source": [
    "**Insight:**\\\n",
    "*Missing values* pada kolom `review_comment_title` dan `review_comment_message` telah diisi dengan 'empty' untuk mengisi kekosongan data."
   ]
  },
  {
   "cell_type": "markdown",
   "metadata": {},
   "source": [
    "#### Membersihkan Tabel `order_items_df`"
   ]
  },
  {
   "cell_type": "markdown",
   "metadata": {},
   "source": [
    "**FIXING:** Data Types"
   ]
  },
  {
   "cell_type": "code",
   "execution_count": 62,
   "metadata": {},
   "outputs": [
    {
     "name": "stdout",
     "output_type": "stream",
     "text": [
      "Data type [shipping_limit_date]: object\n"
     ]
    }
   ],
   "source": [
    "print(f\"Data type [shipping_limit_date]: {order_items_df['shipping_limit_date'].dtype}\")"
   ]
  },
  {
   "cell_type": "code",
   "execution_count": 63,
   "metadata": {},
   "outputs": [],
   "source": [
    "order_items_df[\"shipping_limit_date\"] = pd.to_datetime(\n",
    "    order_items_df[\"shipping_limit_date\"]\n",
    ")"
   ]
  },
  {
   "cell_type": "code",
   "execution_count": 64,
   "metadata": {},
   "outputs": [
    {
     "name": "stdout",
     "output_type": "stream",
     "text": [
      "<class 'pandas.core.frame.DataFrame'>\n",
      "RangeIndex: 112650 entries, 0 to 112649\n",
      "Data columns (total 7 columns):\n",
      " #   Column               Non-Null Count   Dtype         \n",
      "---  ------               --------------   -----         \n",
      " 0   order_id             112650 non-null  object        \n",
      " 1   order_item_id        112650 non-null  int64         \n",
      " 2   product_id           112650 non-null  object        \n",
      " 3   seller_id            112650 non-null  object        \n",
      " 4   shipping_limit_date  112650 non-null  datetime64[ns]\n",
      " 5   price                112650 non-null  float64       \n",
      " 6   freight_value        112650 non-null  float64       \n",
      "dtypes: datetime64[ns](1), float64(2), int64(1), object(3)\n",
      "memory usage: 6.0+ MB\n"
     ]
    }
   ],
   "source": [
    "order_items_df.info()"
   ]
  },
  {
   "cell_type": "markdown",
   "metadata": {},
   "source": [
    "**Insight:**\\\n",
    "Kolom `shipping_limit_date` telah dikonversi ke tipe data *datetime*.\\\n",
    "Kolom `freight_value` tetap menyertakan nilai **0.00** karena munkin saja merepresentasikan *free shipping*."
   ]
  },
  {
   "cell_type": "markdown",
   "metadata": {},
   "source": [
    "#### Membersihkan Tabel `geolocation_df`"
   ]
  },
  {
   "cell_type": "code",
   "execution_count": 65,
   "metadata": {},
   "outputs": [
    {
     "name": "stdout",
     "output_type": "stream",
     "text": [
      "Duplicates in Geolocation dataset: 261831\n"
     ]
    }
   ],
   "source": [
    "print(\"Duplicates in Geolocation dataset:\", geolocation_df.duplicated().sum())"
   ]
  },
  {
   "cell_type": "markdown",
   "metadata": {},
   "source": [
    "**FIXING:** Duplicates"
   ]
  },
  {
   "cell_type": "code",
   "execution_count": 66,
   "metadata": {},
   "outputs": [],
   "source": [
    "# Drop duplicates\n",
    "geolocation_df = geolocation_df.drop_duplicates()\n",
    "remaining_duplicates_count = geolocation_df.duplicated().sum()"
   ]
  },
  {
   "cell_type": "code",
   "execution_count": 67,
   "metadata": {},
   "outputs": [
    {
     "name": "stdout",
     "output_type": "stream",
     "text": [
      "Remaining duplicates in Geolocation dataset: 0\n"
     ]
    }
   ],
   "source": [
    "print(\"Remaining duplicates in Geolocation dataset:\", remaining_duplicates_count)"
   ]
  },
  {
   "cell_type": "code",
   "execution_count": 68,
   "metadata": {},
   "outputs": [
    {
     "name": "stdout",
     "output_type": "stream",
     "text": [
      "<class 'pandas.core.frame.DataFrame'>\n",
      "Index: 738332 entries, 0 to 1000161\n",
      "Data columns (total 5 columns):\n",
      " #   Column                       Non-Null Count   Dtype  \n",
      "---  ------                       --------------   -----  \n",
      " 0   geolocation_zip_code_prefix  738332 non-null  int64  \n",
      " 1   geolocation_lat              738332 non-null  float64\n",
      " 2   geolocation_lng              738332 non-null  float64\n",
      " 3   geolocation_city             738332 non-null  object \n",
      " 4   geolocation_state            738332 non-null  object \n",
      "dtypes: float64(2), int64(1), object(2)\n",
      "memory usage: 33.8+ MB\n"
     ]
    }
   ],
   "source": [
    "geolocation_df.info()"
   ]
  },
  {
   "cell_type": "markdown",
   "metadata": {},
   "source": [
    "**Insight:**\\\n",
    "Sebanyak **261831** baris duplikat telah dihapus."
   ]
  },
  {
   "cell_type": "markdown",
   "metadata": {},
   "source": [
    "#### Membersihkan Tabel `orders_df`"
   ]
  },
  {
   "cell_type": "markdown",
   "metadata": {},
   "source": [
    "**FIXING:** Data Types"
   ]
  },
  {
   "cell_type": "code",
   "execution_count": 69,
   "metadata": {},
   "outputs": [
    {
     "name": "stdout",
     "output_type": "stream",
     "text": [
      "Column Name                         | Data Type      \n",
      "-------------------------------------------------------\n",
      "order_purchase_timestamp            | object\n",
      "order_approved_at                   | object\n",
      "order_delivered_carrier_date        | object\n",
      "order_delivered_customer_date       | object\n",
      "order_estimated_delivery_date       | object\n"
     ]
    }
   ],
   "source": [
    "columns = [\n",
    "    \"order_purchase_timestamp\",\n",
    "    \"order_approved_at\",\n",
    "    \"order_delivered_carrier_date\",\n",
    "    \"order_delivered_customer_date\",\n",
    "    \"order_estimated_delivery_date\",\n",
    "]\n",
    "\n",
    "print(f\"{'Column Name':<35} | {'Data Type':<15}\")\n",
    "print(\"-\" * 55)\n",
    "\n",
    "for col in columns:\n",
    "    print(f\"{col:<35} | {orders_df[col].dtypes}\")"
   ]
  },
  {
   "cell_type": "code",
   "execution_count": 70,
   "metadata": {},
   "outputs": [
    {
     "name": "stdout",
     "output_type": "stream",
     "text": [
      "Column Name                         | Data Type      \n",
      "-------------------------------------------------------\n",
      "order_purchase_timestamp            | datetime64[ns]\n",
      "order_approved_at                   | datetime64[ns]\n",
      "order_delivered_carrier_date        | datetime64[ns]\n",
      "order_delivered_customer_date       | datetime64[ns]\n",
      "order_estimated_delivery_date       | datetime64[ns]\n"
     ]
    }
   ],
   "source": [
    "print(f\"{'Column Name':<35} | {'Data Type':<15}\")\n",
    "print(\"-\" * 55)\n",
    "\n",
    "for col in columns:\n",
    "    orders_df[col] = pd.to_datetime(orders_df[col], errors=\"coerce\")\n",
    "    print(f\"{col:<35} | {orders_df[col].dtypes}\")"
   ]
  },
  {
   "cell_type": "markdown",
   "metadata": {},
   "source": [
    "**Insight:**\\\n",
    "Kolom `order_purchase_timestamp`, `order_approved_at`, `order_delivered_carrier_date`, `order_delivered_customer_date`, dan `order_estimated_delivery_date` telah berhasil dikonversi menjadi tipe data *datetime*."
   ]
  },
  {
   "cell_type": "markdown",
   "metadata": {},
   "source": [
    "**FIXING:** Missing Values"
   ]
  },
  {
   "cell_type": "code",
   "execution_count": 71,
   "metadata": {},
   "outputs": [
    {
     "name": "stdout",
     "output_type": "stream",
     "text": [
      "\n",
      "Missing values in Orders dataset:\n"
     ]
    },
    {
     "data": {
      "text/plain": [
       "order_id                            0\n",
       "customer_id                         0\n",
       "order_status                        0\n",
       "order_purchase_timestamp            0\n",
       "order_approved_at                 160\n",
       "order_delivered_carrier_date     1783\n",
       "order_delivered_customer_date    2965\n",
       "order_estimated_delivery_date       0\n",
       "dtype: int64"
      ]
     },
     "execution_count": 71,
     "metadata": {},
     "output_type": "execute_result"
    }
   ],
   "source": [
    "print(\"\\nMissing values in Orders dataset:\")\n",
    "orders_df.isna().sum()"
   ]
  },
  {
   "cell_type": "code",
   "execution_count": 72,
   "metadata": {},
   "outputs": [
    {
     "name": "stdout",
     "output_type": "stream",
     "text": [
      "\n",
      "Sample rows with missing 'order_approved_at' and status 'delivered':\n"
     ]
    },
    {
     "data": {
      "text/html": [
       "<div>\n",
       "<style scoped>\n",
       "    .dataframe tbody tr th:only-of-type {\n",
       "        vertical-align: middle;\n",
       "    }\n",
       "\n",
       "    .dataframe tbody tr th {\n",
       "        vertical-align: top;\n",
       "    }\n",
       "\n",
       "    .dataframe thead th {\n",
       "        text-align: right;\n",
       "    }\n",
       "</style>\n",
       "<table border=\"1\" class=\"dataframe\">\n",
       "  <thead>\n",
       "    <tr style=\"text-align: right;\">\n",
       "      <th></th>\n",
       "      <th>order_id</th>\n",
       "      <th>customer_id</th>\n",
       "      <th>order_status</th>\n",
       "      <th>order_purchase_timestamp</th>\n",
       "      <th>order_approved_at</th>\n",
       "      <th>order_delivered_carrier_date</th>\n",
       "      <th>order_delivered_customer_date</th>\n",
       "      <th>order_estimated_delivery_date</th>\n",
       "    </tr>\n",
       "  </thead>\n",
       "  <tbody>\n",
       "    <tr>\n",
       "      <th>84999</th>\n",
       "      <td>2babbb4b15e6d2dfe95e2de765c97bce</td>\n",
       "      <td>74bebaf46603f9340e3b50c6b086f992</td>\n",
       "      <td>delivered</td>\n",
       "      <td>2017-02-18 17:15:03</td>\n",
       "      <td>NaT</td>\n",
       "      <td>2017-02-22 11:23:11</td>\n",
       "      <td>2017-03-03 18:43:43</td>\n",
       "      <td>2017-03-31</td>\n",
       "    </tr>\n",
       "    <tr>\n",
       "      <th>22663</th>\n",
       "      <td>5cf925b116421afa85ee25e99b4c34fb</td>\n",
       "      <td>29c35fc91fc13fb5073c8f30505d860d</td>\n",
       "      <td>delivered</td>\n",
       "      <td>2017-02-18 16:48:35</td>\n",
       "      <td>NaT</td>\n",
       "      <td>2017-02-22 11:23:10</td>\n",
       "      <td>2017-03-09 07:28:47</td>\n",
       "      <td>2017-03-31</td>\n",
       "    </tr>\n",
       "    <tr>\n",
       "      <th>63052</th>\n",
       "      <td>51eb2eebd5d76a24625b31c33dd41449</td>\n",
       "      <td>07a2a7e0f63fd8cb757ed77d4245623c</td>\n",
       "      <td>delivered</td>\n",
       "      <td>2017-02-18 15:52:27</td>\n",
       "      <td>NaT</td>\n",
       "      <td>2017-02-23 03:09:14</td>\n",
       "      <td>2017-03-07 13:57:47</td>\n",
       "      <td>2017-03-29</td>\n",
       "    </tr>\n",
       "  </tbody>\n",
       "</table>\n",
       "</div>"
      ],
      "text/plain": [
       "                               order_id                       customer_id  \\\n",
       "84999  2babbb4b15e6d2dfe95e2de765c97bce  74bebaf46603f9340e3b50c6b086f992   \n",
       "22663  5cf925b116421afa85ee25e99b4c34fb  29c35fc91fc13fb5073c8f30505d860d   \n",
       "63052  51eb2eebd5d76a24625b31c33dd41449  07a2a7e0f63fd8cb757ed77d4245623c   \n",
       "\n",
       "      order_status order_purchase_timestamp order_approved_at  \\\n",
       "84999    delivered      2017-02-18 17:15:03               NaT   \n",
       "22663    delivered      2017-02-18 16:48:35               NaT   \n",
       "63052    delivered      2017-02-18 15:52:27               NaT   \n",
       "\n",
       "      order_delivered_carrier_date order_delivered_customer_date  \\\n",
       "84999          2017-02-22 11:23:11           2017-03-03 18:43:43   \n",
       "22663          2017-02-22 11:23:10           2017-03-09 07:28:47   \n",
       "63052          2017-02-23 03:09:14           2017-03-07 13:57:47   \n",
       "\n",
       "      order_estimated_delivery_date  \n",
       "84999                    2017-03-31  \n",
       "22663                    2017-03-31  \n",
       "63052                    2017-03-29  "
      ]
     },
     "execution_count": 72,
     "metadata": {},
     "output_type": "execute_result"
    }
   ],
   "source": [
    "missing_approved_at = orders_df[orders_df[\"order_approved_at\"].isna()]\n",
    "\n",
    "missing_approved_delivered = missing_approved_at[\n",
    "    missing_approved_at[\"order_status\"] == \"delivered\"\n",
    "]\n",
    "\n",
    "print(\"\\nSample rows with missing 'order_approved_at' and status 'delivered':\")\n",
    "missing_approved_delivered.sample(3)"
   ]
  },
  {
   "cell_type": "code",
   "execution_count": 73,
   "metadata": {},
   "outputs": [
    {
     "data": {
      "text/html": [
       "<div>\n",
       "<style scoped>\n",
       "    .dataframe tbody tr th:only-of-type {\n",
       "        vertical-align: middle;\n",
       "    }\n",
       "\n",
       "    .dataframe tbody tr th {\n",
       "        vertical-align: top;\n",
       "    }\n",
       "\n",
       "    .dataframe thead th {\n",
       "        text-align: right;\n",
       "    }\n",
       "</style>\n",
       "<table border=\"1\" class=\"dataframe\">\n",
       "  <thead>\n",
       "    <tr style=\"text-align: right;\">\n",
       "      <th></th>\n",
       "      <th>order_id</th>\n",
       "      <th>customer_id</th>\n",
       "      <th>order_status</th>\n",
       "      <th>order_purchase_timestamp</th>\n",
       "      <th>order_approved_at</th>\n",
       "      <th>order_delivered_carrier_date</th>\n",
       "      <th>order_delivered_customer_date</th>\n",
       "      <th>order_estimated_delivery_date</th>\n",
       "      <th>approval_time_diff</th>\n",
       "    </tr>\n",
       "  </thead>\n",
       "  <tbody>\n",
       "    <tr>\n",
       "      <th>23124</th>\n",
       "      <td>d7516b945750658964b64128d3de72de</td>\n",
       "      <td>5add23093af926ef474c767dd401ee6c</td>\n",
       "      <td>delivered</td>\n",
       "      <td>2018-05-14 16:02:39</td>\n",
       "      <td>2018-05-14 16:13:56</td>\n",
       "      <td>2018-05-15 14:37:00</td>\n",
       "      <td>2018-05-16 17:24:34</td>\n",
       "      <td>2018-05-28</td>\n",
       "      <td>0.19</td>\n",
       "    </tr>\n",
       "    <tr>\n",
       "      <th>22363</th>\n",
       "      <td>99aeaeb7e702f9008fe9823750689bbd</td>\n",
       "      <td>c0000e87c4c36f4d17c42ba614aa35b4</td>\n",
       "      <td>delivered</td>\n",
       "      <td>2018-03-22 15:52:37</td>\n",
       "      <td>2018-03-22 16:35:46</td>\n",
       "      <td>2018-03-23 23:29:33</td>\n",
       "      <td>2018-03-26 15:19:03</td>\n",
       "      <td>2018-04-04</td>\n",
       "      <td>0.72</td>\n",
       "    </tr>\n",
       "    <tr>\n",
       "      <th>67926</th>\n",
       "      <td>9196d3400ed2994d3c08cc053b84c84e</td>\n",
       "      <td>0df0cc2d605e76a1560ce617738b096d</td>\n",
       "      <td>delivered</td>\n",
       "      <td>2018-02-06 16:04:15</td>\n",
       "      <td>2018-02-06 16:15:34</td>\n",
       "      <td>2018-02-07 21:19:44</td>\n",
       "      <td>2018-02-16 16:52:25</td>\n",
       "      <td>2018-03-07</td>\n",
       "      <td>0.19</td>\n",
       "    </tr>\n",
       "  </tbody>\n",
       "</table>\n",
       "</div>"
      ],
      "text/plain": [
       "                               order_id                       customer_id  \\\n",
       "23124  d7516b945750658964b64128d3de72de  5add23093af926ef474c767dd401ee6c   \n",
       "22363  99aeaeb7e702f9008fe9823750689bbd  c0000e87c4c36f4d17c42ba614aa35b4   \n",
       "67926  9196d3400ed2994d3c08cc053b84c84e  0df0cc2d605e76a1560ce617738b096d   \n",
       "\n",
       "      order_status order_purchase_timestamp   order_approved_at  \\\n",
       "23124    delivered      2018-05-14 16:02:39 2018-05-14 16:13:56   \n",
       "22363    delivered      2018-03-22 15:52:37 2018-03-22 16:35:46   \n",
       "67926    delivered      2018-02-06 16:04:15 2018-02-06 16:15:34   \n",
       "\n",
       "      order_delivered_carrier_date order_delivered_customer_date  \\\n",
       "23124          2018-05-15 14:37:00           2018-05-16 17:24:34   \n",
       "22363          2018-03-23 23:29:33           2018-03-26 15:19:03   \n",
       "67926          2018-02-07 21:19:44           2018-02-16 16:52:25   \n",
       "\n",
       "      order_estimated_delivery_date  approval_time_diff  \n",
       "23124                    2018-05-28                0.19  \n",
       "22363                    2018-04-04                0.72  \n",
       "67926                    2018-03-07                0.19  "
      ]
     },
     "execution_count": 73,
     "metadata": {},
     "output_type": "execute_result"
    }
   ],
   "source": [
    "# Calculate the time difference between 'order_purchase_timestamp' and 'order_approved_at' in hours\n",
    "orders_df[\"approval_time_diff\"] = (\n",
    "    orders_df[\"order_approved_at\"] - orders_df[\"order_purchase_timestamp\"]\n",
    ").dt.total_seconds() / 3600\n",
    "orders_df[\"approval_time_diff\"] = orders_df[\"approval_time_diff\"].round(2)\n",
    "\n",
    "# Calculate the average approval time\n",
    "average_approval_time = orders_df[\"approval_time_diff\"].mean()\n",
    "\n",
    "# Fill missing values in 'order_approved_at' by adding the average approval time to 'order_purchase_timestamp'\n",
    "orders_df[\"order_approved_at\"] = orders_df[\"order_approved_at\"].fillna(\n",
    "    orders_df[\"order_purchase_timestamp\"]\n",
    "    + pd.to_timedelta(average_approval_time, unit=\"h\")\n",
    ")\n",
    "\n",
    "# Round 'order_approved_at' to the nearest second\n",
    "orders_df[\"order_approved_at\"] = orders_df[\"order_approved_at\"].dt.round(\"s\")\n",
    "\n",
    "orders_df.sample(3)"
   ]
  },
  {
   "cell_type": "code",
   "execution_count": 74,
   "metadata": {},
   "outputs": [
    {
     "name": "stdout",
     "output_type": "stream",
     "text": [
      "NaN values in 'approval_time_diff': 160\n"
     ]
    }
   ],
   "source": [
    "# Check nan value in 'approval_time_diff' column\n",
    "print(\n",
    "    \"NaN values in 'approval_time_diff':\", orders_df[\"approval_time_diff\"].isna().sum()\n",
    ")"
   ]
  },
  {
   "cell_type": "code",
   "execution_count": 75,
   "metadata": {},
   "outputs": [],
   "source": [
    "# Fill missing values in 'approval_time_diff' with the calculated average\n",
    "average_approval_time = orders_df[\"approval_time_diff\"].mean()\n",
    "orders_df[\"approval_time_diff\"] = orders_df[\"approval_time_diff\"].fillna(\n",
    "    average_approval_time\n",
    ")\n",
    "orders_df[\"approval_time_diff\"] = orders_df[\"approval_time_diff\"].round(2)"
   ]
  },
  {
   "cell_type": "code",
   "execution_count": 76,
   "metadata": {},
   "outputs": [
    {
     "name": "stdout",
     "output_type": "stream",
     "text": [
      "NaN values in 'approval_time_diff': 0\n"
     ]
    }
   ],
   "source": [
    "print(\n",
    "    \"NaN values in 'approval_time_diff':\", orders_df[\"approval_time_diff\"].isna().sum()\n",
    ")"
   ]
  },
  {
   "cell_type": "code",
   "execution_count": 77,
   "metadata": {},
   "outputs": [
    {
     "name": "stdout",
     "output_type": "stream",
     "text": [
      "\n",
      "Missing values in Orders dataset:\n"
     ]
    },
    {
     "data": {
      "text/plain": [
       "order_id                            0\n",
       "customer_id                         0\n",
       "order_status                        0\n",
       "order_purchase_timestamp            0\n",
       "order_approved_at                   0\n",
       "order_delivered_carrier_date     1783\n",
       "order_delivered_customer_date    2965\n",
       "order_estimated_delivery_date       0\n",
       "approval_time_diff                  0\n",
       "dtype: int64"
      ]
     },
     "execution_count": 77,
     "metadata": {},
     "output_type": "execute_result"
    }
   ],
   "source": [
    "print(\"\\nMissing values in Orders dataset:\")\n",
    "orders_df.isna().sum()"
   ]
  },
  {
   "cell_type": "markdown",
   "metadata": {},
   "source": [
    "**Insight:**\\\n",
    "Terdapat beberapa `order_status` 'delivered' yang mempunyai nilai kosong pada `order_approved_at`.\\\n",
    "Kolom `order_approved_at` yang memiliki nilai kosong telah diisi dengan menghitung rata-rata waktu persetujuan dari pesanan yang sudah memiliki nilai di `order_approved_at` (selisih waktu antara `order_purchase_timestamp` dan `order_approved_at`).\\\n",
    "\n",
    "*NaT* pada kolom `order_delivered_carrier_date` dan `order_delivered_customer_date` tetap, karena disesuaikan dengan keadaan aktual dimana pesanan belum memasuki status pengiriman."
   ]
  },
  {
   "cell_type": "markdown",
   "metadata": {
    "id": "gp-Y6wU38DC1"
   },
   "source": [
    "## Exploratory Data Analysis (EDA)"
   ]
  },
  {
   "cell_type": "markdown",
   "metadata": {},
   "source": [
    "### Eksplorasi Data `orders_df`"
   ]
  },
  {
   "cell_type": "code",
   "execution_count": 85,
   "metadata": {},
   "outputs": [
    {
     "data": {
      "text/html": [
       "<div>\n",
       "<style scoped>\n",
       "    .dataframe tbody tr th:only-of-type {\n",
       "        vertical-align: middle;\n",
       "    }\n",
       "\n",
       "    .dataframe tbody tr th {\n",
       "        vertical-align: top;\n",
       "    }\n",
       "\n",
       "    .dataframe thead th {\n",
       "        text-align: right;\n",
       "    }\n",
       "</style>\n",
       "<table border=\"1\" class=\"dataframe\">\n",
       "  <thead>\n",
       "    <tr style=\"text-align: right;\">\n",
       "      <th></th>\n",
       "      <th>order_id</th>\n",
       "      <th>customer_id</th>\n",
       "      <th>order_status</th>\n",
       "      <th>order_purchase_timestamp</th>\n",
       "      <th>order_approved_at</th>\n",
       "      <th>order_delivered_carrier_date</th>\n",
       "      <th>order_delivered_customer_date</th>\n",
       "      <th>order_estimated_delivery_date</th>\n",
       "      <th>approval_time_diff</th>\n",
       "    </tr>\n",
       "  </thead>\n",
       "  <tbody>\n",
       "    <tr>\n",
       "      <th>0</th>\n",
       "      <td>e481f51cbdc54678b7cc49136f2d6af7</td>\n",
       "      <td>9ef432eb6251297304e76186b10a928d</td>\n",
       "      <td>delivered</td>\n",
       "      <td>2017-10-02 10:56:33</td>\n",
       "      <td>2017-10-02 11:07:15</td>\n",
       "      <td>2017-10-04 19:55:00</td>\n",
       "      <td>2017-10-10 21:25:13</td>\n",
       "      <td>2017-10-18</td>\n",
       "      <td>0.18</td>\n",
       "    </tr>\n",
       "    <tr>\n",
       "      <th>1</th>\n",
       "      <td>53cdb2fc8bc7dce0b6741e2150273451</td>\n",
       "      <td>b0830fb4747a6c6d20dea0b8c802d7ef</td>\n",
       "      <td>delivered</td>\n",
       "      <td>2018-07-24 20:41:37</td>\n",
       "      <td>2018-07-26 03:24:27</td>\n",
       "      <td>2018-07-26 14:31:00</td>\n",
       "      <td>2018-08-07 15:27:45</td>\n",
       "      <td>2018-08-13</td>\n",
       "      <td>30.71</td>\n",
       "    </tr>\n",
       "    <tr>\n",
       "      <th>2</th>\n",
       "      <td>47770eb9100c2d0c44946d9cf07ec65d</td>\n",
       "      <td>41ce2a54c0b03bf3443c3d931a367089</td>\n",
       "      <td>delivered</td>\n",
       "      <td>2018-08-08 08:38:49</td>\n",
       "      <td>2018-08-08 08:55:23</td>\n",
       "      <td>2018-08-08 13:50:00</td>\n",
       "      <td>2018-08-17 18:06:29</td>\n",
       "      <td>2018-09-04</td>\n",
       "      <td>0.28</td>\n",
       "    </tr>\n",
       "  </tbody>\n",
       "</table>\n",
       "</div>"
      ],
      "text/plain": [
       "                           order_id                       customer_id  \\\n",
       "0  e481f51cbdc54678b7cc49136f2d6af7  9ef432eb6251297304e76186b10a928d   \n",
       "1  53cdb2fc8bc7dce0b6741e2150273451  b0830fb4747a6c6d20dea0b8c802d7ef   \n",
       "2  47770eb9100c2d0c44946d9cf07ec65d  41ce2a54c0b03bf3443c3d931a367089   \n",
       "\n",
       "  order_status order_purchase_timestamp   order_approved_at  \\\n",
       "0    delivered      2017-10-02 10:56:33 2017-10-02 11:07:15   \n",
       "1    delivered      2018-07-24 20:41:37 2018-07-26 03:24:27   \n",
       "2    delivered      2018-08-08 08:38:49 2018-08-08 08:55:23   \n",
       "\n",
       "  order_delivered_carrier_date order_delivered_customer_date  \\\n",
       "0          2017-10-04 19:55:00           2017-10-10 21:25:13   \n",
       "1          2018-07-26 14:31:00           2018-08-07 15:27:45   \n",
       "2          2018-08-08 13:50:00           2018-08-17 18:06:29   \n",
       "\n",
       "  order_estimated_delivery_date  approval_time_diff  \n",
       "0                    2017-10-18                0.18  \n",
       "1                    2018-08-13               30.71  \n",
       "2                    2018-09-04                0.28  "
      ]
     },
     "execution_count": 85,
     "metadata": {},
     "output_type": "execute_result"
    }
   ],
   "source": [
    "orders_df.head(3)"
   ]
  },
  {
   "cell_type": "code",
   "execution_count": 86,
   "metadata": {},
   "outputs": [
    {
     "name": "stdout",
     "output_type": "stream",
     "text": [
      "<class 'pandas.core.frame.DataFrame'>\n",
      "RangeIndex: 99441 entries, 0 to 99440\n",
      "Data columns (total 9 columns):\n",
      " #   Column                         Non-Null Count  Dtype         \n",
      "---  ------                         --------------  -----         \n",
      " 0   order_id                       99441 non-null  object        \n",
      " 1   customer_id                    99441 non-null  object        \n",
      " 2   order_status                   99441 non-null  object        \n",
      " 3   order_purchase_timestamp       99441 non-null  datetime64[ns]\n",
      " 4   order_approved_at              99441 non-null  datetime64[ns]\n",
      " 5   order_delivered_carrier_date   97658 non-null  datetime64[ns]\n",
      " 6   order_delivered_customer_date  96476 non-null  datetime64[ns]\n",
      " 7   order_estimated_delivery_date  99441 non-null  datetime64[ns]\n",
      " 8   approval_time_diff             99441 non-null  float64       \n",
      "dtypes: datetime64[ns](5), float64(1), object(3)\n",
      "memory usage: 6.8+ MB\n",
      "\n",
      "(rows, collumns): \t\t(99441, 9)\n",
      "nunique of order_id: \t\t99441\n",
      "nunique of customer_id: \t99441\n",
      "nunique of order_status: \t8\n",
      "\n",
      "Number of duplicate rows: \t\t0\n",
      "Number of duplicate in order_id: \t0\n",
      "Number of duplicate in customer_id: \t0\n"
     ]
    }
   ],
   "source": [
    "orders_df.info()\n",
    "\n",
    "print(f\"\\n(rows, collumns): \\t\\t{orders_df.shape}\")\n",
    "print(f\"nunique of order_id: \\t\\t{orders_df['order_id'].nunique()}\")\n",
    "print(f\"nunique of customer_id: \\t{orders_df['customer_id'].nunique()}\")\n",
    "print(f\"nunique of order_status: \\t{orders_df['order_status'].nunique()}\")\n",
    "\n",
    "print(f\"\\nNumber of duplicate rows: \\t\\t{orders_df.duplicated().sum()}\")\n",
    "print(f\"Number of duplicate in order_id: \\t{orders_df['order_id'].duplicated().sum()}\")\n",
    "print(\n",
    "    f\"Number of duplicate in customer_id: \\t{orders_df['customer_id'].duplicated().sum()}\"\n",
    ")"
   ]
  },
  {
   "cell_type": "code",
   "execution_count": 140,
   "metadata": {},
   "outputs": [
    {
     "data": {
      "text/html": [
       "<div>\n",
       "<style scoped>\n",
       "    .dataframe tbody tr th:only-of-type {\n",
       "        vertical-align: middle;\n",
       "    }\n",
       "\n",
       "    .dataframe tbody tr th {\n",
       "        vertical-align: top;\n",
       "    }\n",
       "\n",
       "    .dataframe thead th {\n",
       "        text-align: right;\n",
       "    }\n",
       "</style>\n",
       "<table border=\"1\" class=\"dataframe\">\n",
       "  <thead>\n",
       "    <tr style=\"text-align: right;\">\n",
       "      <th></th>\n",
       "      <th>Count</th>\n",
       "      <th>Percentage</th>\n",
       "    </tr>\n",
       "    <tr>\n",
       "      <th>order_status</th>\n",
       "      <th></th>\n",
       "      <th></th>\n",
       "    </tr>\n",
       "  </thead>\n",
       "  <tbody>\n",
       "    <tr>\n",
       "      <th>delivered</th>\n",
       "      <td>96478</td>\n",
       "      <td>97.02%</td>\n",
       "    </tr>\n",
       "    <tr>\n",
       "      <th>shipped</th>\n",
       "      <td>1107</td>\n",
       "      <td>1.11%</td>\n",
       "    </tr>\n",
       "    <tr>\n",
       "      <th>canceled</th>\n",
       "      <td>625</td>\n",
       "      <td>0.63%</td>\n",
       "    </tr>\n",
       "    <tr>\n",
       "      <th>unavailable</th>\n",
       "      <td>609</td>\n",
       "      <td>0.61%</td>\n",
       "    </tr>\n",
       "    <tr>\n",
       "      <th>invoiced</th>\n",
       "      <td>314</td>\n",
       "      <td>0.32%</td>\n",
       "    </tr>\n",
       "    <tr>\n",
       "      <th>processing</th>\n",
       "      <td>301</td>\n",
       "      <td>0.30%</td>\n",
       "    </tr>\n",
       "    <tr>\n",
       "      <th>created</th>\n",
       "      <td>5</td>\n",
       "      <td>0.01%</td>\n",
       "    </tr>\n",
       "    <tr>\n",
       "      <th>approved</th>\n",
       "      <td>2</td>\n",
       "      <td>0.00%</td>\n",
       "    </tr>\n",
       "  </tbody>\n",
       "</table>\n",
       "</div>"
      ],
      "text/plain": [
       "              Count Percentage\n",
       "order_status                  \n",
       "delivered     96478     97.02%\n",
       "shipped        1107      1.11%\n",
       "canceled        625      0.63%\n",
       "unavailable     609      0.61%\n",
       "invoiced        314      0.32%\n",
       "processing      301      0.30%\n",
       "created           5      0.01%\n",
       "approved          2      0.00%"
      ]
     },
     "execution_count": 140,
     "metadata": {},
     "output_type": "execute_result"
    }
   ],
   "source": [
    "status_counts = orders_df[\"order_status\"].value_counts()\n",
    "total_orders = status_counts.sum()\n",
    "\n",
    "status_percentages = (status_counts / total_orders) * 100\n",
    "\n",
    "pd.DataFrame(\n",
    "    {\n",
    "        \"Count\": status_counts.values,\n",
    "        \"Percentage\": status_percentages.round(2).map(\"{:.2f}%\".format),\n",
    "    }\n",
    ")"
   ]
  },
  {
   "cell_type": "markdown",
   "metadata": {},
   "source": [
    "**Memahami Distribusi `approval_time_diff`**"
   ]
  },
  {
   "cell_type": "code",
   "execution_count": 145,
   "metadata": {},
   "outputs": [
    {
     "data": {
      "text/html": [
       "<div>\n",
       "<style scoped>\n",
       "    .dataframe tbody tr th:only-of-type {\n",
       "        vertical-align: middle;\n",
       "    }\n",
       "\n",
       "    .dataframe tbody tr th {\n",
       "        vertical-align: top;\n",
       "    }\n",
       "\n",
       "    .dataframe thead th {\n",
       "        text-align: right;\n",
       "    }\n",
       "</style>\n",
       "<table border=\"1\" class=\"dataframe\">\n",
       "  <thead>\n",
       "    <tr style=\"text-align: right;\">\n",
       "      <th></th>\n",
       "      <th>Statistic</th>\n",
       "      <th>Value</th>\n",
       "    </tr>\n",
       "  </thead>\n",
       "  <tbody>\n",
       "    <tr>\n",
       "      <th>0</th>\n",
       "      <td>count</td>\n",
       "      <td>99441.00</td>\n",
       "    </tr>\n",
       "    <tr>\n",
       "      <th>1</th>\n",
       "      <td>mean</td>\n",
       "      <td>10.42</td>\n",
       "    </tr>\n",
       "    <tr>\n",
       "      <th>2</th>\n",
       "      <td>std</td>\n",
       "      <td>26.02</td>\n",
       "    </tr>\n",
       "    <tr>\n",
       "      <th>3</th>\n",
       "      <td>min</td>\n",
       "      <td>0.00</td>\n",
       "    </tr>\n",
       "    <tr>\n",
       "      <th>4</th>\n",
       "      <td>25%</td>\n",
       "      <td>0.22</td>\n",
       "    </tr>\n",
       "    <tr>\n",
       "      <th>5</th>\n",
       "      <td>50%</td>\n",
       "      <td>0.34</td>\n",
       "    </tr>\n",
       "    <tr>\n",
       "      <th>6</th>\n",
       "      <td>75%</td>\n",
       "      <td>14.54</td>\n",
       "    </tr>\n",
       "    <tr>\n",
       "      <th>7</th>\n",
       "      <td>max</td>\n",
       "      <td>4509.18</td>\n",
       "    </tr>\n",
       "  </tbody>\n",
       "</table>\n",
       "</div>"
      ],
      "text/plain": [
       "  Statistic     Value\n",
       "0     count  99441.00\n",
       "1      mean     10.42\n",
       "2       std     26.02\n",
       "3       min      0.00\n",
       "4       25%      0.22\n",
       "5       50%      0.34\n",
       "6       75%     14.54\n",
       "7       max   4509.18"
      ]
     },
     "execution_count": 145,
     "metadata": {},
     "output_type": "execute_result"
    }
   ],
   "source": [
    "stats = orders_df[\"approval_time_diff\"].describe().round(2)\n",
    "\n",
    "pd.DataFrame({\"Statistic\": stats.index, \"Value\": stats.values})"
   ]
  },
  {
   "cell_type": "code",
   "execution_count": 89,
   "metadata": {},
   "outputs": [
    {
     "data": {
      "text/html": [
       "<div>\n",
       "<style scoped>\n",
       "    .dataframe tbody tr th:only-of-type {\n",
       "        vertical-align: middle;\n",
       "    }\n",
       "\n",
       "    .dataframe tbody tr th {\n",
       "        vertical-align: top;\n",
       "    }\n",
       "\n",
       "    .dataframe thead th {\n",
       "        text-align: right;\n",
       "    }\n",
       "</style>\n",
       "<table border=\"1\" class=\"dataframe\">\n",
       "  <thead>\n",
       "    <tr style=\"text-align: right;\">\n",
       "      <th></th>\n",
       "      <th>order_id</th>\n",
       "      <th>order_status</th>\n",
       "      <th>approval_time_diff</th>\n",
       "    </tr>\n",
       "  </thead>\n",
       "  <tbody>\n",
       "    <tr>\n",
       "      <th>96251</th>\n",
       "      <td>0a93b40850d3f4becf2f276666e01340</td>\n",
       "      <td>delivered</td>\n",
       "      <td>741.44</td>\n",
       "    </tr>\n",
       "    <tr>\n",
       "      <th>55708</th>\n",
       "      <td>f7923db0430587601c2aef15ec4b8af4</td>\n",
       "      <td>delivered</td>\n",
       "      <td>738.45</td>\n",
       "    </tr>\n",
       "    <tr>\n",
       "      <th>88671</th>\n",
       "      <td>de0076b42a023f53b398ce9ab0d9009c</td>\n",
       "      <td>delivered</td>\n",
       "      <td>554.78</td>\n",
       "    </tr>\n",
       "    <tr>\n",
       "      <th>71651</th>\n",
       "      <td>daed0f3aefd193de33c31e21b16a3b3a</td>\n",
       "      <td>delivered</td>\n",
       "      <td>404.23</td>\n",
       "    </tr>\n",
       "    <tr>\n",
       "      <th>73881</th>\n",
       "      <td>9c038e10f14d12a96939a0176c4ecc99</td>\n",
       "      <td>delivered</td>\n",
       "      <td>319.53</td>\n",
       "    </tr>\n",
       "    <tr>\n",
       "      <th>...</th>\n",
       "      <td>...</td>\n",
       "      <td>...</td>\n",
       "      <td>...</td>\n",
       "    </tr>\n",
       "    <tr>\n",
       "      <th>90080</th>\n",
       "      <td>8c006b6688741e47144a6f79f96e225d</td>\n",
       "      <td>delivered</td>\n",
       "      <td>0.00</td>\n",
       "    </tr>\n",
       "    <tr>\n",
       "      <th>35078</th>\n",
       "      <td>898ded7ecb1e4d92997856bd8b7a8aa1</td>\n",
       "      <td>delivered</td>\n",
       "      <td>0.00</td>\n",
       "    </tr>\n",
       "    <tr>\n",
       "      <th>78152</th>\n",
       "      <td>dd13617f642718bd4cdc450d197960f9</td>\n",
       "      <td>delivered</td>\n",
       "      <td>0.00</td>\n",
       "    </tr>\n",
       "    <tr>\n",
       "      <th>35091</th>\n",
       "      <td>2dc3f680b2788d38f7162482b575e41a</td>\n",
       "      <td>delivered</td>\n",
       "      <td>0.00</td>\n",
       "    </tr>\n",
       "    <tr>\n",
       "      <th>55171</th>\n",
       "      <td>380bf78bcf690a6955b8f1de575e26ba</td>\n",
       "      <td>delivered</td>\n",
       "      <td>0.00</td>\n",
       "    </tr>\n",
       "  </tbody>\n",
       "</table>\n",
       "<p>96478 rows × 3 columns</p>\n",
       "</div>"
      ],
      "text/plain": [
       "                               order_id order_status  approval_time_diff\n",
       "96251  0a93b40850d3f4becf2f276666e01340    delivered              741.44\n",
       "55708  f7923db0430587601c2aef15ec4b8af4    delivered              738.45\n",
       "88671  de0076b42a023f53b398ce9ab0d9009c    delivered              554.78\n",
       "71651  daed0f3aefd193de33c31e21b16a3b3a    delivered              404.23\n",
       "73881  9c038e10f14d12a96939a0176c4ecc99    delivered              319.53\n",
       "...                                 ...          ...                 ...\n",
       "90080  8c006b6688741e47144a6f79f96e225d    delivered                0.00\n",
       "35078  898ded7ecb1e4d92997856bd8b7a8aa1    delivered                0.00\n",
       "78152  dd13617f642718bd4cdc450d197960f9    delivered                0.00\n",
       "35091  2dc3f680b2788d38f7162482b575e41a    delivered                0.00\n",
       "55171  380bf78bcf690a6955b8f1de575e26ba    delivered                0.00\n",
       "\n",
       "[96478 rows x 3 columns]"
      ]
     },
     "execution_count": 89,
     "metadata": {},
     "output_type": "execute_result"
    }
   ],
   "source": [
    "delivered_status_df = orders_df[orders_df[\"order_status\"] == \"delivered\"].sort_values(\n",
    "    \"approval_time_diff\", ascending=False\n",
    ")\n",
    "\n",
    "delivered_status_df[[\"order_id\", \"order_status\", \"approval_time_diff\"]]"
   ]
  },
  {
   "cell_type": "code",
   "execution_count": 90,
   "metadata": {},
   "outputs": [
    {
     "name": "stdout",
     "output_type": "stream",
     "text": [
      "\n",
      "Distribution of Delivered Orders by Approval Time\n",
      "----------------------------------------------------------------------\n",
      "approval_time_diff  Count Percentage\n",
      "         diff <= 0   1244     1.289%\n",
      "    0 < diff <= 24  78386    81.248%\n",
      "   24 < diff <= 48  11872    12.305%\n",
      "   48 < diff <= 72   2798     2.900%\n",
      "   72 < diff <= 96   1453     1.506%\n",
      "  96 < diff <= 168    657     0.681%\n",
      " 168 < diff <= 336     64     0.066%\n",
      " 336 < diff <= 504      1     0.001%\n",
      " 504 < diff <= 720      1     0.001%\n",
      "        diff > 720      2     0.002%\n",
      "----------------------------------------------------------------------\n",
      "Total delivered orders: 96478\n"
     ]
    }
   ],
   "source": [
    "bins = [\n",
    "    -float(\"inf\"),  # Less than or equal to 0\n",
    "    0,  # 0 hours\n",
    "    24,  # 1 day\n",
    "    48,  # 2 days\n",
    "    72,  # 3 days\n",
    "    96,  # 4 days\n",
    "    168,  # 7 days\n",
    "    336,  # 14 days\n",
    "    504,  # 21 days\n",
    "    720,  # 30 days\n",
    "    float(\"inf\"),  # More than 30 days\n",
    "]\n",
    "\n",
    "labels = [\n",
    "    \"diff <= 0\",\n",
    "    \"0 < diff <= 24\",\n",
    "    \"24 < diff <= 48\",\n",
    "    \"48 < diff <= 72\",\n",
    "    \"72 < diff <= 96\",\n",
    "    \"96 < diff <= 168\",  # 4 < diff <= 7 days\n",
    "    \"168 < diff <= 336\",  # 7 < diff <= 14 days\n",
    "    \"336 < diff <= 504\",  # 14 < diff <= 21 days\n",
    "    \"504 < diff <= 720\",  # 21 < diff <= 30 days\n",
    "    \"diff > 720\",  # > 30 days\n",
    "]\n",
    "\n",
    "output_df = (\n",
    "    delivered_status_df[\"approval_time_diff\"]\n",
    "    .pipe(pd.cut, bins=bins, labels=labels, right=True)\n",
    "    .value_counts()\n",
    "    .reindex(labels, fill_value=0)\n",
    "    .to_frame(name=\"Count\")\n",
    "    .assign(\n",
    "        Percentage=lambda df: (df[\"Count\"] / df[\"Count\"].sum() * 100)\n",
    "        .round(3)\n",
    "        .map(\"{:.3f}%\".format)\n",
    "    )\n",
    "    .reset_index()\n",
    "    .rename(columns={\"index\": \"Time Range (hours)\"})\n",
    ")\n",
    "\n",
    "print(\"\\nDistribution of Delivered Orders by Approval Time\")\n",
    "print(\"-\" * 70)\n",
    "print(output_df.to_string(index=False))\n",
    "print(\"-\" * 70)\n",
    "print(f\"Total delivered orders: {output_df['Count'].sum()}\")"
   ]
  },
  {
   "cell_type": "code",
   "execution_count": 91,
   "metadata": {},
   "outputs": [
    {
     "data": {
      "text/html": [
       "<div>\n",
       "<style scoped>\n",
       "    .dataframe tbody tr th:only-of-type {\n",
       "        vertical-align: middle;\n",
       "    }\n",
       "\n",
       "    .dataframe tbody tr th {\n",
       "        vertical-align: top;\n",
       "    }\n",
       "\n",
       "    .dataframe thead th {\n",
       "        text-align: right;\n",
       "    }\n",
       "</style>\n",
       "<table border=\"1\" class=\"dataframe\">\n",
       "  <thead>\n",
       "    <tr style=\"text-align: right;\">\n",
       "      <th></th>\n",
       "      <th>order_id</th>\n",
       "      <th>order_status</th>\n",
       "      <th>approval_time_diff</th>\n",
       "    </tr>\n",
       "  </thead>\n",
       "  <tbody>\n",
       "    <tr>\n",
       "      <th>4396</th>\n",
       "      <td>e5fa5a7210941f7d56d0208e4e071d35</td>\n",
       "      <td>canceled</td>\n",
       "      <td>781.03</td>\n",
       "    </tr>\n",
       "    <tr>\n",
       "      <th>53475</th>\n",
       "      <td>490291524fddde2b31c2e6bec3d9e6da</td>\n",
       "      <td>canceled</td>\n",
       "      <td>676.07</td>\n",
       "    </tr>\n",
       "    <tr>\n",
       "      <th>10071</th>\n",
       "      <td>809a282bbd5dbcabb6f2f724fca862ec</td>\n",
       "      <td>canceled</td>\n",
       "      <td>573.87</td>\n",
       "    </tr>\n",
       "    <tr>\n",
       "      <th>40076</th>\n",
       "      <td>7fd4b0e047195ca197c3660772a8d8c0</td>\n",
       "      <td>canceled</td>\n",
       "      <td>248.28</td>\n",
       "    </tr>\n",
       "    <tr>\n",
       "      <th>62406</th>\n",
       "      <td>123e27a1a4d0b2481d8618ac3dff7d4e</td>\n",
       "      <td>canceled</td>\n",
       "      <td>242.58</td>\n",
       "    </tr>\n",
       "    <tr>\n",
       "      <th>...</th>\n",
       "      <td>...</td>\n",
       "      <td>...</td>\n",
       "      <td>...</td>\n",
       "    </tr>\n",
       "    <tr>\n",
       "      <th>71603</th>\n",
       "      <td>b17fd4c033b06e8d888de8ea6105ef9d</td>\n",
       "      <td>canceled</td>\n",
       "      <td>0.00</td>\n",
       "    </tr>\n",
       "    <tr>\n",
       "      <th>67963</th>\n",
       "      <td>5b9680f27b5067afded00b23f9cb4d61</td>\n",
       "      <td>canceled</td>\n",
       "      <td>0.00</td>\n",
       "    </tr>\n",
       "    <tr>\n",
       "      <th>28846</th>\n",
       "      <td>9abe82df39e950e1e0c1a5969e22571e</td>\n",
       "      <td>canceled</td>\n",
       "      <td>0.00</td>\n",
       "    </tr>\n",
       "    <tr>\n",
       "      <th>28455</th>\n",
       "      <td>d01c5b46e00bd214519fe9f64bbb2649</td>\n",
       "      <td>canceled</td>\n",
       "      <td>0.00</td>\n",
       "    </tr>\n",
       "    <tr>\n",
       "      <th>80797</th>\n",
       "      <td>983e16bfbe23e60f23a6fcb9c4792204</td>\n",
       "      <td>canceled</td>\n",
       "      <td>0.00</td>\n",
       "    </tr>\n",
       "  </tbody>\n",
       "</table>\n",
       "<p>625 rows × 3 columns</p>\n",
       "</div>"
      ],
      "text/plain": [
       "                               order_id order_status  approval_time_diff\n",
       "4396   e5fa5a7210941f7d56d0208e4e071d35     canceled              781.03\n",
       "53475  490291524fddde2b31c2e6bec3d9e6da     canceled              676.07\n",
       "10071  809a282bbd5dbcabb6f2f724fca862ec     canceled              573.87\n",
       "40076  7fd4b0e047195ca197c3660772a8d8c0     canceled              248.28\n",
       "62406  123e27a1a4d0b2481d8618ac3dff7d4e     canceled              242.58\n",
       "...                                 ...          ...                 ...\n",
       "71603  b17fd4c033b06e8d888de8ea6105ef9d     canceled                0.00\n",
       "67963  5b9680f27b5067afded00b23f9cb4d61     canceled                0.00\n",
       "28846  9abe82df39e950e1e0c1a5969e22571e     canceled                0.00\n",
       "28455  d01c5b46e00bd214519fe9f64bbb2649     canceled                0.00\n",
       "80797  983e16bfbe23e60f23a6fcb9c4792204     canceled                0.00\n",
       "\n",
       "[625 rows x 3 columns]"
      ]
     },
     "execution_count": 91,
     "metadata": {},
     "output_type": "execute_result"
    }
   ],
   "source": [
    "canceled_status_df = orders_df[orders_df[\"order_status\"] == \"canceled\"].sort_values(\n",
    "    \"approval_time_diff\", ascending=False\n",
    ")\n",
    "\n",
    "canceled_status_df[[\"order_id\", \"order_status\", \"approval_time_diff\"]]"
   ]
  },
  {
   "cell_type": "code",
   "execution_count": 92,
   "metadata": {},
   "outputs": [
    {
     "name": "stdout",
     "output_type": "stream",
     "text": [
      "\n",
      "Distribution of Canceled Orders by Approval Time\n",
      "------------------------------------------------------------\n",
      "approval_time_diff  Count Percentage\n",
      "         diff <= 0     18      2.88%\n",
      "    0 < diff <= 24    525     84.00%\n",
      "   24 < diff <= 48     56      8.96%\n",
      "   48 < diff <= 72     10      1.60%\n",
      "   72 < diff <= 96      8      1.28%\n",
      "  96 < diff <= 168      1      0.16%\n",
      " 168 < diff <= 336      4      0.64%\n",
      " 336 < diff <= 504      0      0.00%\n",
      " 504 < diff <= 720      2      0.32%\n",
      "        diff > 720      1      0.16%\n",
      "------------------------------------------------------------\n",
      "Total canceled orders: 625\n"
     ]
    }
   ],
   "source": [
    "output_df = (\n",
    "    canceled_status_df[\"approval_time_diff\"]\n",
    "    .pipe(pd.cut, bins=bins, labels=labels, right=True)\n",
    "    .value_counts()\n",
    "    .reindex(labels, fill_value=0)\n",
    "    .to_frame(name=\"Count\")\n",
    "    .assign(\n",
    "        Percentage=lambda df: (df[\"Count\"] / df[\"Count\"].sum() * 100)\n",
    "        .round(2)\n",
    "        .map(\"{:.2f}%\".format)\n",
    "    )\n",
    "    .reset_index()\n",
    "    .rename(columns={\"index\": \"Time Range\"})\n",
    ")\n",
    "\n",
    "print(\"\\nDistribution of Canceled Orders by Approval Time\")\n",
    "print(\"-\" * 60)\n",
    "print(output_df.to_string(index=False))\n",
    "print(\"-\" * 60)\n",
    "print(f\"Total canceled orders: {output_df['Count'].sum()}\")"
   ]
  },
  {
   "cell_type": "markdown",
   "metadata": {},
   "source": [
    "**Insight:**\n",
    "1. Rata-rata lama persetujuan pesanan adalah sekitar **10** jam.\n",
    "1. **Pesanan yang dibatalkan cenderung disetujui lebih cepat**\n",
    "    - Berdasarkan `approval_time_diff`:\n",
    "        - `canceled`: **84.00%** disetujui dalam 24 jam pertama\n",
    "        - `delivered`: **81.25%** disetujui dalam 24 jam pertama\n",
    "    - Terindikasi bahwa **kecepatan persetujuan bukan faktor utama pembatalan pesanan oleh pelanggan.**\n",
    "2. Data ini menunjukkan bahwa pembeli tidak membatalkan pesanan karena terlalu lama persetujuan."
   ]
  },
  {
   "cell_type": "markdown",
   "metadata": {},
   "source": [
    "### Eksplorasi Data `order_reviews_df`"
   ]
  },
  {
   "cell_type": "code",
   "execution_count": 93,
   "metadata": {},
   "outputs": [
    {
     "data": {
      "text/html": [
       "<div>\n",
       "<style scoped>\n",
       "    .dataframe tbody tr th:only-of-type {\n",
       "        vertical-align: middle;\n",
       "    }\n",
       "\n",
       "    .dataframe tbody tr th {\n",
       "        vertical-align: top;\n",
       "    }\n",
       "\n",
       "    .dataframe thead th {\n",
       "        text-align: right;\n",
       "    }\n",
       "</style>\n",
       "<table border=\"1\" class=\"dataframe\">\n",
       "  <thead>\n",
       "    <tr style=\"text-align: right;\">\n",
       "      <th></th>\n",
       "      <th>95323</th>\n",
       "      <th>69492</th>\n",
       "      <th>49300</th>\n",
       "      <th>26517</th>\n",
       "      <th>36783</th>\n",
       "    </tr>\n",
       "  </thead>\n",
       "  <tbody>\n",
       "    <tr>\n",
       "      <th>review_id</th>\n",
       "      <td>b96fa76fbf37ae6e958cd079e2631076</td>\n",
       "      <td>70678fb29fe6b6dbfc67a1ef9ce3e81c</td>\n",
       "      <td>c0415aaa5961be1afb2ac44b1aba62a9</td>\n",
       "      <td>d768c305b69f318a801e95856bd1cc92</td>\n",
       "      <td>c954719ee9713949803a78dc30c95329</td>\n",
       "    </tr>\n",
       "    <tr>\n",
       "      <th>order_id</th>\n",
       "      <td>ebdfc2a2bfba1c888ea6011aec355151</td>\n",
       "      <td>62d9ca533d6de05e39164160d128e37c</td>\n",
       "      <td>c7542d0d83ead101b058770578cc04c3</td>\n",
       "      <td>c83b1508d1ce87e8c380ee3209720f81</td>\n",
       "      <td>5e2488af524e8aeb633062a365974141</td>\n",
       "    </tr>\n",
       "    <tr>\n",
       "      <th>review_score</th>\n",
       "      <td>3</td>\n",
       "      <td>4</td>\n",
       "      <td>5</td>\n",
       "      <td>5</td>\n",
       "      <td>5</td>\n",
       "    </tr>\n",
       "    <tr>\n",
       "      <th>review_comment_title</th>\n",
       "      <td>empty</td>\n",
       "      <td>empty</td>\n",
       "      <td>ÓTIMO</td>\n",
       "      <td>empty</td>\n",
       "      <td>empty</td>\n",
       "    </tr>\n",
       "    <tr>\n",
       "      <th>review_comment_message</th>\n",
       "      <td>Só recebi a cortina, as prateleiras ainda não.</td>\n",
       "      <td>Recebi o produto dentro do prazo.</td>\n",
       "      <td>Rápido no envio</td>\n",
       "      <td>empty</td>\n",
       "      <td>Chegou bem antes do prazo, ótimo produto</td>\n",
       "    </tr>\n",
       "    <tr>\n",
       "      <th>review_creation_date</th>\n",
       "      <td>2017-09-22 00:00:00</td>\n",
       "      <td>2018-02-28 00:00:00</td>\n",
       "      <td>2018-08-07 00:00:00</td>\n",
       "      <td>2018-06-07 00:00:00</td>\n",
       "      <td>2017-05-18 00:00:00</td>\n",
       "    </tr>\n",
       "    <tr>\n",
       "      <th>review_answer_timestamp</th>\n",
       "      <td>2017-09-25 18:33:37</td>\n",
       "      <td>2018-02-28 09:53:49</td>\n",
       "      <td>2018-08-08 11:24:47</td>\n",
       "      <td>2018-06-16 00:01:44</td>\n",
       "      <td>2017-05-19 01:32:16</td>\n",
       "    </tr>\n",
       "  </tbody>\n",
       "</table>\n",
       "</div>"
      ],
      "text/plain": [
       "                                                                  95323  \\\n",
       "review_id                              b96fa76fbf37ae6e958cd079e2631076   \n",
       "order_id                               ebdfc2a2bfba1c888ea6011aec355151   \n",
       "review_score                                                          3   \n",
       "review_comment_title                                              empty   \n",
       "review_comment_message   Só recebi a cortina, as prateleiras ainda não.   \n",
       "review_creation_date                                2017-09-22 00:00:00   \n",
       "review_answer_timestamp                             2017-09-25 18:33:37   \n",
       "\n",
       "                                                     69492  \\\n",
       "review_id                 70678fb29fe6b6dbfc67a1ef9ce3e81c   \n",
       "order_id                  62d9ca533d6de05e39164160d128e37c   \n",
       "review_score                                             4   \n",
       "review_comment_title                                 empty   \n",
       "review_comment_message   Recebi o produto dentro do prazo.   \n",
       "review_creation_date                   2018-02-28 00:00:00   \n",
       "review_answer_timestamp                2018-02-28 09:53:49   \n",
       "\n",
       "                                                    49300  \\\n",
       "review_id                c0415aaa5961be1afb2ac44b1aba62a9   \n",
       "order_id                 c7542d0d83ead101b058770578cc04c3   \n",
       "review_score                                            5   \n",
       "review_comment_title                                ÓTIMO   \n",
       "review_comment_message                    Rápido no envio   \n",
       "review_creation_date                  2018-08-07 00:00:00   \n",
       "review_answer_timestamp               2018-08-08 11:24:47   \n",
       "\n",
       "                                                    26517  \\\n",
       "review_id                d768c305b69f318a801e95856bd1cc92   \n",
       "order_id                 c83b1508d1ce87e8c380ee3209720f81   \n",
       "review_score                                            5   \n",
       "review_comment_title                                empty   \n",
       "review_comment_message                              empty   \n",
       "review_creation_date                  2018-06-07 00:00:00   \n",
       "review_answer_timestamp               2018-06-16 00:01:44   \n",
       "\n",
       "                                                             36783  \n",
       "review_id                         c954719ee9713949803a78dc30c95329  \n",
       "order_id                          5e2488af524e8aeb633062a365974141  \n",
       "review_score                                                     5  \n",
       "review_comment_title                                         empty  \n",
       "review_comment_message   Chegou bem antes do prazo, ótimo produto   \n",
       "review_creation_date                           2017-05-18 00:00:00  \n",
       "review_answer_timestamp                        2017-05-19 01:32:16  "
      ]
     },
     "execution_count": 93,
     "metadata": {},
     "output_type": "execute_result"
    }
   ],
   "source": [
    "order_reviews_df.sample(5).T"
   ]
  },
  {
   "cell_type": "code",
   "execution_count": 94,
   "metadata": {},
   "outputs": [
    {
     "data": {
      "text/html": [
       "<div>\n",
       "<style scoped>\n",
       "    .dataframe tbody tr th:only-of-type {\n",
       "        vertical-align: middle;\n",
       "    }\n",
       "\n",
       "    .dataframe tbody tr th {\n",
       "        vertical-align: top;\n",
       "    }\n",
       "\n",
       "    .dataframe thead th {\n",
       "        text-align: right;\n",
       "    }\n",
       "</style>\n",
       "<table border=\"1\" class=\"dataframe\">\n",
       "  <thead>\n",
       "    <tr style=\"text-align: right;\">\n",
       "      <th></th>\n",
       "      <th>count</th>\n",
       "      <th>unique</th>\n",
       "      <th>top</th>\n",
       "      <th>freq</th>\n",
       "      <th>mean</th>\n",
       "      <th>min</th>\n",
       "      <th>25%</th>\n",
       "      <th>50%</th>\n",
       "      <th>75%</th>\n",
       "      <th>max</th>\n",
       "      <th>std</th>\n",
       "    </tr>\n",
       "  </thead>\n",
       "  <tbody>\n",
       "    <tr>\n",
       "      <th>review_id</th>\n",
       "      <td>99224</td>\n",
       "      <td>98410</td>\n",
       "      <td>7b606b0d57b078384f0b58eac1d41d78</td>\n",
       "      <td>3</td>\n",
       "      <td>NaN</td>\n",
       "      <td>NaN</td>\n",
       "      <td>NaN</td>\n",
       "      <td>NaN</td>\n",
       "      <td>NaN</td>\n",
       "      <td>NaN</td>\n",
       "      <td>NaN</td>\n",
       "    </tr>\n",
       "    <tr>\n",
       "      <th>order_id</th>\n",
       "      <td>99224</td>\n",
       "      <td>98673</td>\n",
       "      <td>c88b1d1b157a9999ce368f218a407141</td>\n",
       "      <td>3</td>\n",
       "      <td>NaN</td>\n",
       "      <td>NaN</td>\n",
       "      <td>NaN</td>\n",
       "      <td>NaN</td>\n",
       "      <td>NaN</td>\n",
       "      <td>NaN</td>\n",
       "      <td>NaN</td>\n",
       "    </tr>\n",
       "    <tr>\n",
       "      <th>review_score</th>\n",
       "      <td>99224.0</td>\n",
       "      <td>NaN</td>\n",
       "      <td>NaN</td>\n",
       "      <td>NaN</td>\n",
       "      <td>4.086421</td>\n",
       "      <td>1.0</td>\n",
       "      <td>4.0</td>\n",
       "      <td>5.0</td>\n",
       "      <td>5.0</td>\n",
       "      <td>5.0</td>\n",
       "      <td>1.347579</td>\n",
       "    </tr>\n",
       "    <tr>\n",
       "      <th>review_comment_title</th>\n",
       "      <td>99224</td>\n",
       "      <td>4528</td>\n",
       "      <td>empty</td>\n",
       "      <td>87656</td>\n",
       "      <td>NaN</td>\n",
       "      <td>NaN</td>\n",
       "      <td>NaN</td>\n",
       "      <td>NaN</td>\n",
       "      <td>NaN</td>\n",
       "      <td>NaN</td>\n",
       "      <td>NaN</td>\n",
       "    </tr>\n",
       "    <tr>\n",
       "      <th>review_comment_message</th>\n",
       "      <td>99224</td>\n",
       "      <td>36160</td>\n",
       "      <td>empty</td>\n",
       "      <td>58247</td>\n",
       "      <td>NaN</td>\n",
       "      <td>NaN</td>\n",
       "      <td>NaN</td>\n",
       "      <td>NaN</td>\n",
       "      <td>NaN</td>\n",
       "      <td>NaN</td>\n",
       "      <td>NaN</td>\n",
       "    </tr>\n",
       "    <tr>\n",
       "      <th>review_creation_date</th>\n",
       "      <td>99224</td>\n",
       "      <td>NaN</td>\n",
       "      <td>NaN</td>\n",
       "      <td>NaN</td>\n",
       "      <td>2018-01-12 20:49:23.948238336</td>\n",
       "      <td>2016-10-02 00:00:00</td>\n",
       "      <td>2017-09-23 00:00:00</td>\n",
       "      <td>2018-02-02 00:00:00</td>\n",
       "      <td>2018-05-16 00:00:00</td>\n",
       "      <td>2018-08-31 00:00:00</td>\n",
       "      <td>NaN</td>\n",
       "    </tr>\n",
       "    <tr>\n",
       "      <th>review_answer_timestamp</th>\n",
       "      <td>99224</td>\n",
       "      <td>NaN</td>\n",
       "      <td>NaN</td>\n",
       "      <td>NaN</td>\n",
       "      <td>2018-01-16 00:23:56.977938688</td>\n",
       "      <td>2016-10-07 18:32:28</td>\n",
       "      <td>2017-09-27 01:53:27.249999872</td>\n",
       "      <td>2018-02-04 22:41:47.500000</td>\n",
       "      <td>2018-05-20 12:11:21.500000</td>\n",
       "      <td>2018-10-29 12:27:35</td>\n",
       "      <td>NaN</td>\n",
       "    </tr>\n",
       "  </tbody>\n",
       "</table>\n",
       "</div>"
      ],
      "text/plain": [
       "                           count unique                               top  \\\n",
       "review_id                  99224  98410  7b606b0d57b078384f0b58eac1d41d78   \n",
       "order_id                   99224  98673  c88b1d1b157a9999ce368f218a407141   \n",
       "review_score             99224.0    NaN                               NaN   \n",
       "review_comment_title       99224   4528                             empty   \n",
       "review_comment_message     99224  36160                             empty   \n",
       "review_creation_date       99224    NaN                               NaN   \n",
       "review_answer_timestamp    99224    NaN                               NaN   \n",
       "\n",
       "                          freq                           mean  \\\n",
       "review_id                    3                            NaN   \n",
       "order_id                     3                            NaN   \n",
       "review_score               NaN                       4.086421   \n",
       "review_comment_title     87656                            NaN   \n",
       "review_comment_message   58247                            NaN   \n",
       "review_creation_date       NaN  2018-01-12 20:49:23.948238336   \n",
       "review_answer_timestamp    NaN  2018-01-16 00:23:56.977938688   \n",
       "\n",
       "                                         min                            25%  \\\n",
       "review_id                                NaN                            NaN   \n",
       "order_id                                 NaN                            NaN   \n",
       "review_score                             1.0                            4.0   \n",
       "review_comment_title                     NaN                            NaN   \n",
       "review_comment_message                   NaN                            NaN   \n",
       "review_creation_date     2016-10-02 00:00:00            2017-09-23 00:00:00   \n",
       "review_answer_timestamp  2016-10-07 18:32:28  2017-09-27 01:53:27.249999872   \n",
       "\n",
       "                                                50%  \\\n",
       "review_id                                       NaN   \n",
       "order_id                                        NaN   \n",
       "review_score                                    5.0   \n",
       "review_comment_title                            NaN   \n",
       "review_comment_message                          NaN   \n",
       "review_creation_date            2018-02-02 00:00:00   \n",
       "review_answer_timestamp  2018-02-04 22:41:47.500000   \n",
       "\n",
       "                                                75%                  max  \\\n",
       "review_id                                       NaN                  NaN   \n",
       "order_id                                        NaN                  NaN   \n",
       "review_score                                    5.0                  5.0   \n",
       "review_comment_title                            NaN                  NaN   \n",
       "review_comment_message                          NaN                  NaN   \n",
       "review_creation_date            2018-05-16 00:00:00  2018-08-31 00:00:00   \n",
       "review_answer_timestamp  2018-05-20 12:11:21.500000  2018-10-29 12:27:35   \n",
       "\n",
       "                              std  \n",
       "review_id                     NaN  \n",
       "order_id                      NaN  \n",
       "review_score             1.347579  \n",
       "review_comment_title          NaN  \n",
       "review_comment_message        NaN  \n",
       "review_creation_date          NaN  \n",
       "review_answer_timestamp       NaN  "
      ]
     },
     "execution_count": 94,
     "metadata": {},
     "output_type": "execute_result"
    }
   ],
   "source": [
    "order_reviews_df.describe(include=\"all\").T"
   ]
  },
  {
   "cell_type": "code",
   "execution_count": 146,
   "metadata": {},
   "outputs": [
    {
     "data": {
      "text/html": [
       "<div>\n",
       "<style scoped>\n",
       "    .dataframe tbody tr th:only-of-type {\n",
       "        vertical-align: middle;\n",
       "    }\n",
       "\n",
       "    .dataframe tbody tr th {\n",
       "        vertical-align: top;\n",
       "    }\n",
       "\n",
       "    .dataframe thead th {\n",
       "        text-align: right;\n",
       "    }\n",
       "</style>\n",
       "<table border=\"1\" class=\"dataframe\">\n",
       "  <thead>\n",
       "    <tr style=\"text-align: right;\">\n",
       "      <th></th>\n",
       "      <th>Review Score</th>\n",
       "      <th>Count</th>\n",
       "      <th>Percentage</th>\n",
       "    </tr>\n",
       "    <tr>\n",
       "      <th>review_score</th>\n",
       "      <th></th>\n",
       "      <th></th>\n",
       "      <th></th>\n",
       "    </tr>\n",
       "  </thead>\n",
       "  <tbody>\n",
       "    <tr>\n",
       "      <th>1</th>\n",
       "      <td>1</td>\n",
       "      <td>11424</td>\n",
       "      <td>11.51%</td>\n",
       "    </tr>\n",
       "    <tr>\n",
       "      <th>2</th>\n",
       "      <td>2</td>\n",
       "      <td>3151</td>\n",
       "      <td>3.18%</td>\n",
       "    </tr>\n",
       "    <tr>\n",
       "      <th>3</th>\n",
       "      <td>3</td>\n",
       "      <td>8179</td>\n",
       "      <td>8.24%</td>\n",
       "    </tr>\n",
       "    <tr>\n",
       "      <th>4</th>\n",
       "      <td>4</td>\n",
       "      <td>19142</td>\n",
       "      <td>19.29%</td>\n",
       "    </tr>\n",
       "    <tr>\n",
       "      <th>5</th>\n",
       "      <td>5</td>\n",
       "      <td>57328</td>\n",
       "      <td>57.78%</td>\n",
       "    </tr>\n",
       "  </tbody>\n",
       "</table>\n",
       "</div>"
      ],
      "text/plain": [
       "              Review Score  Count Percentage\n",
       "review_score                                \n",
       "1                        1  11424     11.51%\n",
       "2                        2   3151      3.18%\n",
       "3                        3   8179      8.24%\n",
       "4                        4  19142     19.29%\n",
       "5                        5  57328     57.78%"
      ]
     },
     "execution_count": 146,
     "metadata": {},
     "output_type": "execute_result"
    }
   ],
   "source": [
    "review_counts = order_reviews_df[\"review_score\"].value_counts().sort_index()\n",
    "total_reviews = review_counts.sum()\n",
    "\n",
    "pd.DataFrame(\n",
    "    {\n",
    "        \"Review Score\": review_counts.index,  # Kolom untuk skor review\n",
    "        \"Count\": review_counts.values,  # Kolom untuk jumlah review per skor\n",
    "        \"Percentage\": (review_counts / total_reviews * 100)\n",
    "        .round(2)\n",
    "        .map(\"{:.2f}%\".format),  # Kolom persentase\n",
    "    }\n",
    ")"
   ]
  },
  {
   "cell_type": "markdown",
   "metadata": {},
   "source": []
  },
  {
   "cell_type": "markdown",
   "metadata": {},
   "source": [
    "### Eksplorasi Data `orders_df` dan `order_reviews_df`"
   ]
  },
  {
   "cell_type": "code",
   "execution_count": 96,
   "metadata": {},
   "outputs": [],
   "source": [
    "order_orders_reviews_df = pd.merge(\n",
    "    # orders_df, order_reviews_df, on=\"order_id\", how=\"left\", suffixes=(\"\", \"_reviews\")\n",
    "    orders_df,\n",
    "    order_reviews_df,\n",
    "    on=\"order_id\",\n",
    "    how=\"inner\",\n",
    ")\n",
    "\n",
    "order_orders_reviews_df[\"review_score\"] = order_orders_reviews_df[\n",
    "    \"review_score\"\n",
    "].astype(\"Int64\")"
   ]
  },
  {
   "cell_type": "code",
   "execution_count": 97,
   "metadata": {},
   "outputs": [
    {
     "name": "stdout",
     "output_type": "stream",
     "text": [
      "<class 'pandas.core.frame.DataFrame'>\n",
      "RangeIndex: 99224 entries, 0 to 99223\n",
      "Data columns (total 15 columns):\n",
      " #   Column                         Non-Null Count  Dtype         \n",
      "---  ------                         --------------  -----         \n",
      " 0   order_id                       99224 non-null  object        \n",
      " 1   customer_id                    99224 non-null  object        \n",
      " 2   order_status                   99224 non-null  object        \n",
      " 3   order_purchase_timestamp       99224 non-null  datetime64[ns]\n",
      " 4   order_approved_at              99224 non-null  datetime64[ns]\n",
      " 5   order_delivered_carrier_date   97468 non-null  datetime64[ns]\n",
      " 6   order_delivered_customer_date  96359 non-null  datetime64[ns]\n",
      " 7   order_estimated_delivery_date  99224 non-null  datetime64[ns]\n",
      " 8   approval_time_diff             99224 non-null  float64       \n",
      " 9   review_id                      99224 non-null  object        \n",
      " 10  review_score                   99224 non-null  Int64         \n",
      " 11  review_comment_title           99224 non-null  object        \n",
      " 12  review_comment_message         99224 non-null  object        \n",
      " 13  review_creation_date           99224 non-null  datetime64[ns]\n",
      " 14  review_answer_timestamp        99224 non-null  datetime64[ns]\n",
      "dtypes: Int64(1), datetime64[ns](7), float64(1), object(6)\n",
      "memory usage: 11.5+ MB\n"
     ]
    }
   ],
   "source": [
    "order_orders_reviews_df.info()"
   ]
  },
  {
   "cell_type": "code",
   "execution_count": 98,
   "metadata": {},
   "outputs": [
    {
     "data": {
      "text/html": [
       "<div>\n",
       "<style scoped>\n",
       "    .dataframe tbody tr th:only-of-type {\n",
       "        vertical-align: middle;\n",
       "    }\n",
       "\n",
       "    .dataframe tbody tr th {\n",
       "        vertical-align: top;\n",
       "    }\n",
       "\n",
       "    .dataframe thead th {\n",
       "        text-align: right;\n",
       "    }\n",
       "</style>\n",
       "<table border=\"1\" class=\"dataframe\">\n",
       "  <thead>\n",
       "    <tr style=\"text-align: right;\">\n",
       "      <th></th>\n",
       "      <th>30082</th>\n",
       "      <th>11537</th>\n",
       "      <th>93788</th>\n",
       "      <th>83711</th>\n",
       "      <th>7848</th>\n",
       "    </tr>\n",
       "  </thead>\n",
       "  <tbody>\n",
       "    <tr>\n",
       "      <th>order_id</th>\n",
       "      <td>4c38dc6e460b5c6de2b1acf65e646cdd</td>\n",
       "      <td>a81ac812819d3c3e98ff62b3a8e4e75d</td>\n",
       "      <td>3953deef7b2a9104cefd114e1219bd9c</td>\n",
       "      <td>fbd5e05472d96478065c44184440fe42</td>\n",
       "      <td>1a21e73a0315ba67c5e45cbcd1abd95d</td>\n",
       "    </tr>\n",
       "    <tr>\n",
       "      <th>customer_id</th>\n",
       "      <td>31bc2ab4be7965c0d6c9c1852ad9875a</td>\n",
       "      <td>37e7c79dd2b11c3d0fdc8fd3b4981bf8</td>\n",
       "      <td>aec85558896424034ea880e902abbfbd</td>\n",
       "      <td>4e34fbf90d1ee5a1c45a85287186b7bc</td>\n",
       "      <td>b6debdaf65d20e037db74e2d1c66e22b</td>\n",
       "    </tr>\n",
       "    <tr>\n",
       "      <th>order_status</th>\n",
       "      <td>delivered</td>\n",
       "      <td>delivered</td>\n",
       "      <td>delivered</td>\n",
       "      <td>delivered</td>\n",
       "      <td>delivered</td>\n",
       "    </tr>\n",
       "    <tr>\n",
       "      <th>order_purchase_timestamp</th>\n",
       "      <td>2018-04-06 14:59:25</td>\n",
       "      <td>2017-11-23 06:34:25</td>\n",
       "      <td>2018-01-10 22:19:44</td>\n",
       "      <td>2018-05-08 17:09:47</td>\n",
       "      <td>2018-03-29 14:24:24</td>\n",
       "    </tr>\n",
       "    <tr>\n",
       "      <th>order_approved_at</th>\n",
       "      <td>2018-04-07 02:47:56</td>\n",
       "      <td>2017-11-23 06:47:27</td>\n",
       "      <td>2018-01-10 22:31:31</td>\n",
       "      <td>2018-05-08 17:35:05</td>\n",
       "      <td>2018-03-29 14:35:14</td>\n",
       "    </tr>\n",
       "    <tr>\n",
       "      <th>order_delivered_carrier_date</th>\n",
       "      <td>2018-04-11 10:52:27</td>\n",
       "      <td>2017-12-27 09:31:46</td>\n",
       "      <td>2018-01-11 19:24:40</td>\n",
       "      <td>2018-05-09 11:18:00</td>\n",
       "      <td>2018-04-03 00:38:38</td>\n",
       "    </tr>\n",
       "    <tr>\n",
       "      <th>order_delivered_customer_date</th>\n",
       "      <td>2018-04-14 11:39:25</td>\n",
       "      <td>2017-12-27 16:18:37</td>\n",
       "      <td>2018-02-04 20:25:26</td>\n",
       "      <td>2018-05-16 12:36:55</td>\n",
       "      <td>2018-04-14 12:58:32</td>\n",
       "    </tr>\n",
       "    <tr>\n",
       "      <th>order_estimated_delivery_date</th>\n",
       "      <td>2018-04-25 00:00:00</td>\n",
       "      <td>2017-12-05 00:00:00</td>\n",
       "      <td>2018-02-09 00:00:00</td>\n",
       "      <td>2018-05-29 00:00:00</td>\n",
       "      <td>2018-04-24 00:00:00</td>\n",
       "    </tr>\n",
       "    <tr>\n",
       "      <th>approval_time_diff</th>\n",
       "      <td>11.81</td>\n",
       "      <td>0.22</td>\n",
       "      <td>0.2</td>\n",
       "      <td>0.42</td>\n",
       "      <td>0.18</td>\n",
       "    </tr>\n",
       "    <tr>\n",
       "      <th>review_id</th>\n",
       "      <td>cca9feb17a809d65885d0884617f132d</td>\n",
       "      <td>ff79814df61a4031ac97b19c201d7817</td>\n",
       "      <td>2f99bbef9cb6dd181b7dd7fe0cbb6c0a</td>\n",
       "      <td>c1299d2b35c5c03c02378f034d1d0d89</td>\n",
       "      <td>738767060de23c3716e4400599adbf92</td>\n",
       "    </tr>\n",
       "    <tr>\n",
       "      <th>review_score</th>\n",
       "      <td>1</td>\n",
       "      <td>1</td>\n",
       "      <td>5</td>\n",
       "      <td>4</td>\n",
       "      <td>4</td>\n",
       "    </tr>\n",
       "    <tr>\n",
       "      <th>review_comment_title</th>\n",
       "      <td>empty</td>\n",
       "      <td>empty</td>\n",
       "      <td>empty</td>\n",
       "      <td>empty</td>\n",
       "      <td>empty</td>\n",
       "    </tr>\n",
       "    <tr>\n",
       "      <th>review_comment_message</th>\n",
       "      <td>O produto eh falsificado. Não eh o anunciado. ...</td>\n",
       "      <td>empty</td>\n",
       "      <td>empty</td>\n",
       "      <td>empty</td>\n",
       "      <td>empty</td>\n",
       "    </tr>\n",
       "    <tr>\n",
       "      <th>review_creation_date</th>\n",
       "      <td>2018-04-15 00:00:00</td>\n",
       "      <td>2017-12-07 00:00:00</td>\n",
       "      <td>2018-02-05 00:00:00</td>\n",
       "      <td>2018-05-17 00:00:00</td>\n",
       "      <td>2018-04-15 00:00:00</td>\n",
       "    </tr>\n",
       "    <tr>\n",
       "      <th>review_answer_timestamp</th>\n",
       "      <td>2018-04-17 21:51:39</td>\n",
       "      <td>2017-12-13 18:14:25</td>\n",
       "      <td>2018-02-08 01:51:56</td>\n",
       "      <td>2018-05-23 22:41:41</td>\n",
       "      <td>2018-04-16 20:02:04</td>\n",
       "    </tr>\n",
       "  </tbody>\n",
       "</table>\n",
       "</div>"
      ],
      "text/plain": [
       "                                                                           30082  \\\n",
       "order_id                                        4c38dc6e460b5c6de2b1acf65e646cdd   \n",
       "customer_id                                     31bc2ab4be7965c0d6c9c1852ad9875a   \n",
       "order_status                                                           delivered   \n",
       "order_purchase_timestamp                                     2018-04-06 14:59:25   \n",
       "order_approved_at                                            2018-04-07 02:47:56   \n",
       "order_delivered_carrier_date                                 2018-04-11 10:52:27   \n",
       "order_delivered_customer_date                                2018-04-14 11:39:25   \n",
       "order_estimated_delivery_date                                2018-04-25 00:00:00   \n",
       "approval_time_diff                                                         11.81   \n",
       "review_id                                       cca9feb17a809d65885d0884617f132d   \n",
       "review_score                                                                   1   \n",
       "review_comment_title                                                       empty   \n",
       "review_comment_message         O produto eh falsificado. Não eh o anunciado. ...   \n",
       "review_creation_date                                         2018-04-15 00:00:00   \n",
       "review_answer_timestamp                                      2018-04-17 21:51:39   \n",
       "\n",
       "                                                          11537  \\\n",
       "order_id                       a81ac812819d3c3e98ff62b3a8e4e75d   \n",
       "customer_id                    37e7c79dd2b11c3d0fdc8fd3b4981bf8   \n",
       "order_status                                          delivered   \n",
       "order_purchase_timestamp                    2017-11-23 06:34:25   \n",
       "order_approved_at                           2017-11-23 06:47:27   \n",
       "order_delivered_carrier_date                2017-12-27 09:31:46   \n",
       "order_delivered_customer_date               2017-12-27 16:18:37   \n",
       "order_estimated_delivery_date               2017-12-05 00:00:00   \n",
       "approval_time_diff                                         0.22   \n",
       "review_id                      ff79814df61a4031ac97b19c201d7817   \n",
       "review_score                                                  1   \n",
       "review_comment_title                                      empty   \n",
       "review_comment_message                                    empty   \n",
       "review_creation_date                        2017-12-07 00:00:00   \n",
       "review_answer_timestamp                     2017-12-13 18:14:25   \n",
       "\n",
       "                                                          93788  \\\n",
       "order_id                       3953deef7b2a9104cefd114e1219bd9c   \n",
       "customer_id                    aec85558896424034ea880e902abbfbd   \n",
       "order_status                                          delivered   \n",
       "order_purchase_timestamp                    2018-01-10 22:19:44   \n",
       "order_approved_at                           2018-01-10 22:31:31   \n",
       "order_delivered_carrier_date                2018-01-11 19:24:40   \n",
       "order_delivered_customer_date               2018-02-04 20:25:26   \n",
       "order_estimated_delivery_date               2018-02-09 00:00:00   \n",
       "approval_time_diff                                          0.2   \n",
       "review_id                      2f99bbef9cb6dd181b7dd7fe0cbb6c0a   \n",
       "review_score                                                  5   \n",
       "review_comment_title                                      empty   \n",
       "review_comment_message                                    empty   \n",
       "review_creation_date                        2018-02-05 00:00:00   \n",
       "review_answer_timestamp                     2018-02-08 01:51:56   \n",
       "\n",
       "                                                          83711  \\\n",
       "order_id                       fbd5e05472d96478065c44184440fe42   \n",
       "customer_id                    4e34fbf90d1ee5a1c45a85287186b7bc   \n",
       "order_status                                          delivered   \n",
       "order_purchase_timestamp                    2018-05-08 17:09:47   \n",
       "order_approved_at                           2018-05-08 17:35:05   \n",
       "order_delivered_carrier_date                2018-05-09 11:18:00   \n",
       "order_delivered_customer_date               2018-05-16 12:36:55   \n",
       "order_estimated_delivery_date               2018-05-29 00:00:00   \n",
       "approval_time_diff                                         0.42   \n",
       "review_id                      c1299d2b35c5c03c02378f034d1d0d89   \n",
       "review_score                                                  4   \n",
       "review_comment_title                                      empty   \n",
       "review_comment_message                                    empty   \n",
       "review_creation_date                        2018-05-17 00:00:00   \n",
       "review_answer_timestamp                     2018-05-23 22:41:41   \n",
       "\n",
       "                                                          7848   \n",
       "order_id                       1a21e73a0315ba67c5e45cbcd1abd95d  \n",
       "customer_id                    b6debdaf65d20e037db74e2d1c66e22b  \n",
       "order_status                                          delivered  \n",
       "order_purchase_timestamp                    2018-03-29 14:24:24  \n",
       "order_approved_at                           2018-03-29 14:35:14  \n",
       "order_delivered_carrier_date                2018-04-03 00:38:38  \n",
       "order_delivered_customer_date               2018-04-14 12:58:32  \n",
       "order_estimated_delivery_date               2018-04-24 00:00:00  \n",
       "approval_time_diff                                         0.18  \n",
       "review_id                      738767060de23c3716e4400599adbf92  \n",
       "review_score                                                  4  \n",
       "review_comment_title                                      empty  \n",
       "review_comment_message                                    empty  \n",
       "review_creation_date                        2018-04-15 00:00:00  \n",
       "review_answer_timestamp                     2018-04-16 20:02:04  "
      ]
     },
     "execution_count": 98,
     "metadata": {},
     "output_type": "execute_result"
    }
   ],
   "source": [
    "order_orders_reviews_df.sample(5).T"
   ]
  },
  {
   "cell_type": "code",
   "execution_count": 99,
   "metadata": {},
   "outputs": [
    {
     "data": {
      "text/html": [
       "<div>\n",
       "<style scoped>\n",
       "    .dataframe tbody tr th:only-of-type {\n",
       "        vertical-align: middle;\n",
       "    }\n",
       "\n",
       "    .dataframe tbody tr th {\n",
       "        vertical-align: top;\n",
       "    }\n",
       "\n",
       "    .dataframe thead th {\n",
       "        text-align: right;\n",
       "    }\n",
       "</style>\n",
       "<table border=\"1\" class=\"dataframe\">\n",
       "  <thead>\n",
       "    <tr style=\"text-align: right;\">\n",
       "      <th></th>\n",
       "      <th>392</th>\n",
       "      <th>608</th>\n",
       "      <th>609</th>\n",
       "      <th>1053</th>\n",
       "      <th>1125</th>\n",
       "    </tr>\n",
       "  </thead>\n",
       "  <tbody>\n",
       "    <tr>\n",
       "      <th>order_id</th>\n",
       "      <td>1b9ecfe83cdc259250e1a8aca174f0ad</td>\n",
       "      <td>714fb133a6730ab81fa1d3c1b2007291</td>\n",
       "      <td>714fb133a6730ab81fa1d3c1b2007291</td>\n",
       "      <td>3a129877493c8189c59c60eb71d97c29</td>\n",
       "      <td>00b1cb0320190ca0daa2c88b35206009</td>\n",
       "    </tr>\n",
       "    <tr>\n",
       "      <th>customer_id</th>\n",
       "      <td>6d6b50b66d79f80827b6d96751528d30</td>\n",
       "      <td>e3fe72696c4713d64d3c10afe71e75ed</td>\n",
       "      <td>e3fe72696c4713d64d3c10afe71e75ed</td>\n",
       "      <td>0913cdce793684e52bbfac69d87e91fd</td>\n",
       "      <td>3532ba38a3fd242259a514ac2b6ae6b6</td>\n",
       "    </tr>\n",
       "    <tr>\n",
       "      <th>order_status</th>\n",
       "      <td>canceled</td>\n",
       "      <td>canceled</td>\n",
       "      <td>canceled</td>\n",
       "      <td>canceled</td>\n",
       "      <td>canceled</td>\n",
       "    </tr>\n",
       "    <tr>\n",
       "      <th>order_purchase_timestamp</th>\n",
       "      <td>2018-08-04 14:29:27</td>\n",
       "      <td>2018-01-26 21:34:08</td>\n",
       "      <td>2018-01-26 21:34:08</td>\n",
       "      <td>2018-01-25 13:34:24</td>\n",
       "      <td>2018-08-28 15:26:39</td>\n",
       "    </tr>\n",
       "    <tr>\n",
       "      <th>order_approved_at</th>\n",
       "      <td>2018-08-07 04:10:26</td>\n",
       "      <td>2018-01-26 21:58:39</td>\n",
       "      <td>2018-01-26 21:58:39</td>\n",
       "      <td>2018-01-25 13:50:20</td>\n",
       "      <td>2018-08-29 01:51:48</td>\n",
       "    </tr>\n",
       "    <tr>\n",
       "      <th>order_delivered_carrier_date</th>\n",
       "      <td>NaT</td>\n",
       "      <td>2018-01-29 22:33:25</td>\n",
       "      <td>2018-01-29 22:33:25</td>\n",
       "      <td>2018-01-26 21:42:18</td>\n",
       "      <td>NaT</td>\n",
       "    </tr>\n",
       "    <tr>\n",
       "      <th>order_delivered_customer_date</th>\n",
       "      <td>NaT</td>\n",
       "      <td>NaT</td>\n",
       "      <td>NaT</td>\n",
       "      <td>NaT</td>\n",
       "      <td>NaT</td>\n",
       "    </tr>\n",
       "    <tr>\n",
       "      <th>order_estimated_delivery_date</th>\n",
       "      <td>2018-08-14 00:00:00</td>\n",
       "      <td>2018-02-22 00:00:00</td>\n",
       "      <td>2018-02-22 00:00:00</td>\n",
       "      <td>2018-02-23 00:00:00</td>\n",
       "      <td>2018-09-12 00:00:00</td>\n",
       "    </tr>\n",
       "    <tr>\n",
       "      <th>approval_time_diff</th>\n",
       "      <td>61.68</td>\n",
       "      <td>0.41</td>\n",
       "      <td>0.41</td>\n",
       "      <td>0.27</td>\n",
       "      <td>10.42</td>\n",
       "    </tr>\n",
       "    <tr>\n",
       "      <th>review_id</th>\n",
       "      <td>14d540de5632307e389e9416086fc978</td>\n",
       "      <td>f242ce44c6572a94907a446b8fda32c8</td>\n",
       "      <td>105facb42b5b9147996f0b1b6fbf7b80</td>\n",
       "      <td>15c8f3b3ff412d0f8d6b72053335fd0b</td>\n",
       "      <td>9c0d840dfe562debfa52a1792bd64bff</td>\n",
       "    </tr>\n",
       "    <tr>\n",
       "      <th>review_score</th>\n",
       "      <td>1</td>\n",
       "      <td>1</td>\n",
       "      <td>1</td>\n",
       "      <td>1</td>\n",
       "      <td>1</td>\n",
       "    </tr>\n",
       "    <tr>\n",
       "      <th>review_comment_title</th>\n",
       "      <td>empty</td>\n",
       "      <td>empty</td>\n",
       "      <td>empty</td>\n",
       "      <td>empty</td>\n",
       "      <td>Entregaram produto errado</td>\n",
       "    </tr>\n",
       "    <tr>\n",
       "      <th>review_comment_message</th>\n",
       "      <td>empty</td>\n",
       "      <td>Olá!\\r\\nMinha queixa é a não entrega na residê...</td>\n",
       "      <td>Holá!\\r\\nNão recebi o produto é nem um telefon...</td>\n",
       "      <td>Não recebi o produto e também não tive reembolso</td>\n",
       "      <td>Comprei dois fones de ouvido com valor de R$ 5...</td>\n",
       "    </tr>\n",
       "    <tr>\n",
       "      <th>review_creation_date</th>\n",
       "      <td>2018-08-17 00:00:00</td>\n",
       "      <td>2018-03-02 00:00:00</td>\n",
       "      <td>2018-02-24 00:00:00</td>\n",
       "      <td>2018-02-25 00:00:00</td>\n",
       "      <td>2018-08-28 00:00:00</td>\n",
       "    </tr>\n",
       "    <tr>\n",
       "      <th>review_answer_timestamp</th>\n",
       "      <td>2018-08-19 13:51:01</td>\n",
       "      <td>2018-03-05 01:28:24</td>\n",
       "      <td>2018-02-27 00:13:54</td>\n",
       "      <td>2018-02-25 11:02:38</td>\n",
       "      <td>2018-08-28 18:25:55</td>\n",
       "    </tr>\n",
       "  </tbody>\n",
       "</table>\n",
       "</div>"
      ],
      "text/plain": [
       "                                                           392   \\\n",
       "order_id                       1b9ecfe83cdc259250e1a8aca174f0ad   \n",
       "customer_id                    6d6b50b66d79f80827b6d96751528d30   \n",
       "order_status                                           canceled   \n",
       "order_purchase_timestamp                    2018-08-04 14:29:27   \n",
       "order_approved_at                           2018-08-07 04:10:26   \n",
       "order_delivered_carrier_date                                NaT   \n",
       "order_delivered_customer_date                               NaT   \n",
       "order_estimated_delivery_date               2018-08-14 00:00:00   \n",
       "approval_time_diff                                        61.68   \n",
       "review_id                      14d540de5632307e389e9416086fc978   \n",
       "review_score                                                  1   \n",
       "review_comment_title                                      empty   \n",
       "review_comment_message                                    empty   \n",
       "review_creation_date                        2018-08-17 00:00:00   \n",
       "review_answer_timestamp                     2018-08-19 13:51:01   \n",
       "\n",
       "                                                                            608   \\\n",
       "order_id                                        714fb133a6730ab81fa1d3c1b2007291   \n",
       "customer_id                                     e3fe72696c4713d64d3c10afe71e75ed   \n",
       "order_status                                                            canceled   \n",
       "order_purchase_timestamp                                     2018-01-26 21:34:08   \n",
       "order_approved_at                                            2018-01-26 21:58:39   \n",
       "order_delivered_carrier_date                                 2018-01-29 22:33:25   \n",
       "order_delivered_customer_date                                                NaT   \n",
       "order_estimated_delivery_date                                2018-02-22 00:00:00   \n",
       "approval_time_diff                                                          0.41   \n",
       "review_id                                       f242ce44c6572a94907a446b8fda32c8   \n",
       "review_score                                                                   1   \n",
       "review_comment_title                                                       empty   \n",
       "review_comment_message         Olá!\\r\\nMinha queixa é a não entrega na residê...   \n",
       "review_creation_date                                         2018-03-02 00:00:00   \n",
       "review_answer_timestamp                                      2018-03-05 01:28:24   \n",
       "\n",
       "                                                                            609   \\\n",
       "order_id                                        714fb133a6730ab81fa1d3c1b2007291   \n",
       "customer_id                                     e3fe72696c4713d64d3c10afe71e75ed   \n",
       "order_status                                                            canceled   \n",
       "order_purchase_timestamp                                     2018-01-26 21:34:08   \n",
       "order_approved_at                                            2018-01-26 21:58:39   \n",
       "order_delivered_carrier_date                                 2018-01-29 22:33:25   \n",
       "order_delivered_customer_date                                                NaT   \n",
       "order_estimated_delivery_date                                2018-02-22 00:00:00   \n",
       "approval_time_diff                                                          0.41   \n",
       "review_id                                       105facb42b5b9147996f0b1b6fbf7b80   \n",
       "review_score                                                                   1   \n",
       "review_comment_title                                                       empty   \n",
       "review_comment_message         Holá!\\r\\nNão recebi o produto é nem um telefon...   \n",
       "review_creation_date                                         2018-02-24 00:00:00   \n",
       "review_answer_timestamp                                      2018-02-27 00:13:54   \n",
       "\n",
       "                                                                           1053  \\\n",
       "order_id                                       3a129877493c8189c59c60eb71d97c29   \n",
       "customer_id                                    0913cdce793684e52bbfac69d87e91fd   \n",
       "order_status                                                           canceled   \n",
       "order_purchase_timestamp                                    2018-01-25 13:34:24   \n",
       "order_approved_at                                           2018-01-25 13:50:20   \n",
       "order_delivered_carrier_date                                2018-01-26 21:42:18   \n",
       "order_delivered_customer_date                                               NaT   \n",
       "order_estimated_delivery_date                               2018-02-23 00:00:00   \n",
       "approval_time_diff                                                         0.27   \n",
       "review_id                                      15c8f3b3ff412d0f8d6b72053335fd0b   \n",
       "review_score                                                                  1   \n",
       "review_comment_title                                                      empty   \n",
       "review_comment_message         Não recebi o produto e também não tive reembolso   \n",
       "review_creation_date                                        2018-02-25 00:00:00   \n",
       "review_answer_timestamp                                     2018-02-25 11:02:38   \n",
       "\n",
       "                                                                            1125  \n",
       "order_id                                        00b1cb0320190ca0daa2c88b35206009  \n",
       "customer_id                                     3532ba38a3fd242259a514ac2b6ae6b6  \n",
       "order_status                                                            canceled  \n",
       "order_purchase_timestamp                                     2018-08-28 15:26:39  \n",
       "order_approved_at                                            2018-08-29 01:51:48  \n",
       "order_delivered_carrier_date                                                 NaT  \n",
       "order_delivered_customer_date                                                NaT  \n",
       "order_estimated_delivery_date                                2018-09-12 00:00:00  \n",
       "approval_time_diff                                                         10.42  \n",
       "review_id                                       9c0d840dfe562debfa52a1792bd64bff  \n",
       "review_score                                                                   1  \n",
       "review_comment_title                                   Entregaram produto errado  \n",
       "review_comment_message         Comprei dois fones de ouvido com valor de R$ 5...  \n",
       "review_creation_date                                         2018-08-28 00:00:00  \n",
       "review_answer_timestamp                                      2018-08-28 18:25:55  "
      ]
     },
     "execution_count": 99,
     "metadata": {},
     "output_type": "execute_result"
    }
   ],
   "source": [
    "# Creates a dataframe that contains the canceled status\n",
    "canceled_status_df = order_orders_reviews_df[\n",
    "    (order_orders_reviews_df[\"order_status\"] == \"canceled\")\n",
    "]\n",
    "canceled_status_df.head().T"
   ]
  },
  {
   "cell_type": "code",
   "execution_count": 100,
   "metadata": {},
   "outputs": [
    {
     "data": {
      "text/html": [
       "<div>\n",
       "<style scoped>\n",
       "    .dataframe tbody tr th:only-of-type {\n",
       "        vertical-align: middle;\n",
       "    }\n",
       "\n",
       "    .dataframe tbody tr th {\n",
       "        vertical-align: top;\n",
       "    }\n",
       "\n",
       "    .dataframe thead th {\n",
       "        text-align: right;\n",
       "    }\n",
       "</style>\n",
       "<table border=\"1\" class=\"dataframe\">\n",
       "  <thead>\n",
       "    <tr style=\"text-align: right;\">\n",
       "      <th></th>\n",
       "      <th>93472</th>\n",
       "      <th>70044</th>\n",
       "      <th>40316</th>\n",
       "      <th>20877</th>\n",
       "      <th>52027</th>\n",
       "    </tr>\n",
       "  </thead>\n",
       "  <tbody>\n",
       "    <tr>\n",
       "      <th>order_id</th>\n",
       "      <td>5aa551497a6e4522899b4a89a3eeff5f</td>\n",
       "      <td>c80cc9af6bd1c32747e2f79bc4ad031e</td>\n",
       "      <td>9bcddf79e9ba13cbf6c32e0916bd42d7</td>\n",
       "      <td>98e38b5d59b358aaf4d5a08ca9814883</td>\n",
       "      <td>4ed4fa202c468c14366fbf603c8698fd</td>\n",
       "    </tr>\n",
       "    <tr>\n",
       "      <th>order_status</th>\n",
       "      <td>canceled</td>\n",
       "      <td>canceled</td>\n",
       "      <td>canceled</td>\n",
       "      <td>canceled</td>\n",
       "      <td>canceled</td>\n",
       "    </tr>\n",
       "    <tr>\n",
       "      <th>customer_id</th>\n",
       "      <td>42150c5dc225debc71b6e811e9acc909</td>\n",
       "      <td>f9587fa6065768be96b7267f865a407c</td>\n",
       "      <td>22bc8c03ed4c0ed9269d8afd5c33733f</td>\n",
       "      <td>6060d9a57cf9e44fa54a5034481e458d</td>\n",
       "      <td>8e9100df87f0102df82026f2400af7ed</td>\n",
       "    </tr>\n",
       "    <tr>\n",
       "      <th>review_id</th>\n",
       "      <td>e77b4a8af8701f190902592c204edf62</td>\n",
       "      <td>48fcd835a9f588c5ed2175b71528185b</td>\n",
       "      <td>99241e07e2f135e5aadbf34f46398b27</td>\n",
       "      <td>2888bde044ad292a3351b4cee17bab0c</td>\n",
       "      <td>208c562073a7fba0e6d10e8296cf3b1d</td>\n",
       "    </tr>\n",
       "    <tr>\n",
       "      <th>review_score</th>\n",
       "      <td>1</td>\n",
       "      <td>1</td>\n",
       "      <td>1</td>\n",
       "      <td>3</td>\n",
       "      <td>1</td>\n",
       "    </tr>\n",
       "    <tr>\n",
       "      <th>review_comment_message</th>\n",
       "      <td>LIVRO FICA 2X MAIS DO VALOR VENDIDO PELO AUTOR...</td>\n",
       "      <td>A compra foi cancelada sem eu ter solicitado!</td>\n",
       "      <td>Trata-se presente p/criança. Questionei por e-...</td>\n",
       "      <td>Ainda não recebi o produto</td>\n",
       "      <td>A EMPRESA NÃO ENTREGOU MEU PRODUTO. ESPEROU PA...</td>\n",
       "    </tr>\n",
       "  </tbody>\n",
       "</table>\n",
       "</div>"
      ],
      "text/plain": [
       "                                                                    93472  \\\n",
       "order_id                                 5aa551497a6e4522899b4a89a3eeff5f   \n",
       "order_status                                                     canceled   \n",
       "customer_id                              42150c5dc225debc71b6e811e9acc909   \n",
       "review_id                                e77b4a8af8701f190902592c204edf62   \n",
       "review_score                                                            1   \n",
       "review_comment_message  LIVRO FICA 2X MAIS DO VALOR VENDIDO PELO AUTOR...   \n",
       "\n",
       "                                                                70044  \\\n",
       "order_id                             c80cc9af6bd1c32747e2f79bc4ad031e   \n",
       "order_status                                                 canceled   \n",
       "customer_id                          f9587fa6065768be96b7267f865a407c   \n",
       "review_id                            48fcd835a9f588c5ed2175b71528185b   \n",
       "review_score                                                        1   \n",
       "review_comment_message  A compra foi cancelada sem eu ter solicitado!   \n",
       "\n",
       "                                                                    40316  \\\n",
       "order_id                                 9bcddf79e9ba13cbf6c32e0916bd42d7   \n",
       "order_status                                                     canceled   \n",
       "customer_id                              22bc8c03ed4c0ed9269d8afd5c33733f   \n",
       "review_id                                99241e07e2f135e5aadbf34f46398b27   \n",
       "review_score                                                            1   \n",
       "review_comment_message  Trata-se presente p/criança. Questionei por e-...   \n",
       "\n",
       "                                                   20877  \\\n",
       "order_id                98e38b5d59b358aaf4d5a08ca9814883   \n",
       "order_status                                    canceled   \n",
       "customer_id             6060d9a57cf9e44fa54a5034481e458d   \n",
       "review_id               2888bde044ad292a3351b4cee17bab0c   \n",
       "review_score                                           3   \n",
       "review_comment_message       Ainda não recebi o produto    \n",
       "\n",
       "                                                                    52027  \n",
       "order_id                                 4ed4fa202c468c14366fbf603c8698fd  \n",
       "order_status                                                     canceled  \n",
       "customer_id                              8e9100df87f0102df82026f2400af7ed  \n",
       "review_id                                208c562073a7fba0e6d10e8296cf3b1d  \n",
       "review_score                                                            1  \n",
       "review_comment_message  A EMPRESA NÃO ENTREGOU MEU PRODUTO. ESPEROU PA...  "
      ]
     },
     "execution_count": 100,
     "metadata": {},
     "output_type": "execute_result"
    }
   ],
   "source": [
    "# Creates a dataframe that only contains the canceled status and review message\n",
    "canceled_reviews_df = order_orders_reviews_df[\n",
    "    (order_orders_reviews_df[\"order_status\"] == \"canceled\")\n",
    "    & (order_orders_reviews_df[\"review_comment_message\"] != \"empty\")\n",
    "]\n",
    "\n",
    "colls_df = canceled_reviews_df[\n",
    "    [\n",
    "        \"order_id\",\n",
    "        \"order_status\",\n",
    "        \"customer_id\",\n",
    "        \"review_id\",\n",
    "        \"review_score\",\n",
    "        \"review_comment_message\",\n",
    "    ]\n",
    "].sample(5)\n",
    "\n",
    "colls_df.T"
   ]
  },
  {
   "cell_type": "code",
   "execution_count": 101,
   "metadata": {},
   "outputs": [
    {
     "data": {
      "text/html": [
       "<div>\n",
       "<style scoped>\n",
       "    .dataframe tbody tr th:only-of-type {\n",
       "        vertical-align: middle;\n",
       "    }\n",
       "\n",
       "    .dataframe tbody tr th {\n",
       "        vertical-align: top;\n",
       "    }\n",
       "\n",
       "    .dataframe thead th {\n",
       "        text-align: right;\n",
       "    }\n",
       "</style>\n",
       "<table border=\"1\" class=\"dataframe\">\n",
       "  <thead>\n",
       "    <tr style=\"text-align: right;\">\n",
       "      <th></th>\n",
       "      <th>608</th>\n",
       "      <th>609</th>\n",
       "      <th>1053</th>\n",
       "      <th>1125</th>\n",
       "      <th>1799</th>\n",
       "    </tr>\n",
       "  </thead>\n",
       "  <tbody>\n",
       "    <tr>\n",
       "      <th>order_id</th>\n",
       "      <td>714fb133a6730ab81fa1d3c1b2007291</td>\n",
       "      <td>714fb133a6730ab81fa1d3c1b2007291</td>\n",
       "      <td>3a129877493c8189c59c60eb71d97c29</td>\n",
       "      <td>00b1cb0320190ca0daa2c88b35206009</td>\n",
       "      <td>ed3efbd3a87bea76c2812c66a0b32219</td>\n",
       "    </tr>\n",
       "    <tr>\n",
       "      <th>order_status</th>\n",
       "      <td>canceled</td>\n",
       "      <td>canceled</td>\n",
       "      <td>canceled</td>\n",
       "      <td>canceled</td>\n",
       "      <td>canceled</td>\n",
       "    </tr>\n",
       "    <tr>\n",
       "      <th>customer_id</th>\n",
       "      <td>e3fe72696c4713d64d3c10afe71e75ed</td>\n",
       "      <td>e3fe72696c4713d64d3c10afe71e75ed</td>\n",
       "      <td>0913cdce793684e52bbfac69d87e91fd</td>\n",
       "      <td>3532ba38a3fd242259a514ac2b6ae6b6</td>\n",
       "      <td>191984a8ba4cbb2145acb4fe35b69664</td>\n",
       "    </tr>\n",
       "    <tr>\n",
       "      <th>review_id</th>\n",
       "      <td>f242ce44c6572a94907a446b8fda32c8</td>\n",
       "      <td>105facb42b5b9147996f0b1b6fbf7b80</td>\n",
       "      <td>15c8f3b3ff412d0f8d6b72053335fd0b</td>\n",
       "      <td>9c0d840dfe562debfa52a1792bd64bff</td>\n",
       "      <td>6e4344680dbd30c75f78394e0dcfffdf</td>\n",
       "    </tr>\n",
       "    <tr>\n",
       "      <th>review_score</th>\n",
       "      <td>1</td>\n",
       "      <td>1</td>\n",
       "      <td>1</td>\n",
       "      <td>1</td>\n",
       "      <td>2</td>\n",
       "    </tr>\n",
       "    <tr>\n",
       "      <th>review_comment_message</th>\n",
       "      <td>Hello!\\nMy complaint is that the product was not delivered to my home. I had to pick it up at the post office. I have a product that was returned, and I still don't know what to do. Maybe a phone call would help.</td>\n",
       "      <td>Hello!\\nI have not received the product or even a phone call regarding what I purchased.</td>\n",
       "      <td>I didn't receive the product and I didn't get a refund either.</td>\n",
       "      <td>I bought two headphones worth R$50.32 and they delivered the iPhone cable worth R$10.</td>\n",
       "      <td>The product arrived defective, it does not turn on or work, I want to exchange it</td>\n",
       "    </tr>\n",
       "  </tbody>\n",
       "</table>\n",
       "</div>"
      ],
      "text/plain": [
       "                                                                                                                                                                                                                                        608   \\\n",
       "order_id                                                                                                                                                                                                    714fb133a6730ab81fa1d3c1b2007291   \n",
       "order_status                                                                                                                                                                                                                        canceled   \n",
       "customer_id                                                                                                                                                                                                 e3fe72696c4713d64d3c10afe71e75ed   \n",
       "review_id                                                                                                                                                                                                   f242ce44c6572a94907a446b8fda32c8   \n",
       "review_score                                                                                                                                                                                                                               1   \n",
       "review_comment_message  Hello!\\nMy complaint is that the product was not delivered to my home. I had to pick it up at the post office. I have a product that was returned, and I still don't know what to do. Maybe a phone call would help.   \n",
       "\n",
       "                                                                                                            609   \\\n",
       "order_id                                                                        714fb133a6730ab81fa1d3c1b2007291   \n",
       "order_status                                                                                            canceled   \n",
       "customer_id                                                                     e3fe72696c4713d64d3c10afe71e75ed   \n",
       "review_id                                                                       105facb42b5b9147996f0b1b6fbf7b80   \n",
       "review_score                                                                                                   1   \n",
       "review_comment_message  Hello!\\nI have not received the product or even a phone call regarding what I purchased.   \n",
       "\n",
       "                                                                                  1053  \\\n",
       "order_id                                              3a129877493c8189c59c60eb71d97c29   \n",
       "order_status                                                                  canceled   \n",
       "customer_id                                           0913cdce793684e52bbfac69d87e91fd   \n",
       "review_id                                             15c8f3b3ff412d0f8d6b72053335fd0b   \n",
       "review_score                                                                         1   \n",
       "review_comment_message  I didn't receive the product and I didn't get a refund either.   \n",
       "\n",
       "                                                                                                         1125  \\\n",
       "order_id                                                                     00b1cb0320190ca0daa2c88b35206009   \n",
       "order_status                                                                                         canceled   \n",
       "customer_id                                                                  3532ba38a3fd242259a514ac2b6ae6b6   \n",
       "review_id                                                                    9c0d840dfe562debfa52a1792bd64bff   \n",
       "review_score                                                                                                1   \n",
       "review_comment_message  I bought two headphones worth R$50.32 and they delivered the iPhone cable worth R$10.   \n",
       "\n",
       "                                                                                                     1799  \n",
       "order_id                                                                 ed3efbd3a87bea76c2812c66a0b32219  \n",
       "order_status                                                                                     canceled  \n",
       "customer_id                                                              191984a8ba4cbb2145acb4fe35b69664  \n",
       "review_id                                                                6e4344680dbd30c75f78394e0dcfffdf  \n",
       "review_score                                                                                            2  \n",
       "review_comment_message  The product arrived defective, it does not turn on or work, I want to exchange it  "
      ]
     },
     "execution_count": 101,
     "metadata": {},
     "output_type": "execute_result"
    }
   ],
   "source": [
    "canceled_reviews_translated_df = canceled_reviews_df.copy()\n",
    "\n",
    "# Translate the entire review column to English\n",
    "canceled_reviews_translated_df[\n",
    "    \"review_comment_message\"\n",
    "] = canceled_reviews_translated_df[\"review_comment_message\"].apply(\n",
    "    lambda x: (\n",
    "        GoogleTranslator(source=\"pt\", target=\"en\").translate(x) if pd.notna(x) else \"\"\n",
    "    )\n",
    ")\n",
    "\n",
    "translated_df = canceled_reviews_translated_df[\n",
    "    [\n",
    "        \"order_id\",\n",
    "        \"order_status\",\n",
    "        \"customer_id\",\n",
    "        \"review_id\",\n",
    "        \"review_score\",\n",
    "        \"review_comment_message\",\n",
    "    ]\n",
    "]\n",
    "\n",
    "pd.set_option(\"display.max_colwidth\", None)\n",
    "\n",
    "translated_df.head().T"
   ]
  },
  {
   "cell_type": "code",
   "execution_count": 150,
   "metadata": {},
   "outputs": [
    {
     "name": "stdout",
     "output_type": "stream",
     "text": [
      "\n",
      "Canceled Review Category Counts\n",
      "-------------------------------------------------------\n",
      "Category                  |      Count |   Percentage\n",
      "-------------------------------------------------------\n",
      "Shipping Issue            |        292 |       71.92%\n",
      "Customer Service Issue    |         35 |        8.62%\n",
      "Other                     |         22 |        5.42%\n",
      "Product Quality Issue     |         15 |        3.69%\n",
      "Positive Comment          |         12 |        2.96%\n",
      "Seller Cancellation       |         11 |        2.71%\n",
      "Stock Issue               |          9 |        2.22%\n",
      "Return/Refund Issue       |          8 |        1.97%\n",
      "App/Website Issue         |          2 |        0.49%\n",
      "-------------------------------------------------------\n",
      "Total Reviews: 406\n"
     ]
    }
   ],
   "source": [
    "# Preprocessing\n",
    "def preprocess_text(text):\n",
    "    text = text.lower()\n",
    "    text = re.sub(r\"[^a-z\\s]\", \"\", text)\n",
    "    return text\n",
    "\n",
    "\n",
    "translated_df.loc[:, \"cleaned_review\"] = (\n",
    "    translated_df[\"review_comment_message\"].fillna(\"\").apply(preprocess_text)\n",
    ")\n",
    "\n",
    "# Frequency analysis of words in canceled reviews\n",
    "word_freq = Counter(\" \".join(translated_df[\"cleaned_review\"]).split())\n",
    "\n",
    "# print(\"Top 20 Frequent Words in Canceled Reviews:\")\n",
    "# print(word_freq.most_common(20))\n",
    "\n",
    "\n",
    "# Manual categorization based on English keywords\n",
    "def categorize_review(text):\n",
    "    categories = {\n",
    "        \"Shipping Issue\": [\n",
    "            \"ship\",\n",
    "            \"delay\",\n",
    "            \"send\",\n",
    "            \"courier\",\n",
    "            \"package\",\n",
    "            \"deliver\",\n",
    "            \"arrive\",\n",
    "            \"receive\",\n",
    "            \"expedition\",\n",
    "            \"transport\",\n",
    "            \"wait\",\n",
    "            \"late\",\n",
    "            \"come\",\n",
    "            \"came\",\n",
    "            \"slow\",\n",
    "        ],\n",
    "        \"Product Quality Issue\": [\n",
    "            \"quality\",\n",
    "            \"broken\",\n",
    "            \"damaged\",\n",
    "            \"defect\",\n",
    "            \"different\",\n",
    "            \"not working\",\n",
    "            \"fake\",\n",
    "            \"destroyed\",\n",
    "            \"not functioning\",\n",
    "            \"poor\",\n",
    "            \"does not match\",\n",
    "            \"like\",\n",
    "        ],\n",
    "        \"Customer Service Issue\": [\n",
    "            \"service\",\n",
    "            \"trust\",\n",
    "            \"reliable\",\n",
    "            \"invoice\",\n",
    "            \"call\",\n",
    "            \"error\",\n",
    "            \"solve\",\n",
    "            \"contact\",\n",
    "            \"seller\",\n",
    "            \"response\",\n",
    "            \"customer\",\n",
    "            \"ignore\",\n",
    "            \"answer\",\n",
    "            \"help\",\n",
    "            \"support\",\n",
    "            \"notified\",\n",
    "        ],\n",
    "        \"Stock Issue\": [\n",
    "            \"stock\",\n",
    "            \"unavailable\",\n",
    "            \"empty\",\n",
    "            \"not available\",\n",
    "        ],\n",
    "        \"App/Website Issue\": [\n",
    "            \"app\",\n",
    "            \"website\",\n",
    "            \"error\",\n",
    "            \"bug\",\n",
    "            \"crash\",\n",
    "            \"glitch\",\n",
    "        ],\n",
    "        \"Return/Refund Issue\": [\n",
    "            \"return\",\n",
    "            \"refund\",\n",
    "            \"exchange\",\n",
    "            \"replace\",\n",
    "            \"money back\",\n",
    "            \"send back\",\n",
    "            \"exchange\",\n",
    "            \"compensation\",\n",
    "        ],\n",
    "        \"Seller Cancellation\": [\n",
    "            \"cancel\",\n",
    "            \"void\",\n",
    "        ],\n",
    "        \"Positive Comment\": [\n",
    "            \"good\",\n",
    "            \"satisfied\",\n",
    "            \"happy\",\n",
    "            \"great\",\n",
    "            \"awesome\",\n",
    "            \"excellent\",\n",
    "            \"ok\",\n",
    "            \"nice\",\n",
    "            \"wonderful\",\n",
    "            \"amazing\",\n",
    "            \"love\",\n",
    "            \"easy\",\n",
    "            \"delight\",\n",
    "        ],\n",
    "    }\n",
    "\n",
    "    for category, keywords in categories.items():\n",
    "        if any(word in text for word in keywords):\n",
    "            return category\n",
    "    return \"Other\"\n",
    "\n",
    "\n",
    "# Categorize each review in `translated_df`\n",
    "translated_df.loc[:, \"Category\"] = translated_df[\"cleaned_review\"].apply(\n",
    "    categorize_review\n",
    ")\n",
    "\n",
    "# Calculate the number of reviews per category and sort by count\n",
    "category_counts = Counter(translated_df[\"Category\"])\n",
    "sorted_categories = sorted(category_counts.items(), key=lambda x: x[1], reverse=True)\n",
    "\n",
    "# Calculate total number of reviews for percentage calculation\n",
    "total_reviews = sum(category_counts.values())\n",
    "\n",
    "print(\"\\nCanceled Review Category Counts\")\n",
    "print(\"-\" * 55)\n",
    "print(f\"{'Category':<25} | {'Count':>10} | {'Percentage':>12}\")\n",
    "print(\"-\" * 55)\n",
    "for category, count in sorted_categories:\n",
    "    percentage = (count / total_reviews) * 100\n",
    "    print(f\"{category:<25} | {count:>10} | {percentage:>11.2f}%\")\n",
    "print(\"-\" * 55)\n",
    "print(f\"Total Reviews: {total_reviews}\")\n",
    "\n",
    "\n",
    "# # Random review samples per category (show 5 random examples per category)\n",
    "# print(\"\\nRandom Samples of Reviews per Category (Sorted by Frequency):\")\n",
    "# for category, count in sorted_categories:\n",
    "#     print(f\"\\nCategory: {category} (Total: {count})\")\n",
    "#     category_reviews = translated_df[translated_df[\"Category\"] == category][\n",
    "#         \"review_comment_message\"\n",
    "#     ].tolist()\n",
    "#     examples = random.sample(category_reviews, min(10, len(category_reviews)))\n",
    "\n",
    "#     for i, example in enumerate(examples, 1):\n",
    "#         print(f\"{i}. {example}\")\n",
    "\n",
    "# # Keyword analysis per category\n",
    "# print(\"\\nTop 10 words per category (Sorted by Category Frequency):\")\n",
    "# for category, _ in sorted_categories:\n",
    "#     category_text = \" \".join(translated_df[translated_df[\"Category\"] == category][\"cleaned_review\"])\n",
    "#     category_word_freq = Counter(category_text.split())\n",
    "#     print(f\"\\n{category}:\")\n",
    "#     print(category_word_freq.most_common(10))"
   ]
  },
  {
   "cell_type": "markdown",
   "metadata": {},
   "source": [
    "**Insight:**\\\n",
    "Alasan utama pembatalan pesanan dapat terlihat di sini, di mana sekitar **72%** pembatalan terjadi karena masalah pengiriman.\\\n",
    "Di sisi lain, pembatalan yang diikuti dengan ulasan positif dan menunjukkan kepuasan pelanggan terhadap produk kemungkinan disebabkan oleh kesalahan manusia (human error) atau kesalahan sistem (system error)."
   ]
  },
  {
   "cell_type": "markdown",
   "metadata": {},
   "source": [
    "### Eksplorasi Data `order_items_df`"
   ]
  },
  {
   "cell_type": "code",
   "execution_count": 103,
   "metadata": {},
   "outputs": [
    {
     "name": "stdout",
     "output_type": "stream",
     "text": [
      "<class 'pandas.core.frame.DataFrame'>\n",
      "RangeIndex: 112650 entries, 0 to 112649\n",
      "Data columns (total 7 columns):\n",
      " #   Column               Non-Null Count   Dtype         \n",
      "---  ------               --------------   -----         \n",
      " 0   order_id             112650 non-null  object        \n",
      " 1   order_item_id        112650 non-null  int64         \n",
      " 2   product_id           112650 non-null  object        \n",
      " 3   seller_id            112650 non-null  object        \n",
      " 4   shipping_limit_date  112650 non-null  datetime64[ns]\n",
      " 5   price                112650 non-null  float64       \n",
      " 6   freight_value        112650 non-null  float64       \n",
      "dtypes: datetime64[ns](1), float64(2), int64(1), object(3)\n",
      "memory usage: 6.0+ MB\n",
      "None\n",
      "\n",
      "nunique of order_id: \t\t98666\n",
      "nunique of product_id: \t\t32951\n",
      "nunique of seller_id: \t\t3095\n",
      "\n",
      "Number of duplicate rows: \t0\n"
     ]
    }
   ],
   "source": [
    "print(order_items_df.info())\n",
    "\n",
    "print(f\"\\nnunique of order_id: \\t\\t{order_items_df['order_id'].nunique()}\")\n",
    "print(f\"nunique of product_id: \\t\\t{order_items_df['product_id'].nunique()}\")\n",
    "print(f\"nunique of seller_id: \\t\\t{order_items_df['seller_id'].nunique()}\")\n",
    "\n",
    "print(f\"\\nNumber of duplicate rows: \\t{order_items_df.duplicated().sum()}\")"
   ]
  },
  {
   "cell_type": "code",
   "execution_count": 104,
   "metadata": {},
   "outputs": [
    {
     "data": {
      "text/html": [
       "<div>\n",
       "<style scoped>\n",
       "    .dataframe tbody tr th:only-of-type {\n",
       "        vertical-align: middle;\n",
       "    }\n",
       "\n",
       "    .dataframe tbody tr th {\n",
       "        vertical-align: top;\n",
       "    }\n",
       "\n",
       "    .dataframe thead th {\n",
       "        text-align: right;\n",
       "    }\n",
       "</style>\n",
       "<table border=\"1\" class=\"dataframe\">\n",
       "  <thead>\n",
       "    <tr style=\"text-align: right;\">\n",
       "      <th></th>\n",
       "      <th>order_id</th>\n",
       "      <th>review_id</th>\n",
       "      <th>review_score</th>\n",
       "      <th>order_item_id</th>\n",
       "      <th>seller_id</th>\n",
       "      <th>product_id</th>\n",
       "    </tr>\n",
       "  </thead>\n",
       "  <tbody>\n",
       "    <tr>\n",
       "      <th>6</th>\n",
       "      <td>b18dcdf73be66366873cd26c5724d1dc</td>\n",
       "      <td>15197aa66ff4d0650b5434f1b46cda19</td>\n",
       "      <td>1</td>\n",
       "      <td>1.0</td>\n",
       "      <td>da8622b14eb17ae2831f4ac5b9dab84a</td>\n",
       "      <td>c45d02cc82cd779835094de9b29272cb</td>\n",
       "    </tr>\n",
       "    <tr>\n",
       "      <th>7</th>\n",
       "      <td>b18dcdf73be66366873cd26c5724d1dc</td>\n",
       "      <td>15197aa66ff4d0650b5434f1b46cda19</td>\n",
       "      <td>1</td>\n",
       "      <td>2.0</td>\n",
       "      <td>da8622b14eb17ae2831f4ac5b9dab84a</td>\n",
       "      <td>c45d02cc82cd779835094de9b29272cb</td>\n",
       "    </tr>\n",
       "    <tr>\n",
       "      <th>8</th>\n",
       "      <td>b18dcdf73be66366873cd26c5724d1dc</td>\n",
       "      <td>15197aa66ff4d0650b5434f1b46cda19</td>\n",
       "      <td>1</td>\n",
       "      <td>3.0</td>\n",
       "      <td>41ab63a91b8b264e8c8780368bf1dd5b</td>\n",
       "      <td>4e3550b4ebca5e32ccc3d32b3470e31f</td>\n",
       "    </tr>\n",
       "    <tr>\n",
       "      <th>9</th>\n",
       "      <td>b18dcdf73be66366873cd26c5724d1dc</td>\n",
       "      <td>15197aa66ff4d0650b5434f1b46cda19</td>\n",
       "      <td>1</td>\n",
       "      <td>4.0</td>\n",
       "      <td>da8622b14eb17ae2831f4ac5b9dab84a</td>\n",
       "      <td>c45d02cc82cd779835094de9b29272cb</td>\n",
       "    </tr>\n",
       "    <tr>\n",
       "      <th>22</th>\n",
       "      <td>d7bd0e4afdf94846eb73642b4e3e75c3</td>\n",
       "      <td>9a0abbb668bafb95a6d2b05db43284c4</td>\n",
       "      <td>3</td>\n",
       "      <td>1.0</td>\n",
       "      <td>f8db351d8c4c4c22c6835c19a46f01b0</td>\n",
       "      <td>def59eb2e17b32b980b5341984f6b500</td>\n",
       "    </tr>\n",
       "    <tr>\n",
       "      <th>23</th>\n",
       "      <td>d7bd0e4afdf94846eb73642b4e3e75c3</td>\n",
       "      <td>9a0abbb668bafb95a6d2b05db43284c4</td>\n",
       "      <td>3</td>\n",
       "      <td>2.0</td>\n",
       "      <td>f8db351d8c4c4c22c6835c19a46f01b0</td>\n",
       "      <td>f3dadecca4b876a315481c79b8adcf16</td>\n",
       "    </tr>\n",
       "  </tbody>\n",
       "</table>\n",
       "</div>"
      ],
      "text/plain": [
       "                            order_id                         review_id  \\\n",
       "6   b18dcdf73be66366873cd26c5724d1dc  15197aa66ff4d0650b5434f1b46cda19   \n",
       "7   b18dcdf73be66366873cd26c5724d1dc  15197aa66ff4d0650b5434f1b46cda19   \n",
       "8   b18dcdf73be66366873cd26c5724d1dc  15197aa66ff4d0650b5434f1b46cda19   \n",
       "9   b18dcdf73be66366873cd26c5724d1dc  15197aa66ff4d0650b5434f1b46cda19   \n",
       "22  d7bd0e4afdf94846eb73642b4e3e75c3  9a0abbb668bafb95a6d2b05db43284c4   \n",
       "23  d7bd0e4afdf94846eb73642b4e3e75c3  9a0abbb668bafb95a6d2b05db43284c4   \n",
       "\n",
       "    review_score  order_item_id                         seller_id  \\\n",
       "6              1            1.0  da8622b14eb17ae2831f4ac5b9dab84a   \n",
       "7              1            2.0  da8622b14eb17ae2831f4ac5b9dab84a   \n",
       "8              1            3.0  41ab63a91b8b264e8c8780368bf1dd5b   \n",
       "9              1            4.0  da8622b14eb17ae2831f4ac5b9dab84a   \n",
       "22             3            1.0  f8db351d8c4c4c22c6835c19a46f01b0   \n",
       "23             3            2.0  f8db351d8c4c4c22c6835c19a46f01b0   \n",
       "\n",
       "                          product_id  \n",
       "6   c45d02cc82cd779835094de9b29272cb  \n",
       "7   c45d02cc82cd779835094de9b29272cb  \n",
       "8   4e3550b4ebca5e32ccc3d32b3470e31f  \n",
       "9   c45d02cc82cd779835094de9b29272cb  \n",
       "22  def59eb2e17b32b980b5341984f6b500  \n",
       "23  f3dadecca4b876a315481c79b8adcf16  "
      ]
     },
     "execution_count": 104,
     "metadata": {},
     "output_type": "execute_result"
    }
   ],
   "source": [
    "merged_items_reviews_df = pd.merge(\n",
    "    order_reviews_df, order_items_df, on=\"order_id\", how=\"left\"\n",
    ")\n",
    "\n",
    "selected_colls = merged_items_reviews_df[\n",
    "    [\n",
    "        \"order_id\",\n",
    "        \"review_id\",\n",
    "        \"review_score\",\n",
    "        \"order_item_id\",\n",
    "        \"seller_id\",\n",
    "        \"product_id\",\n",
    "    ]\n",
    "]\n",
    "\n",
    "multi_item_orders = selected_colls.groupby(\"order_id\").filter(\n",
    "    lambda x: x[\"product_id\"].nunique() > 1\n",
    ")\n",
    "\n",
    "multi_item_orders.head(6)"
   ]
  },
  {
   "cell_type": "markdown",
   "metadata": {},
   "source": [
    "**Insight:**\n",
    "1. `multi_item_order`:\n",
    "    - `order_id` <span style=\"color:orange\">b18dcdf73be66366873cd26c5724d1dc</span> memiliki beberapa item yang berbeda (`order_item_id` 1, 2, 3, dan 4). Semua item ini terkait dengan satu ulasan (berdasarkan `review_id`), dan pelanggan memberikan skor **1** untuk keseluruhan pesanan.\n",
    "    - `order_id` <span style=\"color:orange\">d7bd0e4afdf94846eb73642b4e3e75c3</span> juga memuat lebih dari satu item, dan pelanggan memberikan skor **3**.\n",
    "2. Ini memberikan gambaran jelas bahwa dalam beberapa kasus, satu `order_id` memang dapat berisi beberapa produk (berdasarkan `product_id`). Namun, ulasan diberikan satu kali untuk pesanan tersebut (berdasarkan `order_id` dan `review_id`), meskipun pesanan tersebut terdiri dari beberapa produk (berdasarkan `order_item_id`)."
   ]
  },
  {
   "cell_type": "markdown",
   "metadata": {},
   "source": [
    "### Eksplorasi Data `products_df`"
   ]
  },
  {
   "cell_type": "code",
   "execution_count": 78,
   "metadata": {},
   "outputs": [
    {
     "name": "stdout",
     "output_type": "stream",
     "text": [
      "<class 'pandas.core.frame.DataFrame'>\n",
      "RangeIndex: 32951 entries, 0 to 32950\n",
      "Data columns (total 9 columns):\n",
      " #   Column                      Non-Null Count  Dtype  \n",
      "---  ------                      --------------  -----  \n",
      " 0   product_id                  32951 non-null  object \n",
      " 1   product_category_name       32951 non-null  object \n",
      " 2   product_name_lenght         32951 non-null  float64\n",
      " 3   product_description_lenght  32951 non-null  float64\n",
      " 4   product_photos_qty          32951 non-null  float64\n",
      " 5   product_weight_g            32951 non-null  float64\n",
      " 6   product_length_cm           32951 non-null  float64\n",
      " 7   product_height_cm           32951 non-null  float64\n",
      " 8   product_width_cm            32951 non-null  float64\n",
      "dtypes: float64(7), object(2)\n",
      "memory usage: 2.3+ MB\n",
      "\n",
      "(rows, collumns): \t\t\t(32951, 9)\n",
      "nunique of product_id: \t\t\t32951\n",
      "nunique of product_category_name: \t74\n"
     ]
    }
   ],
   "source": [
    "products_df.info()\n",
    "\n",
    "print(f\"\\n(rows, collumns): \\t\\t\\t{products_df.shape}\")\n",
    "print(f\"nunique of product_id: \\t\\t\\t{products_df['product_id'].nunique()}\")\n",
    "print(\n",
    "    f\"nunique of product_category_name: \\t{products_df['product_category_name'].nunique()}\"\n",
    ")"
   ]
  },
  {
   "cell_type": "code",
   "execution_count": 79,
   "metadata": {},
   "outputs": [
    {
     "data": {
      "text/html": [
       "<div>\n",
       "<style scoped>\n",
       "    .dataframe tbody tr th:only-of-type {\n",
       "        vertical-align: middle;\n",
       "    }\n",
       "\n",
       "    .dataframe tbody tr th {\n",
       "        vertical-align: top;\n",
       "    }\n",
       "\n",
       "    .dataframe thead th {\n",
       "        text-align: right;\n",
       "    }\n",
       "</style>\n",
       "<table border=\"1\" class=\"dataframe\">\n",
       "  <thead>\n",
       "    <tr style=\"text-align: right;\">\n",
       "      <th></th>\n",
       "      <th>product_id</th>\n",
       "      <th>product_category_name</th>\n",
       "    </tr>\n",
       "  </thead>\n",
       "  <tbody>\n",
       "    <tr>\n",
       "      <th>0</th>\n",
       "      <td>1e9e8ef04dbcff4541ed26657ea517e5</td>\n",
       "      <td>perfumaria</td>\n",
       "    </tr>\n",
       "    <tr>\n",
       "      <th>1</th>\n",
       "      <td>3aa071139cb16b67ca9e5dea641aaa2f</td>\n",
       "      <td>artes</td>\n",
       "    </tr>\n",
       "    <tr>\n",
       "      <th>2</th>\n",
       "      <td>96bd76ec8810374ed1b65e291975717f</td>\n",
       "      <td>esporte_lazer</td>\n",
       "    </tr>\n",
       "    <tr>\n",
       "      <th>3</th>\n",
       "      <td>cef67bcfe19066a932b7673e239eb23d</td>\n",
       "      <td>bebes</td>\n",
       "    </tr>\n",
       "    <tr>\n",
       "      <th>4</th>\n",
       "      <td>9dc1a7de274444849c219cff195d0b71</td>\n",
       "      <td>utilidades_domesticas</td>\n",
       "    </tr>\n",
       "  </tbody>\n",
       "</table>\n",
       "</div>"
      ],
      "text/plain": [
       "                         product_id  product_category_name\n",
       "0  1e9e8ef04dbcff4541ed26657ea517e5             perfumaria\n",
       "1  3aa071139cb16b67ca9e5dea641aaa2f                  artes\n",
       "2  96bd76ec8810374ed1b65e291975717f          esporte_lazer\n",
       "3  cef67bcfe19066a932b7673e239eb23d                  bebes\n",
       "4  9dc1a7de274444849c219cff195d0b71  utilidades_domesticas"
      ]
     },
     "execution_count": 79,
     "metadata": {},
     "output_type": "execute_result"
    }
   ],
   "source": [
    "products_df[[\"product_id\", \"product_category_name\"]].head()"
   ]
  },
  {
   "cell_type": "markdown",
   "metadata": {},
   "source": [
    "**Menerjemahkan `product_category_name`**"
   ]
  },
  {
   "cell_type": "code",
   "execution_count": 80,
   "metadata": {},
   "outputs": [
    {
     "data": {
      "text/html": [
       "<div>\n",
       "<style scoped>\n",
       "    .dataframe tbody tr th:only-of-type {\n",
       "        vertical-align: middle;\n",
       "    }\n",
       "\n",
       "    .dataframe tbody tr th {\n",
       "        vertical-align: top;\n",
       "    }\n",
       "\n",
       "    .dataframe thead th {\n",
       "        text-align: right;\n",
       "    }\n",
       "</style>\n",
       "<table border=\"1\" class=\"dataframe\">\n",
       "  <thead>\n",
       "    <tr style=\"text-align: right;\">\n",
       "      <th></th>\n",
       "      <th>product_id</th>\n",
       "      <th>product_category_name</th>\n",
       "    </tr>\n",
       "  </thead>\n",
       "  <tbody>\n",
       "    <tr>\n",
       "      <th>0</th>\n",
       "      <td>1e9e8ef04dbcff4541ed26657ea517e5</td>\n",
       "      <td>perfumery</td>\n",
       "    </tr>\n",
       "    <tr>\n",
       "      <th>1</th>\n",
       "      <td>3aa071139cb16b67ca9e5dea641aaa2f</td>\n",
       "      <td>art</td>\n",
       "    </tr>\n",
       "    <tr>\n",
       "      <th>2</th>\n",
       "      <td>96bd76ec8810374ed1b65e291975717f</td>\n",
       "      <td>sports_leisure</td>\n",
       "    </tr>\n",
       "    <tr>\n",
       "      <th>3</th>\n",
       "      <td>cef67bcfe19066a932b7673e239eb23d</td>\n",
       "      <td>baby</td>\n",
       "    </tr>\n",
       "    <tr>\n",
       "      <th>4</th>\n",
       "      <td>9dc1a7de274444849c219cff195d0b71</td>\n",
       "      <td>housewares</td>\n",
       "    </tr>\n",
       "  </tbody>\n",
       "</table>\n",
       "</div>"
      ],
      "text/plain": [
       "                         product_id product_category_name\n",
       "0  1e9e8ef04dbcff4541ed26657ea517e5             perfumery\n",
       "1  3aa071139cb16b67ca9e5dea641aaa2f                   art\n",
       "2  96bd76ec8810374ed1b65e291975717f        sports_leisure\n",
       "3  cef67bcfe19066a932b7673e239eb23d                  baby\n",
       "4  9dc1a7de274444849c219cff195d0b71            housewares"
      ]
     },
     "execution_count": 80,
     "metadata": {},
     "output_type": "execute_result"
    }
   ],
   "source": [
    "category_translation = product_category_translation_df.set_index(\n",
    "    \"product_category_name\"\n",
    ")[\"product_category_name_english\"]\n",
    "\n",
    "products_df[\"product_category_name\"] = (\n",
    "    products_df[\"product_category_name\"]\n",
    "    .map(category_translation)\n",
    "    .fillna(products_df[\"product_category_name\"])\n",
    ")\n",
    "\n",
    "products_df[[\"product_id\", \"product_category_name\"]].head()"
   ]
  },
  {
   "cell_type": "code",
   "execution_count": 165,
   "metadata": {},
   "outputs": [
    {
     "data": {
      "text/html": [
       "<div>\n",
       "<style scoped>\n",
       "    .dataframe tbody tr th:only-of-type {\n",
       "        vertical-align: middle;\n",
       "    }\n",
       "\n",
       "    .dataframe tbody tr th {\n",
       "        vertical-align: top;\n",
       "    }\n",
       "\n",
       "    .dataframe thead th {\n",
       "        text-align: right;\n",
       "    }\n",
       "</style>\n",
       "<table border=\"1\" class=\"dataframe\">\n",
       "  <thead>\n",
       "    <tr style=\"text-align: right;\">\n",
       "      <th></th>\n",
       "      <th>Count</th>\n",
       "      <th>Percentage</th>\n",
       "    </tr>\n",
       "    <tr>\n",
       "      <th>product_category_name</th>\n",
       "      <th></th>\n",
       "      <th></th>\n",
       "    </tr>\n",
       "  </thead>\n",
       "  <tbody>\n",
       "    <tr>\n",
       "      <th>bed_bath_table</th>\n",
       "      <td>3029</td>\n",
       "      <td>22.72%</td>\n",
       "    </tr>\n",
       "    <tr>\n",
       "      <th>sports_leisure</th>\n",
       "      <td>2867</td>\n",
       "      <td>21.50%</td>\n",
       "    </tr>\n",
       "    <tr>\n",
       "      <th>furniture_decor</th>\n",
       "      <td>2657</td>\n",
       "      <td>19.93%</td>\n",
       "    </tr>\n",
       "    <tr>\n",
       "      <th>health_beauty</th>\n",
       "      <td>2444</td>\n",
       "      <td>18.33%</td>\n",
       "    </tr>\n",
       "    <tr>\n",
       "      <th>housewares</th>\n",
       "      <td>2335</td>\n",
       "      <td>17.51%</td>\n",
       "    </tr>\n",
       "  </tbody>\n",
       "</table>\n",
       "</div>"
      ],
      "text/plain": [
       "                       Count Percentage\n",
       "product_category_name                  \n",
       "bed_bath_table          3029     22.72%\n",
       "sports_leisure          2867     21.50%\n",
       "furniture_decor         2657     19.93%\n",
       "health_beauty           2444     18.33%\n",
       "housewares              2335     17.51%"
      ]
     },
     "execution_count": 165,
     "metadata": {},
     "output_type": "execute_result"
    }
   ],
   "source": [
    "category_counts = products_df[\"product_category_name\"].value_counts()\n",
    "total_categories = len(category_counts)\n",
    "\n",
    "percentages = (\n",
    "    (category_counts.head() / category_counts.head().sum() * 100)\n",
    "    .round(2)\n",
    "    .map(\"{:.2f}%\".format)\n",
    ")\n",
    "\n",
    "pd.DataFrame(\n",
    "    {\"Count\": category_counts.head().values, \"Percentage\": percentages},\n",
    "    index=category_counts.head().index,\n",
    ")"
   ]
  },
  {
   "cell_type": "code",
   "execution_count": 163,
   "metadata": {},
   "outputs": [
    {
     "data": {
      "text/html": [
       "<div>\n",
       "<style scoped>\n",
       "    .dataframe tbody tr th:only-of-type {\n",
       "        vertical-align: middle;\n",
       "    }\n",
       "\n",
       "    .dataframe tbody tr th {\n",
       "        vertical-align: top;\n",
       "    }\n",
       "\n",
       "    .dataframe thead th {\n",
       "        text-align: right;\n",
       "    }\n",
       "</style>\n",
       "<table border=\"1\" class=\"dataframe\">\n",
       "  <thead>\n",
       "    <tr style=\"text-align: right;\">\n",
       "      <th></th>\n",
       "      <th>Count</th>\n",
       "      <th>Percentage</th>\n",
       "    </tr>\n",
       "    <tr>\n",
       "      <th>product_category_name</th>\n",
       "      <th></th>\n",
       "      <th></th>\n",
       "    </tr>\n",
       "  </thead>\n",
       "  <tbody>\n",
       "    <tr>\n",
       "      <th>cds_dvds_musicals</th>\n",
       "      <td>1</td>\n",
       "      <td>0.00%</td>\n",
       "    </tr>\n",
       "    <tr>\n",
       "      <th>security_and_services</th>\n",
       "      <td>2</td>\n",
       "      <td>0.01%</td>\n",
       "    </tr>\n",
       "    <tr>\n",
       "      <th>pc_gamer</th>\n",
       "      <td>3</td>\n",
       "      <td>0.01%</td>\n",
       "    </tr>\n",
       "    <tr>\n",
       "      <th>fashion_childrens_clothes</th>\n",
       "      <td>5</td>\n",
       "      <td>0.02%</td>\n",
       "    </tr>\n",
       "    <tr>\n",
       "      <th>home_comfort_2</th>\n",
       "      <td>5</td>\n",
       "      <td>0.02%</td>\n",
       "    </tr>\n",
       "  </tbody>\n",
       "</table>\n",
       "</div>"
      ],
      "text/plain": [
       "                           Count Percentage\n",
       "product_category_name                      \n",
       "cds_dvds_musicals              1      0.00%\n",
       "security_and_services          2      0.01%\n",
       "pc_gamer                       3      0.01%\n",
       "fashion_childrens_clothes      5      0.02%\n",
       "home_comfort_2                 5      0.02%"
      ]
     },
     "execution_count": 163,
     "metadata": {},
     "output_type": "execute_result"
    }
   ],
   "source": [
    "category_counts = products_df[\"product_category_name\"].value_counts()\n",
    "total_categories = len(category_counts)\n",
    "\n",
    "rarest_categories = category_counts.tail().sort_values()\n",
    "\n",
    "percentages = (\n",
    "    (rarest_categories / category_counts.sum() * 100).round(2).map(\"{:.2f}%\".format)\n",
    ")\n",
    "\n",
    "pd.DataFrame(\n",
    "    {\n",
    "        # \"Category\": rarest_categories.index,\n",
    "        \"Count\": rarest_categories.values,\n",
    "        \"Percentage\": percentages,\n",
    "    }\n",
    ")"
   ]
  },
  {
   "cell_type": "code",
   "execution_count": 83,
   "metadata": {},
   "outputs": [
    {
     "name": "stdout",
     "output_type": "stream",
     "text": [
      "Number of products with 'unknown' category: 610 \n",
      "\n"
     ]
    },
    {
     "data": {
      "text/html": [
       "<div>\n",
       "<style scoped>\n",
       "    .dataframe tbody tr th:only-of-type {\n",
       "        vertical-align: middle;\n",
       "    }\n",
       "\n",
       "    .dataframe tbody tr th {\n",
       "        vertical-align: top;\n",
       "    }\n",
       "\n",
       "    .dataframe thead th {\n",
       "        text-align: right;\n",
       "    }\n",
       "</style>\n",
       "<table border=\"1\" class=\"dataframe\">\n",
       "  <thead>\n",
       "    <tr style=\"text-align: right;\">\n",
       "      <th></th>\n",
       "      <th>product_id</th>\n",
       "      <th>product_category_name</th>\n",
       "    </tr>\n",
       "  </thead>\n",
       "  <tbody>\n",
       "    <tr>\n",
       "      <th>105</th>\n",
       "      <td>a41e356c76fab66334f36de622ecbd3a</td>\n",
       "      <td>unknown</td>\n",
       "    </tr>\n",
       "    <tr>\n",
       "      <th>128</th>\n",
       "      <td>d8dee61c2034d6d075997acef1870e9b</td>\n",
       "      <td>unknown</td>\n",
       "    </tr>\n",
       "    <tr>\n",
       "      <th>145</th>\n",
       "      <td>56139431d72cd51f19eb9f7dae4d1617</td>\n",
       "      <td>unknown</td>\n",
       "    </tr>\n",
       "    <tr>\n",
       "      <th>154</th>\n",
       "      <td>46b48281eb6d663ced748f324108c733</td>\n",
       "      <td>unknown</td>\n",
       "    </tr>\n",
       "    <tr>\n",
       "      <th>197</th>\n",
       "      <td>5fb61f482620cb672f5e586bb132eae9</td>\n",
       "      <td>unknown</td>\n",
       "    </tr>\n",
       "  </tbody>\n",
       "</table>\n",
       "</div>"
      ],
      "text/plain": [
       "                           product_id product_category_name\n",
       "105  a41e356c76fab66334f36de622ecbd3a               unknown\n",
       "128  d8dee61c2034d6d075997acef1870e9b               unknown\n",
       "145  56139431d72cd51f19eb9f7dae4d1617               unknown\n",
       "154  46b48281eb6d663ced748f324108c733               unknown\n",
       "197  5fb61f482620cb672f5e586bb132eae9               unknown"
      ]
     },
     "execution_count": 83,
     "metadata": {},
     "output_type": "execute_result"
    }
   ],
   "source": [
    "unknown_type = products_df[products_df[\"product_category_name\"] == \"unknown\"]\n",
    "print(f\"Number of products with 'unknown' category: {unknown_type.shape[0]} \\n\")\n",
    "\n",
    "unknown_type[[\"product_id\", \"product_category_name\"]].head()"
   ]
  },
  {
   "cell_type": "code",
   "execution_count": 84,
   "metadata": {},
   "outputs": [
    {
     "data": {
      "text/html": [
       "<div>\n",
       "<style scoped>\n",
       "    .dataframe tbody tr th:only-of-type {\n",
       "        vertical-align: middle;\n",
       "    }\n",
       "\n",
       "    .dataframe tbody tr th {\n",
       "        vertical-align: top;\n",
       "    }\n",
       "\n",
       "    .dataframe thead th {\n",
       "        text-align: right;\n",
       "    }\n",
       "</style>\n",
       "<table border=\"1\" class=\"dataframe\">\n",
       "  <thead>\n",
       "    <tr style=\"text-align: right;\">\n",
       "      <th></th>\n",
       "      <th>product_name_lenght</th>\n",
       "      <th>product_description_lenght</th>\n",
       "      <th>product_photos_qty</th>\n",
       "      <th>product_weight_g</th>\n",
       "      <th>product_length_cm</th>\n",
       "      <th>product_height_cm</th>\n",
       "      <th>product_width_cm</th>\n",
       "    </tr>\n",
       "  </thead>\n",
       "  <tbody>\n",
       "    <tr>\n",
       "      <th>count</th>\n",
       "      <td>32951.00</td>\n",
       "      <td>32951.00</td>\n",
       "      <td>32951.00</td>\n",
       "      <td>32951.00</td>\n",
       "      <td>32951.00</td>\n",
       "      <td>32951.00</td>\n",
       "      <td>32951.00</td>\n",
       "    </tr>\n",
       "    <tr>\n",
       "      <th>mean</th>\n",
       "      <td>48.48</td>\n",
       "      <td>771.50</td>\n",
       "      <td>2.19</td>\n",
       "      <td>2276.67</td>\n",
       "      <td>30.82</td>\n",
       "      <td>16.94</td>\n",
       "      <td>23.20</td>\n",
       "    </tr>\n",
       "    <tr>\n",
       "      <th>std</th>\n",
       "      <td>10.15</td>\n",
       "      <td>629.21</td>\n",
       "      <td>1.72</td>\n",
       "      <td>4281.86</td>\n",
       "      <td>16.91</td>\n",
       "      <td>13.64</td>\n",
       "      <td>12.08</td>\n",
       "    </tr>\n",
       "    <tr>\n",
       "      <th>min</th>\n",
       "      <td>5.00</td>\n",
       "      <td>4.00</td>\n",
       "      <td>1.00</td>\n",
       "      <td>2.00</td>\n",
       "      <td>7.00</td>\n",
       "      <td>2.00</td>\n",
       "      <td>6.00</td>\n",
       "    </tr>\n",
       "    <tr>\n",
       "      <th>25%</th>\n",
       "      <td>42.00</td>\n",
       "      <td>344.00</td>\n",
       "      <td>1.00</td>\n",
       "      <td>300.00</td>\n",
       "      <td>18.00</td>\n",
       "      <td>8.00</td>\n",
       "      <td>15.00</td>\n",
       "    </tr>\n",
       "    <tr>\n",
       "      <th>50%</th>\n",
       "      <td>51.00</td>\n",
       "      <td>604.00</td>\n",
       "      <td>1.00</td>\n",
       "      <td>700.00</td>\n",
       "      <td>25.00</td>\n",
       "      <td>13.00</td>\n",
       "      <td>20.00</td>\n",
       "    </tr>\n",
       "    <tr>\n",
       "      <th>75%</th>\n",
       "      <td>57.00</td>\n",
       "      <td>961.00</td>\n",
       "      <td>3.00</td>\n",
       "      <td>1900.00</td>\n",
       "      <td>38.00</td>\n",
       "      <td>21.00</td>\n",
       "      <td>30.00</td>\n",
       "    </tr>\n",
       "    <tr>\n",
       "      <th>max</th>\n",
       "      <td>76.00</td>\n",
       "      <td>3992.00</td>\n",
       "      <td>20.00</td>\n",
       "      <td>40425.00</td>\n",
       "      <td>105.00</td>\n",
       "      <td>105.00</td>\n",
       "      <td>118.00</td>\n",
       "    </tr>\n",
       "  </tbody>\n",
       "</table>\n",
       "</div>"
      ],
      "text/plain": [
       "       product_name_lenght  product_description_lenght  product_photos_qty  \\\n",
       "count             32951.00                    32951.00            32951.00   \n",
       "mean                 48.48                      771.50                2.19   \n",
       "std                  10.15                      629.21                1.72   \n",
       "min                   5.00                        4.00                1.00   \n",
       "25%                  42.00                      344.00                1.00   \n",
       "50%                  51.00                      604.00                1.00   \n",
       "75%                  57.00                      961.00                3.00   \n",
       "max                  76.00                     3992.00               20.00   \n",
       "\n",
       "       product_weight_g  product_length_cm  product_height_cm  \\\n",
       "count          32951.00           32951.00           32951.00   \n",
       "mean            2276.67              30.82              16.94   \n",
       "std             4281.86              16.91              13.64   \n",
       "min                2.00               7.00               2.00   \n",
       "25%              300.00              18.00               8.00   \n",
       "50%              700.00              25.00              13.00   \n",
       "75%             1900.00              38.00              21.00   \n",
       "max            40425.00             105.00             105.00   \n",
       "\n",
       "       product_width_cm  \n",
       "count          32951.00  \n",
       "mean              23.20  \n",
       "std               12.08  \n",
       "min                6.00  \n",
       "25%               15.00  \n",
       "50%               20.00  \n",
       "75%               30.00  \n",
       "max              118.00  "
      ]
     },
     "execution_count": 84,
     "metadata": {},
     "output_type": "execute_result"
    }
   ],
   "source": [
    "products_df.describe().round(2)"
   ]
  },
  {
   "cell_type": "markdown",
   "metadata": {},
   "source": [
    "**Insight:**\n",
    "1. **Banyak jenis produk berdasarkan kategori produk:**\n",
    "    - Kategori produk yang memiliki varian produk terbanyak adalah *bed_bath_table*.\n",
    "    - Kategori produk yang memiliki varian produk paling sedikit adalah *cds_dvds_musicals*.\n",
    "2. `product_name_lenght`\n",
    "    - Panjang nama produk bervariasi antara **5** hingga **76** karakter dengan rata-rata panjang sebesar **48.48** karakter. \n",
    "    - Hal ini menunjukkan bahwa rata-rata nama produk relatif singkat dan deskriptif.\n",
    "3. `product_description_lenght`\n",
    "    - Panjang deskripsi produk berkisar dari **4** hingga **3992** karakter, dengan rata-rata deskripsi sebesar **771.5** karakter. \n",
    "    - Ini menunjukkan bahwa sebagian besar produk memiliki deskripsi yang cukup detail, namun ada beberapa produk dengan deskripsi yang sangat singkat.\n",
    "4. `product_photos_qty`\n",
    "    - Setiap produk memiliki antara **1** hingga **20** foto, dengan rata-rata jumlah foto sebesar **2.19**. \n",
    "    - Ini menunjukkan bahwa sebagian besar produk didokumentasikan dengan baik menggunakan setidaknya satu foto, namun ada juga yang memiliki lebih banyak foto untuk mendukung promosi produk."
   ]
  },
  {
   "cell_type": "markdown",
   "metadata": {},
   "source": [
    "### Eksplorasi Data `order_items_df` dan `products_df`"
   ]
  },
  {
   "cell_type": "code",
   "execution_count": 105,
   "metadata": {},
   "outputs": [
    {
     "data": {
      "text/html": [
       "<div>\n",
       "<style scoped>\n",
       "    .dataframe tbody tr th:only-of-type {\n",
       "        vertical-align: middle;\n",
       "    }\n",
       "\n",
       "    .dataframe tbody tr th {\n",
       "        vertical-align: top;\n",
       "    }\n",
       "\n",
       "    .dataframe thead th {\n",
       "        text-align: right;\n",
       "    }\n",
       "</style>\n",
       "<table border=\"1\" class=\"dataframe\">\n",
       "  <thead>\n",
       "    <tr style=\"text-align: right;\">\n",
       "      <th></th>\n",
       "      <th>order_id</th>\n",
       "      <th>order_item_id</th>\n",
       "      <th>product_id</th>\n",
       "      <th>seller_id</th>\n",
       "      <th>shipping_limit_date</th>\n",
       "      <th>price</th>\n",
       "      <th>freight_value</th>\n",
       "      <th>product_category_name</th>\n",
       "      <th>product_name_lenght</th>\n",
       "      <th>product_description_lenght</th>\n",
       "      <th>product_photos_qty</th>\n",
       "      <th>product_weight_g</th>\n",
       "      <th>product_length_cm</th>\n",
       "      <th>product_height_cm</th>\n",
       "      <th>product_width_cm</th>\n",
       "    </tr>\n",
       "  </thead>\n",
       "  <tbody>\n",
       "    <tr>\n",
       "      <th>0</th>\n",
       "      <td>00010242fe8c5a6d1ba2dd792cb16214</td>\n",
       "      <td>1</td>\n",
       "      <td>4244733e06e7ecb4970a6e2683c13e61</td>\n",
       "      <td>48436dade18ac8b2bce089ec2a041202</td>\n",
       "      <td>2017-09-19 09:45:35</td>\n",
       "      <td>58.90</td>\n",
       "      <td>13.29</td>\n",
       "      <td>cool_stuff</td>\n",
       "      <td>58.0</td>\n",
       "      <td>598.0</td>\n",
       "      <td>4.0</td>\n",
       "      <td>650.0</td>\n",
       "      <td>28.0</td>\n",
       "      <td>9.0</td>\n",
       "      <td>14.0</td>\n",
       "    </tr>\n",
       "    <tr>\n",
       "      <th>1</th>\n",
       "      <td>00018f77f2f0320c557190d7a144bdd3</td>\n",
       "      <td>1</td>\n",
       "      <td>e5f2d52b802189ee658865ca93d83a8f</td>\n",
       "      <td>dd7ddc04e1b6c2c614352b383efe2d36</td>\n",
       "      <td>2017-05-03 11:05:13</td>\n",
       "      <td>239.90</td>\n",
       "      <td>19.93</td>\n",
       "      <td>pet_shop</td>\n",
       "      <td>56.0</td>\n",
       "      <td>239.0</td>\n",
       "      <td>2.0</td>\n",
       "      <td>30000.0</td>\n",
       "      <td>50.0</td>\n",
       "      <td>30.0</td>\n",
       "      <td>40.0</td>\n",
       "    </tr>\n",
       "    <tr>\n",
       "      <th>2</th>\n",
       "      <td>000229ec398224ef6ca0657da4fc703e</td>\n",
       "      <td>1</td>\n",
       "      <td>c777355d18b72b67abbeef9df44fd0fd</td>\n",
       "      <td>5b51032eddd242adc84c38acab88f23d</td>\n",
       "      <td>2018-01-18 14:48:30</td>\n",
       "      <td>199.00</td>\n",
       "      <td>17.87</td>\n",
       "      <td>furniture_decor</td>\n",
       "      <td>59.0</td>\n",
       "      <td>695.0</td>\n",
       "      <td>2.0</td>\n",
       "      <td>3050.0</td>\n",
       "      <td>33.0</td>\n",
       "      <td>13.0</td>\n",
       "      <td>33.0</td>\n",
       "    </tr>\n",
       "    <tr>\n",
       "      <th>3</th>\n",
       "      <td>00024acbcdf0a6daa1e931b038114c75</td>\n",
       "      <td>1</td>\n",
       "      <td>7634da152a4610f1595efa32f14722fc</td>\n",
       "      <td>9d7a1d34a5052409006425275ba1c2b4</td>\n",
       "      <td>2018-08-15 10:10:18</td>\n",
       "      <td>12.99</td>\n",
       "      <td>12.79</td>\n",
       "      <td>perfumery</td>\n",
       "      <td>42.0</td>\n",
       "      <td>480.0</td>\n",
       "      <td>1.0</td>\n",
       "      <td>200.0</td>\n",
       "      <td>16.0</td>\n",
       "      <td>10.0</td>\n",
       "      <td>15.0</td>\n",
       "    </tr>\n",
       "    <tr>\n",
       "      <th>4</th>\n",
       "      <td>00042b26cf59d7ce69dfabb4e55b4fd9</td>\n",
       "      <td>1</td>\n",
       "      <td>ac6c3623068f30de03045865e4e10089</td>\n",
       "      <td>df560393f3a51e74553ab94004ba5c87</td>\n",
       "      <td>2017-02-13 13:57:51</td>\n",
       "      <td>199.90</td>\n",
       "      <td>18.14</td>\n",
       "      <td>garden_tools</td>\n",
       "      <td>59.0</td>\n",
       "      <td>409.0</td>\n",
       "      <td>1.0</td>\n",
       "      <td>3750.0</td>\n",
       "      <td>35.0</td>\n",
       "      <td>40.0</td>\n",
       "      <td>30.0</td>\n",
       "    </tr>\n",
       "  </tbody>\n",
       "</table>\n",
       "</div>"
      ],
      "text/plain": [
       "                           order_id  order_item_id  \\\n",
       "0  00010242fe8c5a6d1ba2dd792cb16214              1   \n",
       "1  00018f77f2f0320c557190d7a144bdd3              1   \n",
       "2  000229ec398224ef6ca0657da4fc703e              1   \n",
       "3  00024acbcdf0a6daa1e931b038114c75              1   \n",
       "4  00042b26cf59d7ce69dfabb4e55b4fd9              1   \n",
       "\n",
       "                         product_id                         seller_id  \\\n",
       "0  4244733e06e7ecb4970a6e2683c13e61  48436dade18ac8b2bce089ec2a041202   \n",
       "1  e5f2d52b802189ee658865ca93d83a8f  dd7ddc04e1b6c2c614352b383efe2d36   \n",
       "2  c777355d18b72b67abbeef9df44fd0fd  5b51032eddd242adc84c38acab88f23d   \n",
       "3  7634da152a4610f1595efa32f14722fc  9d7a1d34a5052409006425275ba1c2b4   \n",
       "4  ac6c3623068f30de03045865e4e10089  df560393f3a51e74553ab94004ba5c87   \n",
       "\n",
       "  shipping_limit_date   price  freight_value product_category_name  \\\n",
       "0 2017-09-19 09:45:35   58.90          13.29            cool_stuff   \n",
       "1 2017-05-03 11:05:13  239.90          19.93              pet_shop   \n",
       "2 2018-01-18 14:48:30  199.00          17.87       furniture_decor   \n",
       "3 2018-08-15 10:10:18   12.99          12.79             perfumery   \n",
       "4 2017-02-13 13:57:51  199.90          18.14          garden_tools   \n",
       "\n",
       "   product_name_lenght  product_description_lenght  product_photos_qty  \\\n",
       "0                 58.0                       598.0                 4.0   \n",
       "1                 56.0                       239.0                 2.0   \n",
       "2                 59.0                       695.0                 2.0   \n",
       "3                 42.0                       480.0                 1.0   \n",
       "4                 59.0                       409.0                 1.0   \n",
       "\n",
       "   product_weight_g  product_length_cm  product_height_cm  product_width_cm  \n",
       "0             650.0               28.0                9.0              14.0  \n",
       "1           30000.0               50.0               30.0              40.0  \n",
       "2            3050.0               33.0               13.0              33.0  \n",
       "3             200.0               16.0               10.0              15.0  \n",
       "4            3750.0               35.0               40.0              30.0  "
      ]
     },
     "execution_count": 105,
     "metadata": {},
     "output_type": "execute_result"
    }
   ],
   "source": [
    "order_items_products_df = pd.merge(\n",
    "    order_items_df, products_df, on=\"product_id\", how=\"left\"\n",
    ")\n",
    "\n",
    "order_items_products_df.head()"
   ]
  },
  {
   "cell_type": "code",
   "execution_count": 106,
   "metadata": {},
   "outputs": [
    {
     "name": "stdout",
     "output_type": "stream",
     "text": [
      "<class 'pandas.core.frame.DataFrame'>\n",
      "RangeIndex: 112650 entries, 0 to 112649\n",
      "Data columns (total 15 columns):\n",
      " #   Column                      Non-Null Count   Dtype         \n",
      "---  ------                      --------------   -----         \n",
      " 0   order_id                    112650 non-null  object        \n",
      " 1   order_item_id               112650 non-null  int64         \n",
      " 2   product_id                  112650 non-null  object        \n",
      " 3   seller_id                   112650 non-null  object        \n",
      " 4   shipping_limit_date         112650 non-null  datetime64[ns]\n",
      " 5   price                       112650 non-null  float64       \n",
      " 6   freight_value               112650 non-null  float64       \n",
      " 7   product_category_name       112650 non-null  object        \n",
      " 8   product_name_lenght         112650 non-null  float64       \n",
      " 9   product_description_lenght  112650 non-null  float64       \n",
      " 10  product_photos_qty          112650 non-null  float64       \n",
      " 11  product_weight_g            112650 non-null  float64       \n",
      " 12  product_length_cm           112650 non-null  float64       \n",
      " 13  product_height_cm           112650 non-null  float64       \n",
      " 14  product_width_cm            112650 non-null  float64       \n",
      "dtypes: datetime64[ns](1), float64(9), int64(1), object(4)\n",
      "memory usage: 12.9+ MB\n"
     ]
    }
   ],
   "source": [
    "order_items_products_df.info()"
   ]
  },
  {
   "cell_type": "code",
   "execution_count": 174,
   "metadata": {},
   "outputs": [
    {
     "data": {
      "text/html": [
       "<div>\n",
       "<style scoped>\n",
       "    .dataframe tbody tr th:only-of-type {\n",
       "        vertical-align: middle;\n",
       "    }\n",
       "\n",
       "    .dataframe tbody tr th {\n",
       "        vertical-align: top;\n",
       "    }\n",
       "\n",
       "    .dataframe thead th {\n",
       "        text-align: right;\n",
       "    }\n",
       "</style>\n",
       "<table border=\"1\" class=\"dataframe\">\n",
       "  <thead>\n",
       "    <tr style=\"text-align: right;\">\n",
       "      <th></th>\n",
       "      <th>Count</th>\n",
       "      <th>Percentage</th>\n",
       "    </tr>\n",
       "    <tr>\n",
       "      <th>product_category_name</th>\n",
       "      <th></th>\n",
       "      <th></th>\n",
       "    </tr>\n",
       "  </thead>\n",
       "  <tbody>\n",
       "    <tr>\n",
       "      <th>bed_bath_table</th>\n",
       "      <td>11115</td>\n",
       "      <td>9.867%</td>\n",
       "    </tr>\n",
       "    <tr>\n",
       "      <th>health_beauty</th>\n",
       "      <td>9670</td>\n",
       "      <td>8.584%</td>\n",
       "    </tr>\n",
       "    <tr>\n",
       "      <th>sports_leisure</th>\n",
       "      <td>8641</td>\n",
       "      <td>7.671%</td>\n",
       "    </tr>\n",
       "    <tr>\n",
       "      <th>furniture_decor</th>\n",
       "      <td>8334</td>\n",
       "      <td>7.398%</td>\n",
       "    </tr>\n",
       "    <tr>\n",
       "      <th>computers_accessories</th>\n",
       "      <td>7827</td>\n",
       "      <td>6.948%</td>\n",
       "    </tr>\n",
       "    <tr>\n",
       "      <th>...</th>\n",
       "      <td>...</td>\n",
       "      <td>...</td>\n",
       "    </tr>\n",
       "    <tr>\n",
       "      <th>cds_dvds_musicals</th>\n",
       "      <td>14</td>\n",
       "      <td>0.012%</td>\n",
       "    </tr>\n",
       "    <tr>\n",
       "      <th>la_cuisine</th>\n",
       "      <td>14</td>\n",
       "      <td>0.012%</td>\n",
       "    </tr>\n",
       "    <tr>\n",
       "      <th>pc_gamer</th>\n",
       "      <td>9</td>\n",
       "      <td>0.008%</td>\n",
       "    </tr>\n",
       "    <tr>\n",
       "      <th>fashion_childrens_clothes</th>\n",
       "      <td>8</td>\n",
       "      <td>0.007%</td>\n",
       "    </tr>\n",
       "    <tr>\n",
       "      <th>security_and_services</th>\n",
       "      <td>2</td>\n",
       "      <td>0.002%</td>\n",
       "    </tr>\n",
       "  </tbody>\n",
       "</table>\n",
       "<p>74 rows × 2 columns</p>\n",
       "</div>"
      ],
      "text/plain": [
       "                           Count Percentage\n",
       "product_category_name                      \n",
       "bed_bath_table             11115     9.867%\n",
       "health_beauty               9670     8.584%\n",
       "sports_leisure              8641     7.671%\n",
       "furniture_decor             8334     7.398%\n",
       "computers_accessories       7827     6.948%\n",
       "...                          ...        ...\n",
       "cds_dvds_musicals             14     0.012%\n",
       "la_cuisine                    14     0.012%\n",
       "pc_gamer                       9     0.008%\n",
       "fashion_childrens_clothes      8     0.007%\n",
       "security_and_services          2     0.002%\n",
       "\n",
       "[74 rows x 2 columns]"
      ]
     },
     "execution_count": 174,
     "metadata": {},
     "output_type": "execute_result"
    }
   ],
   "source": [
    "category_counts = order_items_products_df[\"product_category_name\"].value_counts(\n",
    "    ascending=False\n",
    ")\n",
    "total_products = len(order_items_products_df)\n",
    "\n",
    "percentages = (category_counts / total_products * 100).round(3).map(\"{:.3f}%\".format)\n",
    "\n",
    "pd.DataFrame(\n",
    "    {\n",
    "        # \"Category\": category_counts.index,\n",
    "        \"Count\": category_counts.values,\n",
    "        \"Percentage\": percentages,\n",
    "    }\n",
    ")"
   ]
  },
  {
   "cell_type": "markdown",
   "metadata": {},
   "source": [
    "**Insight:**\\\n",
    "Jumlah pembelian berdasarkan kategori produk:\n",
    "- `bed_bath_table` merupakan kategori dengan jumlah pembelian tertinggi, mencakup **9,87%** dari total pembelian semua kategori.\n",
    "- Sebaliknya, `security_and_services` adalah kategori dengan jumlah pembelian terendah, hanya sebesar **0,002%** dari total pembelian."
   ]
  },
  {
   "cell_type": "markdown",
   "metadata": {},
   "source": [
    "### Eksplorasi Data `order_items_products_df` dan `orders_order_reviews_df`"
   ]
  },
  {
   "cell_type": "code",
   "execution_count": 187,
   "metadata": {},
   "outputs": [
    {
     "name": "stdout",
     "output_type": "stream",
     "text": [
      "<class 'pandas.core.frame.DataFrame'>\n",
      "RangeIndex: 112372 entries, 0 to 112371\n",
      "Data columns (total 29 columns):\n",
      " #   Column                         Non-Null Count   Dtype         \n",
      "---  ------                         --------------   -----         \n",
      " 0   order_id                       112372 non-null  object        \n",
      " 1   order_item_id                  112372 non-null  int64         \n",
      " 2   product_id                     112372 non-null  object        \n",
      " 3   seller_id                      112372 non-null  object        \n",
      " 4   shipping_limit_date            112372 non-null  datetime64[ns]\n",
      " 5   price                          112372 non-null  float64       \n",
      " 6   freight_value                  112372 non-null  float64       \n",
      " 7   product_category_name          112372 non-null  object        \n",
      " 8   product_name_lenght            112372 non-null  float64       \n",
      " 9   product_description_lenght     112372 non-null  float64       \n",
      " 10  product_photos_qty             112372 non-null  float64       \n",
      " 11  product_weight_g               112372 non-null  float64       \n",
      " 12  product_length_cm              112372 non-null  float64       \n",
      " 13  product_height_cm              112372 non-null  float64       \n",
      " 14  product_width_cm               112372 non-null  float64       \n",
      " 15  customer_id                    112372 non-null  object        \n",
      " 16  order_status                   112372 non-null  object        \n",
      " 17  order_purchase_timestamp       112372 non-null  datetime64[ns]\n",
      " 18  order_approved_at              112372 non-null  datetime64[ns]\n",
      " 19  order_delivered_carrier_date   111188 non-null  datetime64[ns]\n",
      " 20  order_delivered_customer_date  110012 non-null  datetime64[ns]\n",
      " 21  order_estimated_delivery_date  112372 non-null  datetime64[ns]\n",
      " 22  approval_time_diff             112372 non-null  float64       \n",
      " 23  review_id                      112372 non-null  object        \n",
      " 24  review_score                   112372 non-null  Int64         \n",
      " 25  review_comment_title           112372 non-null  object        \n",
      " 26  review_comment_message         112372 non-null  object        \n",
      " 27  review_creation_date           112372 non-null  datetime64[ns]\n",
      " 28  review_answer_timestamp        112372 non-null  datetime64[ns]\n",
      "dtypes: Int64(1), datetime64[ns](8), float64(10), int64(1), object(9)\n",
      "memory usage: 25.0+ MB\n"
     ]
    }
   ],
   "source": [
    "oor_oip_df = pd.merge(\n",
    "    order_items_products_df,\n",
    "    order_orders_reviews_df,\n",
    "    on=\"order_id\",\n",
    "    how=\"inner\",\n",
    ")\n",
    "\n",
    "oor_oip_df.info()"
   ]
  },
  {
   "cell_type": "code",
   "execution_count": 208,
   "metadata": {},
   "outputs": [
    {
     "data": {
      "text/html": [
       "<div>\n",
       "<style scoped>\n",
       "    .dataframe tbody tr th:only-of-type {\n",
       "        vertical-align: middle;\n",
       "    }\n",
       "\n",
       "    .dataframe tbody tr th {\n",
       "        vertical-align: top;\n",
       "    }\n",
       "\n",
       "    .dataframe thead th {\n",
       "        text-align: right;\n",
       "    }\n",
       "</style>\n",
       "<table border=\"1\" class=\"dataframe\">\n",
       "  <thead>\n",
       "    <tr style=\"text-align: right;\">\n",
       "      <th></th>\n",
       "      <th>Review Count</th>\n",
       "      <th>Average Rating</th>\n",
       "      <th>Percentage</th>\n",
       "    </tr>\n",
       "    <tr>\n",
       "      <th>product_category_name</th>\n",
       "      <th></th>\n",
       "      <th></th>\n",
       "      <th></th>\n",
       "    </tr>\n",
       "  </thead>\n",
       "  <tbody>\n",
       "    <tr>\n",
       "      <th>bed_bath_table</th>\n",
       "      <td>11137</td>\n",
       "      <td>3.9</td>\n",
       "      <td>9.91%</td>\n",
       "    </tr>\n",
       "    <tr>\n",
       "      <th>health_beauty</th>\n",
       "      <td>9645</td>\n",
       "      <td>4.14</td>\n",
       "      <td>8.58%</td>\n",
       "    </tr>\n",
       "    <tr>\n",
       "      <th>sports_leisure</th>\n",
       "      <td>8640</td>\n",
       "      <td>4.11</td>\n",
       "      <td>7.69%</td>\n",
       "    </tr>\n",
       "    <tr>\n",
       "      <th>furniture_decor</th>\n",
       "      <td>8331</td>\n",
       "      <td>3.9</td>\n",
       "      <td>7.41%</td>\n",
       "    </tr>\n",
       "    <tr>\n",
       "      <th>computers_accessories</th>\n",
       "      <td>7849</td>\n",
       "      <td>3.93</td>\n",
       "      <td>6.98%</td>\n",
       "    </tr>\n",
       "    <tr>\n",
       "      <th>...</th>\n",
       "      <td>...</td>\n",
       "      <td>...</td>\n",
       "      <td>...</td>\n",
       "    </tr>\n",
       "    <tr>\n",
       "      <th>cds_dvds_musicals</th>\n",
       "      <td>14</td>\n",
       "      <td>4.64</td>\n",
       "      <td>0.01%</td>\n",
       "    </tr>\n",
       "    <tr>\n",
       "      <th>la_cuisine</th>\n",
       "      <td>13</td>\n",
       "      <td>4.0</td>\n",
       "      <td>0.01%</td>\n",
       "    </tr>\n",
       "    <tr>\n",
       "      <th>pc_gamer</th>\n",
       "      <td>9</td>\n",
       "      <td>3.33</td>\n",
       "      <td>0.01%</td>\n",
       "    </tr>\n",
       "    <tr>\n",
       "      <th>fashion_childrens_clothes</th>\n",
       "      <td>8</td>\n",
       "      <td>4.5</td>\n",
       "      <td>0.01%</td>\n",
       "    </tr>\n",
       "    <tr>\n",
       "      <th>security_and_services</th>\n",
       "      <td>2</td>\n",
       "      <td>2.5</td>\n",
       "      <td>0.00%</td>\n",
       "    </tr>\n",
       "  </tbody>\n",
       "</table>\n",
       "<p>74 rows × 3 columns</p>\n",
       "</div>"
      ],
      "text/plain": [
       "                           Review Count  Average Rating Percentage\n",
       "product_category_name                                             \n",
       "bed_bath_table                    11137             3.9      9.91%\n",
       "health_beauty                      9645            4.14      8.58%\n",
       "sports_leisure                     8640            4.11      7.69%\n",
       "furniture_decor                    8331             3.9      7.41%\n",
       "computers_accessories              7849            3.93      6.98%\n",
       "...                                 ...             ...        ...\n",
       "cds_dvds_musicals                    14            4.64      0.01%\n",
       "la_cuisine                           13             4.0      0.01%\n",
       "pc_gamer                              9            3.33      0.01%\n",
       "fashion_childrens_clothes             8             4.5      0.01%\n",
       "security_and_services                 2             2.5      0.00%\n",
       "\n",
       "[74 rows x 3 columns]"
      ]
     },
     "execution_count": 208,
     "metadata": {},
     "output_type": "execute_result"
    }
   ],
   "source": [
    "category_counts = oor_oip_df.groupby(\"product_category_name\")[\"review_id\"].count()\n",
    "category_ratings = oor_oip_df.groupby(\"product_category_name\")[\"review_score\"].mean()\n",
    "\n",
    "total_reviews = category_counts.sum()\n",
    "category_percentages = (category_counts / total_reviews * 100).round(2)\n",
    "\n",
    "sorted_categories = category_counts.sort_values(ascending=False)\n",
    "\n",
    "category_reviews_df = pd.DataFrame(\n",
    "    {\n",
    "        \"Review Count\": sorted_categories.values,\n",
    "        \"Average Rating\": category_ratings[sorted_categories.index].values.round(2),\n",
    "        \"Percentage\": category_percentages[sorted_categories.index].map(\n",
    "            \"{:.2f}%\".format\n",
    "        ),\n",
    "    },\n",
    "    index=sorted_categories.index,\n",
    ")\n",
    "category_reviews_df"
   ]
  },
  {
   "cell_type": "markdown",
   "metadata": {},
   "source": [
    "Dalam menentukan **Best Seller** berdasarkan 5 produk terlaris, kita bisa menerapkan pendekatan *Bayesian Average Rating*. Metode ini memanfaatkan rumus Bayes untuk mengkalkulasi peringkat yang lebih berimbang. Penghitungannya mempertimbangkan beberapa faktor: banyaknya ulasan per produk, nilai rata-rata tiap produk, serta rata-rata penilaian secara menyeluruh.\\\n",
    "Keunggulan metode ini terletak pada kemampuannya memberikan penilaian yang lebih tepat, terutama untuk produk-produk dengan jumlah ulasan yang relatif sedikit. Dengan demikian, kita bisa mendapatkan gambaran yang lebih akurat tentang kualitas dan popularitas produk, tanpa terlalu dipengaruhi oleh perbedaan jumlah ulasan antar produk.\n",
    "\n",
    "$$\n",
    "\\text{Bayesian Average Rating} = \\frac{v \\cdot R + m \\cdot C}{v + m}\n",
    "$$\n",
    "\n",
    "Dimana:\\\n",
    "***v*** = Number of reviews for the product\\\n",
    "***R*** = Average rating of the product\\\n",
    "***C*** = Overall average rating across all products\\\n",
    "***m*** = Minimum number of reviews required for a product to be considered"
   ]
  },
  {
   "cell_type": "code",
   "execution_count": 229,
   "metadata": {},
   "outputs": [
    {
     "data": {
      "text/html": [
       "<div>\n",
       "<style scoped>\n",
       "    .dataframe tbody tr th:only-of-type {\n",
       "        vertical-align: middle;\n",
       "    }\n",
       "\n",
       "    .dataframe tbody tr th {\n",
       "        vertical-align: top;\n",
       "    }\n",
       "\n",
       "    .dataframe thead th {\n",
       "        text-align: right;\n",
       "    }\n",
       "</style>\n",
       "<table border=\"1\" class=\"dataframe\">\n",
       "  <thead>\n",
       "    <tr style=\"text-align: right;\">\n",
       "      <th></th>\n",
       "      <th>Review Count</th>\n",
       "      <th>Bayesian Average Rating</th>\n",
       "    </tr>\n",
       "    <tr>\n",
       "      <th>product_category_name</th>\n",
       "      <th></th>\n",
       "      <th></th>\n",
       "    </tr>\n",
       "  </thead>\n",
       "  <tbody>\n",
       "    <tr>\n",
       "      <th>health_beauty</th>\n",
       "      <td>9645</td>\n",
       "      <td>4.12</td>\n",
       "    </tr>\n",
       "    <tr>\n",
       "      <th>sports_leisure</th>\n",
       "      <td>8640</td>\n",
       "      <td>4.1</td>\n",
       "    </tr>\n",
       "    <tr>\n",
       "      <th>computers_accessories</th>\n",
       "      <td>7849</td>\n",
       "      <td>3.95</td>\n",
       "    </tr>\n",
       "    <tr>\n",
       "      <th>bed_bath_table</th>\n",
       "      <td>11137</td>\n",
       "      <td>3.92</td>\n",
       "    </tr>\n",
       "    <tr>\n",
       "      <th>furniture_decor</th>\n",
       "      <td>8331</td>\n",
       "      <td>3.92</td>\n",
       "    </tr>\n",
       "  </tbody>\n",
       "</table>\n",
       "</div>"
      ],
      "text/plain": [
       "                       Review Count  Bayesian Average Rating\n",
       "product_category_name                                       \n",
       "health_beauty                  9645                     4.12\n",
       "sports_leisure                 8640                      4.1\n",
       "computers_accessories          7849                     3.95\n",
       "bed_bath_table                11137                     3.92\n",
       "furniture_decor                8331                     3.92"
      ]
     },
     "execution_count": 229,
     "metadata": {},
     "output_type": "execute_result"
    }
   ],
   "source": [
    "# Calculate the overall average rating (C)\n",
    "C = category_reviews_df[\"Average Rating\"].mean()\n",
    "\n",
    "# Determine the minimum reviews threshold (m)\n",
    "m = category_reviews_df[\"Review Count\"].quantile(\n",
    "    0.75\n",
    ")  # Using the 75th percentile as the threshold\n",
    "\n",
    "# Calculate the Bayesian value for each product\n",
    "top_5_products = category_reviews_df.head(5).index.tolist()\n",
    "bayesian_ratings = (\n",
    "    (\n",
    "        category_reviews_df.loc[top_5_products, \"Review Count\"]\n",
    "        * category_reviews_df.loc[top_5_products, \"Average Rating\"]\n",
    "        + m * C\n",
    "    )\n",
    "    / (category_reviews_df.loc[top_5_products, \"Review Count\"] + m)\n",
    ").round(2)\n",
    "\n",
    "pd.DataFrame(\n",
    "    {\n",
    "        # \"product_category_name\": top_5_products,\n",
    "        \"Review Count\": category_reviews_df.loc[top_5_products, \"Review Count\"],\n",
    "        # \"Average Rating\": category_reviews_df.loc[top_5_products, \"Average Rating\"],\n",
    "        # \"Percentage\": category_reviews_df.loc[top_5_products, \"Percentage\"],\n",
    "        \"Bayesian Average Rating\": bayesian_ratings,\n",
    "    }\n",
    ").sort_values(by=\"Bayesian Average Rating\", ascending=False)"
   ]
  },
  {
   "cell_type": "markdown",
   "metadata": {},
   "source": [
    "**Insight:**\\\n",
    "Kategori produk dengan **ulasan terbanyak** yakni `bed_bath_table` dengan **11.137** ulasan **(mendapat 9,91% dari total ulasan)**. Meskipun memiliki jumlah ulasan tertinggi, rata-rata ratingnya hanya **3,9**.\\\n",
    "Kategori produk dengan **ulasan terendah** yakni `security_and_services` yang hanya mendapat **2** ulasan dengan rata-rata rating **2,5**.\n",
    "\n",
    "Kategori produk `health_beauty` memiliki *Bayesian Average Rating* tertinggi, yaitu **4,12**. Hal ini menunjukkan bahwa produk di kategori ini paling memuaskan dibandingkan kategori lainnya, meskipun jumlah ulasannya tidak paling tinggi."
   ]
  },
  {
   "cell_type": "markdown",
   "metadata": {},
   "source": [
    "### Eksplorasi Data `order_payments_df`"
   ]
  },
  {
   "cell_type": "code",
   "execution_count": 110,
   "metadata": {},
   "outputs": [
    {
     "name": "stdout",
     "output_type": "stream",
     "text": [
      "<class 'pandas.core.frame.DataFrame'>\n",
      "RangeIndex: 103886 entries, 0 to 103885\n",
      "Data columns (total 5 columns):\n",
      " #   Column                Non-Null Count   Dtype  \n",
      "---  ------                --------------   -----  \n",
      " 0   order_id              103886 non-null  object \n",
      " 1   payment_sequential    103886 non-null  int64  \n",
      " 2   payment_type          103886 non-null  object \n",
      " 3   payment_installments  103886 non-null  int64  \n",
      " 4   payment_value         103886 non-null  float64\n",
      "dtypes: float64(1), int64(2), object(2)\n",
      "memory usage: 4.0+ MB\n",
      "\n",
      "(rows, collumns): \t\t\t(103886, 5)\n",
      "nunique of order_id: \t\t\t99440\n",
      "nunique of payment_type: \t\t5\n",
      "\n",
      "Number of duplicate rows: \t\t0\n",
      "Number of duplicate in order_id: \t4446\n"
     ]
    }
   ],
   "source": [
    "order_payments_df.info()\n",
    "\n",
    "print(f\"\\n(rows, collumns): \\t\\t\\t{order_payments_df.shape}\")\n",
    "print(f\"nunique of order_id: \\t\\t\\t{order_payments_df['order_id'].nunique()}\")\n",
    "print(f\"nunique of payment_type: \\t\\t{order_payments_df['payment_type'].nunique()}\")\n",
    "\n",
    "print(f\"\\nNumber of duplicate rows: \\t\\t{order_payments_df.duplicated().sum()}\")\n",
    "print(\n",
    "    f\"Number of duplicate in order_id: \\t{order_payments_df['order_id'].duplicated().sum()}\"\n",
    ")"
   ]
  },
  {
   "cell_type": "code",
   "execution_count": 111,
   "metadata": {},
   "outputs": [
    {
     "data": {
      "text/html": [
       "<div>\n",
       "<style scoped>\n",
       "    .dataframe tbody tr th:only-of-type {\n",
       "        vertical-align: middle;\n",
       "    }\n",
       "\n",
       "    .dataframe tbody tr th {\n",
       "        vertical-align: top;\n",
       "    }\n",
       "\n",
       "    .dataframe thead th {\n",
       "        text-align: right;\n",
       "    }\n",
       "</style>\n",
       "<table border=\"1\" class=\"dataframe\">\n",
       "  <thead>\n",
       "    <tr style=\"text-align: right;\">\n",
       "      <th></th>\n",
       "      <th>order_id</th>\n",
       "      <th>payment_sequential</th>\n",
       "      <th>payment_type</th>\n",
       "      <th>payment_installments</th>\n",
       "      <th>payment_value</th>\n",
       "    </tr>\n",
       "  </thead>\n",
       "  <tbody>\n",
       "    <tr>\n",
       "      <th>28537</th>\n",
       "      <td>ffc730a0615d28ec19f9cad02cb41442</td>\n",
       "      <td>2</td>\n",
       "      <td>credit_card</td>\n",
       "      <td>1</td>\n",
       "      <td>12.63</td>\n",
       "    </tr>\n",
       "    <tr>\n",
       "      <th>75188</th>\n",
       "      <td>ffc730a0615d28ec19f9cad02cb41442</td>\n",
       "      <td>1</td>\n",
       "      <td>credit_card</td>\n",
       "      <td>1</td>\n",
       "      <td>14.76</td>\n",
       "    </tr>\n",
       "    <tr>\n",
       "      <th>3009</th>\n",
       "      <td>ffa39020fe7c8a3e907320e1bec4b985</td>\n",
       "      <td>2</td>\n",
       "      <td>voucher</td>\n",
       "      <td>1</td>\n",
       "      <td>64.01</td>\n",
       "    </tr>\n",
       "    <tr>\n",
       "      <th>32912</th>\n",
       "      <td>ffa39020fe7c8a3e907320e1bec4b985</td>\n",
       "      <td>1</td>\n",
       "      <td>credit_card</td>\n",
       "      <td>1</td>\n",
       "      <td>7.13</td>\n",
       "    </tr>\n",
       "  </tbody>\n",
       "</table>\n",
       "</div>"
      ],
      "text/plain": [
       "                               order_id  payment_sequential payment_type  \\\n",
       "28537  ffc730a0615d28ec19f9cad02cb41442                   2  credit_card   \n",
       "75188  ffc730a0615d28ec19f9cad02cb41442                   1  credit_card   \n",
       "3009   ffa39020fe7c8a3e907320e1bec4b985                   2      voucher   \n",
       "32912  ffa39020fe7c8a3e907320e1bec4b985                   1  credit_card   \n",
       "\n",
       "       payment_installments  payment_value  \n",
       "28537                     1          12.63  \n",
       "75188                     1          14.76  \n",
       "3009                      1          64.01  \n",
       "32912                     1           7.13  "
      ]
     },
     "execution_count": 111,
     "metadata": {},
     "output_type": "execute_result"
    }
   ],
   "source": [
    "# Baris yang duplikat berdasarkan order_id\n",
    "duplicated_order_id = order_payments_df[\n",
    "    order_payments_df.duplicated(\"order_id\", keep=False)\n",
    "]\n",
    "duplicated_order_id.sort_values(by=\"order_id\", ascending=False).head(4)"
   ]
  },
  {
   "cell_type": "code",
   "execution_count": 112,
   "metadata": {},
   "outputs": [],
   "source": [
    "# order_payments_df.pivot_table(\n",
    "#     index=\"payment_type\", values=\"order_id\", aggfunc=\"nunique\"\n",
    "# ).sort_values(by=\"order_id\", ascending=False)"
   ]
  },
  {
   "cell_type": "code",
   "execution_count": 113,
   "metadata": {},
   "outputs": [
    {
     "data": {
      "text/html": [
       "<div>\n",
       "<style scoped>\n",
       "    .dataframe tbody tr th:only-of-type {\n",
       "        vertical-align: middle;\n",
       "    }\n",
       "\n",
       "    .dataframe tbody tr th {\n",
       "        vertical-align: top;\n",
       "    }\n",
       "\n",
       "    .dataframe thead th {\n",
       "        text-align: right;\n",
       "    }\n",
       "</style>\n",
       "<table border=\"1\" class=\"dataframe\">\n",
       "  <thead>\n",
       "    <tr style=\"text-align: right;\">\n",
       "      <th></th>\n",
       "      <th>order_id</th>\n",
       "      <th>payment_sequential</th>\n",
       "      <th>payment_type</th>\n",
       "      <th>payment_installments</th>\n",
       "      <th>payment_value</th>\n",
       "    </tr>\n",
       "  </thead>\n",
       "  <tbody>\n",
       "    <tr>\n",
       "      <th>51280</th>\n",
       "      <td>4637ca194b6387e2d538dc89b124b0ee</td>\n",
       "      <td>1</td>\n",
       "      <td>not_defined</td>\n",
       "      <td>1</td>\n",
       "      <td>0.0</td>\n",
       "    </tr>\n",
       "    <tr>\n",
       "      <th>57411</th>\n",
       "      <td>00b1cb0320190ca0daa2c88b35206009</td>\n",
       "      <td>1</td>\n",
       "      <td>not_defined</td>\n",
       "      <td>1</td>\n",
       "      <td>0.0</td>\n",
       "    </tr>\n",
       "    <tr>\n",
       "      <th>94427</th>\n",
       "      <td>c8c528189310eaa44a745b8d9d26908b</td>\n",
       "      <td>1</td>\n",
       "      <td>not_defined</td>\n",
       "      <td>1</td>\n",
       "      <td>0.0</td>\n",
       "    </tr>\n",
       "  </tbody>\n",
       "</table>\n",
       "</div>"
      ],
      "text/plain": [
       "                               order_id  payment_sequential payment_type  \\\n",
       "51280  4637ca194b6387e2d538dc89b124b0ee                   1  not_defined   \n",
       "57411  00b1cb0320190ca0daa2c88b35206009                   1  not_defined   \n",
       "94427  c8c528189310eaa44a745b8d9d26908b                   1  not_defined   \n",
       "\n",
       "       payment_installments  payment_value  \n",
       "51280                     1            0.0  \n",
       "57411                     1            0.0  \n",
       "94427                     1            0.0  "
      ]
     },
     "execution_count": 113,
     "metadata": {},
     "output_type": "execute_result"
    }
   ],
   "source": [
    "# Rows yang memiliki nilai not_defined pada kolom payment_type\n",
    "not_defined_payment = order_payments_df[\n",
    "    order_payments_df[\"payment_type\"] == \"not_defined\"\n",
    "]\n",
    "not_defined_payment"
   ]
  },
  {
   "cell_type": "code",
   "execution_count": 114,
   "metadata": {},
   "outputs": [
    {
     "data": {
      "text/html": [
       "<div>\n",
       "<style scoped>\n",
       "    .dataframe tbody tr th:only-of-type {\n",
       "        vertical-align: middle;\n",
       "    }\n",
       "\n",
       "    .dataframe tbody tr th {\n",
       "        vertical-align: top;\n",
       "    }\n",
       "\n",
       "    .dataframe thead th {\n",
       "        text-align: right;\n",
       "    }\n",
       "</style>\n",
       "<table border=\"1\" class=\"dataframe\">\n",
       "  <thead>\n",
       "    <tr style=\"text-align: right;\">\n",
       "      <th></th>\n",
       "      <th>payment_sequential</th>\n",
       "      <th>payment_installments</th>\n",
       "      <th>payment_value</th>\n",
       "    </tr>\n",
       "  </thead>\n",
       "  <tbody>\n",
       "    <tr>\n",
       "      <th>count</th>\n",
       "      <td>103886.00</td>\n",
       "      <td>103886.00</td>\n",
       "      <td>103886.00</td>\n",
       "    </tr>\n",
       "    <tr>\n",
       "      <th>mean</th>\n",
       "      <td>1.09</td>\n",
       "      <td>2.85</td>\n",
       "      <td>154.10</td>\n",
       "    </tr>\n",
       "    <tr>\n",
       "      <th>std</th>\n",
       "      <td>0.71</td>\n",
       "      <td>2.69</td>\n",
       "      <td>217.49</td>\n",
       "    </tr>\n",
       "    <tr>\n",
       "      <th>min</th>\n",
       "      <td>1.00</td>\n",
       "      <td>0.00</td>\n",
       "      <td>0.00</td>\n",
       "    </tr>\n",
       "    <tr>\n",
       "      <th>25%</th>\n",
       "      <td>1.00</td>\n",
       "      <td>1.00</td>\n",
       "      <td>56.79</td>\n",
       "    </tr>\n",
       "    <tr>\n",
       "      <th>50%</th>\n",
       "      <td>1.00</td>\n",
       "      <td>1.00</td>\n",
       "      <td>100.00</td>\n",
       "    </tr>\n",
       "    <tr>\n",
       "      <th>75%</th>\n",
       "      <td>1.00</td>\n",
       "      <td>4.00</td>\n",
       "      <td>171.84</td>\n",
       "    </tr>\n",
       "    <tr>\n",
       "      <th>max</th>\n",
       "      <td>29.00</td>\n",
       "      <td>24.00</td>\n",
       "      <td>13664.08</td>\n",
       "    </tr>\n",
       "  </tbody>\n",
       "</table>\n",
       "</div>"
      ],
      "text/plain": [
       "       payment_sequential  payment_installments  payment_value\n",
       "count           103886.00             103886.00      103886.00\n",
       "mean                 1.09                  2.85         154.10\n",
       "std                  0.71                  2.69         217.49\n",
       "min                  1.00                  0.00           0.00\n",
       "25%                  1.00                  1.00          56.79\n",
       "50%                  1.00                  1.00         100.00\n",
       "75%                  1.00                  4.00         171.84\n",
       "max                 29.00                 24.00       13664.08"
      ]
     },
     "execution_count": 114,
     "metadata": {},
     "output_type": "execute_result"
    }
   ],
   "source": [
    "order_payments_df.describe().round(2)"
   ]
  },
  {
   "cell_type": "markdown",
   "metadata": {},
   "source": [
    "**Insight:**\n",
    "1. Nunique of `order_id`:\n",
    "    - Dataset ini mencakup **103886** entri, dengan **99440** pesanan unik. \n",
    "    - Terdapat **4446** pesanan yang memiliki entri duplikat pada `order_id`\n",
    "    - Ini menunjukkan bahwa beberapa pesanan memiliki lebih dari satu pembayaran, juga menunjukkan pesanan dibayar dengan beberapa metode atau cicilan.\n",
    "2. Berdasarkan nilai quartil `payment_installments`, sebagian besar pelanggan melakukan pembayaran dalam **1** hingga **4** cicilan\n",
    "3. Nilai pembayaran berkisar dari **0** hingga **13.664,08** dengan Rata-Rata di Sekitar **154,10**"
   ]
  },
  {
   "cell_type": "markdown",
   "metadata": {},
   "source": [
    "### Eksplorasi Data `order_items_products_df` dan `order_payments_df`"
   ]
  },
  {
   "cell_type": "code",
   "execution_count": 115,
   "metadata": {},
   "outputs": [],
   "source": [
    "merged_df = pd.merge(\n",
    "    order_items_products_df,\n",
    "    order_payments_df,\n",
    "    on=\"order_id\",\n",
    "    how=\"inner\",\n",
    ")"
   ]
  },
  {
   "cell_type": "code",
   "execution_count": 116,
   "metadata": {},
   "outputs": [
    {
     "name": "stdout",
     "output_type": "stream",
     "text": [
      "<class 'pandas.core.frame.DataFrame'>\n",
      "RangeIndex: 117601 entries, 0 to 117600\n",
      "Data columns (total 19 columns):\n",
      " #   Column                      Non-Null Count   Dtype         \n",
      "---  ------                      --------------   -----         \n",
      " 0   order_id                    117601 non-null  object        \n",
      " 1   order_item_id               117601 non-null  int64         \n",
      " 2   product_id                  117601 non-null  object        \n",
      " 3   seller_id                   117601 non-null  object        \n",
      " 4   shipping_limit_date         117601 non-null  datetime64[ns]\n",
      " 5   price                       117601 non-null  float64       \n",
      " 6   freight_value               117601 non-null  float64       \n",
      " 7   product_category_name       117601 non-null  object        \n",
      " 8   product_name_lenght         117601 non-null  float64       \n",
      " 9   product_description_lenght  117601 non-null  float64       \n",
      " 10  product_photos_qty          117601 non-null  float64       \n",
      " 11  product_weight_g            117601 non-null  float64       \n",
      " 12  product_length_cm           117601 non-null  float64       \n",
      " 13  product_height_cm           117601 non-null  float64       \n",
      " 14  product_width_cm            117601 non-null  float64       \n",
      " 15  payment_sequential          117601 non-null  int64         \n",
      " 16  payment_type                117601 non-null  object        \n",
      " 17  payment_installments        117601 non-null  int64         \n",
      " 18  payment_value               117601 non-null  float64       \n",
      "dtypes: datetime64[ns](1), float64(10), int64(3), object(5)\n",
      "memory usage: 17.0+ MB\n"
     ]
    }
   ],
   "source": [
    "merged_df.info()"
   ]
  },
  {
   "cell_type": "code",
   "execution_count": 118,
   "metadata": {},
   "outputs": [
    {
     "data": {
      "text/html": [
       "<div>\n",
       "<style scoped>\n",
       "    .dataframe tbody tr th:only-of-type {\n",
       "        vertical-align: middle;\n",
       "    }\n",
       "\n",
       "    .dataframe tbody tr th {\n",
       "        vertical-align: top;\n",
       "    }\n",
       "\n",
       "    .dataframe thead th {\n",
       "        text-align: right;\n",
       "    }\n",
       "</style>\n",
       "<table border=\"1\" class=\"dataframe\">\n",
       "  <thead>\n",
       "    <tr style=\"text-align: right;\">\n",
       "      <th></th>\n",
       "      <th>1697</th>\n",
       "      <th>1696</th>\n",
       "      <th>1690</th>\n",
       "      <th>1691</th>\n",
       "      <th>1692</th>\n",
       "    </tr>\n",
       "  </thead>\n",
       "  <tbody>\n",
       "    <tr>\n",
       "      <th>order_id</th>\n",
       "      <td>03caa2c082116e1d31e67e9ae3700499</td>\n",
       "      <td>03caa2c082116e1d31e67e9ae3700499</td>\n",
       "      <td>03caa2c082116e1d31e67e9ae3700499</td>\n",
       "      <td>03caa2c082116e1d31e67e9ae3700499</td>\n",
       "      <td>03caa2c082116e1d31e67e9ae3700499</td>\n",
       "    </tr>\n",
       "    <tr>\n",
       "      <th>order_item_id</th>\n",
       "      <td>8</td>\n",
       "      <td>7</td>\n",
       "      <td>1</td>\n",
       "      <td>2</td>\n",
       "      <td>3</td>\n",
       "    </tr>\n",
       "    <tr>\n",
       "      <th>product_id</th>\n",
       "      <td>5769ef0a239114ac3a854af00df129e4</td>\n",
       "      <td>5769ef0a239114ac3a854af00df129e4</td>\n",
       "      <td>5769ef0a239114ac3a854af00df129e4</td>\n",
       "      <td>5769ef0a239114ac3a854af00df129e4</td>\n",
       "      <td>5769ef0a239114ac3a854af00df129e4</td>\n",
       "    </tr>\n",
       "    <tr>\n",
       "      <th>seller_id</th>\n",
       "      <td>b37c4c02bda3161a7546a4e6d222d5b2</td>\n",
       "      <td>b37c4c02bda3161a7546a4e6d222d5b2</td>\n",
       "      <td>b37c4c02bda3161a7546a4e6d222d5b2</td>\n",
       "      <td>b37c4c02bda3161a7546a4e6d222d5b2</td>\n",
       "      <td>b37c4c02bda3161a7546a4e6d222d5b2</td>\n",
       "    </tr>\n",
       "    <tr>\n",
       "      <th>shipping_limit_date</th>\n",
       "      <td>2017-10-06 15:28:20</td>\n",
       "      <td>2017-10-06 15:28:20</td>\n",
       "      <td>2017-10-06 15:28:20</td>\n",
       "      <td>2017-10-06 15:28:20</td>\n",
       "      <td>2017-10-06 15:28:20</td>\n",
       "    </tr>\n",
       "    <tr>\n",
       "      <th>price</th>\n",
       "      <td>1680.0</td>\n",
       "      <td>1680.0</td>\n",
       "      <td>1680.0</td>\n",
       "      <td>1680.0</td>\n",
       "      <td>1680.0</td>\n",
       "    </tr>\n",
       "    <tr>\n",
       "      <th>freight_value</th>\n",
       "      <td>28.01</td>\n",
       "      <td>28.01</td>\n",
       "      <td>28.01</td>\n",
       "      <td>28.01</td>\n",
       "      <td>28.01</td>\n",
       "    </tr>\n",
       "    <tr>\n",
       "      <th>product_category_name</th>\n",
       "      <td>fixed_telephony</td>\n",
       "      <td>fixed_telephony</td>\n",
       "      <td>fixed_telephony</td>\n",
       "      <td>fixed_telephony</td>\n",
       "      <td>fixed_telephony</td>\n",
       "    </tr>\n",
       "    <tr>\n",
       "      <th>product_name_lenght</th>\n",
       "      <td>39.0</td>\n",
       "      <td>39.0</td>\n",
       "      <td>39.0</td>\n",
       "      <td>39.0</td>\n",
       "      <td>39.0</td>\n",
       "    </tr>\n",
       "    <tr>\n",
       "      <th>product_description_lenght</th>\n",
       "      <td>2493.0</td>\n",
       "      <td>2493.0</td>\n",
       "      <td>2493.0</td>\n",
       "      <td>2493.0</td>\n",
       "      <td>2493.0</td>\n",
       "    </tr>\n",
       "    <tr>\n",
       "      <th>product_photos_qty</th>\n",
       "      <td>3.0</td>\n",
       "      <td>3.0</td>\n",
       "      <td>3.0</td>\n",
       "      <td>3.0</td>\n",
       "      <td>3.0</td>\n",
       "    </tr>\n",
       "    <tr>\n",
       "      <th>product_weight_g</th>\n",
       "      <td>750.0</td>\n",
       "      <td>750.0</td>\n",
       "      <td>750.0</td>\n",
       "      <td>750.0</td>\n",
       "      <td>750.0</td>\n",
       "    </tr>\n",
       "    <tr>\n",
       "      <th>product_length_cm</th>\n",
       "      <td>16.0</td>\n",
       "      <td>16.0</td>\n",
       "      <td>16.0</td>\n",
       "      <td>16.0</td>\n",
       "      <td>16.0</td>\n",
       "    </tr>\n",
       "    <tr>\n",
       "      <th>product_height_cm</th>\n",
       "      <td>16.0</td>\n",
       "      <td>16.0</td>\n",
       "      <td>16.0</td>\n",
       "      <td>16.0</td>\n",
       "      <td>16.0</td>\n",
       "    </tr>\n",
       "    <tr>\n",
       "      <th>product_width_cm</th>\n",
       "      <td>16.0</td>\n",
       "      <td>16.0</td>\n",
       "      <td>16.0</td>\n",
       "      <td>16.0</td>\n",
       "      <td>16.0</td>\n",
       "    </tr>\n",
       "    <tr>\n",
       "      <th>payment_sequential</th>\n",
       "      <td>1</td>\n",
       "      <td>1</td>\n",
       "      <td>1</td>\n",
       "      <td>1</td>\n",
       "      <td>1</td>\n",
       "    </tr>\n",
       "    <tr>\n",
       "      <th>payment_type</th>\n",
       "      <td>credit_card</td>\n",
       "      <td>credit_card</td>\n",
       "      <td>credit_card</td>\n",
       "      <td>credit_card</td>\n",
       "      <td>credit_card</td>\n",
       "    </tr>\n",
       "    <tr>\n",
       "      <th>payment_installments</th>\n",
       "      <td>1</td>\n",
       "      <td>1</td>\n",
       "      <td>1</td>\n",
       "      <td>1</td>\n",
       "      <td>1</td>\n",
       "    </tr>\n",
       "    <tr>\n",
       "      <th>payment_value</th>\n",
       "      <td>13664.08</td>\n",
       "      <td>13664.08</td>\n",
       "      <td>13664.08</td>\n",
       "      <td>13664.08</td>\n",
       "      <td>13664.08</td>\n",
       "    </tr>\n",
       "  </tbody>\n",
       "</table>\n",
       "</div>"
      ],
      "text/plain": [
       "                                                        1697  \\\n",
       "order_id                    03caa2c082116e1d31e67e9ae3700499   \n",
       "order_item_id                                              8   \n",
       "product_id                  5769ef0a239114ac3a854af00df129e4   \n",
       "seller_id                   b37c4c02bda3161a7546a4e6d222d5b2   \n",
       "shipping_limit_date                      2017-10-06 15:28:20   \n",
       "price                                                 1680.0   \n",
       "freight_value                                          28.01   \n",
       "product_category_name                        fixed_telephony   \n",
       "product_name_lenght                                     39.0   \n",
       "product_description_lenght                            2493.0   \n",
       "product_photos_qty                                       3.0   \n",
       "product_weight_g                                       750.0   \n",
       "product_length_cm                                       16.0   \n",
       "product_height_cm                                       16.0   \n",
       "product_width_cm                                        16.0   \n",
       "payment_sequential                                         1   \n",
       "payment_type                                     credit_card   \n",
       "payment_installments                                       1   \n",
       "payment_value                                       13664.08   \n",
       "\n",
       "                                                        1696  \\\n",
       "order_id                    03caa2c082116e1d31e67e9ae3700499   \n",
       "order_item_id                                              7   \n",
       "product_id                  5769ef0a239114ac3a854af00df129e4   \n",
       "seller_id                   b37c4c02bda3161a7546a4e6d222d5b2   \n",
       "shipping_limit_date                      2017-10-06 15:28:20   \n",
       "price                                                 1680.0   \n",
       "freight_value                                          28.01   \n",
       "product_category_name                        fixed_telephony   \n",
       "product_name_lenght                                     39.0   \n",
       "product_description_lenght                            2493.0   \n",
       "product_photos_qty                                       3.0   \n",
       "product_weight_g                                       750.0   \n",
       "product_length_cm                                       16.0   \n",
       "product_height_cm                                       16.0   \n",
       "product_width_cm                                        16.0   \n",
       "payment_sequential                                         1   \n",
       "payment_type                                     credit_card   \n",
       "payment_installments                                       1   \n",
       "payment_value                                       13664.08   \n",
       "\n",
       "                                                        1690  \\\n",
       "order_id                    03caa2c082116e1d31e67e9ae3700499   \n",
       "order_item_id                                              1   \n",
       "product_id                  5769ef0a239114ac3a854af00df129e4   \n",
       "seller_id                   b37c4c02bda3161a7546a4e6d222d5b2   \n",
       "shipping_limit_date                      2017-10-06 15:28:20   \n",
       "price                                                 1680.0   \n",
       "freight_value                                          28.01   \n",
       "product_category_name                        fixed_telephony   \n",
       "product_name_lenght                                     39.0   \n",
       "product_description_lenght                            2493.0   \n",
       "product_photos_qty                                       3.0   \n",
       "product_weight_g                                       750.0   \n",
       "product_length_cm                                       16.0   \n",
       "product_height_cm                                       16.0   \n",
       "product_width_cm                                        16.0   \n",
       "payment_sequential                                         1   \n",
       "payment_type                                     credit_card   \n",
       "payment_installments                                       1   \n",
       "payment_value                                       13664.08   \n",
       "\n",
       "                                                        1691  \\\n",
       "order_id                    03caa2c082116e1d31e67e9ae3700499   \n",
       "order_item_id                                              2   \n",
       "product_id                  5769ef0a239114ac3a854af00df129e4   \n",
       "seller_id                   b37c4c02bda3161a7546a4e6d222d5b2   \n",
       "shipping_limit_date                      2017-10-06 15:28:20   \n",
       "price                                                 1680.0   \n",
       "freight_value                                          28.01   \n",
       "product_category_name                        fixed_telephony   \n",
       "product_name_lenght                                     39.0   \n",
       "product_description_lenght                            2493.0   \n",
       "product_photos_qty                                       3.0   \n",
       "product_weight_g                                       750.0   \n",
       "product_length_cm                                       16.0   \n",
       "product_height_cm                                       16.0   \n",
       "product_width_cm                                        16.0   \n",
       "payment_sequential                                         1   \n",
       "payment_type                                     credit_card   \n",
       "payment_installments                                       1   \n",
       "payment_value                                       13664.08   \n",
       "\n",
       "                                                        1692  \n",
       "order_id                    03caa2c082116e1d31e67e9ae3700499  \n",
       "order_item_id                                              3  \n",
       "product_id                  5769ef0a239114ac3a854af00df129e4  \n",
       "seller_id                   b37c4c02bda3161a7546a4e6d222d5b2  \n",
       "shipping_limit_date                      2017-10-06 15:28:20  \n",
       "price                                                 1680.0  \n",
       "freight_value                                          28.01  \n",
       "product_category_name                        fixed_telephony  \n",
       "product_name_lenght                                     39.0  \n",
       "product_description_lenght                            2493.0  \n",
       "product_photos_qty                                       3.0  \n",
       "product_weight_g                                       750.0  \n",
       "product_length_cm                                       16.0  \n",
       "product_height_cm                                       16.0  \n",
       "product_width_cm                                        16.0  \n",
       "payment_sequential                                         1  \n",
       "payment_type                                     credit_card  \n",
       "payment_installments                                       1  \n",
       "payment_value                                       13664.08  "
      ]
     },
     "execution_count": 118,
     "metadata": {},
     "output_type": "execute_result"
    }
   ],
   "source": [
    "merged_df.sort_values(by=\"payment_value\", ascending=False).head().T"
   ]
  },
  {
   "cell_type": "code",
   "execution_count": 139,
   "metadata": {},
   "outputs": [
    {
     "data": {
      "text/html": [
       "<div>\n",
       "<style scoped>\n",
       "    .dataframe tbody tr th:only-of-type {\n",
       "        vertical-align: middle;\n",
       "    }\n",
       "\n",
       "    .dataframe tbody tr th {\n",
       "        vertical-align: top;\n",
       "    }\n",
       "\n",
       "    .dataframe thead th {\n",
       "        text-align: right;\n",
       "    }\n",
       "</style>\n",
       "<table border=\"1\" class=\"dataframe\">\n",
       "  <thead>\n",
       "    <tr style=\"text-align: right;\">\n",
       "      <th></th>\n",
       "      <th>Count</th>\n",
       "      <th>Percentage</th>\n",
       "    </tr>\n",
       "    <tr>\n",
       "      <th>payment_type</th>\n",
       "      <th></th>\n",
       "      <th></th>\n",
       "    </tr>\n",
       "  </thead>\n",
       "  <tbody>\n",
       "    <tr>\n",
       "      <th>credit_card</th>\n",
       "      <td>86769</td>\n",
       "      <td>73.78%</td>\n",
       "    </tr>\n",
       "    <tr>\n",
       "      <th>boleto</th>\n",
       "      <td>22867</td>\n",
       "      <td>19.44%</td>\n",
       "    </tr>\n",
       "    <tr>\n",
       "      <th>voucher</th>\n",
       "      <td>6274</td>\n",
       "      <td>5.33%</td>\n",
       "    </tr>\n",
       "    <tr>\n",
       "      <th>debit_card</th>\n",
       "      <td>1691</td>\n",
       "      <td>1.44%</td>\n",
       "    </tr>\n",
       "  </tbody>\n",
       "</table>\n",
       "</div>"
      ],
      "text/plain": [
       "              Count Percentage\n",
       "payment_type                  \n",
       "credit_card   86769     73.78%\n",
       "boleto        22867     19.44%\n",
       "voucher        6274      5.33%\n",
       "debit_card     1691      1.44%"
      ]
     },
     "execution_count": 139,
     "metadata": {},
     "output_type": "execute_result"
    }
   ],
   "source": [
    "payment_counts = merged_df[\"payment_type\"].value_counts()\n",
    "total_payments = payment_counts.sum()\n",
    "payment_percentages = (payment_counts / total_payments) * 100\n",
    "\n",
    "pd.DataFrame(\n",
    "    {\n",
    "        \"Count\": payment_counts.values,\n",
    "        \"Percentage\": payment_percentages.round(2).map(\"{:.2f}%\".format),\n",
    "    }\n",
    ")"
   ]
  },
  {
   "cell_type": "markdown",
   "metadata": {},
   "source": [
    "**Insight:**\\\n",
    "Kategori produk `fixed_telephony` memiliki nilai pembayaran tertinggi dengan total sebesar **13664.08**.\\\n",
    "Sementara itu, metode pembayaran `credit_card` menjadi yang paling dominan digunakan oleh pembeli, mencakup **73.78%** dari seluruh transaksi."
   ]
  },
  {
   "cell_type": "code",
   "execution_count": 120,
   "metadata": {},
   "outputs": [
    {
     "name": "stdout",
     "output_type": "stream",
     "text": [
      "              seller_id\n",
      "seller_state           \n",
      "SP                 1849\n",
      "PR                  349\n",
      "MG                  244\n",
      "SC                  190\n",
      "RJ                  171\n",
      "RS                  129\n",
      "GO                   40\n",
      "DF                   30\n",
      "ES                   23\n",
      "BA                   19\n",
      "CE                   13\n",
      "PE                    9\n",
      "PB                    6\n",
      "MS                    5\n",
      "RN                    5\n",
      "MT                    4\n",
      "RO                    2\n",
      "SE                    2\n",
      "AC                    1\n",
      "PI                    1\n",
      "AM                    1\n",
      "MA                    1\n",
      "PA                    1\n"
     ]
    }
   ],
   "source": [
    "print(\n",
    "    sellers_df.pivot_table(\n",
    "        index=\"seller_state\", values=\"seller_id\", aggfunc=\"count\"\n",
    "    ).sort_values(by=\"seller_id\", ascending=False)\n",
    ")"
   ]
  },
  {
   "cell_type": "markdown",
   "metadata": {},
   "source": [
    "### Eksplorasi Data `customers_df`"
   ]
  },
  {
   "cell_type": "code",
   "execution_count": 121,
   "metadata": {},
   "outputs": [
    {
     "name": "stdout",
     "output_type": "stream",
     "text": [
      "<class 'pandas.core.frame.DataFrame'>\n",
      "RangeIndex: 99441 entries, 0 to 99440\n",
      "Data columns (total 5 columns):\n",
      " #   Column                    Non-Null Count  Dtype \n",
      "---  ------                    --------------  ----- \n",
      " 0   customer_id               99441 non-null  object\n",
      " 1   customer_unique_id        99441 non-null  object\n",
      " 2   customer_zip_code_prefix  99441 non-null  int64 \n",
      " 3   customer_city             99441 non-null  object\n",
      " 4   customer_state            99441 non-null  object\n",
      "dtypes: int64(1), object(4)\n",
      "memory usage: 3.8+ MB\n",
      "None\n",
      "\n",
      "(rows, collumns): \t\t\t(99441, 5)\n",
      "nunique of customer_id: \t\t99441\n",
      "nunique of customer_unique_id: \t\t96096\n",
      "\n",
      "Number of duplicate rows: \t\t\t0\n",
      "Number of duplicate in customer_id: \t\t0\n",
      "Number of duplicate in customer_unique_id: \t3345\n"
     ]
    }
   ],
   "source": [
    "print(customers_df.info())\n",
    "\n",
    "print(f\"\\n(rows, collumns): \\t\\t\\t{customers_df.shape}\")\n",
    "print(f\"nunique of customer_id: \\t\\t{customers_df['customer_id'].nunique()}\")\n",
    "print(\n",
    "    f\"nunique of customer_unique_id: \\t\\t{customers_df['customer_unique_id'].nunique()}\"\n",
    ")\n",
    "\n",
    "print(f\"\\nNumber of duplicate rows: \\t\\t\\t{customers_df.duplicated().sum()}\")\n",
    "print(\n",
    "    f\"Number of duplicate in customer_id: \\t\\t{customers_df['customer_id'].duplicated().sum()}\"\n",
    ")\n",
    "print(\n",
    "    f\"Number of duplicate in customer_unique_id: \\t{customers_df['customer_unique_id'].duplicated().sum()}\"\n",
    ")"
   ]
  },
  {
   "cell_type": "code",
   "execution_count": 122,
   "metadata": {},
   "outputs": [
    {
     "name": "stdout",
     "output_type": "stream",
     "text": [
      "                            customer_id                customer_unique_id  \\\n",
      "12133  0088395699ea0fcd459bfbef084997db  ffe254cc039740e17dd15a5305035928   \n",
      "64323  4b231c90751c27521f7ee27ed2dc3b8f  ffe254cc039740e17dd15a5305035928   \n",
      "75057  1ae563fdfa500d150be6578066d83998  ff922bdd6bafcdf99cb90d7f39cea5b3   \n",
      "27992  bec0bf00ac5bee64ce8ef5283051a70c  ff922bdd6bafcdf99cb90d7f39cea5b3   \n",
      "79859  d064be88116eb8b958727aec4cf56a59  ff922bdd6bafcdf99cb90d7f39cea5b3   \n",
      "\n",
      "       customer_zip_code_prefix customer_city customer_state  \n",
      "12133                     37640       extrema             MG  \n",
      "64323                     37640       extrema             MG  \n",
      "75057                     17340  barra bonita             SP  \n",
      "27992                     17340  barra bonita             SP  \n",
      "79859                     17340  barra bonita             SP  \n"
     ]
    }
   ],
   "source": [
    "# Baris yang duplikat berdasarkan customer_unique_id\n",
    "duplicated_customer_unique_id = customers_df[\n",
    "    customers_df.duplicated(\"customer_unique_id\", keep=False)\n",
    "]\n",
    "print(\n",
    "    duplicated_customer_unique_id.sort_values(\n",
    "        by=\"customer_unique_id\", ascending=False\n",
    "    ).head()\n",
    ")"
   ]
  },
  {
   "cell_type": "markdown",
   "metadata": {},
   "source": [
    "### Eksplorasi Data `geolocation_df`"
   ]
  },
  {
   "cell_type": "code",
   "execution_count": 123,
   "metadata": {},
   "outputs": [
    {
     "name": "stdout",
     "output_type": "stream",
     "text": [
      "   geolocation_zip_code_prefix  geolocation_lat  geolocation_lng  \\\n",
      "0                         1037       -23.545621       -46.639292   \n",
      "1                         1046       -23.546081       -46.644820   \n",
      "2                         1046       -23.546129       -46.642951   \n",
      "3                         1041       -23.544392       -46.639499   \n",
      "4                         1035       -23.541578       -46.641607   \n",
      "\n",
      "  geolocation_city geolocation_state  \n",
      "0        sao paulo                SP  \n",
      "1        sao paulo                SP  \n",
      "2        sao paulo                SP  \n",
      "3        sao paulo                SP  \n",
      "4        sao paulo                SP  \n",
      "\n",
      "(rows, collumns): \t\t\t(738332, 5)\n",
      "nunique of geolocation_zip_code_prefix: 19015\n",
      "nunique of geolocation_lat: \t\t717360\n",
      "nunique of geolocation_lng: \t\t717613\n",
      "\n",
      "Number of duplicate rows: \t\t\t\t0\n",
      "Number of duplicate in geolocation_zip_code_prefix: \t719317\n"
     ]
    }
   ],
   "source": [
    "print(geolocation_df.head())\n",
    "\n",
    "print(f\"\\n(rows, collumns): \\t\\t\\t{geolocation_df.shape}\")\n",
    "print(\n",
    "    f\"nunique of geolocation_zip_code_prefix: {geolocation_df['geolocation_zip_code_prefix'].nunique()}\"\n",
    ")\n",
    "print(f\"nunique of geolocation_lat: \\t\\t{geolocation_df['geolocation_lat'].nunique()}\")\n",
    "print(f\"nunique of geolocation_lng: \\t\\t{geolocation_df['geolocation_lng'].nunique()}\")\n",
    "\n",
    "print(f\"\\nNumber of duplicate rows: \\t\\t\\t\\t{geolocation_df.duplicated().sum()}\")\n",
    "print(\n",
    "    f\"Number of duplicate in geolocation_zip_code_prefix: \\t{geolocation_df['geolocation_zip_code_prefix'].duplicated().sum()}\"\n",
    ")"
   ]
  },
  {
   "cell_type": "code",
   "execution_count": 124,
   "metadata": {},
   "outputs": [
    {
     "name": "stdout",
     "output_type": "stream",
     "text": [
      "         geolocation_zip_code_prefix  geolocation_lat  geolocation_lng  \\\n",
      "999758                         99990       -28.329718       -51.769615   \n",
      "999864                         99990       -28.329472       -51.769109   \n",
      "1000161                        99980       -28.388932       -51.846871   \n",
      "999976                         99980       -28.418178       -51.779942   \n",
      "999764                         99980       -28.386239       -51.847741   \n",
      "\n",
      "        geolocation_city geolocation_state  \n",
      "999758         muliterno                RS  \n",
      "999864         muliterno                RS  \n",
      "1000161  david canabarro                RS  \n",
      "999976   david canabarro                RS  \n",
      "999764   david canabarro                RS  \n"
     ]
    }
   ],
   "source": [
    "# Baris yang duplikat berdasarkan geolocation_zip_code_prefix\n",
    "duplicated_geolocation_zip_code_prefix = geolocation_df[\n",
    "    geolocation_df.duplicated(\"geolocation_zip_code_prefix\", keep=False)\n",
    "]\n",
    "print(\n",
    "    duplicated_geolocation_zip_code_prefix.sort_values(\n",
    "        by=\"geolocation_zip_code_prefix\", ascending=False\n",
    "    ).head()\n",
    ")"
   ]
  },
  {
   "cell_type": "markdown",
   "metadata": {},
   "source": [
    "Setiap titik geolokasi mungkin mewakili lokasi yang berbeda dalam kode pos yang sama dalam kota yang sama."
   ]
  },
  {
   "cell_type": "markdown",
   "metadata": {
    "id": "zsyZjqak8DC2"
   },
   "source": [
    "## Visualization & Explanatory Analysis"
   ]
  },
  {
   "cell_type": "markdown",
   "metadata": {
    "id": "HZxOiQ6n8DC2"
   },
   "source": [
    "### Pertanyaan 1:"
   ]
  },
  {
   "cell_type": "code",
   "execution_count": null,
   "metadata": {
    "id": "1swJUdAD8DC2"
   },
   "outputs": [],
   "source": []
  },
  {
   "cell_type": "markdown",
   "metadata": {
    "id": "DgHI7CiU8DC2"
   },
   "source": [
    "### Pertanyaan 2:"
   ]
  },
  {
   "cell_type": "code",
   "execution_count": null,
   "metadata": {
    "id": "Go0lCsvO8DC2"
   },
   "outputs": [],
   "source": []
  },
  {
   "cell_type": "markdown",
   "metadata": {
    "id": "_0-36BDLklRg"
   },
   "source": [
    "**Insight:**\n",
    "- xxx\n",
    "- xxx"
   ]
  },
  {
   "cell_type": "markdown",
   "metadata": {
    "id": "9y4VUsmcYNZ5"
   },
   "source": [
    "## Analisis Lanjutan (Opsional)"
   ]
  },
  {
   "cell_type": "code",
   "execution_count": null,
   "metadata": {
    "id": "iWhnzsJGYUCO"
   },
   "outputs": [],
   "source": []
  },
  {
   "cell_type": "markdown",
   "metadata": {
    "id": "_WeHlCeX8DC2"
   },
   "source": [
    "## Conclusion"
   ]
  },
  {
   "cell_type": "markdown",
   "metadata": {
    "id": "ZTcyR48Y8DC2"
   },
   "source": [
    "- Conclution pertanyaan 1\n",
    "- Conclution pertanyaan 2"
   ]
  }
 ],
 "metadata": {
  "colab": {
   "provenance": []
  },
  "kernelspec": {
   "display_name": "Python 3 (ipykernel)",
   "language": "python",
   "name": "python3"
  },
  "language_info": {
   "codemirror_mode": {
    "name": "ipython",
    "version": 3
   },
   "file_extension": ".py",
   "mimetype": "text/x-python",
   "name": "python",
   "nbconvert_exporter": "python",
   "pygments_lexer": "ipython3",
   "version": "3.11.6"
  },
  "vscode": {
   "interpreter": {
    "hash": "972b3bf27e332e87b5379f2791f6ef9dfc79c71018c370b0d7423235e20fe4d7"
   }
  },
  "widgets": {
   "application/vnd.jupyter.widget-state+json": {
    "state": {},
    "version_major": 2,
    "version_minor": 0
   }
  }
 },
 "nbformat": 4,
 "nbformat_minor": 4
}
